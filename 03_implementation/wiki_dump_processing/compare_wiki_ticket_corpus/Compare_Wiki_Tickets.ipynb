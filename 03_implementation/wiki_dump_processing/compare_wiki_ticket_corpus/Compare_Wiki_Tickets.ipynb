{
 "cells": [
  {
   "cell_type": "markdown",
   "metadata": {},
   "source": [
    "# Compare the Wiki and the Ionesoft corpus"
   ]
  },
  {
   "cell_type": "code",
   "execution_count": 1,
   "metadata": {},
   "outputs": [],
   "source": [
    "import warnings\n",
    "warnings.filterwarnings('ignore')"
   ]
  },
  {
   "cell_type": "markdown",
   "metadata": {},
   "source": [
    "## Ionesoft ticket corpus"
   ]
  },
  {
   "cell_type": "code",
   "execution_count": 2,
   "metadata": {},
   "outputs": [
    {
     "data": {
      "text/html": [
       "<div>\n",
       "<style scoped>\n",
       "    .dataframe tbody tr th:only-of-type {\n",
       "        vertical-align: middle;\n",
       "    }\n",
       "\n",
       "    .dataframe tbody tr th {\n",
       "        vertical-align: top;\n",
       "    }\n",
       "\n",
       "    .dataframe thead th {\n",
       "        text-align: right;\n",
       "    }\n",
       "</style>\n",
       "<table border=\"1\" class=\"dataframe\">\n",
       "  <thead>\n",
       "    <tr style=\"text-align: right;\">\n",
       "      <th></th>\n",
       "      <th>ticket</th>\n",
       "      <th>type</th>\n",
       "      <th>client</th>\n",
       "      <th>issuer</th>\n",
       "      <th>inquiry</th>\n",
       "      <th>answer</th>\n",
       "    </tr>\n",
       "  </thead>\n",
       "  <tbody>\n",
       "    <tr>\n",
       "      <th>0</th>\n",
       "      <td>2019030563000120.0</td>\n",
       "      <td>Fehler in der App</td>\n",
       "      <td>SVBA</td>\n",
       "      <td>3</td>\n",
       "      <td>ich kann die bilder in übungen nicht bearbeite...</td>\n",
       "      <td>Fehlerbericht senden</td>\n",
       "    </tr>\n",
       "    <tr>\n",
       "      <th>1</th>\n",
       "      <td>2019030463000110.0</td>\n",
       "      <td>Fehler in der App</td>\n",
       "      <td>FOMA</td>\n",
       "      <td>3</td>\n",
       "      <td>lückentexte weg daten verloren gegangen von pp...</td>\n",
       "      <td>Fehlerbericht senden</td>\n",
       "    </tr>\n",
       "    <tr>\n",
       "      <th>2</th>\n",
       "      <td>2019022863000110.0</td>\n",
       "      <td>Anmeldung / Aktivierung</td>\n",
       "      <td>AGVS</td>\n",
       "      <td>3</td>\n",
       "      <td>bitte deaktivieren sie dieses gerät. vielen dank.</td>\n",
       "      <td>Gerät entfernt, neu starten</td>\n",
       "    </tr>\n",
       "    <tr>\n",
       "      <th>3</th>\n",
       "      <td>2019022863000020.0</td>\n",
       "      <td>Geräteanzahl überschritten</td>\n",
       "      <td>BEOOK</td>\n",
       "      <td>3</td>\n",
       "      <td>ich habe einen neuen laptop und möchte den alt...</td>\n",
       "      <td>Gerät entfernt, neu starten</td>\n",
       "    </tr>\n",
       "    <tr>\n",
       "      <th>4</th>\n",
       "      <td>2019022763000080.0</td>\n",
       "      <td>Geräteanzahl überschritten</td>\n",
       "      <td>BEOOK</td>\n",
       "      <td>3</td>\n",
       "      <td>offenbar habe ich die geräteanzahl überschritt...</td>\n",
       "      <td>Gerät entfernt, neu starten</td>\n",
       "    </tr>\n",
       "  </tbody>\n",
       "</table>\n",
       "</div>"
      ],
      "text/plain": [
       "               ticket                        type client  issuer  \\\n",
       "0  2019030563000120.0           Fehler in der App   SVBA       3   \n",
       "1  2019030463000110.0           Fehler in der App   FOMA       3   \n",
       "2  2019022863000110.0     Anmeldung / Aktivierung   AGVS       3   \n",
       "3  2019022863000020.0  Geräteanzahl überschritten  BEOOK       3   \n",
       "4  2019022763000080.0  Geräteanzahl überschritten  BEOOK       3   \n",
       "\n",
       "                                             inquiry  \\\n",
       "0  ich kann die bilder in übungen nicht bearbeite...   \n",
       "1  lückentexte weg daten verloren gegangen von pp...   \n",
       "2  bitte deaktivieren sie dieses gerät. vielen dank.   \n",
       "3  ich habe einen neuen laptop und möchte den alt...   \n",
       "4  offenbar habe ich die geräteanzahl überschritt...   \n",
       "\n",
       "                        answer  \n",
       "0         Fehlerbericht senden  \n",
       "1         Fehlerbericht senden  \n",
       "2  Gerät entfernt, neu starten  \n",
       "3  Gerät entfernt, neu starten  \n",
       "4  Gerät entfernt, neu starten  "
      ]
     },
     "execution_count": 2,
     "metadata": {},
     "output_type": "execute_result"
    }
   ],
   "source": [
    "import pandas as pd\n",
    "\n",
    "extract = '../ionesoft_tickets/ionesoft_tickets.csv'\n",
    "names=['ticket', 'type', 'client', 'issuer', 'inquiry', 'answer']\n",
    "\n",
    "corpus = pd.read_csv(extract, sep=',', encoding='ansi', names=names, skiprows=[0])\n",
    "corpus['ticket'] = corpus['ticket'].astype(str)\n",
    "\n",
    "corpus.head()"
   ]
  },
  {
   "cell_type": "markdown",
   "metadata": {},
   "source": [
    "Extract all words from the ticket texts."
   ]
  },
  {
   "cell_type": "code",
   "execution_count": 12,
   "metadata": {},
   "outputs": [
    {
     "data": {
      "text/plain": [
       "32895"
      ]
     },
     "execution_count": 12,
     "metadata": {},
     "output_type": "execute_result"
    }
   ],
   "source": [
    "import nltk\n",
    "from nltk.stem.snowball import SnowballStemmer\n",
    "\n",
    "stemmer = SnowballStemmer(\"german\")\n",
    "\n",
    "def nlp_pipeline(text):\n",
    "    tokens = nltk.word_tokenize(text)\n",
    "    words = []\n",
    "    for word in tokens:\n",
    "        words.append(stemmer.stem(word))\n",
    "    return words\n",
    "\n",
    "words_tickets = []\n",
    "for text in corpus.inquiry:\n",
    "    words_tickets.extend(nlp_pipeline(text))\n",
    "\n",
    "len(words_tickets)"
   ]
  },
  {
   "cell_type": "markdown",
   "metadata": {},
   "source": [
    "Then we extract the distinct words."
   ]
  },
  {
   "cell_type": "code",
   "execution_count": 13,
   "metadata": {},
   "outputs": [
    {
     "data": {
      "text/plain": [
       "3175"
      ]
     },
     "execution_count": 13,
     "metadata": {},
     "output_type": "execute_result"
    }
   ],
   "source": [
    "distinct_words = set(words_tickets)\n",
    "len(distinct_words)"
   ]
  },
  {
   "cell_type": "markdown",
   "metadata": {},
   "source": [
    "## Wiki dump"
   ]
  },
  {
   "cell_type": "code",
   "execution_count": 27,
   "metadata": {},
   "outputs": [
    {
     "data": {
      "text/plain": [
       "143605"
      ]
     },
     "execution_count": 27,
     "metadata": {},
     "output_type": "execute_result"
    }
   ],
   "source": [
    "import json\n",
    "\n",
    "wiki_words = json.load(open('word2index-tfidf-normalized.ind', 'rb'))\n",
    "\n",
    "len(wiki_words)"
   ]
  },
  {
   "cell_type": "markdown",
   "metadata": {},
   "source": [
    "## Compare the Wiki and the ticket corpus"
   ]
  },
  {
   "cell_type": "code",
   "execution_count": 29,
   "metadata": {},
   "outputs": [
    {
     "name": "stdout",
     "output_type": "stream",
     "text": [
      "1990\n"
     ]
    }
   ],
   "source": [
    "num_words = 0\n",
    "missing_words = []\n",
    "\n",
    "for word in distinct_words:\n",
    "    if word in wiki_words:\n",
    "        num_words = num_words + 1\n",
    "    else:\n",
    "        missing_words.append(word)\n",
    "\n",
    "print(num_words)"
   ]
  },
  {
   "cell_type": "code",
   "execution_count": 31,
   "metadata": {},
   "outputs": [
    {
     "data": {
      "text/plain": [
       "1185"
      ]
     },
     "execution_count": 31,
     "metadata": {},
     "output_type": "execute_result"
    }
   ],
   "source": [
    "len(missing_words)"
   ]
  },
  {
   "cell_type": "code",
   "execution_count": null,
   "metadata": {},
   "outputs": [],
   "source": []
  }
 ],
 "metadata": {
  "kernelspec": {
   "display_name": "Python 3",
   "language": "python",
   "name": "python3"
  },
  "language_info": {
   "codemirror_mode": {
    "name": "ipython",
    "version": 3
   },
   "file_extension": ".py",
   "mimetype": "text/x-python",
   "name": "python",
   "nbconvert_exporter": "python",
   "pygments_lexer": "ipython3",
   "version": "3.7.2"
  }
 },
 "nbformat": 4,
 "nbformat_minor": 2
}
