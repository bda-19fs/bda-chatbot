{
 "cells": [
  {
   "cell_type": "markdown",
   "metadata": {},
   "source": [
    "# Tickets to json"
   ]
  },
  {
   "cell_type": "code",
   "execution_count": 1,
   "metadata": {},
   "outputs": [],
   "source": [
    "import warnings\n",
    "warnings.filterwarnings('ignore')"
   ]
  },
  {
   "cell_type": "code",
   "execution_count": 38,
   "metadata": {},
   "outputs": [
    {
     "data": {
      "text/html": [
       "<div>\n",
       "<style scoped>\n",
       "    .dataframe tbody tr th:only-of-type {\n",
       "        vertical-align: middle;\n",
       "    }\n",
       "\n",
       "    .dataframe tbody tr th {\n",
       "        vertical-align: top;\n",
       "    }\n",
       "\n",
       "    .dataframe thead th {\n",
       "        text-align: right;\n",
       "    }\n",
       "</style>\n",
       "<table border=\"1\" class=\"dataframe\">\n",
       "  <thead>\n",
       "    <tr style=\"text-align: right;\">\n",
       "      <th></th>\n",
       "      <th>ticket</th>\n",
       "      <th>type</th>\n",
       "      <th>client</th>\n",
       "      <th>issuer</th>\n",
       "      <th>inquiry</th>\n",
       "      <th>answer</th>\n",
       "    </tr>\n",
       "  </thead>\n",
       "  <tbody>\n",
       "    <tr>\n",
       "      <th>0</th>\n",
       "      <td>2019030563000120.0</td>\n",
       "      <td>Fehler in der App</td>\n",
       "      <td>SVBA</td>\n",
       "      <td>3</td>\n",
       "      <td>ich kann die bilder in übungen nicht bearbeite...</td>\n",
       "      <td>Fehlerbericht senden</td>\n",
       "    </tr>\n",
       "    <tr>\n",
       "      <th>1</th>\n",
       "      <td>2019030463000110.0</td>\n",
       "      <td>Fehler in der App</td>\n",
       "      <td>FOMA</td>\n",
       "      <td>3</td>\n",
       "      <td>lückentexte weg daten verloren gegangen von pp...</td>\n",
       "      <td>Fehlerbericht senden</td>\n",
       "    </tr>\n",
       "    <tr>\n",
       "      <th>2</th>\n",
       "      <td>2019022863000110.0</td>\n",
       "      <td>Anmeldung / Aktivierung</td>\n",
       "      <td>AGVS</td>\n",
       "      <td>3</td>\n",
       "      <td>bitte deaktivieren sie dieses gerät. vielen dank.</td>\n",
       "      <td>Gerät entfernt, neu starten</td>\n",
       "    </tr>\n",
       "    <tr>\n",
       "      <th>3</th>\n",
       "      <td>2019022863000020.0</td>\n",
       "      <td>Geräteanzahl überschritten</td>\n",
       "      <td>BEOOK</td>\n",
       "      <td>3</td>\n",
       "      <td>ich habe einen neuen laptop und möchte den alt...</td>\n",
       "      <td>Gerät entfernt, neu starten</td>\n",
       "    </tr>\n",
       "    <tr>\n",
       "      <th>4</th>\n",
       "      <td>2019022763000080.0</td>\n",
       "      <td>Geräteanzahl überschritten</td>\n",
       "      <td>BEOOK</td>\n",
       "      <td>3</td>\n",
       "      <td>offenbar habe ich die geräteanzahl überschritt...</td>\n",
       "      <td>Gerät entfernt, neu starten</td>\n",
       "    </tr>\n",
       "  </tbody>\n",
       "</table>\n",
       "</div>"
      ],
      "text/plain": [
       "               ticket                        type client  issuer  \\\n",
       "0  2019030563000120.0           Fehler in der App   SVBA       3   \n",
       "1  2019030463000110.0           Fehler in der App   FOMA       3   \n",
       "2  2019022863000110.0     Anmeldung / Aktivierung   AGVS       3   \n",
       "3  2019022863000020.0  Geräteanzahl überschritten  BEOOK       3   \n",
       "4  2019022763000080.0  Geräteanzahl überschritten  BEOOK       3   \n",
       "\n",
       "                                             inquiry  \\\n",
       "0  ich kann die bilder in übungen nicht bearbeite...   \n",
       "1  lückentexte weg daten verloren gegangen von pp...   \n",
       "2  bitte deaktivieren sie dieses gerät. vielen dank.   \n",
       "3  ich habe einen neuen laptop und möchte den alt...   \n",
       "4  offenbar habe ich die geräteanzahl überschritt...   \n",
       "\n",
       "                        answer  \n",
       "0         Fehlerbericht senden  \n",
       "1         Fehlerbericht senden  \n",
       "2  Gerät entfernt, neu starten  \n",
       "3  Gerät entfernt, neu starten  \n",
       "4  Gerät entfernt, neu starten  "
      ]
     },
     "execution_count": 38,
     "metadata": {},
     "output_type": "execute_result"
    }
   ],
   "source": [
    "import pandas as pd\n",
    "\n",
    "extract = './ionesoft_tickets.csv'\n",
    "names=['ticket', 'type', 'client', 'issuer', 'inquiry', 'answer']\n",
    "\n",
    "corpus = pd.read_csv(extract, sep=',', encoding='ansi', names=names, skiprows=[0])\n",
    "corpus['ticket'] = corpus['ticket'].astype(str)\n",
    "\n",
    "corpus.head()"
   ]
  },
  {
   "cell_type": "markdown",
   "metadata": {},
   "source": [
    "### Select just the ticket and the inquiry column\n",
    "These two columns are also renamed to title and text"
   ]
  },
  {
   "cell_type": "code",
   "execution_count": 39,
   "metadata": {},
   "outputs": [
    {
     "data": {
      "text/html": [
       "<div>\n",
       "<style scoped>\n",
       "    .dataframe tbody tr th:only-of-type {\n",
       "        vertical-align: middle;\n",
       "    }\n",
       "\n",
       "    .dataframe tbody tr th {\n",
       "        vertical-align: top;\n",
       "    }\n",
       "\n",
       "    .dataframe thead th {\n",
       "        text-align: right;\n",
       "    }\n",
       "</style>\n",
       "<table border=\"1\" class=\"dataframe\">\n",
       "  <thead>\n",
       "    <tr style=\"text-align: right;\">\n",
       "      <th></th>\n",
       "      <th>title</th>\n",
       "      <th>text</th>\n",
       "    </tr>\n",
       "  </thead>\n",
       "  <tbody>\n",
       "    <tr>\n",
       "      <th>0</th>\n",
       "      <td>2019030563000120.0</td>\n",
       "      <td>ich kann die bilder in übungen nicht bearbeite...</td>\n",
       "    </tr>\n",
       "    <tr>\n",
       "      <th>1</th>\n",
       "      <td>2019030463000110.0</td>\n",
       "      <td>lückentexte weg daten verloren gegangen von pp...</td>\n",
       "    </tr>\n",
       "    <tr>\n",
       "      <th>2</th>\n",
       "      <td>2019022863000110.0</td>\n",
       "      <td>bitte deaktivieren sie dieses gerät. vielen dank.</td>\n",
       "    </tr>\n",
       "    <tr>\n",
       "      <th>3</th>\n",
       "      <td>2019022863000020.0</td>\n",
       "      <td>ich habe einen neuen laptop und möchte den alt...</td>\n",
       "    </tr>\n",
       "    <tr>\n",
       "      <th>4</th>\n",
       "      <td>2019022763000080.0</td>\n",
       "      <td>offenbar habe ich die geräteanzahl überschritt...</td>\n",
       "    </tr>\n",
       "  </tbody>\n",
       "</table>\n",
       "</div>"
      ],
      "text/plain": [
       "                title                                               text\n",
       "0  2019030563000120.0  ich kann die bilder in übungen nicht bearbeite...\n",
       "1  2019030463000110.0  lückentexte weg daten verloren gegangen von pp...\n",
       "2  2019022863000110.0  bitte deaktivieren sie dieses gerät. vielen dank.\n",
       "3  2019022863000020.0  ich habe einen neuen laptop und möchte den alt...\n",
       "4  2019022763000080.0  offenbar habe ich die geräteanzahl überschritt..."
      ]
     },
     "execution_count": 39,
     "metadata": {},
     "output_type": "execute_result"
    }
   ],
   "source": [
    "ticket_infos = corpus[['ticket', 'inquiry']]\n",
    "ticket_infos = ticket_infos.rename(index=str, columns={\"ticket\":\"title\", \"inquiry\":\"text\"})\n",
    "ticket_infos.head()"
   ]
  },
  {
   "cell_type": "markdown",
   "metadata": {},
   "source": [
    "### Export the dataframe to a json list\n",
    "Format: {{title:'a title', text:'a long long text'}, ...}"
   ]
  },
  {
   "cell_type": "code",
   "execution_count": 40,
   "metadata": {},
   "outputs": [],
   "source": [
    "ticket_infos.to_json('ticket_texts.json', orient='records', force_ascii=False)"
   ]
  },
  {
   "cell_type": "markdown",
   "metadata": {},
   "source": [
    "### Save each json document in a separate file"
   ]
  },
  {
   "cell_type": "code",
   "execution_count": 42,
   "metadata": {},
   "outputs": [
    {
     "name": "stdout",
     "output_type": "stream",
     "text": [
      "891\n"
     ]
    }
   ],
   "source": [
    "import json\n",
    "import os\n",
    "\n",
    "tickets = None\n",
    "with open('ticket_texts.json','r') as f:\n",
    "    tickets = json.load(f, object_hook=None)\n",
    "\n",
    "doc_dir = 'documents'\n",
    "if not os.path.exists(doc_dir):\n",
    "    os.makedirs(doc_dir)\n",
    "\n",
    "count = 0\n",
    "for doc in tickets:\n",
    "    count = count +1\n",
    "    with open(doc_dir+'/'+doc['title']+'.json', 'w') as f:\n",
    "        json.dump(doc, f, ensure_ascii=False)\n",
    "print(count)"
   ]
  },
  {
   "cell_type": "code",
   "execution_count": null,
   "metadata": {},
   "outputs": [],
   "source": []
  }
 ],
 "metadata": {
  "kernelspec": {
   "display_name": "Python 3",
   "language": "python",
   "name": "python3"
  },
  "language_info": {
   "codemirror_mode": {
    "name": "ipython",
    "version": 3
   },
   "file_extension": ".py",
   "mimetype": "text/x-python",
   "name": "python",
   "nbconvert_exporter": "python",
   "pygments_lexer": "ipython3",
   "version": "3.7.2"
  }
 },
 "nbformat": 4,
 "nbformat_minor": 2
}
