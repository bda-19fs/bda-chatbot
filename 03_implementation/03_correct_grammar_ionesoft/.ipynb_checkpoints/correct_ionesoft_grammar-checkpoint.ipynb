{
 "cells": [
  {
   "cell_type": "code",
   "execution_count": null,
   "metadata": {},
   "outputs": [],
   "source": [
    "%config IPCompleter.greedy=True\n",
    "\n",
    "from IPython.core.display import display, HTML\n",
    "display(HTML(\"<style>.container { width:100% !important; }</style>\"))"
   ]
  },
  {
   "cell_type": "code",
   "execution_count": null,
   "metadata": {},
   "outputs": [],
   "source": [
    "import pandas as pd\n",
    "\n",
    "filename = './de_ch_vocabulary_spacy.csv'\n",
    "\n",
    "word = 'word'\n",
    "base = 'base'\n",
    "names = [word, base]\n",
    "\n",
    "voc = pd.read_csv(filename, sep=',', encoding='ansi', comment='#', names=names)\n",
    "len(voc)"
   ]
  },
  {
   "cell_type": "markdown",
   "metadata": {},
   "source": [
    "### Import Words from Ionesoft with grammar errors\n",
    "Ich nehme an ein paar davon haben doppel s anstatt ß und wurden darum nicht gefunden."
   ]
  },
  {
   "cell_type": "code",
   "execution_count": null,
   "metadata": {},
   "outputs": [],
   "source": [
    "import pickle\n",
    "\n",
    "missing_words = pickle.load(open('missing_words_grammar.p', 'rb'))\n",
    "missing_words[:5]"
   ]
  },
  {
   "cell_type": "markdown",
   "metadata": {},
   "source": [
    "#### Rechtschreibefehler Lösungsversuch"
   ]
  },
  {
   "cell_type": "code",
   "execution_count": null,
   "metadata": {},
   "outputs": [],
   "source": [
    "import itertools\n",
    "import Levenshtein\n",
    "\n",
    "def similarity(w1, w2):\n",
    "    return Levenshtein.jaro(w1.lower(), w2.lower())\n",
    "\n",
    "def get_closest_match(wrong_word):\n",
    "    voc['sim'] = voc[word].apply(lambda w: similarity(str(w), wrong_word))\n",
    "    return voc.iloc[voc['sim'].idxmax()]['base']"
   ]
  },
  {
   "cell_type": "code",
   "execution_count": null,
   "metadata": {},
   "outputs": [],
   "source": [
    "get_closest_match('apgemeldet')"
   ]
  },
  {
   "cell_type": "code",
   "execution_count": null,
   "metadata": {},
   "outputs": [],
   "source": [
    "error_correct_dict = dict.fromkeys(missing_words)"
   ]
  },
  {
   "cell_type": "code",
   "execution_count": null,
   "metadata": {},
   "outputs": [],
   "source": [
    "for w in missing_words:\n",
    "    error_correct_dict[w] = get_closest_match(w)"
   ]
  },
  {
   "cell_type": "code",
   "execution_count": null,
   "metadata": {},
   "outputs": [],
   "source": [
    "import csv\n",
    "\n",
    "with open('ionesoft_grammar_corrected.csv', 'w') as f:\n",
    "    for key in error_correct_dict.keys():\n",
    "        f.write(\"%s,%s\\n\"%(key, error_correct_dict[key]))"
   ]
  },
  {
   "cell_type": "markdown",
   "metadata": {},
   "source": [
    "#### manuel überprüfen und korrigieren\n",
    "Konnte 570 Wörter manuell korrigieren und überprüfen"
   ]
  },
  {
   "cell_type": "markdown",
   "metadata": {},
   "source": [
    "#### korrigiertes csv importieren"
   ]
  },
  {
   "cell_type": "code",
   "execution_count": 166,
   "metadata": {},
   "outputs": [
    {
     "data": {
      "text/plain": [
       "570"
      ]
     },
     "execution_count": 166,
     "metadata": {},
     "output_type": "execute_result"
    }
   ],
   "source": [
    "import csv\n",
    "\n",
    "with open('ionesoft_grammar_manual_correction.csv', mode='r', ) as f:\n",
    "    corrected_dict = dict(filter(None, csv.reader(f, delimiter=';')))\n",
    "\n",
    "len(corrected_dict) - 1"
   ]
  },
  {
   "cell_type": "code",
   "execution_count": 167,
   "metadata": {},
   "outputs": [
    {
     "data": {
      "text/html": [
       "<div>\n",
       "<style scoped>\n",
       "    .dataframe tbody tr th:only-of-type {\n",
       "        vertical-align: middle;\n",
       "    }\n",
       "\n",
       "    .dataframe tbody tr th {\n",
       "        vertical-align: top;\n",
       "    }\n",
       "\n",
       "    .dataframe thead th {\n",
       "        text-align: right;\n",
       "    }\n",
       "</style>\n",
       "<table border=\"1\" class=\"dataframe\">\n",
       "  <thead>\n",
       "    <tr style=\"text-align: right;\">\n",
       "      <th></th>\n",
       "      <th>ticket</th>\n",
       "      <th>type</th>\n",
       "      <th>client</th>\n",
       "      <th>issuer</th>\n",
       "      <th>inquiry</th>\n",
       "      <th>answer</th>\n",
       "    </tr>\n",
       "  </thead>\n",
       "  <tbody>\n",
       "    <tr>\n",
       "      <th>0</th>\n",
       "      <td>2.019031e+15</td>\n",
       "      <td>Fehler in der App</td>\n",
       "      <td>SVBA</td>\n",
       "      <td>3</td>\n",
       "      <td>ich kann die bilder in übungen nicht bearbeite...</td>\n",
       "      <td>Fehlerbericht senden</td>\n",
       "    </tr>\n",
       "    <tr>\n",
       "      <th>1</th>\n",
       "      <td>2.019030e+15</td>\n",
       "      <td>Fehler in der App</td>\n",
       "      <td>FOMA</td>\n",
       "      <td>3</td>\n",
       "      <td>lückentexte weg daten verloren gegangen von pp...</td>\n",
       "      <td>Fehlerbericht senden</td>\n",
       "    </tr>\n",
       "    <tr>\n",
       "      <th>2</th>\n",
       "      <td>2.019023e+15</td>\n",
       "      <td>Anmeldung / Aktivierung</td>\n",
       "      <td>AGVS</td>\n",
       "      <td>3</td>\n",
       "      <td>bitte deaktivieren sie dieses gerät. vielen dank.</td>\n",
       "      <td>Gerät entfernt, neu starten</td>\n",
       "    </tr>\n",
       "    <tr>\n",
       "      <th>3</th>\n",
       "      <td>2.019023e+15</td>\n",
       "      <td>Geräteanzahl überschritten</td>\n",
       "      <td>BEOOK</td>\n",
       "      <td>3</td>\n",
       "      <td>ich habe einen neuen laptop und möchte den alt...</td>\n",
       "      <td>Gerät entfernt, neu starten</td>\n",
       "    </tr>\n",
       "    <tr>\n",
       "      <th>4</th>\n",
       "      <td>2.019023e+15</td>\n",
       "      <td>Geräteanzahl überschritten</td>\n",
       "      <td>BEOOK</td>\n",
       "      <td>3</td>\n",
       "      <td>offenbar habe ich die geräteanzahl überschritt...</td>\n",
       "      <td>Gerät entfernt, neu starten</td>\n",
       "    </tr>\n",
       "  </tbody>\n",
       "</table>\n",
       "</div>"
      ],
      "text/plain": [
       "         ticket                        type client  issuer  \\\n",
       "0  2.019031e+15           Fehler in der App   SVBA       3   \n",
       "1  2.019030e+15           Fehler in der App   FOMA       3   \n",
       "2  2.019023e+15     Anmeldung / Aktivierung   AGVS       3   \n",
       "3  2.019023e+15  Geräteanzahl überschritten  BEOOK       3   \n",
       "4  2.019023e+15  Geräteanzahl überschritten  BEOOK       3   \n",
       "\n",
       "                                             inquiry  \\\n",
       "0  ich kann die bilder in übungen nicht bearbeite...   \n",
       "1  lückentexte weg daten verloren gegangen von pp...   \n",
       "2  bitte deaktivieren sie dieses gerät. vielen dank.   \n",
       "3  ich habe einen neuen laptop und möchte den alt...   \n",
       "4  offenbar habe ich die geräteanzahl überschritt...   \n",
       "\n",
       "                        answer  \n",
       "0         Fehlerbericht senden  \n",
       "1         Fehlerbericht senden  \n",
       "2  Gerät entfernt, neu starten  \n",
       "3  Gerät entfernt, neu starten  \n",
       "4  Gerät entfernt, neu starten  "
      ]
     },
     "execution_count": 167,
     "metadata": {},
     "output_type": "execute_result"
    }
   ],
   "source": [
    "import pandas as pd\n",
    "\n",
    "filename = './ionesoft_tickets.csv'\n",
    "\n",
    "tickets = pd.read_csv(filename, sep=',', encoding='ansi')\n",
    "tickets.head()"
   ]
  },
  {
   "cell_type": "code",
   "execution_count": 168,
   "metadata": {},
   "outputs": [
    {
     "data": {
      "text/plain": [
       "571"
      ]
     },
     "execution_count": 168,
     "metadata": {},
     "output_type": "execute_result"
    }
   ],
   "source": [
    "len(corrected_dict)"
   ]
  },
  {
   "cell_type": "markdown",
   "metadata": {},
   "source": [
    "#### find wrongly written words"
   ]
  },
  {
   "cell_type": "code",
   "execution_count": 169,
   "metadata": {},
   "outputs": [
    {
     "data": {
      "text/plain": [
       "478"
      ]
     },
     "execution_count": 169,
     "metadata": {},
     "output_type": "execute_result"
    }
   ],
   "source": [
    "occurances = []\n",
    "\n",
    "for target in corrected_dict.keys():\n",
    "    o = tickets[tickets['inquiry'].str.contains(target, regex=False)]['inquiry']\n",
    "    if len(o) > 0:\n",
    "        occurances.append(o)\n",
    "    \n",
    "len(occurances)"
   ]
  },
  {
   "cell_type": "markdown",
   "metadata": {},
   "source": [
    "#### replace them"
   ]
  },
  {
   "cell_type": "code",
   "execution_count": 170,
   "metadata": {},
   "outputs": [],
   "source": [
    "for k in corrected_dict.keys():\n",
    "    tickets['inquiry'] = tickets['inquiry'].str.replace(k, corrected_dict[k], regex=False)"
   ]
  },
  {
   "cell_type": "markdown",
   "metadata": {},
   "source": [
    "#### check head"
   ]
  },
  {
   "cell_type": "code",
   "execution_count": 171,
   "metadata": {},
   "outputs": [
    {
     "data": {
      "text/html": [
       "<div>\n",
       "<style scoped>\n",
       "    .dataframe tbody tr th:only-of-type {\n",
       "        vertical-align: middle;\n",
       "    }\n",
       "\n",
       "    .dataframe tbody tr th {\n",
       "        vertical-align: top;\n",
       "    }\n",
       "\n",
       "    .dataframe thead th {\n",
       "        text-align: right;\n",
       "    }\n",
       "</style>\n",
       "<table border=\"1\" class=\"dataframe\">\n",
       "  <thead>\n",
       "    <tr style=\"text-align: right;\">\n",
       "      <th></th>\n",
       "      <th>ticket</th>\n",
       "      <th>type</th>\n",
       "      <th>client</th>\n",
       "      <th>issuer</th>\n",
       "      <th>inquiry</th>\n",
       "      <th>answer</th>\n",
       "    </tr>\n",
       "  </thead>\n",
       "  <tbody>\n",
       "    <tr>\n",
       "      <th>0</th>\n",
       "      <td>2.019031e+15</td>\n",
       "      <td>Fehler in der App</td>\n",
       "      <td>SVBA</td>\n",
       "      <td>3</td>\n",
       "      <td>ich kann die bilder in übungen nicht bearbeite...</td>\n",
       "      <td>Fehlerbericht senden</td>\n",
       "    </tr>\n",
       "    <tr>\n",
       "      <th>1</th>\n",
       "      <td>2.019030e+15</td>\n",
       "      <td>Fehler in der App</td>\n",
       "      <td>FOMA</td>\n",
       "      <td>3</td>\n",
       "      <td>lückentexte weg daten verloren gegangen von pp...</td>\n",
       "      <td>Fehlerbericht senden</td>\n",
       "    </tr>\n",
       "    <tr>\n",
       "      <th>2</th>\n",
       "      <td>2.019023e+15</td>\n",
       "      <td>Anmeldung / Aktivierung</td>\n",
       "      <td>AGVS</td>\n",
       "      <td>3</td>\n",
       "      <td>bitte deaaktivieren sie dieses gerät. vielen d...</td>\n",
       "      <td>Gerät entfernt, neu starten</td>\n",
       "    </tr>\n",
       "    <tr>\n",
       "      <th>3</th>\n",
       "      <td>2.019023e+15</td>\n",
       "      <td>Geräteanzahl überschritten</td>\n",
       "      <td>BEOOK</td>\n",
       "      <td>3</td>\n",
       "      <td>ich habe einen neuen laptop und möchte den alt...</td>\n",
       "      <td>Gerät entfernt, neu starten</td>\n",
       "    </tr>\n",
       "    <tr>\n",
       "      <th>4</th>\n",
       "      <td>2.019023e+15</td>\n",
       "      <td>Geräteanzahl überschritten</td>\n",
       "      <td>BEOOK</td>\n",
       "      <td>3</td>\n",
       "      <td>offenbar habe ich die gerägeräteanzahl übersch...</td>\n",
       "      <td>Gerät entfernt, neu starten</td>\n",
       "    </tr>\n",
       "  </tbody>\n",
       "</table>\n",
       "</div>"
      ],
      "text/plain": [
       "         ticket                        type client  issuer  \\\n",
       "0  2.019031e+15           Fehler in der App   SVBA       3   \n",
       "1  2.019030e+15           Fehler in der App   FOMA       3   \n",
       "2  2.019023e+15     Anmeldung / Aktivierung   AGVS       3   \n",
       "3  2.019023e+15  Geräteanzahl überschritten  BEOOK       3   \n",
       "4  2.019023e+15  Geräteanzahl überschritten  BEOOK       3   \n",
       "\n",
       "                                             inquiry  \\\n",
       "0  ich kann die bilder in übungen nicht bearbeite...   \n",
       "1  lückentexte weg daten verloren gegangen von pp...   \n",
       "2  bitte deaaktivieren sie dieses gerät. vielen d...   \n",
       "3  ich habe einen neuen laptop und möchte den alt...   \n",
       "4  offenbar habe ich die gerägeräteanzahl übersch...   \n",
       "\n",
       "                        answer  \n",
       "0         Fehlerbericht senden  \n",
       "1         Fehlerbericht senden  \n",
       "2  Gerät entfernt, neu starten  \n",
       "3  Gerät entfernt, neu starten  \n",
       "4  Gerät entfernt, neu starten  "
      ]
     },
     "execution_count": 171,
     "metadata": {},
     "output_type": "execute_result"
    }
   ],
   "source": [
    "tickets.head()"
   ]
  },
  {
   "cell_type": "markdown",
   "metadata": {},
   "source": [
    "#### check replaced words"
   ]
  },
  {
   "cell_type": "code",
   "execution_count": 172,
   "metadata": {},
   "outputs": [
    {
     "data": {
      "text/plain": [
       "0"
      ]
     },
     "execution_count": 172,
     "metadata": {},
     "output_type": "execute_result"
    }
   ],
   "source": [
    "occurances = []\n",
    "\n",
    "for target in corrected_dict.keys():\n",
    "    space_or_point_wrapped_or_komma = ' ' + target + ' ' + '|' + ' ' + target + '.' + '|' + ' ' + target + ','\n",
    "    o = tickets[tickets['inquiry'].str.contains(space_or_point_wrapped, regex=True)]['inquiry']\n",
    "    if len(o) > 0:\n",
    "        print(target)\n",
    "        occurances.append(o)\n",
    "    \n",
    "len(occurances)"
   ]
  },
  {
   "cell_type": "code",
   "execution_count": 174,
   "metadata": {},
   "outputs": [],
   "source": [
    "tickets.to_csv (r'./ionesoft_tickets_corrected_grammar.csv', index = None, header=True)"
   ]
  },
  {
   "cell_type": "markdown",
   "metadata": {},
   "source": [
    "From **571** wrongly written words I found **478** words. I could correct **478** words"
   ]
  },
  {
   "cell_type": "code",
   "execution_count": null,
   "metadata": {},
   "outputs": [],
   "source": []
  }
 ],
 "metadata": {
  "kernelspec": {
   "display_name": "Python 3",
   "language": "python",
   "name": "python3"
  },
  "language_info": {
   "codemirror_mode": {
    "name": "ipython",
    "version": 3
   },
   "file_extension": ".py",
   "mimetype": "text/x-python",
   "name": "python",
   "nbconvert_exporter": "python",
   "pygments_lexer": "ipython3",
   "version": "3.6.7"
  }
 },
 "nbformat": 4,
 "nbformat_minor": 2
}
