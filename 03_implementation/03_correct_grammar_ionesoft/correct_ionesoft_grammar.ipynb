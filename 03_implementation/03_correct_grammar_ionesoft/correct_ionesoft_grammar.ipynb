{
 "cells": [
  {
   "cell_type": "code",
   "execution_count": 1,
   "metadata": {},
   "outputs": [
    {
     "data": {
      "text/html": [
       "<style>.container { width:100% !important; }</style>"
      ],
      "text/plain": [
       "<IPython.core.display.HTML object>"
      ]
     },
     "metadata": {},
     "output_type": "display_data"
    }
   ],
   "source": [
    "%config IPCompleter.greedy=True\n",
    "\n",
    "from IPython.core.display import display, HTML\n",
    "display(HTML(\"<style>.container { width:100% !important; }</style>\"))"
   ]
  },
  {
   "cell_type": "code",
   "execution_count": 3,
   "metadata": {},
   "outputs": [
    {
     "data": {
      "text/plain": [
       "355354"
      ]
     },
     "execution_count": 3,
     "metadata": {},
     "output_type": "execute_result"
    }
   ],
   "source": [
    "import pandas as pd\n",
    "\n",
    "filename = './de_ch_vocabulary_spacy.csv'\n",
    "\n",
    "word = 'word'\n",
    "base = 'base'\n",
    "names = [word, base]\n",
    "\n",
    "voc = pd.read_csv(filename, sep=',', encoding='ansi', comment='#', names=names)\n",
    "len(voc)"
   ]
  },
  {
   "cell_type": "markdown",
   "metadata": {},
   "source": [
    "### Import Words from Ionesoft with grammar errors\n",
    "Ich nehme an ein paar davon haben doppel s anstatt ß und wurden darum nicht gefunden."
   ]
  },
  {
   "cell_type": "code",
   "execution_count": 6,
   "metadata": {},
   "outputs": [
    {
     "data": {
      "text/plain": [
       "['apgemeldet',\n",
       " 'aplikation',\n",
       " 'gruess',\n",
       " 'allgemeinbildenden-unterricht',\n",
       " 'remoteddesktop']"
      ]
     },
     "execution_count": 6,
     "metadata": {},
     "output_type": "execute_result"
    }
   ],
   "source": [
    "import pickle\n",
    "\n",
    "missing_words = pickle.load(open('missing_words_grammar.p', 'rb'))\n",
    "missing_words[:5]"
   ]
  },
  {
   "cell_type": "markdown",
   "metadata": {},
   "source": [
    "#### Rechtschreibefehler Lösungsversuch"
   ]
  },
  {
   "cell_type": "code",
   "execution_count": 23,
   "metadata": {},
   "outputs": [],
   "source": [
    "import itertools\n",
    "import Levenshtein\n",
    "\n",
    "def similarity(w1, w2):\n",
    "    return Levenshtein.jaro(w1.lower(), w2.lower())\n",
    "\n",
    "def get_closest_match(wrong_word):\n",
    "    voc['sim'] = voc[word].apply(lambda w: similarity(str(w), wrong_word))\n",
    "    return voc.iloc[voc['sim'].idxmax()]['base']"
   ]
  },
  {
   "cell_type": "code",
   "execution_count": 25,
   "metadata": {},
   "outputs": [
    {
     "data": {
      "text/plain": [
       "'abmelden'"
      ]
     },
     "execution_count": 25,
     "metadata": {},
     "output_type": "execute_result"
    }
   ],
   "source": [
    "get_closest_match('apgemeldet')"
   ]
  },
  {
   "cell_type": "code",
   "execution_count": 19,
   "metadata": {},
   "outputs": [],
   "source": [
    "error_correct_dict = dict.fromkeys(missing_words)"
   ]
  },
  {
   "cell_type": "code",
   "execution_count": 26,
   "metadata": {},
   "outputs": [],
   "source": [
    "for w in missing_words:\n",
    "    error_correct_dict[w] = get_closest_match(w)"
   ]
  },
  {
   "cell_type": "code",
   "execution_count": 29,
   "metadata": {},
   "outputs": [],
   "source": [
    "import csv\n",
    "\n",
    "with open('ionesoft_grammar_corrected.csv', 'w') as f:\n",
    "    for key in error_correct_dict.keys():\n",
    "        f.write(\"%s,%s\\n\"%(key, error_correct_dict[key]))"
   ]
  },
  {
   "cell_type": "code",
   "execution_count": null,
   "metadata": {},
   "outputs": [],
   "source": []
  }
 ],
 "metadata": {
  "kernelspec": {
   "display_name": "Python 3",
   "language": "python",
   "name": "python3"
  },
  "language_info": {
   "codemirror_mode": {
    "name": "ipython",
    "version": 3
   },
   "file_extension": ".py",
   "mimetype": "text/x-python",
   "name": "python",
   "nbconvert_exporter": "python",
   "pygments_lexer": "ipython3",
   "version": "3.6.7"
  }
 },
 "nbformat": 4,
 "nbformat_minor": 2
}
