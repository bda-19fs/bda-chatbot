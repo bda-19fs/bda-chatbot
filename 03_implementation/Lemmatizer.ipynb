{
 "cells": [
  {
   "cell_type": "markdown",
   "metadata": {},
   "source": [
    "# Implementation Lemmatizer\n",
    "- Muss: deutscher Lemmatizer bauen.\n",
    "- Optional: Kann mit Rechtschreibefehler zu einem gewissen Grad umgehen.\n",
    "\n",
    "\n",
    "Daten: http://wortschatz.uni-leipzig.de/de/\n",
    "\n",
    "Lizenz: Creative-Commons-Lizenz CC BY-NC\n",
    "\n",
    "**Sie wünschen zitiert zu werden (In der BDA Dokumentation)**\n",
    "\n",
    "D. Goldhahn, T. Eckart & U. Quasthoff: Building Large Monolingual Dictionaries at the Leipzig Corpora Collection: From 100 to 200 Languages.\n",
    "In: Proceedings of the 8th International Language Ressources and Evaluation (LREC'12), 2012"
   ]
  },
  {
   "cell_type": "code",
   "execution_count": 3,
   "metadata": {},
   "outputs": [
    {
     "data": {
      "text/html": [
       "<style>.container { width:100% !important; }</style>"
      ],
      "text/plain": [
       "<IPython.core.display.HTML object>"
      ]
     },
     "metadata": {},
     "output_type": "display_data"
    }
   ],
   "source": [
    "%config IPCompleter.greedy=True\n",
    "\n",
    "from IPython.core.display import display, HTML\n",
    "display(HTML(\"<style>.container { width:100% !important; }</style>\"))"
   ]
  },
  {
   "cell_type": "markdown",
   "metadata": {},
   "source": [
    "### Wörterbuch"
   ]
  },
  {
   "cell_type": "code",
   "execution_count": 4,
   "metadata": {},
   "outputs": [
    {
     "data": {
      "text/html": [
       "<div>\n",
       "<style scoped>\n",
       "    .dataframe tbody tr th:only-of-type {\n",
       "        vertical-align: middle;\n",
       "    }\n",
       "\n",
       "    .dataframe tbody tr th {\n",
       "        vertical-align: top;\n",
       "    }\n",
       "\n",
       "    .dataframe thead th {\n",
       "        text-align: right;\n",
       "    }\n",
       "</style>\n",
       "<table border=\"1\" class=\"dataframe\">\n",
       "  <thead>\n",
       "    <tr style=\"text-align: right;\">\n",
       "      <th></th>\n",
       "      <th>word</th>\n",
       "      <th>base</th>\n",
       "    </tr>\n",
       "  </thead>\n",
       "  <tbody>\n",
       "    <tr>\n",
       "      <th>0</th>\n",
       "      <td>ist</td>\n",
       "      <td>sein</td>\n",
       "    </tr>\n",
       "    <tr>\n",
       "      <th>1</th>\n",
       "      <td>ein</td>\n",
       "      <td>einen</td>\n",
       "    </tr>\n",
       "    <tr>\n",
       "      <th>2</th>\n",
       "      <td>eine</td>\n",
       "      <td>einen</td>\n",
       "    </tr>\n",
       "    <tr>\n",
       "      <th>3</th>\n",
       "      <td>eine</td>\n",
       "      <td>ein</td>\n",
       "    </tr>\n",
       "    <tr>\n",
       "      <th>4</th>\n",
       "      <td>hat</td>\n",
       "      <td>haben</td>\n",
       "    </tr>\n",
       "  </tbody>\n",
       "</table>\n",
       "</div>"
      ],
      "text/plain": [
       "   word   base\n",
       "0   ist   sein\n",
       "1   ein  einen\n",
       "2  eine  einen\n",
       "3  eine    ein\n",
       "4   hat  haben"
      ]
     },
     "execution_count": 4,
     "metadata": {},
     "output_type": "execute_result"
    }
   ],
   "source": [
    "import pandas as pd\n",
    "\n",
    "filename = './de_ch_vocabulary.csv'\n",
    "\n",
    "word = 'word'\n",
    "base = 'base'\n",
    "names = [word, base]\n",
    "\n",
    "voc = pd.read_csv(filename, sep=',', encoding='ansi', comment='#', names=names)\n",
    "voc.head()"
   ]
  },
  {
   "cell_type": "code",
   "execution_count": 5,
   "metadata": {},
   "outputs": [
    {
     "data": {
      "text/plain": [
       "944382"
      ]
     },
     "execution_count": 5,
     "metadata": {},
     "output_type": "execute_result"
    }
   ],
   "source": [
    "len(voc)"
   ]
  },
  {
   "cell_type": "markdown",
   "metadata": {},
   "source": [
    "### Text für Lemmatisation"
   ]
  },
  {
   "cell_type": "code",
   "execution_count": 6,
   "metadata": {},
   "outputs": [
    {
     "data": {
      "text/plain": [
       "'In der Philosophie (altgriechisch φιλοσοφία philosophía, latinisiert philosophia, wörtlich „Liebe zur Weisheit“) wird versucht, die Welt und die menschliche Existenz zu ergründen, zu deuten und zu verstehen. Von anderen Wissenschaftsdisziplinen unterscheidet sich die Philosophie dadurch, dass sie sich oft nicht auf ein spezielles Gebiet oder eine bestimmte Methodologie begrenzt, sondern durch die Art ihrer Fragestellungen und ihre besondere Herangehensweise an ihre vielfältigen Gegenstandsbereiche charakterisiert ist. In diesem Artikel wird die westliche (auch: abendländische) Philosophie, die im 6. Jahrhundert v. Chr. im antiken Griechenland entstand, behandelt. Nicht behandelt werden hier die mit der abendländischen Philosophie in einem mannigfaltigen Zusammenhang stehenden Traditionen der jüdischen und der islamischen Philosophie sowie die ursprünglich von ihr unabhängigen Traditionen der afrikanischen und der östlichen Philosophie. In der antiken Philosophie entfaltete sich das systematische und wissenschaftlich orientierte Denken. Im Lauf der Jahrhunderte differenzierten sich die unterschiedlichen Methoden und Disziplinen der Welterschließung und der Wissenschaften direkt oder mittelbar aus der Philosophie, zum Teil auch in Abgrenzung zu irrationalen oder religiösen Weltbildern oder Mythen. Kerngebiete der Philosophie sind die Logik (als die Wissenschaft des folgerichtigen Denkens), die Ethik (als die Wissenschaft des rechten Handelns) und die Metaphysik (als die Wissenschaft der ersten Gründe des Seins und der Wirklichkeit). Weitere Grunddisziplinen sind die Erkenntnis- und Wissenschaftstheorie, die sich mit den Möglichkeiten des Erkenntnisgewinns im Allgemeinen bzw. speziell mit den Erkenntnisweisen der unterschiedlichen Einzelwissenschaften beschäftigen.'"
      ]
     },
     "execution_count": 6,
     "metadata": {},
     "output_type": "execute_result"
    }
   ],
   "source": [
    "text = 'In der Philosophie (altgriechisch φιλοσοφία philosophía, latinisiert philosophia, wörtlich „Liebe zur Weisheit“) wird versucht, die Welt und die menschliche Existenz zu ergründen, zu deuten und zu verstehen. Von anderen Wissenschaftsdisziplinen unterscheidet sich die Philosophie dadurch, dass sie sich oft nicht auf ein spezielles Gebiet oder eine bestimmte Methodologie begrenzt, sondern durch die Art ihrer Fragestellungen und ihre besondere Herangehensweise an ihre vielfältigen Gegenstandsbereiche charakterisiert ist. In diesem Artikel wird die westliche (auch: abendländische) Philosophie, die im 6. Jahrhundert v. Chr. im antiken Griechenland entstand, behandelt. Nicht behandelt werden hier die mit der abendländischen Philosophie in einem mannigfaltigen Zusammenhang stehenden Traditionen der jüdischen und der islamischen Philosophie sowie die ursprünglich von ihr unabhängigen Traditionen der afrikanischen und der östlichen Philosophie. In der antiken Philosophie entfaltete sich das systematische und wissenschaftlich orientierte Denken. Im Lauf der Jahrhunderte differenzierten sich die unterschiedlichen Methoden und Disziplinen der Welterschließung und der Wissenschaften direkt oder mittelbar aus der Philosophie, zum Teil auch in Abgrenzung zu irrationalen oder religiösen Weltbildern oder Mythen. Kerngebiete der Philosophie sind die Logik (als die Wissenschaft des folgerichtigen Denkens), die Ethik (als die Wissenschaft des rechten Handelns) und die Metaphysik (als die Wissenschaft der ersten Gründe des Seins und der Wirklichkeit). Weitere Grunddisziplinen sind die Erkenntnis- und Wissenschaftstheorie, die sich mit den Möglichkeiten des Erkenntnisgewinns im Allgemeinen bzw. speziell mit den Erkenntnisweisen der unterschiedlichen Einzelwissenschaften beschäftigen.'\n",
    "text"
   ]
  },
  {
   "cell_type": "code",
   "execution_count": 7,
   "metadata": {},
   "outputs": [],
   "source": [
    "from nltk import tokenize\n",
    "\n",
    "def lemm_word(w):\n",
    "    base_word = voc.loc[voc[word] == w.lower(), base]\n",
    "    return w.lower() if base_word.empty else base_word.iloc[0]\n",
    "\n",
    "def lemm_sentence(s):\n",
    "    return str.join(' ', [lemm_word(w) for w in tokenize.word_tokenize(s)])"
   ]
  },
  {
   "cell_type": "code",
   "execution_count": 8,
   "metadata": {},
   "outputs": [
    {
     "data": {
      "text/plain": [
       "'in der philosophie ( altgriechisch φιλοσοφία philosophía , latinisieren philosophia , wörtlich „ lieb zur weisheit “ ) werden versuchen , die welt und die menschlich existenz zu ergründen , zu deuten und zu verstehen . von andere wissenschaftsdisziplinen unterscheiden sich die philosophie dadurch , dass sie sich oft nicht auf einen speziell gebieten oder einen bestimmt methodologie begrenzen , sondern durch die art ihrer fragestellungen und ihre besondere herangehensweise an ihre vielfältig gegenstandsbereiche charakterisieren sein . in diesem artikel werden die westlich ( auch : abendländisch ) philosophie , die im 6 . jahrhundert v. chr . im antik griechenland entstehen , behandeln . nicht behandeln werden hier die mit der abendländisch philosophie in einem mannigfaltig zusammenhang stehend traditionen der jüdisch und der islamisch philosophie sowie die ursprünglich von ihr unabhängig traditionen der afrikanisch und der östlich philosophie . in der antik philosophie entfaltet sich das systematisch und wissenschaftlich orientieren denken . im laufen der jahrhunderte differenziert sich die unterschiedlich methoden und disziplinen der welterschließung und der wissenschaften direkt oder mittelbar aus der philosophie , zum teilen auch in abgrenzung zu irrational oder religiös weltbildern oder mythen . kerngebiete der philosophie sein die logik ( als die wissenschaft des folgerichtig denkens ) , die ethik ( als die wissenschaft des rechen handelns ) und die metaphysik ( als die wissenschaft der erste gründen des seins und der wirklichkeit ) . weiter grunddisziplinen sein die erkenntnis- und wissenschaftstheorie , die sich mit den möglichkeiten des erkenntnisgewinns im allgemein bzw . speziell mit den erkenntnisweisen der unterschiedlich einzelwissenschaften beschäftigen .'"
      ]
     },
     "execution_count": 8,
     "metadata": {},
     "output_type": "execute_result"
    }
   ],
   "source": [
    "lemm_sentence(text)"
   ]
  },
  {
   "cell_type": "markdown",
   "metadata": {},
   "source": [
    "### Rechtschreibefehler Lösungsversuch"
   ]
  },
  {
   "cell_type": "code",
   "execution_count": 66,
   "metadata": {},
   "outputs": [],
   "source": [
    "import itertools\n",
    "import Levenshtein\n",
    "\n",
    "def similarity(w1, w2):\n",
    "    return Levenshtein.jaro(w1.lower(), w2.lower())\n",
    "\n",
    "voc['sim'] = voc[word].apply(lambda w: similarity(str(w), 'passwwort'))"
   ]
  },
  {
   "cell_type": "code",
   "execution_count": 67,
   "metadata": {},
   "outputs": [
    {
     "data": {
      "text/plain": [
       "word    Passworts\n",
       "base     Passwort\n",
       "sim      0.925926\n",
       "Name: 194339, dtype: object"
      ]
     },
     "execution_count": 67,
     "metadata": {},
     "output_type": "execute_result"
    }
   ],
   "source": [
    "voc.iloc[voc['sim'].idxmax()]"
   ]
  },
  {
   "cell_type": "markdown",
   "metadata": {},
   "source": [
    "#### Funktioniert recht gut"
   ]
  },
  {
   "cell_type": "code",
   "execution_count": 73,
   "metadata": {},
   "outputs": [
    {
     "data": {
      "text/plain": [
       "['Benutzername', 'un', 'Passwort', 'vergessen']"
      ]
     },
     "execution_count": 73,
     "metadata": {},
     "output_type": "execute_result"
    }
   ],
   "source": [
    "# ticket 2019011563000030\n",
    "def correct(subject):\n",
    "    voc['sim'] = voc[word].apply(lambda w: similarity(str(w), subject))\n",
    "    return voc.iloc[voc['sim'].idxmax()][base]\n",
    "\n",
    "[correct(w) for w in tokenize.word_tokenize('benuttzernamen und passwwort verggessen')]"
   ]
  },
  {
   "cell_type": "code",
   "execution_count": null,
   "metadata": {},
   "outputs": [],
   "source": []
  }
 ],
 "metadata": {
  "kernelspec": {
   "display_name": "Python 3",
   "language": "python",
   "name": "python3"
  },
  "language_info": {
   "codemirror_mode": {
    "name": "ipython",
    "version": 3
   },
   "file_extension": ".py",
   "mimetype": "text/x-python",
   "name": "python",
   "nbconvert_exporter": "python",
   "pygments_lexer": "ipython3",
   "version": "3.6.7"
  }
 },
 "nbformat": 4,
 "nbformat_minor": 2
}
