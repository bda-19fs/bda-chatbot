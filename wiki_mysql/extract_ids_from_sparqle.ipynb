{
 "cells": [
  {
   "cell_type": "code",
   "execution_count": 1,
   "metadata": {},
   "outputs": [],
   "source": [
    "import json"
   ]
  },
  {
   "cell_type": "code",
   "execution_count": 2,
   "metadata": {},
   "outputs": [
    {
     "name": "stdout",
     "output_type": "stream",
     "text": [
      "{'link': [], 'vars': ['food', 'id']}\n"
     ]
    }
   ],
   "source": [
    "data = None\n",
    "with open('sparql_result.json', 'r') as f:\n",
    "    data = json.load(f)\n",
    "\n",
    "print(data['head'])"
   ]
  },
  {
   "cell_type": "code",
   "execution_count": 13,
   "metadata": {},
   "outputs": [
    {
     "name": "stdout",
     "output_type": "stream",
     "text": [
      "10000\n"
     ]
    }
   ],
   "source": [
    "food_ids_list = data['results']['bindings']\n",
    "ids = []\n",
    "\n",
    "for doc in food_ids_list:\n",
    "    current_id = doc['id']['value']\n",
    "    ids.append(current_id)\n",
    "\n",
    "print(len(ids))"
   ]
  },
  {
   "cell_type": "code",
   "execution_count": 14,
   "metadata": {},
   "outputs": [
    {
     "name": "stdout",
     "output_type": "stream",
     "text": [
      "54566\n"
     ]
    }
   ],
   "source": [
    "print(ids[0])"
   ]
  },
  {
   "cell_type": "code",
   "execution_count": 19,
   "metadata": {},
   "outputs": [],
   "source": [
    "f = open('article_ids.csv', 'w')\n",
    "with f:\n",
    "    for i in range(len(ids) -1):\n",
    "        f.write(ids[i] + ',\\n')\n",
    "    f.write(ids[len(ids) -1] + '\\n')"
   ]
  },
  {
   "cell_type": "code",
   "execution_count": null,
   "metadata": {},
   "outputs": [],
   "source": []
  }
 ],
 "metadata": {
  "kernelspec": {
   "display_name": "Python 3",
   "language": "python",
   "name": "python3"
  },
  "language_info": {
   "codemirror_mode": {
    "name": "ipython",
    "version": 3
   },
   "file_extension": ".py",
   "mimetype": "text/x-python",
   "name": "python",
   "nbconvert_exporter": "python",
   "pygments_lexer": "ipython3",
   "version": "3.7.2"
  }
 },
 "nbformat": 4,
 "nbformat_minor": 2
}
