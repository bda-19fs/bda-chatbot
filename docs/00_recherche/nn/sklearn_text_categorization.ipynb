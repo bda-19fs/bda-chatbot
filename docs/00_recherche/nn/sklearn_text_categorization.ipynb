{
 "cells": [
  {
   "cell_type": "markdown",
   "metadata": {},
   "source": [
    "### Problem\n",
    "Wenn eine neue Support Anfrage eintrifft, wollen wir sie einer von 5 Kategorien zuordnen. Der Klassifizierer geht davon aus, dass jede neue Frage einer und nur einer Kategorie zugeordnet ist. Dies ist ein Problem mit der Klassifizierung von Texten mehrerer Klassen."
   ]
  },
  {
   "cell_type": "code",
   "execution_count": 1,
   "metadata": {},
   "outputs": [],
   "source": [
    "import pandas as pd\n",
    "import numpy as np\n",
    "import re\n",
    "import nltk\n",
    "import matplotlib.pyplot as plt\n",
    "\n",
    "pd.options.display.max_colwidth = 200\n",
    "%matplotlib inline"
   ]
  },
  {
   "cell_type": "markdown",
   "metadata": {},
   "source": [
    "### Toy corpus"
   ]
  },
  {
   "cell_type": "code",
   "execution_count": 2,
   "metadata": {},
   "outputs": [
    {
     "name": "stdout",
     "output_type": "stream",
     "text": [
      "{'bug': 0, 'grammar': 1, 'license': 2, 'login': 3, 'payment': 4}\n",
      "{0: 'bug', 1: 'grammar', 2: 'license', 3: 'login', 4: 'payment'}\n"
     ]
    },
    {
     "data": {
      "text/html": [
       "<div>\n",
       "<style scoped>\n",
       "    .dataframe tbody tr th:only-of-type {\n",
       "        vertical-align: middle;\n",
       "    }\n",
       "\n",
       "    .dataframe tbody tr th {\n",
       "        vertical-align: top;\n",
       "    }\n",
       "\n",
       "    .dataframe thead th {\n",
       "        text-align: right;\n",
       "    }\n",
       "</style>\n",
       "<table border=\"1\" class=\"dataframe\">\n",
       "  <thead>\n",
       "    <tr style=\"text-align: right;\">\n",
       "      <th></th>\n",
       "      <th>Document</th>\n",
       "      <th>Category</th>\n",
       "      <th>Cat_Id</th>\n",
       "    </tr>\n",
       "  </thead>\n",
       "  <tbody>\n",
       "    <tr>\n",
       "      <th>0</th>\n",
       "      <td>Ich kann keine Bilder öffnen.</td>\n",
       "      <td>bug</td>\n",
       "      <td>0</td>\n",
       "    </tr>\n",
       "    <tr>\n",
       "      <th>1</th>\n",
       "      <td>Der Doppelklick auf Bilder funktioniert nicht mehr.</td>\n",
       "      <td>bug</td>\n",
       "      <td>0</td>\n",
       "    </tr>\n",
       "    <tr>\n",
       "      <th>2</th>\n",
       "      <td>In Buch Nr. 712 auf Seite 12 wurde ein Wort falsch geschrieben!</td>\n",
       "      <td>grammar</td>\n",
       "      <td>1</td>\n",
       "    </tr>\n",
       "    <tr>\n",
       "      <th>3</th>\n",
       "      <td>Der Buchtitel wurde falsch geschrieben. NLKT wurde geschrieben anstatt NLTK!</td>\n",
       "      <td>grammar</td>\n",
       "      <td>1</td>\n",
       "    </tr>\n",
       "    <tr>\n",
       "      <th>4</th>\n",
       "      <td>Ich kann die gekaufte Lizenz nicht mehr aktivieren. Was mache ich falsch?</td>\n",
       "      <td>license</td>\n",
       "      <td>2</td>\n",
       "    </tr>\n",
       "    <tr>\n",
       "      <th>5</th>\n",
       "      <td>Die Lizenz funktioniert nicht!</td>\n",
       "      <td>license</td>\n",
       "      <td>2</td>\n",
       "    </tr>\n",
       "    <tr>\n",
       "      <th>6</th>\n",
       "      <td>Ich kann mich nicht mehr einloggen.</td>\n",
       "      <td>login</td>\n",
       "      <td>3</td>\n",
       "    </tr>\n",
       "    <tr>\n",
       "      <th>7</th>\n",
       "      <td>Mein Passwort scheint nicht mehr zu funktionieren!</td>\n",
       "      <td>login</td>\n",
       "      <td>3</td>\n",
       "    </tr>\n",
       "    <tr>\n",
       "      <th>8</th>\n",
       "      <td>Ich kann micht nicht mit meinem Passwort mehr einloggen...</td>\n",
       "      <td>login</td>\n",
       "      <td>3</td>\n",
       "    </tr>\n",
       "    <tr>\n",
       "      <th>9</th>\n",
       "      <td>Der Betrag wurde von meiner Kreditkarte abgezogen, das Buch habe ich immernoch nicht erhalten!</td>\n",
       "      <td>payment</td>\n",
       "      <td>4</td>\n",
       "    </tr>\n",
       "    <tr>\n",
       "      <th>10</th>\n",
       "      <td>Die Bezahlung wurde doppelt von meinem Konto abgebucht. #@!?$!!!</td>\n",
       "      <td>payment</td>\n",
       "      <td>4</td>\n",
       "    </tr>\n",
       "    <tr>\n",
       "      <th>11</th>\n",
       "      <td>Ich kann kein Geld auf mein Konto überweisen</td>\n",
       "      <td>payment</td>\n",
       "      <td>4</td>\n",
       "    </tr>\n",
       "    <tr>\n",
       "      <th>12</th>\n",
       "      <td>Zahlungen scheinen nicht zu funktionieren.</td>\n",
       "      <td>payment</td>\n",
       "      <td>4</td>\n",
       "    </tr>\n",
       "    <tr>\n",
       "      <th>13</th>\n",
       "      <td>Ich habe kein Geld mehr auf meinem Account!</td>\n",
       "      <td>payment</td>\n",
       "      <td>4</td>\n",
       "    </tr>\n",
       "  </tbody>\n",
       "</table>\n",
       "</div>"
      ],
      "text/plain": [
       "                                                                                          Document  \\\n",
       "0                                                                    Ich kann keine Bilder öffnen.   \n",
       "1                                              Der Doppelklick auf Bilder funktioniert nicht mehr.   \n",
       "2                                  In Buch Nr. 712 auf Seite 12 wurde ein Wort falsch geschrieben!   \n",
       "3                     Der Buchtitel wurde falsch geschrieben. NLKT wurde geschrieben anstatt NLTK!   \n",
       "4                        Ich kann die gekaufte Lizenz nicht mehr aktivieren. Was mache ich falsch?   \n",
       "5                                                                   Die Lizenz funktioniert nicht!   \n",
       "6                                                              Ich kann mich nicht mehr einloggen.   \n",
       "7                                               Mein Passwort scheint nicht mehr zu funktionieren!   \n",
       "8                                       Ich kann micht nicht mit meinem Passwort mehr einloggen...   \n",
       "9   Der Betrag wurde von meiner Kreditkarte abgezogen, das Buch habe ich immernoch nicht erhalten!   \n",
       "10                                Die Bezahlung wurde doppelt von meinem Konto abgebucht. #@!?$!!!   \n",
       "11                                                    Ich kann kein Geld auf mein Konto überweisen   \n",
       "12                                                      Zahlungen scheinen nicht zu funktionieren.   \n",
       "13                                                     Ich habe kein Geld mehr auf meinem Account!   \n",
       "\n",
       "   Category  Cat_Id  \n",
       "0       bug       0  \n",
       "1       bug       0  \n",
       "2   grammar       1  \n",
       "3   grammar       1  \n",
       "4   license       2  \n",
       "5   license       2  \n",
       "6     login       3  \n",
       "7     login       3  \n",
       "8     login       3  \n",
       "9   payment       4  \n",
       "10  payment       4  \n",
       "11  payment       4  \n",
       "12  payment       4  \n",
       "13  payment       4  "
      ]
     },
     "execution_count": 2,
     "metadata": {},
     "output_type": "execute_result"
    }
   ],
   "source": [
    "corpus = [\n",
    "    'Ich kann keine Bilder öffnen.',\n",
    "    'Der Doppelklick auf Bilder funktioniert nicht mehr.',\n",
    "    'In Buch Nr. 712 auf Seite 12 wurde ein Wort falsch geschrieben!',\n",
    "    'Der Buchtitel wurde falsch geschrieben. NLKT wurde geschrieben anstatt NLTK!',\n",
    "    'Ich kann die gekaufte Lizenz nicht mehr aktivieren. Was mache ich falsch?',\n",
    "    'Die Lizenz funktioniert nicht!',\n",
    "    'Ich kann mich nicht mehr einloggen.',\n",
    "    'Mein Passwort scheint nicht mehr zu funktionieren!',\n",
    "    'Ich kann micht nicht mit meinem Passwort mehr einloggen...',\n",
    "    'Der Betrag wurde von meiner Kreditkarte abgezogen, das Buch habe ich immernoch nicht erhalten!',\n",
    "    'Die Bezahlung wurde doppelt von meinem Konto abgebucht. #@!?$!!!',\n",
    "    'Ich kann kein Geld auf mein Konto überweisen',\n",
    "    'Zahlungen scheinen nicht zu funktionieren.',\n",
    "    'Ich habe kein Geld mehr auf meinem Account!'\n",
    "]\n",
    "\n",
    "labels = ['bug', 'bug', 'grammar', 'grammar', 'license', 'license', 'login', 'login', 'login', 'payment', 'payment', 'payment', 'payment', 'payment']\n",
    "ids = [0, 0, 1, 1, 2, 2, 3, 3, 3, 4, 4, 4, 4, 4]\n",
    "corpus = np.array(corpus)\n",
    "corpus_df = pd.DataFrame(\n",
    "    {\n",
    "        'Document': corpus, \n",
    "        'Category': labels,\n",
    "        'Cat_Id': ids\n",
    "    }\n",
    ")\n",
    "\n",
    "corpus_df = corpus_df[['Document', 'Category', 'Cat_Id']]\n",
    "\n",
    "category_id_df = corpus_df[['Category', 'Cat_Id']].drop_duplicates().sort_values('Cat_Id')\n",
    "category_to_id = dict(category_id_df.values)\n",
    "print(category_to_id)\n",
    "\n",
    "id_to_category = dict(category_id_df[['Cat_Id', 'Category']].values)\n",
    "print(id_to_category)\n",
    "\n",
    "corpus_df"
   ]
  },
  {
   "cell_type": "markdown",
   "metadata": {},
   "source": [
    "### Check balance\n",
    "Wenn wir auf solche Probleme stoßen, werden wir sicherlich Schwierigkeiten haben, sie mit Standardalgorithmen zu lösen. Herkömmliche Algorithmen sind oft auf die Mehrheitsklasse ausgerichtet und berücksichtigen nicht die Datenverteilung. Im schlimmsten Fall werden Minderheitenklassen als Ausreißer behandelt und ignoriert. Für einige Fälle müssten wir unser Modell sorgfältig konfigurieren oder den Datensatz künstlich ausbalancieren, z.B. durch Unter- oder Überabtastung jeder Klasse.\n",
    "\n",
    "Im Falle unseres Lernens unausgewogener Daten könnten jedoch die Mehrheitsklassen von großem Interesse sein. Es ist wünschenswert, einen Klassifikator zu haben, der eine hohe Vorhersagegenauigkeit über die Mehrheitsklasse bietet, während die angemessene Genauigkeit für die Minderheitsklassen erhalten bleibt. Deshalb werden wir es so belassen, wie es ist."
   ]
  },
  {
   "cell_type": "code",
   "execution_count": 3,
   "metadata": {},
   "outputs": [
    {
     "data": {
      "image/png": "[encoded data removed]",
      "text/plain": [
       "<Figure size 576x432 with 1 Axes>"
      ]
     },
     "metadata": {
      "needs_background": "light"
     },
     "output_type": "display_data"
    }
   ],
   "source": [
    "fig = plt.figure(figsize=(8,6))\n",
    "corpus_df.groupby('Category').Document.count().plot.bar(ylim=0)\n",
    "plt.show()"
   ]
  },
  {
   "cell_type": "markdown",
   "metadata": {},
   "source": [
    "### Text Representation\n",
    "Die Klassifikatoren und Lernalgorithmen können die Textdokumente nicht direkt in ihrer ursprünglichen Form verarbeiten, da die meisten von ihnen eher numerische Merkmalsvektoren mit fester Größe als die Rohtextdokumente mit variabler Länge erwarten. Daher werden die Texte während des Vorverarbeitungsschritts in eine übersichtlichere Darstellung umgewandelt.\n",
    "\n",
    "Ein gängiger Ansatz für die Extraktion von Merkmalen aus dem Text ist die Verwendung des Worttaschenmodells: ein Modell, bei dem für jedes Dokument, eine Beschwerdeerzählung in unserem Fall, die Anwesenheit (und oft auch die Häufigkeit) von Wörtern berücksichtigt wird, aber die Reihenfolge, in der sie auftreten, ignoriert wird."
   ]
  },
  {
   "cell_type": "code",
   "execution_count": 6,
   "metadata": {},
   "outputs": [
    {
     "data": {
      "text/plain": [
       "(14, 91)"
      ]
     },
     "execution_count": 6,
     "metadata": {},
     "output_type": "execute_result"
    }
   ],
   "source": [
    "from sklearn.feature_extraction.text import TfidfVectorizer\n",
    "stop_words = ['ich', 'ein', 'der', 'die', 'das', 'mehr', 'auf', 'wurde', 'von', 'meinem', 'mache', 'mich', 'kann', 'scheint', 'was', 'zu', 'anstatt', 'scheinen']\n",
    "\n",
    "tfidf = TfidfVectorizer(sublinear_tf=True, min_df=0, norm='l2', encoding='latin-1', ngram_range=(1, 2), stop_words=stop_words)\n",
    "\n",
    "features = tfidf.fit_transform(corpus_df.Document).toarray()\n",
    "labels = corpus_df.Category\n",
    "features.shape"
   ]
  },
  {
   "cell_type": "code",
   "execution_count": 8,
   "metadata": {},
   "outputs": [
    {
     "name": "stdout",
     "output_type": "stream",
     "text": [
      "# '0':\n",
      "**Most correlated unigrams:**\n",
      "- öffnen\n",
      "- bilder\n",
      "**Most correlated bigrams:**\n",
      "- keine bilder\n",
      "- bilder öffnen\n",
      "# '1':\n",
      "**Most correlated unigrams:**\n",
      "- nlkt\n",
      "- geschrieben\n",
      "**Most correlated bigrams:**\n",
      "- geschrieben nltk\n",
      "- falsch geschrieben\n",
      "# '2':\n",
      "**Most correlated unigrams:**\n",
      "- aktivieren\n",
      "- lizenz\n",
      "**Most correlated bigrams:**\n",
      "- nicht aktivieren\n",
      "- lizenz funktioniert\n",
      "# '3':\n",
      "**Most correlated unigrams:**\n",
      "- passwort\n",
      "- einloggen\n",
      "**Most correlated bigrams:**\n",
      "- mein passwort\n",
      "- nicht einloggen\n",
      "# '4':\n",
      "**Most correlated unigrams:**\n",
      "- kein\n",
      "- geld\n",
      "**Most correlated bigrams:**\n",
      "- zahlungen nicht\n",
      "- kein geld\n"
     ]
    }
   ],
   "source": [
    "from sklearn.feature_selection import chi2\n",
    "import numpy as np\n",
    "\n",
    "N = 2\n",
    "for Document, Category in sorted(id_to_category.items()):\n",
    "    features_chi2 = chi2(features, labels == Category)\n",
    "    indices = np.argsort(features_chi2[0])\n",
    "    feature_names = np.array(tfidf.get_feature_names())[indices]\n",
    "    unigrams = [v for v in feature_names if len(v.split(' ')) == 1]\n",
    "    bigrams = [v for v in feature_names if len(v.split(' ')) == 2]\n",
    "    print(\"# '{}':\".format(Document))\n",
    "    print(\"**Most correlated unigrams:**\\n- {}\".format('\\n- '.join(unigrams[-N:])))\n",
    "    print(\"**Most correlated bigrams:**\\n- {}\".format('\\n- '.join(bigrams[-N:])))"
   ]
  },
  {
   "cell_type": "markdown",
   "metadata": {},
   "source": [
    "Nach wiederholtem anpassen der _stop_words_ bin ich nun mit den bigrams zufrieden."
   ]
  },
  {
   "cell_type": "markdown",
   "metadata": {},
   "source": [
    "### Naive Bayes Classifier"
   ]
  },
  {
   "cell_type": "code",
   "execution_count": 9,
   "metadata": {},
   "outputs": [],
   "source": [
    "from sklearn.model_selection import train_test_split\n",
    "from sklearn.feature_extraction.text import CountVectorizer\n",
    "from sklearn.feature_extraction.text import TfidfTransformer\n",
    "from sklearn.naive_bayes import MultinomialNB\n",
    "\n",
    "X_train, X_test, y_train, y_test = train_test_split(corpus_df['Document'], corpus_df['Category'], random_state = 0)\n",
    "count_vect = CountVectorizer()\n",
    "\n",
    "X_train_counts = count_vect.fit_transform(X_train)\n",
    "tfidf_transformer = TfidfTransformer()\n",
    "\n",
    "X_train_tfidf  = tfidf_transformer.fit_transform(X_train_counts)\n",
    "clf = MultinomialNB().fit(X_train_tfidf, y_train)"
   ]
  },
  {
   "cell_type": "markdown",
   "metadata": {},
   "source": [
    "Zeit für ein paar Support Anfragen zuordnen.\n",
    "Ich achte darauf, dass die **bigrams** im Text erscheinen."
   ]
  },
  {
   "cell_type": "code",
   "execution_count": 10,
   "metadata": {},
   "outputs": [
    {
     "name": "stdout",
     "output_type": "stream",
     "text": [
      "['payment']\n"
     ]
    }
   ],
   "source": [
    "print(clf.predict(count_vect.transform(\n",
    "    ['''\n",
    "        Produkte werden **doppelt** auf meinem Konto **verbucht**\n",
    "    ''']\n",
    ")))"
   ]
  },
  {
   "cell_type": "code",
   "execution_count": 11,
   "metadata": {},
   "outputs": [
    {
     "name": "stdout",
     "output_type": "stream",
     "text": [
      "['bug']\n"
     ]
    }
   ],
   "source": [
    "print(clf.predict(count_vect.transform(\n",
    "    ['''\n",
    "        Ich kann **keine** Dokumente mehr **öffnen**!\n",
    "    ''']\n",
    ")))"
   ]
  },
  {
   "cell_type": "code",
   "execution_count": 12,
   "metadata": {},
   "outputs": [
    {
     "name": "stdout",
     "output_type": "stream",
     "text": [
      "['payment']\n"
     ]
    }
   ],
   "source": [
    "print(clf.predict(count_vect.transform(\n",
    "    ['''\n",
    "        Kann mich nicht mit meinem Passwort einloggen\n",
    "    ''']\n",
    ")))"
   ]
  },
  {
   "cell_type": "markdown",
   "metadata": {},
   "source": [
    "Okay schon haben wir einen Fehler. **Passwort** und **einloggen** müssten ein **login** Problem sein! "
   ]
  },
  {
   "cell_type": "markdown",
   "metadata": {},
   "source": [
    "Ich werde in einem späteren Schritt versuchen dieses Problem zu beheben."
   ]
  },
  {
   "cell_type": "markdown",
   "metadata": {},
   "source": [
    "### Vergleich\n",
    "\n",
    "Ich möchte nun ein paar verschiedene Modelle vergleichen:\n",
    "* Naive Bayes \n",
    "* Logistic Regression\n",
    "* Random Forest\n",
    "* Linear SVM"
   ]
  },
  {
   "cell_type": "code",
   "execution_count": 13,
   "metadata": {},
   "outputs": [
    {
     "data": {
      "image/png": "[encoded data removed]",
      "text/plain": [
       "<Figure size 432x288 with 1 Axes>"
      ]
     },
     "metadata": {
      "needs_background": "light"
     },
     "output_type": "display_data"
    }
   ],
   "source": [
    "from sklearn.linear_model import LogisticRegression\n",
    "from sklearn.ensemble import RandomForestClassifier\n",
    "from sklearn.svm import LinearSVC\n",
    "from sklearn.model_selection import cross_val_score\n",
    "\n",
    "models = [\n",
    "    RandomForestClassifier(n_estimators=200, max_depth=3, random_state=0),\n",
    "    LinearSVC(),\n",
    "    MultinomialNB(),\n",
    "    LogisticRegression(\n",
    "        penalty='l2',\n",
    "        dual=False,\n",
    "        tol=0.0001,\n",
    "        C=1.0,\n",
    "        fit_intercept=True,\n",
    "        intercept_scaling=1, \n",
    "        class_weight=None,\n",
    "        random_state=None,\n",
    "        solver='lbfgs',\n",
    "        max_iter=100,\n",
    "        multi_class='auto',\n",
    "        verbose=0,\n",
    "        warm_start=False,\n",
    "        n_jobs=None)\n",
    "]\n",
    "\n",
    "CV = 2\n",
    "cv_df = pd.DataFrame(index=range(CV * len(models)))\n",
    "entries = []\n",
    "for model in models:\n",
    "    model_name = model.__class__.__name__\n",
    "    accuracies = cross_val_score(model, features, labels, scoring='accuracy', cv=CV)\n",
    "    for fold_idx, accuracy in enumerate(accuracies):\n",
    "        entries.append((model_name, fold_idx, accuracy))\n",
    "cv_df = pd.DataFrame(entries, columns=['model_name', 'fold_idx', 'accuracy'])\n",
    "\n",
    "import seaborn as sns\n",
    "\n",
    "sns.boxplot(x='model_name', y='accuracy', data=cv_df)\n",
    "sns.stripplot(x='model_name', y='accuracy', data=cv_df, \n",
    "              size=8, jitter=True, edgecolor=\"gray\", linewidth=2)\n",
    "plt.show()"
   ]
  },
  {
   "cell_type": "code",
   "execution_count": 14,
   "metadata": {},
   "outputs": [
    {
     "data": {
      "text/plain": [
       "model_name\n",
       "LinearSVC                 0.479167\n",
       "LogisticRegression        0.354167\n",
       "MultinomialNB             0.354167\n",
       "RandomForestClassifier    0.354167\n",
       "Name: accuracy, dtype: float64"
      ]
     },
     "execution_count": 14,
     "metadata": {},
     "output_type": "execute_result"
    }
   ],
   "source": [
    "cv_df.groupby('model_name').accuracy.mean()"
   ]
  },
  {
   "cell_type": "markdown",
   "metadata": {},
   "source": [
    "LinearSVC scheint hier am besten abzuschliessen."
   ]
  },
  {
   "cell_type": "code",
   "execution_count": 15,
   "metadata": {},
   "outputs": [
    {
     "data": {
      "image/png": "[encoded data removed]",
      "text/plain": [
       "<Figure size 360x360 with 2 Axes>"
      ]
     },
     "metadata": {
      "needs_background": "light"
     },
     "output_type": "display_data"
    }
   ],
   "source": [
    "model = LinearSVC()\n",
    "\n",
    "X_train, X_test, y_train, y_test, indices_train, indices_test = train_test_split(features, labels, corpus_df.index, test_size=0.33, random_state=0)\n",
    "model.fit(X_train, y_train)\n",
    "y_pred = model.predict(X_test)\n",
    "\n",
    "from sklearn.metrics import confusion_matrix\n",
    "\n",
    "conf_mat = confusion_matrix(y_test, y_pred)\n",
    "fig, ax = plt.subplots(figsize=(5,5))\n",
    "sns.heatmap(conf_mat, annot=True, fmt='d',\n",
    "            xticklabels=category_id_df.Category.values, yticklabels=category_id_df.Category.values)\n",
    "plt.ylabel('Actual')\n",
    "plt.xlabel('Predicted')\n",
    "plt.show()"
   ]
  },
  {
   "cell_type": "markdown",
   "metadata": {},
   "source": [
    "Dies sieht nicht gut aus. Die diagonale sollte gefüllt sein und payment ist total leer..."
   ]
  },
  {
   "cell_type": "code",
   "execution_count": 16,
   "metadata": {},
   "outputs": [
    {
     "data": {
      "image/png": "[encoded data removed]",
      "text/plain": [
       "<Figure size 360x360 with 2 Axes>"
      ]
     },
     "metadata": {
      "needs_background": "light"
     },
     "output_type": "display_data"
    }
   ],
   "source": [
    "model = LinearSVC()\n",
    "\n",
    "X_train, X_test, y_train, y_test, indices_train, indices_test = train_test_split(features, labels, corpus_df.index, test_size=0.55, random_state=0)\n",
    "model.fit(X_train, y_train)\n",
    "y_pred = model.predict(X_test)\n",
    "\n",
    "from sklearn.metrics import confusion_matrix\n",
    "\n",
    "conf_mat = confusion_matrix(y_test, y_pred)\n",
    "fig, ax = plt.subplots(figsize=(5,5))\n",
    "sns.heatmap(conf_mat, annot=True, fmt='d',\n",
    "            xticklabels=category_id_df.Category.values, yticklabels=category_id_df.Category.values)\n",
    "plt.ylabel('Actual')\n",
    "plt.xlabel('Predicted')\n",
    "plt.show()"
   ]
  },
  {
   "cell_type": "markdown",
   "metadata": {},
   "source": [
    "Mit einer Testsize von 0.55 sind immerhin alle Felder vorhanden. Die diagonale ist aber immernoch nicht vollständig gefüllt."
   ]
  },
  {
   "cell_type": "code",
   "execution_count": 17,
   "metadata": {},
   "outputs": [
    {
     "name": "stdout",
     "output_type": "stream",
     "text": [
      "8       login\n",
      "6       login\n",
      "4     license\n",
      "11    payment\n",
      "2     grammar\n",
      "13    payment\n",
      "9     payment\n",
      "1         bug\n",
      "Name: Category, dtype: object\n",
      "8       login\n",
      "6       login\n",
      "4     license\n",
      "11    payment\n",
      "2     grammar\n",
      "13    payment\n",
      "9     payment\n",
      "1         bug\n",
      "Name: Category, dtype: object\n",
      "8       login\n",
      "6       login\n",
      "4     license\n",
      "11    payment\n",
      "2     grammar\n",
      "13    payment\n",
      "9     payment\n",
      "1         bug\n",
      "Name: Category, dtype: object\n",
      "8       login\n",
      "6       login\n",
      "4     license\n",
      "11    payment\n",
      "2     grammar\n",
      "13    payment\n",
      "9     payment\n",
      "1         bug\n",
      "Name: Category, dtype: object\n",
      "8       login\n",
      "6       login\n",
      "4     license\n",
      "11    payment\n",
      "2     grammar\n",
      "13    payment\n",
      "9     payment\n",
      "1         bug\n",
      "Name: Category, dtype: object\n",
      "8       login\n",
      "6       login\n",
      "4     license\n",
      "11    payment\n",
      "2     grammar\n",
      "13    payment\n",
      "9     payment\n",
      "1         bug\n",
      "Name: Category, dtype: object\n",
      "8       login\n",
      "6       login\n",
      "4     license\n",
      "11    payment\n",
      "2     grammar\n",
      "13    payment\n",
      "9     payment\n",
      "1         bug\n",
      "Name: Category, dtype: object\n",
      "8       login\n",
      "6       login\n",
      "4     license\n",
      "11    payment\n",
      "2     grammar\n",
      "13    payment\n",
      "9     payment\n",
      "1         bug\n",
      "Name: Category, dtype: object\n",
      "8       login\n",
      "6       login\n",
      "4     license\n",
      "11    payment\n",
      "2     grammar\n",
      "13    payment\n",
      "9     payment\n",
      "1         bug\n",
      "Name: Category, dtype: object\n",
      "8       login\n",
      "6       login\n",
      "4     license\n",
      "11    payment\n",
      "2     grammar\n",
      "13    payment\n",
      "9     payment\n",
      "1         bug\n",
      "Name: Category, dtype: object\n",
      "8       login\n",
      "6       login\n",
      "4     license\n",
      "11    payment\n",
      "2     grammar\n",
      "13    payment\n",
      "9     payment\n",
      "1         bug\n",
      "Name: Category, dtype: object\n",
      "8       login\n",
      "6       login\n",
      "4     license\n",
      "11    payment\n",
      "2     grammar\n",
      "13    payment\n",
      "9     payment\n",
      "1         bug\n",
      "Name: Category, dtype: object\n",
      "8       login\n",
      "6       login\n",
      "4     license\n",
      "11    payment\n",
      "2     grammar\n",
      "13    payment\n",
      "9     payment\n",
      "1         bug\n",
      "Name: Category, dtype: object\n",
      "8       login\n",
      "6       login\n",
      "4     license\n",
      "11    payment\n",
      "2     grammar\n",
      "13    payment\n",
      "9     payment\n",
      "1         bug\n",
      "Name: Category, dtype: object\n",
      "8       login\n",
      "6       login\n",
      "4     license\n",
      "11    payment\n",
      "2     grammar\n",
      "13    payment\n",
      "9     payment\n",
      "1         bug\n",
      "Name: Category, dtype: object\n",
      "8       login\n",
      "6       login\n",
      "4     license\n",
      "11    payment\n",
      "2     grammar\n",
      "13    payment\n",
      "9     payment\n",
      "1         bug\n",
      "Name: Category, dtype: object\n",
      "8       login\n",
      "6       login\n",
      "4     license\n",
      "11    payment\n",
      "2     grammar\n",
      "13    payment\n",
      "9     payment\n",
      "1         bug\n",
      "Name: Category, dtype: object\n",
      "8       login\n",
      "6       login\n",
      "4     license\n",
      "11    payment\n",
      "2     grammar\n",
      "13    payment\n",
      "9     payment\n",
      "1         bug\n",
      "Name: Category, dtype: object\n",
      "8       login\n",
      "6       login\n",
      "4     license\n",
      "11    payment\n",
      "2     grammar\n",
      "13    payment\n",
      "9     payment\n",
      "1         bug\n",
      "Name: Category, dtype: object\n",
      "8       login\n",
      "6       login\n",
      "4     license\n",
      "11    payment\n",
      "2     grammar\n",
      "13    payment\n",
      "9     payment\n",
      "1         bug\n",
      "Name: Category, dtype: object\n"
     ]
    }
   ],
   "source": [
    "from IPython.display import display\n",
    "\n",
    "for predicted in category_id_df.Cat_Id:\n",
    "    for actual in category_id_df.Cat_Id:\n",
    "        if predicted != actual and conf_mat[actual, predicted] >= 0:\n",
    "            # print(\"'{}' predicted as '{}' : {} examples.\".format(id_to_category[actual], id_to_category[predicted], conf_mat[actual, predicted]))\n",
    "            # display(corpus_df.loc[0][['Category', 'Document']])\n",
    "            #print('')\n",
    "            \n",
    "            print(y_test)"
   ]
  },
  {
   "cell_type": "code",
   "execution_count": null,
   "metadata": {},
   "outputs": [],
   "source": []
  }
 ],
 "metadata": {
  "kernelspec": {
   "display_name": "Python 3",
   "language": "python",
   "name": "python3"
  },
  "language_info": {
   "codemirror_mode": {
    "name": "ipython",
    "version": 3
   },
   "file_extension": ".py",
   "mimetype": "text/x-python",
   "name": "python",
   "nbconvert_exporter": "python",
   "pygments_lexer": "ipython3",
   "version": "3.6.7"
  }
 },
 "nbformat": 4,
 "nbformat_minor": 2
}
