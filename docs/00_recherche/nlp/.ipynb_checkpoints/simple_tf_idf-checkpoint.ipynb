{
 "cells": [
  {
   "cell_type": "markdown",
   "metadata": {},
   "source": [
    "### TF-IDF"
   ]
  },
  {
   "cell_type": "code",
   "execution_count": 59,
   "metadata": {},
   "outputs": [
    {
     "name": "stdout",
     "output_type": "stream",
     "text": [
      "                     doc 0\n",
      "computer problem  0.534522\n",
      "da ich            0.267261\n",
      "ein computer      0.534522\n",
      "habe ein          0.267261\n",
      "ich ein           0.267261\n",
      "ich habe          0.267261\n",
      "problem da        0.267261\n",
      "problem habe      0.267261\n"
     ]
    }
   ],
   "source": [
    "import numpy as np\n",
    "import pandas as pd\n",
    "import string\n",
    "\n",
    "from sklearn.feature_extraction.text import TfidfVectorizer\n",
    "\n",
    "text = [\n",
    "    'Ich habe ein Computer Problem da ich ein Computer Problem habe.'\n",
    "]\n",
    "\n",
    "# lower case and cleaning\n",
    "text = [t.lower() for t in text]\n",
    "corpus = re.sub(r'[^a-zA-Z0-9\\s]', ' ', ''.join(text))\n",
    "\n",
    "# token generation\n",
    "tokens = list(set([token for token in corpus.split(' ') if token != '']))\n",
    "\n",
    "# TF-IDF\n",
    "doc_names = ['doc {}'.format(i) for i in range(len(text))]\n",
    "\n",
    "vect = TfidfVectorizer(ngram_range=(2, 2))\n",
    "tfidf = vect.fit_transform(text).toarray()\n",
    "print(pd.DataFrame(tfidf, columns=vect.get_feature_names(), index=doc_names).T)"
   ]
  },
  {
   "cell_type": "code",
   "execution_count": null,
   "metadata": {},
   "outputs": [],
   "source": []
  }
 ],
 "metadata": {
  "kernelspec": {
   "display_name": "Python 3",
   "language": "python",
   "name": "python3"
  },
  "language_info": {
   "codemirror_mode": {
    "name": "ipython",
    "version": 3
   },
   "file_extension": ".py",
   "mimetype": "text/x-python",
   "name": "python",
   "nbconvert_exporter": "python",
   "pygments_lexer": "ipython3",
   "version": "3.6.7"
  }
 },
 "nbformat": 4,
 "nbformat_minor": 2
}
