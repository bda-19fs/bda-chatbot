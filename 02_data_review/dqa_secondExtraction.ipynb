{
 "cells": [
  {
   "cell_type": "markdown",
   "metadata": {},
   "source": [
    "# Analyze der extract Daten"
   ]
  },
  {
   "cell_type": "code",
   "execution_count": 17,
   "metadata": {},
   "outputs": [
    {
     "data": {
      "text/html": [
       "<div>\n",
       "<style scoped>\n",
       "    .dataframe tbody tr th:only-of-type {\n",
       "        vertical-align: middle;\n",
       "    }\n",
       "\n",
       "    .dataframe tbody tr th {\n",
       "        vertical-align: top;\n",
       "    }\n",
       "\n",
       "    .dataframe thead th {\n",
       "        text-align: right;\n",
       "    }\n",
       "</style>\n",
       "<table border=\"1\" class=\"dataframe\">\n",
       "  <thead>\n",
       "    <tr style=\"text-align: right;\">\n",
       "      <th></th>\n",
       "      <th>ticket</th>\n",
       "      <th>customer</th>\n",
       "      <th>complaint</th>\n",
       "      <th>state</th>\n",
       "      <th>answer</th>\n",
       "    </tr>\n",
       "  </thead>\n",
       "  <tbody>\n",
       "    <tr>\n",
       "      <th>0</th>\n",
       "      <td>Fehler in der App</td>\n",
       "      <td>Swissmem</td>\n",
       "      <td>Normenauszug 2018, Rechenbuch Metall, Tabellenbuchs Metall, Fechkundebuch Metall, MachineWorld, Topdesign, Automation Control, Konstrukteur 1, Konstrukteur 2 und Konstrukteur 3 funktionieren nicht...</td>\n",
       "      <td>closed successful</td>\n",
       "      <td>Mac: Access Denied -&gt; Cookies, Virenscanner</td>\n",
       "    </tr>\n",
       "    <tr>\n",
       "      <th>1</th>\n",
       "      <td>Fehler in der App</td>\n",
       "      <td>SVBA</td>\n",
       "      <td>Ich kann die Bilder nicht mehr öffnen um mit dem Editorprogramm diese zu bearbeiten.</td>\n",
       "      <td>closed successful</td>\n",
       "      <td>Coupon einlösen, Produkte nicht vorhanden</td>\n",
       "    </tr>\n",
       "    <tr>\n",
       "      <th>2</th>\n",
       "      <td>Fehler in der App</td>\n",
       "      <td>hep</td>\n",
       "      <td>Leider fehlen mir paar Kapitel im Lehrmittel (LM-A, D). Eins davon brauche ich jetzt in der Schule (Heizungs- und Lüftungsanlagen)Ich habe die App mehrfach gelöscht und neu installiert, funktionie...</td>\n",
       "      <td>closed successful</td>\n",
       "      <td>Mac: Access Denied -&gt; Cookies, Virenscanner</td>\n",
       "    </tr>\n",
       "    <tr>\n",
       "      <th>3</th>\n",
       "      <td>Anmeldung / Aktivierung</td>\n",
       "      <td>AGVS</td>\n",
       "      <td>Ich kann im FK z.b. die Seite 605 nicht lesen weil da steht, Alle Seiten des Auszugs sind genutzt.</td>\n",
       "      <td>closed successful</td>\n",
       "      <td>Linux</td>\n",
       "    </tr>\n",
       "    <tr>\n",
       "      <th>4</th>\n",
       "      <td>Anmeldung / Aktivierung</td>\n",
       "      <td>SVBA</td>\n",
       "      <td>Ich kann das Kapitel Technisches Englisch nicht herunterladen es Steht immer unvollständige Installation</td>\n",
       "      <td>closed successful</td>\n",
       "      <td>Coupon einlösen, Produkte nicht vorhanden</td>\n",
       "    </tr>\n",
       "  </tbody>\n",
       "</table>\n",
       "</div>"
      ],
      "text/plain": [
       "                    ticket  customer  \\\n",
       "0        Fehler in der App  Swissmem   \n",
       "1        Fehler in der App      SVBA   \n",
       "2        Fehler in der App       hep   \n",
       "3  Anmeldung / Aktivierung      AGVS   \n",
       "4  Anmeldung / Aktivierung      SVBA   \n",
       "\n",
       "                                                                                                                                                                                                 complaint  \\\n",
       "0  Normenauszug 2018, Rechenbuch Metall, Tabellenbuchs Metall, Fechkundebuch Metall, MachineWorld, Topdesign, Automation Control, Konstrukteur 1, Konstrukteur 2 und Konstrukteur 3 funktionieren nicht...   \n",
       "1                                                                                                                     Ich kann die Bilder nicht mehr öffnen um mit dem Editorprogramm diese zu bearbeiten.   \n",
       "2  Leider fehlen mir paar Kapitel im Lehrmittel (LM-A, D). Eins davon brauche ich jetzt in der Schule (Heizungs- und Lüftungsanlagen)Ich habe die App mehrfach gelöscht und neu installiert, funktionie...   \n",
       "3                                                                                                       Ich kann im FK z.b. die Seite 605 nicht lesen weil da steht, Alle Seiten des Auszugs sind genutzt.   \n",
       "4                                                                                                 Ich kann das Kapitel Technisches Englisch nicht herunterladen es Steht immer unvollständige Installation   \n",
       "\n",
       "               state                                       answer  \n",
       "0  closed successful  Mac: Access Denied -> Cookies, Virenscanner  \n",
       "1  closed successful    Coupon einlösen, Produkte nicht vorhanden  \n",
       "2  closed successful  Mac: Access Denied -> Cookies, Virenscanner  \n",
       "3  closed successful                                        Linux  \n",
       "4  closed successful    Coupon einlösen, Produkte nicht vorhanden  "
      ]
     },
     "execution_count": 17,
     "metadata": {},
     "output_type": "execute_result"
    }
   ],
   "source": [
    "import pandas as pd\n",
    "\n",
    "extract = '../01_data/chatbot_extract-1.csv'\n",
    "names=['ticket', 'customer', 'complaint', 'state', 'answer']\n",
    "\n",
    "corpus = pd.read_csv(extract, encoding='utf-8', names=names, skiprows=[0], usecols=[1, 2, 4, 5, 6])\n",
    "\n",
    "# fix None value\n",
    "corpus.complaint[67] = ''\n",
    "corpus.head()"
   ]
  },
  {
   "cell_type": "markdown",
   "metadata": {},
   "source": [
    "### Verteilung\n",
    "Die extract Daten sind nicht ausgewogen verteilt."
   ]
  },
  {
   "cell_type": "code",
   "execution_count": 18,
   "metadata": {},
   "outputs": [
    {
     "data": {
      "image/png": "[encoded data removed]",
      "text/plain": [
       "<Figure size 576x576 with 1 Axes>"
      ]
     },
     "metadata": {
      "needs_background": "light"
     },
     "output_type": "display_data"
    }
   ],
   "source": [
    "import matplotlib.pyplot as plt\n",
    "pd.options.display.max_colwidth = 200\n",
    "%matplotlib inline\n",
    "\n",
    "fig = plt.figure(figsize=(8, 8))\n",
    "corpus.groupby('answer').complaint.count().plot.bar(ylim=0)\n",
    "plt.show()"
   ]
  },
  {
   "cell_type": "markdown",
   "metadata": {},
   "source": [
    "### Text pre-processing\n",
    "Ab Zeile 60 gibt es irgendwo ein Problem mit dem Datentyp. Später anschauen."
   ]
  },
  {
   "cell_type": "code",
   "execution_count": 19,
   "metadata": {},
   "outputs": [],
   "source": [
    "import re\n",
    "import nltk\n",
    "import numpy as np\n",
    "\n",
    "wpt = nltk.WordPunctTokenizer()\n",
    "stop_words = nltk.corpus.stopwords.words('german')\n",
    "\n",
    "def normalize_document(doc):\n",
    "    # lower case and remove special characters \\ whitespaces\n",
    "    doc = re.sub(r'[^\\u00C0-\\u017Fa-zA-Z\\s]', '', doc, re.I | re.A)\n",
    "    doc = doc.lower()\n",
    "    doc = doc.strip()\n",
    "    \n",
    "    # tokenize document\n",
    "    tokens = wpt.tokenize(doc)\n",
    "    \n",
    "    # filter stopwords out of document\n",
    "    filtered_tokens = [token for token in tokens if token not in stop_words]\n",
    "    \n",
    "    # re-create document from filtered tokens\n",
    "    doc = ' '.join(filtered_tokens)\n",
    "    \n",
    "    return doc\n",
    "\n",
    "normalize_corpus = np.vectorize(normalize_document)"
   ]
  },
  {
   "cell_type": "code",
   "execution_count": 21,
   "metadata": {},
   "outputs": [
    {
     "data": {
      "text/html": [
       "<div>\n",
       "<style scoped>\n",
       "    .dataframe tbody tr th:only-of-type {\n",
       "        vertical-align: middle;\n",
       "    }\n",
       "\n",
       "    .dataframe tbody tr th {\n",
       "        vertical-align: top;\n",
       "    }\n",
       "\n",
       "    .dataframe thead th {\n",
       "        text-align: right;\n",
       "    }\n",
       "</style>\n",
       "<table border=\"1\" class=\"dataframe\">\n",
       "  <thead>\n",
       "    <tr style=\"text-align: right;\">\n",
       "      <th></th>\n",
       "      <th>ticket</th>\n",
       "      <th>customer</th>\n",
       "      <th>complaint</th>\n",
       "      <th>state</th>\n",
       "      <th>answer</th>\n",
       "    </tr>\n",
       "  </thead>\n",
       "  <tbody>\n",
       "    <tr>\n",
       "      <th>0</th>\n",
       "      <td>Fehler in der App</td>\n",
       "      <td>Swissmem</td>\n",
       "      <td>normenauszug rechenbuch metall tabellenbuchs metall fechkundebuch metall machineworld topdesign automation control konstrukteur konstrukteur konstrukteur funktionieren mehr kommt meldung mehr seit...</td>\n",
       "      <td>closed successful</td>\n",
       "      <td>Mac: Access Denied -&gt; Cookies, Virenscanner</td>\n",
       "    </tr>\n",
       "    <tr>\n",
       "      <th>1</th>\n",
       "      <td>Fehler in der App</td>\n",
       "      <td>SVBA</td>\n",
       "      <td>bilder mehr öffnen editorprogramm bearbeiten</td>\n",
       "      <td>closed successful</td>\n",
       "      <td>Coupon einlösen, Produkte nicht vorhanden</td>\n",
       "    </tr>\n",
       "    <tr>\n",
       "      <th>2</th>\n",
       "      <td>Fehler in der App</td>\n",
       "      <td>hep</td>\n",
       "      <td>leider fehlen paar kapitel lehrmittel lma d eins davon brauche schule heizungs lüftungsanlagenich app mehrfach gelöscht neu installiert funktioniert trotzdem computer schon heruntergefahren bitte ...</td>\n",
       "      <td>closed successful</td>\n",
       "      <td>Mac: Access Denied -&gt; Cookies, Virenscanner</td>\n",
       "    </tr>\n",
       "    <tr>\n",
       "      <th>3</th>\n",
       "      <td>Anmeldung / Aktivierung</td>\n",
       "      <td>AGVS</td>\n",
       "      <td>fk zb seite lesen steht seiten auszugs genutzt</td>\n",
       "      <td>closed successful</td>\n",
       "      <td>Linux</td>\n",
       "    </tr>\n",
       "    <tr>\n",
       "      <th>4</th>\n",
       "      <td>Anmeldung / Aktivierung</td>\n",
       "      <td>SVBA</td>\n",
       "      <td>kapitel technisches englisch herunterladen steht immer unvollständige installation</td>\n",
       "      <td>closed successful</td>\n",
       "      <td>Coupon einlösen, Produkte nicht vorhanden</td>\n",
       "    </tr>\n",
       "  </tbody>\n",
       "</table>\n",
       "</div>"
      ],
      "text/plain": [
       "                    ticket  customer  \\\n",
       "0        Fehler in der App  Swissmem   \n",
       "1        Fehler in der App      SVBA   \n",
       "2        Fehler in der App       hep   \n",
       "3  Anmeldung / Aktivierung      AGVS   \n",
       "4  Anmeldung / Aktivierung      SVBA   \n",
       "\n",
       "                                                                                                                                                                                                 complaint  \\\n",
       "0  normenauszug rechenbuch metall tabellenbuchs metall fechkundebuch metall machineworld topdesign automation control konstrukteur konstrukteur konstrukteur funktionieren mehr kommt meldung mehr seit...   \n",
       "1                                                                                                                                                             bilder mehr öffnen editorprogramm bearbeiten   \n",
       "2  leider fehlen paar kapitel lehrmittel lma d eins davon brauche schule heizungs lüftungsanlagenich app mehrfach gelöscht neu installiert funktioniert trotzdem computer schon heruntergefahren bitte ...   \n",
       "3                                                                                                                                                           fk zb seite lesen steht seiten auszugs genutzt   \n",
       "4                                                                                                                       kapitel technisches englisch herunterladen steht immer unvollständige installation   \n",
       "\n",
       "               state                                       answer  \n",
       "0  closed successful  Mac: Access Denied -> Cookies, Virenscanner  \n",
       "1  closed successful    Coupon einlösen, Produkte nicht vorhanden  \n",
       "2  closed successful  Mac: Access Denied -> Cookies, Virenscanner  \n",
       "3  closed successful                                        Linux  \n",
       "4  closed successful    Coupon einlösen, Produkte nicht vorhanden  "
      ]
     },
     "execution_count": 21,
     "metadata": {},
     "output_type": "execute_result"
    }
   ],
   "source": [
    "corpus.complaint = normalize_corpus(list(corpus.complaint.array))\n",
    "corpus.head()"
   ]
  },
  {
   "cell_type": "markdown",
   "metadata": {},
   "source": [
    "### Text repräsentation\n",
    "Hier ist zu sehen wi 81 Support Anfragen durch 26 features repräsentiert werden. Schöner wäre -> 81 Support Anfragen durch 240 features zu repräsentieren."
   ]
  },
  {
   "cell_type": "code",
   "execution_count": 29,
   "metadata": {},
   "outputs": [
    {
     "data": {
      "text/plain": [
       "(81, 26)"
      ]
     },
     "execution_count": 29,
     "metadata": {},
     "output_type": "execute_result"
    }
   ],
   "source": [
    "from sklearn.feature_extraction.text import TfidfVectorizer\n",
    "\n",
    "stop_words=['zb']\n",
    "tfidf = TfidfVectorizer(sublinear_tf=True, min_df=5, norm='l2', encoding='utf-8', ngram_range=(1, 2), stop_words=stop_words)\n",
    "\n",
    "features = tfidf.fit_transform(corpus.complaint).toarray()\n",
    "labels = corpus.answer\n",
    "features.shape"
   ]
  },
  {
   "cell_type": "code",
   "execution_count": 37,
   "metadata": {},
   "outputs": [
    {
     "data": {
      "text/html": [
       "<div>\n",
       "<style scoped>\n",
       "    .dataframe tbody tr th:only-of-type {\n",
       "        vertical-align: middle;\n",
       "    }\n",
       "\n",
       "    .dataframe tbody tr th {\n",
       "        vertical-align: top;\n",
       "    }\n",
       "\n",
       "    .dataframe thead th {\n",
       "        text-align: right;\n",
       "    }\n",
       "</style>\n",
       "<table border=\"1\" class=\"dataframe\">\n",
       "  <thead>\n",
       "    <tr style=\"text-align: right;\">\n",
       "      <th></th>\n",
       "      <th>answer</th>\n",
       "      <th>answer_id</th>\n",
       "    </tr>\n",
       "  </thead>\n",
       "  <tbody>\n",
       "    <tr>\n",
       "      <th>0</th>\n",
       "      <td>Mac: Access Denied -&gt; Cookies, Virenscanner</td>\n",
       "      <td>0</td>\n",
       "    </tr>\n",
       "    <tr>\n",
       "      <th>1</th>\n",
       "      <td>Coupon einlösen, Produkte nicht vorhanden</td>\n",
       "      <td>1</td>\n",
       "    </tr>\n",
       "    <tr>\n",
       "      <th>3</th>\n",
       "      <td>Linux</td>\n",
       "      <td>2</td>\n",
       "    </tr>\n",
       "    <tr>\n",
       "      <th>28</th>\n",
       "      <td>Anmeldung - Hinweise für Aktivierung</td>\n",
       "      <td>3</td>\n",
       "    </tr>\n",
       "    <tr>\n",
       "      <th>40</th>\n",
       "      <td>Abmelden, neu anmelden</td>\n",
       "      <td>4</td>\n",
       "    </tr>\n",
       "    <tr>\n",
       "      <th>64</th>\n",
       "      <td>Floating Lizenz, Geräte entfernt, Konfiguration</td>\n",
       "      <td>5</td>\n",
       "    </tr>\n",
       "  </tbody>\n",
       "</table>\n",
       "</div>"
      ],
      "text/plain": [
       "                                             answer  answer_id\n",
       "0       Mac: Access Denied -> Cookies, Virenscanner          0\n",
       "1         Coupon einlösen, Produkte nicht vorhanden          1\n",
       "3                                             Linux          2\n",
       "28             Anmeldung - Hinweise für Aktivierung          3\n",
       "40                           Abmelden, neu anmelden          4\n",
       "64  Floating Lizenz, Geräte entfernt, Konfiguration          5"
      ]
     },
     "execution_count": 37,
     "metadata": {},
     "output_type": "execute_result"
    }
   ],
   "source": [
    "corpus['answer_id'] = corpus['answer'].factorize()[0]\n",
    "answer_id_df = corpus[['answer', 'answer_id']].drop_duplicates().sort_values('answer_id')\n",
    "answer_to_id = dict(answer_id_df.values)\n",
    "id_to_answer = dict(answer_id_df[['answer_id', 'answer']].values)\n",
    "\n",
    "answer_id_df"
   ]
  },
  {
   "cell_type": "markdown",
   "metadata": {},
   "source": [
    "### naive bayes"
   ]
  },
  {
   "cell_type": "code",
   "execution_count": 53,
   "metadata": {},
   "outputs": [],
   "source": [
    "from sklearn.model_selection import train_test_split\n",
    "from sklearn.feature_extraction.text import CountVectorizer\n",
    "from sklearn.feature_extraction.text import TfidfTransformer\n",
    "from sklearn.naive_bayes import MultinomialNB\n",
    "\n",
    "X_train, X_test, y_train, y_test = train_test_split(corpus['complaint'], corpus['answer'], random_state = 0)\n",
    "\n",
    "count_vect = CountVectorizer()\n",
    "\n",
    "X_train_counts = count_vect.fit_transform(X_train)\n",
    "tfidf_transformer = TfidfTransformer()\n",
    "\n",
    "X_train_tfidf = tfidf_transformer.fit_transform(X_train_counts)\n",
    "clf = MultinomialNB().fit(X_train_tfidf, y_train)"
   ]
  },
  {
   "cell_type": "code",
   "execution_count": 45,
   "metadata": {},
   "outputs": [
    {
     "name": "stdout",
     "output_type": "stream",
     "text": [
      "['Coupon einlösen, Produkte nicht vorhanden']\n"
     ]
    }
   ],
   "source": [
    "print(clf.predict(count_vect.transform(\n",
    "    ['''\n",
    "        Ich kann die Dateien nicht mehr öffnen um mit dem Editorprogramm diese zu bearbeiten.\n",
    "    ''']\n",
    ")))"
   ]
  },
  {
   "cell_type": "code",
   "execution_count": 46,
   "metadata": {},
   "outputs": [
    {
     "name": "stdout",
     "output_type": "stream",
     "text": [
      "['Coupon einlösen, Produkte nicht vorhanden']\n"
     ]
    }
   ],
   "source": [
    "print(clf.predict(count_vect.transform(\n",
    "    ['''\n",
    "        Ich kann im FK z.b. die Seite 605 nicht lesen weil da steht, Alle Seiten des Auszugs sind genutzt.\n",
    "    ''']\n",
    ")))"
   ]
  },
  {
   "cell_type": "markdown",
   "metadata": {},
   "source": [
    "### Model evaluation"
   ]
  },
  {
   "cell_type": "code",
   "execution_count": 54,
   "metadata": {},
   "outputs": [
    {
     "name": "stderr",
     "output_type": "stream",
     "text": [
      "c:\\users\\alkazua\\appdata\\local\\programs\\python\\python36\\lib\\site-packages\\sklearn\\model_selection\\_split.py:652: Warning: The least populated class in y has only 1 members, which is too few. The minimum number of members in any class cannot be less than n_splits=5.\n",
      "  % (min_groups, self.n_splits)), Warning)\n",
      "c:\\users\\alkazua\\appdata\\local\\programs\\python\\python36\\lib\\site-packages\\sklearn\\model_selection\\_split.py:652: Warning: The least populated class in y has only 1 members, which is too few. The minimum number of members in any class cannot be less than n_splits=5.\n",
      "  % (min_groups, self.n_splits)), Warning)\n",
      "c:\\users\\alkazua\\appdata\\local\\programs\\python\\python36\\lib\\site-packages\\sklearn\\model_selection\\_split.py:652: Warning: The least populated class in y has only 1 members, which is too few. The minimum number of members in any class cannot be less than n_splits=5.\n",
      "  % (min_groups, self.n_splits)), Warning)\n",
      "c:\\users\\alkazua\\appdata\\local\\programs\\python\\python36\\lib\\site-packages\\sklearn\\model_selection\\_split.py:652: Warning: The least populated class in y has only 1 members, which is too few. The minimum number of members in any class cannot be less than n_splits=5.\n",
      "  % (min_groups, self.n_splits)), Warning)\n",
      "c:\\users\\alkazua\\appdata\\local\\programs\\python\\python36\\lib\\site-packages\\sklearn\\linear_model\\logistic.py:433: FutureWarning: Default solver will be changed to 'lbfgs' in 0.22. Specify a solver to silence this warning.\n",
      "  FutureWarning)\n",
      "c:\\users\\alkazua\\appdata\\local\\programs\\python\\python36\\lib\\site-packages\\sklearn\\linear_model\\logistic.py:460: FutureWarning: Default multi_class will be changed to 'auto' in 0.22. Specify the multi_class option to silence this warning.\n",
      "  \"this warning.\", FutureWarning)\n",
      "c:\\users\\alkazua\\appdata\\local\\programs\\python\\python36\\lib\\site-packages\\sklearn\\linear_model\\logistic.py:433: FutureWarning: Default solver will be changed to 'lbfgs' in 0.22. Specify a solver to silence this warning.\n",
      "  FutureWarning)\n",
      "c:\\users\\alkazua\\appdata\\local\\programs\\python\\python36\\lib\\site-packages\\sklearn\\linear_model\\logistic.py:460: FutureWarning: Default multi_class will be changed to 'auto' in 0.22. Specify the multi_class option to silence this warning.\n",
      "  \"this warning.\", FutureWarning)\n",
      "c:\\users\\alkazua\\appdata\\local\\programs\\python\\python36\\lib\\site-packages\\sklearn\\linear_model\\logistic.py:433: FutureWarning: Default solver will be changed to 'lbfgs' in 0.22. Specify a solver to silence this warning.\n",
      "  FutureWarning)\n",
      "c:\\users\\alkazua\\appdata\\local\\programs\\python\\python36\\lib\\site-packages\\sklearn\\linear_model\\logistic.py:460: FutureWarning: Default multi_class will be changed to 'auto' in 0.22. Specify the multi_class option to silence this warning.\n",
      "  \"this warning.\", FutureWarning)\n",
      "c:\\users\\alkazua\\appdata\\local\\programs\\python\\python36\\lib\\site-packages\\sklearn\\linear_model\\logistic.py:433: FutureWarning: Default solver will be changed to 'lbfgs' in 0.22. Specify a solver to silence this warning.\n",
      "  FutureWarning)\n",
      "c:\\users\\alkazua\\appdata\\local\\programs\\python\\python36\\lib\\site-packages\\sklearn\\linear_model\\logistic.py:460: FutureWarning: Default multi_class will be changed to 'auto' in 0.22. Specify the multi_class option to silence this warning.\n",
      "  \"this warning.\", FutureWarning)\n",
      "c:\\users\\alkazua\\appdata\\local\\programs\\python\\python36\\lib\\site-packages\\sklearn\\linear_model\\logistic.py:433: FutureWarning: Default solver will be changed to 'lbfgs' in 0.22. Specify a solver to silence this warning.\n",
      "  FutureWarning)\n",
      "c:\\users\\alkazua\\appdata\\local\\programs\\python\\python36\\lib\\site-packages\\sklearn\\linear_model\\logistic.py:460: FutureWarning: Default multi_class will be changed to 'auto' in 0.22. Specify the multi_class option to silence this warning.\n",
      "  \"this warning.\", FutureWarning)\n"
     ]
    },
    {
     "data": {
      "image/png": "[encoded data removed]",
      "text/plain": [
       "<Figure size 432x288 with 1 Axes>"
      ]
     },
     "metadata": {
      "needs_background": "light"
     },
     "output_type": "display_data"
    }
   ],
   "source": [
    "from sklearn.linear_model import LogisticRegression\n",
    "from sklearn.ensemble import RandomForestClassifier\n",
    "from sklearn.svm import LinearSVC\n",
    "\n",
    "from sklearn.model_selection import cross_val_score\n",
    "\n",
    "models = [\n",
    "    RandomForestClassifier(n_estimators=200, max_depth=3, random_state=0),\n",
    "    LinearSVC(),\n",
    "    MultinomialNB(),\n",
    "    LogisticRegression(random_state=0),\n",
    "]\n",
    "\n",
    "CV = 5\n",
    "cv_df = pd.DataFrame(index=range(CV * len(models)))\n",
    "entries = []\n",
    "for model in models:\n",
    "    model_name = model.__class__.__name__\n",
    "    accuracies = cross_val_score(model, features, labels, scoring='accuracy', cv=CV)\n",
    "    for fold_idx, accuracy in enumerate(accuracies):\n",
    "        entries.append((model_name, fold_idx, accuracy))\n",
    "cv_df = pd.DataFrame(entries, columns=['model_name', 'fold_idx', 'accuracy'])\n",
    "\n",
    "import seaborn as sns\n",
    "\n",
    "sns.boxplot(x='model_name', y='accuracy', data=cv_df)\n",
    "sns.stripplot(x='model_name', y='accuracy', data=cv_df, \n",
    "              size=8, jitter=True, edgecolor=\"gray\", linewidth=2)\n",
    "plt.show()"
   ]
  },
  {
   "cell_type": "code",
   "execution_count": 55,
   "metadata": {},
   "outputs": [
    {
     "data": {
      "text/plain": [
       "model_name\n",
       "LinearSVC                 0.489792\n",
       "LogisticRegression        0.391087\n",
       "MultinomialNB             0.391087\n",
       "RandomForestClassifier    0.471196\n",
       "Name: accuracy, dtype: float64"
      ]
     },
     "execution_count": 55,
     "metadata": {},
     "output_type": "execute_result"
    }
   ],
   "source": [
    "cv_df.groupby('model_name').accuracy.mean()"
   ]
  },
  {
   "cell_type": "code",
   "execution_count": 61,
   "metadata": {},
   "outputs": [
    {
     "data": {
      "image/png": "[encoded data removed]",
      "text/plain": [
       "<Figure size 360x360 with 2 Axes>"
      ]
     },
     "metadata": {
      "needs_background": "light"
     },
     "output_type": "display_data"
    }
   ],
   "source": [
    "model = LinearSVC()\n",
    "\n",
    "X_train, X_test, y_train, y_test, indices_train, indices_test = train_test_split(features, labels, corpus.index, test_size=0.45, random_state=0)\n",
    "model.fit(X_train, y_train)\n",
    "y_pred = model.predict(X_test)\n",
    "\n",
    "from sklearn.metrics import confusion_matrix\n",
    "\n",
    "conf_mat = confusion_matrix(y_test, y_pred)\n",
    "fig, ax = plt.subplots(figsize=(5, 5))\n",
    "sns.heatmap(conf_mat, annot=True, fmt='d',\n",
    "            xticklabels=answer_id_df.answer.values, yticklabels=answer_id_df.answer.values)\n",
    "plt.ylabel('Actual')\n",
    "plt.xlabel('Predicted')\n",
    "plt.show()"
   ]
  },
  {
   "cell_type": "code",
   "execution_count": 66,
   "metadata": {},
   "outputs": [
    {
     "name": "stdout",
     "output_type": "stream",
     "text": [
      "'Floating Lizenz, Geräte entfernt, Konfiguration' predicted as 'Coupon einlösen, Produkte nicht vorhanden' : 2 examples.\n",
      "\n",
      "'Mac: Access Denied -> Cookies, Virenscanner' predicted as 'Linux' : 2 examples.\n",
      "\n",
      "'Coupon einlösen, Produkte nicht vorhanden' predicted as 'Linux' : 2 examples.\n",
      "\n",
      "'Abmelden, neu anmelden' predicted as 'Linux' : 2 examples.\n",
      "\n",
      "'Floating Lizenz, Geräte entfernt, Konfiguration' predicted as 'Linux' : 7 examples.\n",
      "\n",
      "'Coupon einlösen, Produkte nicht vorhanden' predicted as 'Anmeldung - Hinweise für Aktivierung' : 1 examples.\n",
      "\n",
      "'Floating Lizenz, Geräte entfernt, Konfiguration' predicted as 'Anmeldung - Hinweise für Aktivierung' : 1 examples.\n",
      "\n",
      "'Floating Lizenz, Geräte entfernt, Konfiguration' predicted as 'Abmelden, neu anmelden' : 1 examples.\n",
      "\n",
      "'Coupon einlösen, Produkte nicht vorhanden' predicted as 'Floating Lizenz, Geräte entfernt, Konfiguration' : 1 examples.\n",
      "\n",
      "'Linux' predicted as 'Floating Lizenz, Geräte entfernt, Konfiguration' : 2 examples.\n",
      "\n",
      "'Abmelden, neu anmelden' predicted as 'Floating Lizenz, Geräte entfernt, Konfiguration' : 1 examples.\n",
      "\n"
     ]
    }
   ],
   "source": [
    "from IPython.display import display\n",
    "\n",
    "for predicted in answer_id_df.answer_id:\n",
    "    for actual in answer_id_df.answer_id:\n",
    "        if predicted != actual and conf_mat[actual, predicted] >= 1:\n",
    "            print(\"'{}' predicted as '{}' : {} examples.\\n\".format(id_to_answer[actual], id_to_answer[predicted], conf_mat[actual, predicted]))"
   ]
  },
  {
   "cell_type": "code",
   "execution_count": 67,
   "metadata": {},
   "outputs": [
    {
     "name": "stdout",
     "output_type": "stream",
     "text": [
      "                                                 precision    recall  f1-score   support\n",
      "\n",
      "    Mac: Access Denied -> Cookies, Virenscanner       0.00      0.00      0.00         2\n",
      "      Coupon einlösen, Produkte nicht vorhanden       0.67      0.50      0.57         8\n",
      "                                          Linux       0.28      0.71      0.40         7\n",
      "           Anmeldung - Hinweise für Aktivierung       0.00      0.00      0.00         0\n",
      "                         Abmelden, neu anmelden       0.67      0.40      0.50         5\n",
      "Floating Lizenz, Geräte entfernt, Konfiguration       0.50      0.27      0.35        15\n",
      "\n",
      "                                      micro avg       0.41      0.41      0.41        37\n",
      "                                      macro avg       0.35      0.31      0.30        37\n",
      "                                   weighted avg       0.49      0.41      0.41        37\n",
      "\n"
     ]
    },
    {
     "name": "stderr",
     "output_type": "stream",
     "text": [
      "c:\\users\\alkazua\\appdata\\local\\programs\\python\\python36\\lib\\site-packages\\sklearn\\metrics\\classification.py:1143: UndefinedMetricWarning: Precision and F-score are ill-defined and being set to 0.0 in labels with no predicted samples.\n",
      "  'precision', 'predicted', average, warn_for)\n",
      "c:\\users\\alkazua\\appdata\\local\\programs\\python\\python36\\lib\\site-packages\\sklearn\\metrics\\classification.py:1145: UndefinedMetricWarning: Recall and F-score are ill-defined and being set to 0.0 in labels with no true samples.\n",
      "  'recall', 'true', average, warn_for)\n"
     ]
    }
   ],
   "source": [
    "from sklearn import metrics\n",
    "\n",
    "print(metrics.classification_report(y_test, y_pred, target_names=corpus['answer'].unique()))"
   ]
  },
  {
   "cell_type": "code",
   "execution_count": null,
   "metadata": {},
   "outputs": [],
   "source": []
  }
 ],
 "metadata": {
  "kernelspec": {
   "display_name": "Python 3",
   "language": "python",
   "name": "python3"
  },
  "language_info": {
   "codemirror_mode": {
    "name": "ipython",
    "version": 3
   },
   "file_extension": ".py",
   "mimetype": "text/x-python",
   "name": "python",
   "nbconvert_exporter": "python",
   "pygments_lexer": "ipython3",
   "version": "3.6.7"
  }
 },
 "nbformat": 4,
 "nbformat_minor": 2
}
