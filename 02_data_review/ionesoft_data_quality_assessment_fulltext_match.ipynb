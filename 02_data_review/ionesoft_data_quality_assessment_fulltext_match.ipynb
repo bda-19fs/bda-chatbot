{
 "cells": [
  {
   "cell_type": "markdown",
   "metadata": {},
   "source": [
    "# Data Quality Assessment"
   ]
  },
  {
   "cell_type": "code",
   "execution_count": 1,
   "metadata": {},
   "outputs": [],
   "source": [
    "import warnings\n",
    "warnings.filterwarnings('ignore')\n",
    "\n",
    "%config IPCompleter.greedy=True"
   ]
  },
  {
   "cell_type": "code",
   "execution_count": 2,
   "metadata": {},
   "outputs": [
    {
     "data": {
      "text/html": [
       "<div>\n",
       "<style scoped>\n",
       "    .dataframe tbody tr th:only-of-type {\n",
       "        vertical-align: middle;\n",
       "    }\n",
       "\n",
       "    .dataframe tbody tr th {\n",
       "        vertical-align: top;\n",
       "    }\n",
       "\n",
       "    .dataframe thead th {\n",
       "        text-align: right;\n",
       "    }\n",
       "</style>\n",
       "<table border=\"1\" class=\"dataframe\">\n",
       "  <thead>\n",
       "    <tr style=\"text-align: right;\">\n",
       "      <th></th>\n",
       "      <th>ticket</th>\n",
       "      <th>type</th>\n",
       "      <th>client</th>\n",
       "      <th>issuer</th>\n",
       "      <th>inquiry</th>\n",
       "      <th>state</th>\n",
       "      <th>meta</th>\n",
       "    </tr>\n",
       "  </thead>\n",
       "  <tbody>\n",
       "    <tr>\n",
       "      <th>0</th>\n",
       "      <td>2019030563000120</td>\n",
       "      <td>Fehler in der App</td>\n",
       "      <td>SVBA</td>\n",
       "      <td>3</td>\n",
       "      <td>Ich kann die Bilder in übungen nicht Bearbeite...</td>\n",
       "      <td>closed_waiting_for_reply</td>\n",
       "      <td>App: beook 5.5.0 | Model: 4 cores | Platform: ...</td>\n",
       "    </tr>\n",
       "    <tr>\n",
       "      <th>1</th>\n",
       "      <td>2019030563000120</td>\n",
       "      <td>Fehler in der App</td>\n",
       "      <td>SVBA</td>\n",
       "      <td>1</td>\n",
       "      <td>Wir haben Ihre Support-Anfrage erhalten besten...</td>\n",
       "      <td>closed_waiting_for_reply</td>\n",
       "      <td>App: beook 5.5.0 | Model: 4 cores | Platform: ...</td>\n",
       "    </tr>\n",
       "    <tr>\n",
       "      <th>2</th>\n",
       "      <td>2019030563000020</td>\n",
       "      <td>Fehler in der App</td>\n",
       "      <td>SVBA</td>\n",
       "      <td>3</td>\n",
       "      <td>Bei mir erscheinen eingefügte Bilder im Fachre...</td>\n",
       "      <td>closed_waiting_for_reply</td>\n",
       "      <td>App: beook 5.5.0 | Model: 4 cores | Platform: ...</td>\n",
       "    </tr>\n",
       "    <tr>\n",
       "      <th>3</th>\n",
       "      <td>2019030563000020</td>\n",
       "      <td>Fehler in der App</td>\n",
       "      <td>SVBA</td>\n",
       "      <td>1</td>\n",
       "      <td>Damit wir das Problem besser eingrenzen können...</td>\n",
       "      <td>closed_waiting_for_reply</td>\n",
       "      <td>App: beook 5.5.0 | Model: 4 cores | Platform: ...</td>\n",
       "    </tr>\n",
       "    <tr>\n",
       "      <th>4</th>\n",
       "      <td>2019030463000110</td>\n",
       "      <td>Fehler in der App</td>\n",
       "      <td>FOMA</td>\n",
       "      <td>1</td>\n",
       "      <td>Besten Dank für Ihre Support-Anfrage. Wir verm...</td>\n",
       "      <td>closed_waiting_for_reply</td>\n",
       "      <td>App: beook 5.5.0 | Model: 4 cores | Platform: ...</td>\n",
       "    </tr>\n",
       "  </tbody>\n",
       "</table>\n",
       "</div>"
      ],
      "text/plain": [
       "             ticket               type client  issuer  \\\n",
       "0  2019030563000120  Fehler in der App   SVBA       3   \n",
       "1  2019030563000120  Fehler in der App   SVBA       1   \n",
       "2  2019030563000020  Fehler in der App   SVBA       3   \n",
       "3  2019030563000020  Fehler in der App   SVBA       1   \n",
       "4  2019030463000110  Fehler in der App   FOMA       1   \n",
       "\n",
       "                                             inquiry  \\\n",
       "0  Ich kann die Bilder in übungen nicht Bearbeite...   \n",
       "1  Wir haben Ihre Support-Anfrage erhalten besten...   \n",
       "2  Bei mir erscheinen eingefügte Bilder im Fachre...   \n",
       "3  Damit wir das Problem besser eingrenzen können...   \n",
       "4  Besten Dank für Ihre Support-Anfrage. Wir verm...   \n",
       "\n",
       "                      state                                               meta  \n",
       "0  closed_waiting_for_reply  App: beook 5.5.0 | Model: 4 cores | Platform: ...  \n",
       "1  closed_waiting_for_reply  App: beook 5.5.0 | Model: 4 cores | Platform: ...  \n",
       "2  closed_waiting_for_reply  App: beook 5.5.0 | Model: 4 cores | Platform: ...  \n",
       "3  closed_waiting_for_reply  App: beook 5.5.0 | Model: 4 cores | Platform: ...  \n",
       "4  closed_waiting_for_reply  App: beook 5.5.0 | Model: 4 cores | Platform: ...  "
      ]
     },
     "execution_count": 2,
     "metadata": {},
     "output_type": "execute_result"
    }
   ],
   "source": [
    "import pandas as pd\n",
    "\n",
    "extract = '../01_data/extract_final.csv'\n",
    "names=['ticket', 'type', 'client', 'issuer', 'inquiry', 'state', 'meta']\n",
    "\n",
    "corpus = pd.read_csv(extract, sep=',', encoding='ansi', names=names, skiprows=[0])\n",
    "corpus['ticket'] = corpus['ticket'].astype(str)\n",
    "\n",
    "corpus.head()"
   ]
  },
  {
   "cell_type": "markdown",
   "metadata": {},
   "source": [
    "### Umfang der Daten\n",
    "* 5170 Zeilen\n",
    "* 1274 Nullwerte\n",
    "* 115 Duplikate\n",
    "\n",
    "Am Schluss bleiben: 3781 Zeilen"
   ]
  },
  {
   "cell_type": "code",
   "execution_count": 3,
   "metadata": {},
   "outputs": [
    {
     "data": {
      "text/plain": [
       "5170"
      ]
     },
     "execution_count": 3,
     "metadata": {},
     "output_type": "execute_result"
    }
   ],
   "source": [
    "len(corpus)"
   ]
  },
  {
   "cell_type": "markdown",
   "metadata": {},
   "source": [
    "#### Nullwerte"
   ]
  },
  {
   "cell_type": "code",
   "execution_count": 4,
   "metadata": {},
   "outputs": [
    {
     "data": {
      "text/plain": [
       "1274"
      ]
     },
     "execution_count": 4,
     "metadata": {},
     "output_type": "execute_result"
    }
   ],
   "source": [
    "len(corpus[corpus['inquiry'].isnull()])"
   ]
  },
  {
   "cell_type": "code",
   "execution_count": 5,
   "metadata": {},
   "outputs": [
    {
     "data": {
      "text/plain": [
       "3896"
      ]
     },
     "execution_count": 5,
     "metadata": {},
     "output_type": "execute_result"
    }
   ],
   "source": [
    "# corpus.dropna(axis=0, how='any', inplace=True)\n",
    "corpus = corpus[~corpus['inquiry'].isnull()]\n",
    "corpus['inquiry'].count()"
   ]
  },
  {
   "cell_type": "markdown",
   "metadata": {},
   "source": [
    "#### Duplikate und Nullwerte entfernen"
   ]
  },
  {
   "cell_type": "code",
   "execution_count": 6,
   "metadata": {},
   "outputs": [
    {
     "data": {
      "text/plain": [
       "115"
      ]
     },
     "execution_count": 6,
     "metadata": {},
     "output_type": "execute_result"
    }
   ],
   "source": [
    "corpus['inquiry'] = corpus['inquiry'].str.lower()\n",
    "corpus.duplicated(subset='inquiry').sum()"
   ]
  },
  {
   "cell_type": "code",
   "execution_count": 7,
   "metadata": {},
   "outputs": [
    {
     "data": {
      "text/plain": [
       "3781"
      ]
     },
     "execution_count": 7,
     "metadata": {},
     "output_type": "execute_result"
    }
   ],
   "source": [
    "corpus.drop_duplicates(subset='inquiry', keep='last', inplace=True)\n",
    "len(corpus)"
   ]
  },
  {
   "cell_type": "markdown",
   "metadata": {},
   "source": [
    "### Matchen Frage (3) zu Antwort (1) via Ticketnummer\n",
    "Damit dies funktioniert reduzieren wir den Datensatz weiter. Alle Zeilen bei denen die Ticket Nummer nur einmal vorkommt werden gelöscht."
   ]
  },
  {
   "cell_type": "code",
   "execution_count": 8,
   "metadata": {},
   "outputs": [
    {
     "data": {
      "text/plain": [
       "3123"
      ]
     },
     "execution_count": 8,
     "metadata": {},
     "output_type": "execute_result"
    }
   ],
   "source": [
    "corpus = corpus[corpus.duplicated(subset='ticket', keep=False)]\n",
    "len(corpus)"
   ]
  },
  {
   "cell_type": "markdown",
   "metadata": {},
   "source": [
    "3123 ist eine ungerade Zahl. Heisst *n* Tickets kommen mehr als doppelt vor. Gehen wir das auf den Grund."
   ]
  },
  {
   "cell_type": "code",
   "execution_count": 9,
   "metadata": {},
   "outputs": [
    {
     "data": {
      "text/plain": [
       "count                 3123\n",
       "unique                1561\n",
       "top       2018082963000410\n",
       "freq                     3\n",
       "Name: ticket, dtype: object"
      ]
     },
     "execution_count": 9,
     "metadata": {},
     "output_type": "execute_result"
    }
   ],
   "source": [
    "corpus['ticket'].describe()"
   ]
  },
  {
   "cell_type": "code",
   "execution_count": 10,
   "metadata": {},
   "outputs": [
    {
     "data": {
      "text/html": [
       "<div>\n",
       "<style scoped>\n",
       "    .dataframe tbody tr th:only-of-type {\n",
       "        vertical-align: middle;\n",
       "    }\n",
       "\n",
       "    .dataframe tbody tr th {\n",
       "        vertical-align: top;\n",
       "    }\n",
       "\n",
       "    .dataframe thead th {\n",
       "        text-align: right;\n",
       "    }\n",
       "</style>\n",
       "<table border=\"1\" class=\"dataframe\">\n",
       "  <thead>\n",
       "    <tr style=\"text-align: right;\">\n",
       "      <th></th>\n",
       "      <th>ticket</th>\n",
       "      <th>type</th>\n",
       "      <th>client</th>\n",
       "      <th>issuer</th>\n",
       "      <th>inquiry</th>\n",
       "      <th>state</th>\n",
       "      <th>meta</th>\n",
       "    </tr>\n",
       "  </thead>\n",
       "  <tbody>\n",
       "    <tr>\n",
       "      <th>1431</th>\n",
       "      <td>2018082963000410</td>\n",
       "      <td>Fehler in der App</td>\n",
       "      <td>VEL</td>\n",
       "      <td>3</td>\n",
       "      <td>im fachbuch \\\"fk\\\" gehe die seitenlink im sac...</td>\n",
       "      <td>closed successful</td>\n",
       "      <td>App: beook 5.4.3 | Model: 12 cores | Platform:...</td>\n",
       "    </tr>\n",
       "    <tr>\n",
       "      <th>1432</th>\n",
       "      <td>2018082963000410</td>\n",
       "      <td>Fehler in der App</td>\n",
       "      <td>VEL</td>\n",
       "      <td>3</td>\n",
       "      <td>wie schon gemeldet habe ich das gleiche proble...</td>\n",
       "      <td>closed successful</td>\n",
       "      <td>App: beook 5.4.3 | Model: 12 cores | Platform:...</td>\n",
       "    </tr>\n",
       "    <tr>\n",
       "      <th>1433</th>\n",
       "      <td>2018082963000410</td>\n",
       "      <td>Fehler in der App</td>\n",
       "      <td>VEL</td>\n",
       "      <td>1</td>\n",
       "      <td>guten tag thomas gabathuler besten dank für d...</td>\n",
       "      <td>closed successful</td>\n",
       "      <td>App: beook 5.4.3 | Model: 12 cores | Platform:...</td>\n",
       "    </tr>\n",
       "  </tbody>\n",
       "</table>\n",
       "</div>"
      ],
      "text/plain": [
       "                ticket               type client  issuer  \\\n",
       "1431  2018082963000410  Fehler in der App    VEL       3   \n",
       "1432  2018082963000410  Fehler in der App    VEL       3   \n",
       "1433  2018082963000410  Fehler in der App    VEL       1   \n",
       "\n",
       "                                                inquiry              state  \\\n",
       "1431   im fachbuch \\\"fk\\\" gehe die seitenlink im sac...  closed successful   \n",
       "1432  wie schon gemeldet habe ich das gleiche proble...  closed successful   \n",
       "1433   guten tag thomas gabathuler besten dank für d...  closed successful   \n",
       "\n",
       "                                                   meta  \n",
       "1431  App: beook 5.4.3 | Model: 12 cores | Platform:...  \n",
       "1432  App: beook 5.4.3 | Model: 12 cores | Platform:...  \n",
       "1433  App: beook 5.4.3 | Model: 12 cores | Platform:...  "
      ]
     },
     "execution_count": 10,
     "metadata": {},
     "output_type": "execute_result"
    }
   ],
   "source": [
    "corpus.loc[corpus['ticket'] == '2018082963000410']"
   ]
  },
  {
   "cell_type": "markdown",
   "metadata": {},
   "source": [
    "Nun entfernen wir die Zeile mit Index *1432*"
   ]
  },
  {
   "cell_type": "code",
   "execution_count": 11,
   "metadata": {},
   "outputs": [
    {
     "data": {
      "text/plain": [
       "3122"
      ]
     },
     "execution_count": 11,
     "metadata": {},
     "output_type": "execute_result"
    }
   ],
   "source": [
    "corpus.drop([1432], inplace=True)\n",
    "len(corpus)"
   ]
  },
  {
   "cell_type": "code",
   "execution_count": 12,
   "metadata": {},
   "outputs": [
    {
     "data": {
      "text/plain": [
       "count                 3122\n",
       "unique                1561\n",
       "top       2018090563000090\n",
       "freq                     2\n",
       "Name: ticket, dtype: object"
      ]
     },
     "execution_count": 12,
     "metadata": {},
     "output_type": "execute_result"
    }
   ],
   "source": [
    "corpus['ticket'].describe()"
   ]
  },
  {
   "cell_type": "markdown",
   "metadata": {},
   "source": [
    "#### Wieviele davon sind Fragen?"
   ]
  },
  {
   "cell_type": "code",
   "execution_count": 13,
   "metadata": {},
   "outputs": [
    {
     "data": {
      "text/plain": [
       "1559"
      ]
     },
     "execution_count": 13,
     "metadata": {},
     "output_type": "execute_result"
    }
   ],
   "source": [
    "question = 3\n",
    "answer = 1\n",
    "\n",
    "corpus.loc[corpus['issuer'] == answer]['issuer'].sum()"
   ]
  },
  {
   "cell_type": "code",
   "execution_count": 14,
   "metadata": {},
   "outputs": [
    {
     "data": {
      "text/plain": [
       "1563"
      ]
     },
     "execution_count": 14,
     "metadata": {},
     "output_type": "execute_result"
    }
   ],
   "source": [
    "corpus.loc[corpus['issuer'] == question]['issuer'].sum() // 3"
   ]
  },
  {
   "cell_type": "markdown",
   "metadata": {},
   "source": [
    "Sieht so aus als wären 2 Tickets die 2x aus Fragen bestehen. Finden wir sie."
   ]
  },
  {
   "cell_type": "code",
   "execution_count": 15,
   "metadata": {},
   "outputs": [
    {
     "data": {
      "text/plain": [
       "ticket\n",
       "2016120263000050    fraud\n",
       "2016121263000010    fraud\n",
       "dtype: object"
      ]
     },
     "execution_count": 15,
     "metadata": {},
     "output_type": "execute_result"
    }
   ],
   "source": [
    "import numpy as np\n",
    "\n",
    "group_by_ticket = corpus.groupby(['ticket']).apply(lambda t: 'fraud' if t['issuer'].mean() != 2.0 else np.nan)\n",
    "group_by_ticket.dropna()"
   ]
  },
  {
   "cell_type": "markdown",
   "metadata": {},
   "source": [
    "Üperprüfen wir ob diese zwei Tatsächlich 2x aus Fragen bestehen."
   ]
  },
  {
   "cell_type": "code",
   "execution_count": 16,
   "metadata": {},
   "outputs": [
    {
     "data": {
      "text/html": [
       "<div>\n",
       "<style scoped>\n",
       "    .dataframe tbody tr th:only-of-type {\n",
       "        vertical-align: middle;\n",
       "    }\n",
       "\n",
       "    .dataframe tbody tr th {\n",
       "        vertical-align: top;\n",
       "    }\n",
       "\n",
       "    .dataframe thead th {\n",
       "        text-align: right;\n",
       "    }\n",
       "</style>\n",
       "<table border=\"1\" class=\"dataframe\">\n",
       "  <thead>\n",
       "    <tr style=\"text-align: right;\">\n",
       "      <th></th>\n",
       "      <th>ticket</th>\n",
       "      <th>type</th>\n",
       "      <th>client</th>\n",
       "      <th>issuer</th>\n",
       "      <th>inquiry</th>\n",
       "      <th>state</th>\n",
       "      <th>meta</th>\n",
       "    </tr>\n",
       "  </thead>\n",
       "  <tbody>\n",
       "    <tr>\n",
       "      <th>4334</th>\n",
       "      <td>2016120263000050</td>\n",
       "      <td>Fehler in der App</td>\n",
       "      <td>SVBA</td>\n",
       "      <td>3</td>\n",
       "      <td>freundliche grüsse felix buchenberger berufsfa...</td>\n",
       "      <td>closed successful</td>\n",
       "      <td>App: beook 4.2.0 | Model: 8 cores | Platform: ...</td>\n",
       "    </tr>\n",
       "    <tr>\n",
       "      <th>4335</th>\n",
       "      <td>2016120263000050</td>\n",
       "      <td>Fehler in der App</td>\n",
       "      <td>SVBA</td>\n",
       "      <td>3</td>\n",
       "      <td>wollte gerade eben ein hypercam filmli machen ...</td>\n",
       "      <td>closed successful</td>\n",
       "      <td>App: beook 4.2.0 | Model: 8 cores | Platform: ...</td>\n",
       "    </tr>\n",
       "  </tbody>\n",
       "</table>\n",
       "</div>"
      ],
      "text/plain": [
       "                ticket               type client  issuer  \\\n",
       "4334  2016120263000050  Fehler in der App   SVBA       3   \n",
       "4335  2016120263000050  Fehler in der App   SVBA       3   \n",
       "\n",
       "                                                inquiry              state  \\\n",
       "4334  freundliche grüsse felix buchenberger berufsfa...  closed successful   \n",
       "4335  wollte gerade eben ein hypercam filmli machen ...  closed successful   \n",
       "\n",
       "                                                   meta  \n",
       "4334  App: beook 4.2.0 | Model: 8 cores | Platform: ...  \n",
       "4335  App: beook 4.2.0 | Model: 8 cores | Platform: ...  "
      ]
     },
     "execution_count": 16,
     "metadata": {},
     "output_type": "execute_result"
    }
   ],
   "source": [
    "corpus.loc[corpus['ticket'] == '2016120263000050']"
   ]
  },
  {
   "cell_type": "code",
   "execution_count": 17,
   "metadata": {},
   "outputs": [
    {
     "data": {
      "text/html": [
       "<div>\n",
       "<style scoped>\n",
       "    .dataframe tbody tr th:only-of-type {\n",
       "        vertical-align: middle;\n",
       "    }\n",
       "\n",
       "    .dataframe tbody tr th {\n",
       "        vertical-align: top;\n",
       "    }\n",
       "\n",
       "    .dataframe thead th {\n",
       "        text-align: right;\n",
       "    }\n",
       "</style>\n",
       "<table border=\"1\" class=\"dataframe\">\n",
       "  <thead>\n",
       "    <tr style=\"text-align: right;\">\n",
       "      <th></th>\n",
       "      <th>ticket</th>\n",
       "      <th>type</th>\n",
       "      <th>client</th>\n",
       "      <th>issuer</th>\n",
       "      <th>inquiry</th>\n",
       "      <th>state</th>\n",
       "      <th>meta</th>\n",
       "    </tr>\n",
       "  </thead>\n",
       "  <tbody>\n",
       "    <tr>\n",
       "      <th>4308</th>\n",
       "      <td>2016121263000010</td>\n",
       "      <td>Fehler in der App</td>\n",
       "      <td>WINGS</td>\n",
       "      <td>3</td>\n",
       "      <td>ich habe gesehen dass ich mitglied dieser grup...</td>\n",
       "      <td>closed successful</td>\n",
       "      <td>App: beook 4.2.3 | Model: 4 cores | Platform: ...</td>\n",
       "    </tr>\n",
       "    <tr>\n",
       "      <th>4309</th>\n",
       "      <td>2016121263000010</td>\n",
       "      <td>Fehler in der App</td>\n",
       "      <td>WINGS</td>\n",
       "      <td>3</td>\n",
       "      <td>ich habe gestern auf meinem windows pc zu haus...</td>\n",
       "      <td>closed successful</td>\n",
       "      <td>App: beook 4.2.3 | Model: 4 cores | Platform: ...</td>\n",
       "    </tr>\n",
       "  </tbody>\n",
       "</table>\n",
       "</div>"
      ],
      "text/plain": [
       "                ticket               type client  issuer  \\\n",
       "4308  2016121263000010  Fehler in der App  WINGS       3   \n",
       "4309  2016121263000010  Fehler in der App  WINGS       3   \n",
       "\n",
       "                                                inquiry              state  \\\n",
       "4308  ich habe gesehen dass ich mitglied dieser grup...  closed successful   \n",
       "4309  ich habe gestern auf meinem windows pc zu haus...  closed successful   \n",
       "\n",
       "                                                   meta  \n",
       "4308  App: beook 4.2.3 | Model: 4 cores | Platform: ...  \n",
       "4309  App: beook 4.2.3 | Model: 4 cores | Platform: ...  "
      ]
     },
     "execution_count": 17,
     "metadata": {},
     "output_type": "execute_result"
    }
   ],
   "source": [
    "corpus.loc[corpus['ticket'] == '2016121263000010']"
   ]
  },
  {
   "cell_type": "code",
   "execution_count": 18,
   "metadata": {},
   "outputs": [
    {
     "data": {
      "text/plain": [
       "3118"
      ]
     },
     "execution_count": 18,
     "metadata": {},
     "output_type": "execute_result"
    }
   ],
   "source": [
    "corpus.drop([4308, 4309], inplace=True)\n",
    "corpus.drop([4334, 4335], inplace=True)\n",
    "len(corpus)"
   ]
  },
  {
   "cell_type": "markdown",
   "metadata": {},
   "source": [
    "#### Fragen und Antworten zusammenfügen"
   ]
  },
  {
   "cell_type": "code",
   "execution_count": 19,
   "metadata": {},
   "outputs": [
    {
     "data": {
      "text/plain": [
       "1559"
      ]
     },
     "execution_count": 19,
     "metadata": {},
     "output_type": "execute_result"
    }
   ],
   "source": [
    "q_and_a_corpus = corpus.loc[corpus['issuer'] == question]\n",
    "len(q_and_a_corpus)"
   ]
  },
  {
   "cell_type": "code",
   "execution_count": 20,
   "metadata": {},
   "outputs": [
    {
     "data": {
      "text/html": [
       "<div>\n",
       "<style scoped>\n",
       "    .dataframe tbody tr th:only-of-type {\n",
       "        vertical-align: middle;\n",
       "    }\n",
       "\n",
       "    .dataframe tbody tr th {\n",
       "        vertical-align: top;\n",
       "    }\n",
       "\n",
       "    .dataframe thead th {\n",
       "        text-align: right;\n",
       "    }\n",
       "</style>\n",
       "<table border=\"1\" class=\"dataframe\">\n",
       "  <thead>\n",
       "    <tr style=\"text-align: right;\">\n",
       "      <th></th>\n",
       "      <th>ticket</th>\n",
       "      <th>type</th>\n",
       "      <th>client</th>\n",
       "      <th>issuer</th>\n",
       "      <th>inquiry</th>\n",
       "      <th>state</th>\n",
       "      <th>meta</th>\n",
       "      <th>answer</th>\n",
       "    </tr>\n",
       "  </thead>\n",
       "  <tbody>\n",
       "    <tr>\n",
       "      <th>0</th>\n",
       "      <td>2019030563000120</td>\n",
       "      <td>Fehler in der App</td>\n",
       "      <td>SVBA</td>\n",
       "      <td>3</td>\n",
       "      <td>ich kann die bilder in übungen nicht bearbeite...</td>\n",
       "      <td>closed_waiting_for_reply</td>\n",
       "      <td>App: beook 5.5.0 | Model: 4 cores | Platform: ...</td>\n",
       "      <td>wir haben ihre support-anfrage erhalten besten...</td>\n",
       "    </tr>\n",
       "    <tr>\n",
       "      <th>2</th>\n",
       "      <td>2019030563000020</td>\n",
       "      <td>Fehler in der App</td>\n",
       "      <td>SVBA</td>\n",
       "      <td>3</td>\n",
       "      <td>bei mir erscheinen eingefügte bilder im fachre...</td>\n",
       "      <td>closed_waiting_for_reply</td>\n",
       "      <td>App: beook 5.5.0 | Model: 4 cores | Platform: ...</td>\n",
       "      <td>damit wir das problem besser eingrenzen können...</td>\n",
       "    </tr>\n",
       "    <tr>\n",
       "      <th>5</th>\n",
       "      <td>2019030463000110</td>\n",
       "      <td>Fehler in der App</td>\n",
       "      <td>FOMA</td>\n",
       "      <td>3</td>\n",
       "      <td>lückentexte weg daten verloren gegangen von pp...</td>\n",
       "      <td>closed_waiting_for_reply</td>\n",
       "      <td>App: beook 5.5.0 | Model: 4 cores | Platform: ...</td>\n",
       "      <td>besten dank für ihre support-anfrage. wir verm...</td>\n",
       "    </tr>\n",
       "    <tr>\n",
       "      <th>10</th>\n",
       "      <td>2019022863000110</td>\n",
       "      <td>Anmeldung / Aktivierung</td>\n",
       "      <td>AGVS</td>\n",
       "      <td>3</td>\n",
       "      <td>bitte deaktivieren sie dieses gerät. vielen dank.</td>\n",
       "      <td>closed successful</td>\n",
       "      <td>User account exists: Yes | | App: beook v5.5.1...</td>\n",
       "      <td>wir haben alle ihre geräte auf dem lizenzser...</td>\n",
       "    </tr>\n",
       "    <tr>\n",
       "      <th>11</th>\n",
       "      <td>2019022863000100</td>\n",
       "      <td>Anmeldung / Aktivierung</td>\n",
       "      <td>BEOOK</td>\n",
       "      <td>3</td>\n",
       "      <td>diese sind meine aktivierungscodes: gesellscha...</td>\n",
       "      <td>closed successful</td>\n",
       "      <td>User account exists: Yes | | App: beook v5.5.1...</td>\n",
       "      <td>guten tag corina gisler besten dank für ihre a...</td>\n",
       "    </tr>\n",
       "  </tbody>\n",
       "</table>\n",
       "</div>"
      ],
      "text/plain": [
       "              ticket                     type client  issuer  \\\n",
       "0   2019030563000120        Fehler in der App   SVBA       3   \n",
       "2   2019030563000020        Fehler in der App   SVBA       3   \n",
       "5   2019030463000110        Fehler in der App   FOMA       3   \n",
       "10  2019022863000110  Anmeldung / Aktivierung   AGVS       3   \n",
       "11  2019022863000100  Anmeldung / Aktivierung  BEOOK       3   \n",
       "\n",
       "                                              inquiry  \\\n",
       "0   ich kann die bilder in übungen nicht bearbeite...   \n",
       "2   bei mir erscheinen eingefügte bilder im fachre...   \n",
       "5   lückentexte weg daten verloren gegangen von pp...   \n",
       "10  bitte deaktivieren sie dieses gerät. vielen dank.   \n",
       "11  diese sind meine aktivierungscodes: gesellscha...   \n",
       "\n",
       "                       state  \\\n",
       "0   closed_waiting_for_reply   \n",
       "2   closed_waiting_for_reply   \n",
       "5   closed_waiting_for_reply   \n",
       "10         closed successful   \n",
       "11         closed successful   \n",
       "\n",
       "                                                 meta  \\\n",
       "0   App: beook 5.5.0 | Model: 4 cores | Platform: ...   \n",
       "2   App: beook 5.5.0 | Model: 4 cores | Platform: ...   \n",
       "5   App: beook 5.5.0 | Model: 4 cores | Platform: ...   \n",
       "10  User account exists: Yes | | App: beook v5.5.1...   \n",
       "11  User account exists: Yes | | App: beook v5.5.1...   \n",
       "\n",
       "                                               answer  \n",
       "0   wir haben ihre support-anfrage erhalten besten...  \n",
       "2   damit wir das problem besser eingrenzen können...  \n",
       "5   besten dank für ihre support-anfrage. wir verm...  \n",
       "10    wir haben alle ihre geräte auf dem lizenzser...  \n",
       "11  guten tag corina gisler besten dank für ihre a...  "
      ]
     },
     "execution_count": 20,
     "metadata": {},
     "output_type": "execute_result"
    }
   ],
   "source": [
    "q_and_a_corpus['answer'] = corpus.loc[corpus['issuer'] == answer]['inquiry'].values\n",
    "q_and_a_corpus.head()"
   ]
  },
  {
   "cell_type": "markdown",
   "metadata": {},
   "source": [
    "Überprüfen wir das kurz"
   ]
  },
  {
   "cell_type": "code",
   "execution_count": 21,
   "metadata": {},
   "outputs": [
    {
     "name": "stdout",
     "output_type": "stream",
     "text": [
      "5167     danke habe es korrigiert. war ein seltener fa...\n",
      "5168    habe soeben gesb ah gelöscht und danach die ap...\n",
      "Name: inquiry, dtype: object \n",
      "\n",
      "5165    guten tag herr hirsiger können sie uns bitte m...\n",
      "5166    das elehrmittel funktioniert auf meinem gerät ...\n",
      "Name: inquiry, dtype: object \n",
      "\n",
      "5163    guten tag herr rados haben sie probleme mit un...\n",
      "5164    falls sie ein problem mit der anmeldung oder d...\n",
      "Name: inquiry, dtype: object \n",
      "\n",
      "5161    guten tag schlatter yassin bitte beschreiben s...\n",
      "5162    als ich die software gestartet habe funktionie...\n",
      "Name: inquiry, dtype: object \n",
      "\n",
      "5159    hallo marcel besten dank für deinen bericht. d...\n",
      "5160    falls sie ein problem mit der anmeldung oder d...\n",
      "Name: inquiry, dtype: object \n",
      "\n"
     ]
    }
   ],
   "source": [
    "tickets = ['2015081263000080', '2015081763000050', '2015081763000060', '2015081763000110', '2015082463000180']\n",
    "for t in tickets:\n",
    "    print(corpus.loc[corpus['ticket'] == t].inquiry, '\\n')"
   ]
  },
  {
   "cell_type": "markdown",
   "metadata": {},
   "source": [
    "sehr gut das matching hat funktioniert."
   ]
  },
  {
   "cell_type": "markdown",
   "metadata": {},
   "source": [
    "#### export to csv"
   ]
  },
  {
   "cell_type": "code",
   "execution_count": 22,
   "metadata": {},
   "outputs": [],
   "source": [
    "q_and_a_corpus.to_csv(r'../01_data/ionesoft_extract_final_clean.csv', index=None, header=True)"
   ]
  },
  {
   "cell_type": "markdown",
   "metadata": {},
   "source": [
    "### Antwort zu Kategorie\n",
    "Nun müssen die Antworten einer Kategorie zugeorndet werden."
   ]
  },
  {
   "cell_type": "code",
   "execution_count": 23,
   "metadata": {},
   "outputs": [
    {
     "data": {
      "text/html": [
       "<div>\n",
       "<style scoped>\n",
       "    .dataframe tbody tr th:only-of-type {\n",
       "        vertical-align: middle;\n",
       "    }\n",
       "\n",
       "    .dataframe tbody tr th {\n",
       "        vertical-align: top;\n",
       "    }\n",
       "\n",
       "    .dataframe thead th {\n",
       "        text-align: right;\n",
       "    }\n",
       "</style>\n",
       "<table border=\"1\" class=\"dataframe\">\n",
       "  <thead>\n",
       "    <tr style=\"text-align: right;\">\n",
       "      <th></th>\n",
       "      <th>name</th>\n",
       "      <th>text</th>\n",
       "    </tr>\n",
       "  </thead>\n",
       "  <tbody>\n",
       "    <tr>\n",
       "      <th>0</th>\n",
       "      <td>Abmelden, neu anmelden</td>\n",
       "      <td>Sie sind aktuell nicht mehr korrekt in der App...</td>\n",
       "    </tr>\n",
       "    <tr>\n",
       "      <th>1</th>\n",
       "      <td>Abmelden, neu anmelden (FR)</td>\n",
       "      <td>Vous n'êtes actuellement plus correctement con...</td>\n",
       "    </tr>\n",
       "    <tr>\n",
       "      <th>2</th>\n",
       "      <td>Aktivierungscode falsch</td>\n",
       "      <td>Wir können leider keinen Aktivierungscode im S...</td>\n",
       "    </tr>\n",
       "    <tr>\n",
       "      <th>3</th>\n",
       "      <td>Altes Ticket, Problem gelöst?</td>\n",
       "      <td>Wir haben festgestellt, dass Sie noch ein offe...</td>\n",
       "    </tr>\n",
       "    <tr>\n",
       "      <th>4</th>\n",
       "      <td>Anderer Anbieter, falsches Login</td>\n",
       "      <td>Sie sind beim falschen Anbieter angemeldet!&lt;br...</td>\n",
       "    </tr>\n",
       "  </tbody>\n",
       "</table>\n",
       "</div>"
      ],
      "text/plain": [
       "                               name  \\\n",
       "0            Abmelden, neu anmelden   \n",
       "1       Abmelden, neu anmelden (FR)   \n",
       "2           Aktivierungscode falsch   \n",
       "3     Altes Ticket, Problem gelöst?   \n",
       "4  Anderer Anbieter, falsches Login   \n",
       "\n",
       "                                                text  \n",
       "0  Sie sind aktuell nicht mehr korrekt in der App...  \n",
       "1  Vous n'êtes actuellement plus correctement con...  \n",
       "2  Wir können leider keinen Aktivierungscode im S...  \n",
       "3  Wir haben festgestellt, dass Sie noch ein offe...  \n",
       "4  Sie sind beim falschen Anbieter angemeldet!<br...  "
      ]
     },
     "execution_count": 23,
     "metadata": {},
     "output_type": "execute_result"
    }
   ],
   "source": [
    "template = '../01_data/standard_template.csv'\n",
    "names=['name', 'text']\n",
    "\n",
    "template_corpus = pd.read_csv(template, sep=';', encoding='ansi', names=names, skiprows=[0])\n",
    "\n",
    "template_corpus.head()"
   ]
  },
  {
   "cell_type": "markdown",
   "metadata": {},
   "source": [
    "#### FR, IT entfernen"
   ]
  },
  {
   "cell_type": "code",
   "execution_count": 24,
   "metadata": {},
   "outputs": [
    {
     "data": {
      "text/html": [
       "<div>\n",
       "<style scoped>\n",
       "    .dataframe tbody tr th:only-of-type {\n",
       "        vertical-align: middle;\n",
       "    }\n",
       "\n",
       "    .dataframe tbody tr th {\n",
       "        vertical-align: top;\n",
       "    }\n",
       "\n",
       "    .dataframe thead th {\n",
       "        text-align: right;\n",
       "    }\n",
       "</style>\n",
       "<table border=\"1\" class=\"dataframe\">\n",
       "  <thead>\n",
       "    <tr style=\"text-align: right;\">\n",
       "      <th></th>\n",
       "      <th>name</th>\n",
       "      <th>text</th>\n",
       "    </tr>\n",
       "  </thead>\n",
       "  <tbody>\n",
       "    <tr>\n",
       "      <th>0</th>\n",
       "      <td>Abmelden, neu anmelden</td>\n",
       "      <td>Sie sind aktuell nicht mehr korrekt in der App...</td>\n",
       "    </tr>\n",
       "    <tr>\n",
       "      <th>2</th>\n",
       "      <td>Aktivierungscode falsch</td>\n",
       "      <td>Wir können leider keinen Aktivierungscode im S...</td>\n",
       "    </tr>\n",
       "    <tr>\n",
       "      <th>3</th>\n",
       "      <td>Altes Ticket, Problem gelöst?</td>\n",
       "      <td>Wir haben festgestellt, dass Sie noch ein offe...</td>\n",
       "    </tr>\n",
       "    <tr>\n",
       "      <th>4</th>\n",
       "      <td>Anderer Anbieter, falsches Login</td>\n",
       "      <td>Sie sind beim falschen Anbieter angemeldet!&lt;br...</td>\n",
       "    </tr>\n",
       "    <tr>\n",
       "      <th>5</th>\n",
       "      <td>Android: alte beook version -&gt; updaten!</td>\n",
       "      <td>Vielen Dank für ihre Support-Anfrage.&lt;br /&gt;Ihr...</td>\n",
       "    </tr>\n",
       "  </tbody>\n",
       "</table>\n",
       "</div>"
      ],
      "text/plain": [
       "                                      name  \\\n",
       "0                   Abmelden, neu anmelden   \n",
       "2                  Aktivierungscode falsch   \n",
       "3            Altes Ticket, Problem gelöst?   \n",
       "4         Anderer Anbieter, falsches Login   \n",
       "5  Android: alte beook version -> updaten!   \n",
       "\n",
       "                                                text  \n",
       "0  Sie sind aktuell nicht mehr korrekt in der App...  \n",
       "2  Wir können leider keinen Aktivierungscode im S...  \n",
       "3  Wir haben festgestellt, dass Sie noch ein offe...  \n",
       "4  Sie sind beim falschen Anbieter angemeldet!<br...  \n",
       "5  Vielen Dank für ihre Support-Anfrage.<br />Ihr...  "
      ]
     },
     "execution_count": 24,
     "metadata": {},
     "output_type": "execute_result"
    }
   ],
   "source": [
    "template_corpus = template_corpus.loc[template_corpus['name'].str.contains('\\(FR\\)', case=False, regex=True) == False]\n",
    "template_corpus = template_corpus.loc[template_corpus['name'].str.contains('FR', case=False, regex=True) == False]\n",
    "template_corpus = template_corpus.loc[template_corpus['name'].str.contains('\\(IT\\)', case=False, regex=True) == False]\n",
    "\n",
    "template_corpus.head()"
   ]
  },
  {
   "cell_type": "markdown",
   "metadata": {},
   "source": [
    "Annahme enthält die Antwort _abmelden_ oder _anmelden_ handelt es sich um ein _Abmelden, neu anmelden_ Problem"
   ]
  },
  {
   "cell_type": "code",
   "execution_count": 25,
   "metadata": {},
   "outputs": [
    {
     "data": {
      "text/html": [
       "<div>\n",
       "<style scoped>\n",
       "    .dataframe tbody tr th:only-of-type {\n",
       "        vertical-align: middle;\n",
       "    }\n",
       "\n",
       "    .dataframe tbody tr th {\n",
       "        vertical-align: top;\n",
       "    }\n",
       "\n",
       "    .dataframe thead th {\n",
       "        text-align: right;\n",
       "    }\n",
       "</style>\n",
       "<table border=\"1\" class=\"dataframe\">\n",
       "  <thead>\n",
       "    <tr style=\"text-align: right;\">\n",
       "      <th></th>\n",
       "      <th>name</th>\n",
       "      <th>text</th>\n",
       "      <th>expr</th>\n",
       "    </tr>\n",
       "  </thead>\n",
       "  <tbody>\n",
       "    <tr>\n",
       "      <th>0</th>\n",
       "      <td>Abmelden, neu anmelden</td>\n",
       "      <td>Sie sind aktuell nicht mehr korrekt in der App...</td>\n",
       "      <td>sie sind aktuell nicht mehr</td>\n",
       "    </tr>\n",
       "    <tr>\n",
       "      <th>2</th>\n",
       "      <td>Aktivierungscode falsch</td>\n",
       "      <td>Wir können leider keinen Aktivierungscode im S...</td>\n",
       "      <td>wir können leider keinen aktivierungscode</td>\n",
       "    </tr>\n",
       "    <tr>\n",
       "      <th>3</th>\n",
       "      <td>Altes Ticket, Problem gelöst?</td>\n",
       "      <td>Wir haben festgestellt, dass Sie noch ein offe...</td>\n",
       "      <td>wir haben festgestellt, dass sie</td>\n",
       "    </tr>\n",
       "    <tr>\n",
       "      <th>4</th>\n",
       "      <td>Anderer Anbieter, falsches Login</td>\n",
       "      <td>Sie sind beim falschen Anbieter angemeldet!&lt;br...</td>\n",
       "      <td>sie sind beim falschen anbieter</td>\n",
       "    </tr>\n",
       "    <tr>\n",
       "      <th>5</th>\n",
       "      <td>Android: alte beook version -&gt; updaten!</td>\n",
       "      <td>Vielen Dank für ihre Support-Anfrage.&lt;br /&gt;Ihr...</td>\n",
       "      <td>vielen dank für ihre support-anfrage.&lt;br</td>\n",
       "    </tr>\n",
       "  </tbody>\n",
       "</table>\n",
       "</div>"
      ],
      "text/plain": [
       "                                      name  \\\n",
       "0                   Abmelden, neu anmelden   \n",
       "2                  Aktivierungscode falsch   \n",
       "3            Altes Ticket, Problem gelöst?   \n",
       "4         Anderer Anbieter, falsches Login   \n",
       "5  Android: alte beook version -> updaten!   \n",
       "\n",
       "                                                text  \\\n",
       "0  Sie sind aktuell nicht mehr korrekt in der App...   \n",
       "2  Wir können leider keinen Aktivierungscode im S...   \n",
       "3  Wir haben festgestellt, dass Sie noch ein offe...   \n",
       "4  Sie sind beim falschen Anbieter angemeldet!<br...   \n",
       "5  Vielen Dank für ihre Support-Anfrage.<br />Ihr...   \n",
       "\n",
       "                                        expr  \n",
       "0                sie sind aktuell nicht mehr  \n",
       "2  wir können leider keinen aktivierungscode  \n",
       "3           wir haben festgestellt, dass sie  \n",
       "4            sie sind beim falschen anbieter  \n",
       "5   vielen dank für ihre support-anfrage.<br  "
      ]
     },
     "execution_count": 25,
     "metadata": {},
     "output_type": "execute_result"
    }
   ],
   "source": [
    "import re\n",
    "\n",
    "def get_words_between(text, s, e):\n",
    "    word_list = [w for w in text.split(' ')]\n",
    "    \n",
    "    return str.join(' ', word_list[s:e]).lower()\n",
    "\n",
    "\n",
    "template_corpus['expr'] = template_corpus['text'].apply(lambda x: get_words_between(x, 0, 5))\n",
    "template_corpus.head()"
   ]
  },
  {
   "cell_type": "markdown",
   "metadata": {},
   "source": [
    "#### Kategorisieren"
   ]
  },
  {
   "cell_type": "code",
   "execution_count": 26,
   "metadata": {},
   "outputs": [],
   "source": [
    "def search_and_replace(expr, category):\n",
    "    q_and_a_corpus.loc[\n",
    "        q_and_a_corpus['answer'].str.contains(expr),\n",
    "        'answer'\n",
    "    ] = category\n",
    "\n",
    "\n",
    "for row in template_corpus.itertuples(index=True, name='Pandas'):\n",
    "    search_and_replace(getattr(row, 'expr'), getattr(row, 'name'))"
   ]
  },
  {
   "cell_type": "code",
   "execution_count": 27,
   "metadata": {},
   "outputs": [
    {
     "data": {
      "text/html": [
       "<div>\n",
       "<style scoped>\n",
       "    .dataframe tbody tr th:only-of-type {\n",
       "        vertical-align: middle;\n",
       "    }\n",
       "\n",
       "    .dataframe tbody tr th {\n",
       "        vertical-align: top;\n",
       "    }\n",
       "\n",
       "    .dataframe thead th {\n",
       "        text-align: right;\n",
       "    }\n",
       "</style>\n",
       "<table border=\"1\" class=\"dataframe\">\n",
       "  <thead>\n",
       "    <tr style=\"text-align: right;\">\n",
       "      <th></th>\n",
       "      <th>ticket</th>\n",
       "      <th>type</th>\n",
       "      <th>client</th>\n",
       "      <th>issuer</th>\n",
       "      <th>inquiry</th>\n",
       "      <th>state</th>\n",
       "      <th>meta</th>\n",
       "      <th>answer</th>\n",
       "    </tr>\n",
       "  </thead>\n",
       "  <tbody>\n",
       "    <tr>\n",
       "      <th>0</th>\n",
       "      <td>2019030563000120</td>\n",
       "      <td>Fehler in der App</td>\n",
       "      <td>SVBA</td>\n",
       "      <td>3</td>\n",
       "      <td>ich kann die bilder in übungen nicht bearbeite...</td>\n",
       "      <td>closed_waiting_for_reply</td>\n",
       "      <td>App: beook 5.5.0 | Model: 4 cores | Platform: ...</td>\n",
       "      <td>Fehlerbericht senden</td>\n",
       "    </tr>\n",
       "    <tr>\n",
       "      <th>2</th>\n",
       "      <td>2019030563000020</td>\n",
       "      <td>Fehler in der App</td>\n",
       "      <td>SVBA</td>\n",
       "      <td>3</td>\n",
       "      <td>bei mir erscheinen eingefügte bilder im fachre...</td>\n",
       "      <td>closed_waiting_for_reply</td>\n",
       "      <td>App: beook 5.5.0 | Model: 4 cores | Platform: ...</td>\n",
       "      <td>damit wir das problem besser eingrenzen können...</td>\n",
       "    </tr>\n",
       "    <tr>\n",
       "      <th>5</th>\n",
       "      <td>2019030463000110</td>\n",
       "      <td>Fehler in der App</td>\n",
       "      <td>FOMA</td>\n",
       "      <td>3</td>\n",
       "      <td>lückentexte weg daten verloren gegangen von pp...</td>\n",
       "      <td>closed_waiting_for_reply</td>\n",
       "      <td>App: beook 5.5.0 | Model: 4 cores | Platform: ...</td>\n",
       "      <td>RICHM: Anleitung Anmeldung</td>\n",
       "    </tr>\n",
       "    <tr>\n",
       "      <th>10</th>\n",
       "      <td>2019022863000110</td>\n",
       "      <td>Anmeldung / Aktivierung</td>\n",
       "      <td>AGVS</td>\n",
       "      <td>3</td>\n",
       "      <td>bitte deaktivieren sie dieses gerät. vielen dank.</td>\n",
       "      <td>closed successful</td>\n",
       "      <td>User account exists: Yes | | App: beook v5.5.1...</td>\n",
       "      <td>Gerät entfernt, neu starten</td>\n",
       "    </tr>\n",
       "    <tr>\n",
       "      <th>11</th>\n",
       "      <td>2019022863000100</td>\n",
       "      <td>Anmeldung / Aktivierung</td>\n",
       "      <td>BEOOK</td>\n",
       "      <td>3</td>\n",
       "      <td>diese sind meine aktivierungscodes: gesellscha...</td>\n",
       "      <td>closed successful</td>\n",
       "      <td>User account exists: Yes | | App: beook v5.5.1...</td>\n",
       "      <td>beook: Neue Version installieren RCP</td>\n",
       "    </tr>\n",
       "  </tbody>\n",
       "</table>\n",
       "</div>"
      ],
      "text/plain": [
       "              ticket                     type client  issuer  \\\n",
       "0   2019030563000120        Fehler in der App   SVBA       3   \n",
       "2   2019030563000020        Fehler in der App   SVBA       3   \n",
       "5   2019030463000110        Fehler in der App   FOMA       3   \n",
       "10  2019022863000110  Anmeldung / Aktivierung   AGVS       3   \n",
       "11  2019022863000100  Anmeldung / Aktivierung  BEOOK       3   \n",
       "\n",
       "                                              inquiry  \\\n",
       "0   ich kann die bilder in übungen nicht bearbeite...   \n",
       "2   bei mir erscheinen eingefügte bilder im fachre...   \n",
       "5   lückentexte weg daten verloren gegangen von pp...   \n",
       "10  bitte deaktivieren sie dieses gerät. vielen dank.   \n",
       "11  diese sind meine aktivierungscodes: gesellscha...   \n",
       "\n",
       "                       state  \\\n",
       "0   closed_waiting_for_reply   \n",
       "2   closed_waiting_for_reply   \n",
       "5   closed_waiting_for_reply   \n",
       "10         closed successful   \n",
       "11         closed successful   \n",
       "\n",
       "                                                 meta  \\\n",
       "0   App: beook 5.5.0 | Model: 4 cores | Platform: ...   \n",
       "2   App: beook 5.5.0 | Model: 4 cores | Platform: ...   \n",
       "5   App: beook 5.5.0 | Model: 4 cores | Platform: ...   \n",
       "10  User account exists: Yes | | App: beook v5.5.1...   \n",
       "11  User account exists: Yes | | App: beook v5.5.1...   \n",
       "\n",
       "                                               answer  \n",
       "0                                Fehlerbericht senden  \n",
       "2   damit wir das problem besser eingrenzen können...  \n",
       "5                          RICHM: Anleitung Anmeldung  \n",
       "10                        Gerät entfernt, neu starten  \n",
       "11               beook: Neue Version installieren RCP  "
      ]
     },
     "execution_count": 27,
     "metadata": {},
     "output_type": "execute_result"
    }
   ],
   "source": [
    "q_and_a_corpus.head()"
   ]
  },
  {
   "cell_type": "code",
   "execution_count": 28,
   "metadata": {},
   "outputs": [
    {
     "data": {
      "text/plain": [
       "67"
      ]
     },
     "execution_count": 28,
     "metadata": {},
     "output_type": "execute_result"
    }
   ],
   "source": [
    "max_category_length = template_corpus['name'].str.len().max()\n",
    "max_category_length"
   ]
  },
  {
   "cell_type": "markdown",
   "metadata": {},
   "source": [
    "#### folgende Antworten wurden nicht Kategorisiert"
   ]
  },
  {
   "cell_type": "code",
   "execution_count": 29,
   "metadata": {},
   "outputs": [
    {
     "data": {
      "text/plain": [
       "928"
      ]
     },
     "execution_count": 29,
     "metadata": {},
     "output_type": "execute_result"
    }
   ],
   "source": [
    "uncategorized = q_and_a_corpus.loc[q_and_a_corpus['answer'].str.len() > max_category_length]\n",
    "uncategorized.to_csv(r'../01_data/ionesoft_extract_final_uncategorised_only.csv', index=None, header=True)\n",
    "len(uncategorized)"
   ]
  },
  {
   "cell_type": "markdown",
   "metadata": {},
   "source": [
    "#### Export nur Kategorisierte Zeilen"
   ]
  },
  {
   "cell_type": "code",
   "execution_count": 30,
   "metadata": {},
   "outputs": [],
   "source": [
    "valid_values = template_corpus['name'].values.tolist()\n",
    "q_and_a_corpus = q_and_a_corpus.loc[q_and_a_corpus['answer'].isin(valid_values)]"
   ]
  },
  {
   "cell_type": "code",
   "execution_count": 31,
   "metadata": {},
   "outputs": [],
   "source": [
    "q_and_a_corpus.to_csv(r'../01_data/ionesoft_extract_final_categorised.csv', index=None, header=True)"
   ]
  },
  {
   "cell_type": "markdown",
   "metadata": {},
   "source": [
    "### Verteilung von Fragen auf Antwort Kategorien"
   ]
  },
  {
   "cell_type": "code",
   "execution_count": 32,
   "metadata": {},
   "outputs": [
    {
     "data": {
      "image/png": "[encoded data removed]",
      "text/plain": [
       "<Figure size 720x720 with 1 Axes>"
      ]
     },
     "metadata": {
      "needs_background": "light"
     },
     "output_type": "display_data"
    }
   ],
   "source": [
    "import matplotlib.pyplot as plt\n",
    "\n",
    "%matplotlib inline\n",
    "fig = plt.figure(figsize=(10, 10))\n",
    "\n",
    "q_and_a_corpus.groupby('answer').inquiry.count().plot.bar(ylim=0)\n",
    "plt.title('Verteilung von Anfragen auf Antworten')\n",
    "plt.xlabel('answer categories')\n",
    "plt.ylabel('number of inquiries')\n",
    "plt.show()"
   ]
  },
  {
   "cell_type": "markdown",
   "metadata": {},
   "source": [
    "#### Kategorisierte Daten"
   ]
  },
  {
   "cell_type": "code",
   "execution_count": 33,
   "metadata": {},
   "outputs": [
    {
     "data": {
      "text/plain": [
       "618"
      ]
     },
     "execution_count": 33,
     "metadata": {},
     "output_type": "execute_result"
    }
   ],
   "source": [
    "len(q_and_a_corpus)"
   ]
  },
  {
   "cell_type": "code",
   "execution_count": null,
   "metadata": {},
   "outputs": [],
   "source": []
  }
 ],
 "metadata": {
  "kernelspec": {
   "display_name": "Python 3",
   "language": "python",
   "name": "python3"
  },
  "language_info": {
   "codemirror_mode": {
    "name": "ipython",
    "version": 3
   },
   "file_extension": ".py",
   "mimetype": "text/x-python",
   "name": "python",
   "nbconvert_exporter": "python",
   "pygments_lexer": "ipython3",
   "version": "3.6.7"
  }
 },
 "nbformat": 4,
 "nbformat_minor": 2
}
