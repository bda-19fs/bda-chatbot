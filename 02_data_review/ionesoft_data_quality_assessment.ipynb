{
 "cells": [
  {
   "cell_type": "markdown",
   "metadata": {},
   "source": [
    "# Data Quality Assessment\n",
    "In diesem Dokument werden die Daten aus dem erhaltenen Extrakt veranschaulicht und analysiert. Dabei liegt das Augenmerk auf folgende Kriterien:\n",
    "1. Format der erhaltenen Daten\n",
    "1. Unsere Interpretation der Daten\n",
    "1. Umfang der Daten\n",
    "    * Dublikate\n",
    "    * Null Werte\n",
    "    * Umfang ohne Dublikate und Null Werte\n",
    "    * Verteilung von Anfragen auf Antworten\n",
    "1. Beispiele von guten / schlechten Nachrichten"
   ]
  },
  {
   "cell_type": "code",
   "execution_count": 1,
   "metadata": {},
   "outputs": [],
   "source": [
    "import warnings\n",
    "warnings.filterwarnings('ignore')"
   ]
  },
  {
   "cell_type": "markdown",
   "metadata": {},
   "source": [
    "### 1. Format der erhaltenen Daten\n",
    "Die Daten _chatbot_extract-1.csv_ wurden in einem CSV-Format geliefert. Dieses Format eignet sich  gut, da sie sehr leicht mithilfe von pandas eingelesen werden kann."
   ]
  },
  {
   "cell_type": "code",
   "execution_count": 2,
   "metadata": {},
   "outputs": [
    {
     "data": {
      "text/html": [
       "<div>\n",
       "<style scoped>\n",
       "    .dataframe tbody tr th:only-of-type {\n",
       "        vertical-align: middle;\n",
       "    }\n",
       "\n",
       "    .dataframe tbody tr th {\n",
       "        vertical-align: top;\n",
       "    }\n",
       "\n",
       "    .dataframe thead th {\n",
       "        text-align: right;\n",
       "    }\n",
       "</style>\n",
       "<table border=\"1\" class=\"dataframe\">\n",
       "  <thead>\n",
       "    <tr style=\"text-align: right;\">\n",
       "      <th></th>\n",
       "      <th>ticket</th>\n",
       "      <th>customer</th>\n",
       "      <th>inquiry</th>\n",
       "      <th>state</th>\n",
       "      <th>answer</th>\n",
       "    </tr>\n",
       "  </thead>\n",
       "  <tbody>\n",
       "    <tr>\n",
       "      <th>0</th>\n",
       "      <td>Fehler in der App</td>\n",
       "      <td>SVBA</td>\n",
       "      <td>Ich kann die Bilder in übungen nicht Bearbeit...</td>\n",
       "      <td>closed_waiting_for_reply</td>\n",
       "      <td>Coupon einlösen Produkte nicht vorhanden</td>\n",
       "    </tr>\n",
       "    <tr>\n",
       "      <th>1</th>\n",
       "      <td>Fehler in der App</td>\n",
       "      <td>hep</td>\n",
       "      <td>Ich wollte das Lehrmittel aktualisieren jedoc...</td>\n",
       "      <td>new</td>\n",
       "      <td>Mac: Access Denied -&gt; Cookies Virenscanner</td>\n",
       "    </tr>\n",
       "    <tr>\n",
       "      <th>2</th>\n",
       "      <td>Anmeldung / Aktivierung</td>\n",
       "      <td>hep</td>\n",
       "      <td>Ich habe ein Problem bei der Anmeldung denn ma...</td>\n",
       "      <td>new</td>\n",
       "      <td>Mac: Access Denied -&gt; Cookies Virenscanner</td>\n",
       "    </tr>\n",
       "    <tr>\n",
       "      <th>3</th>\n",
       "      <td>Anmeldung / Aktivierung</td>\n",
       "      <td>VELEDES</td>\n",
       "      <td>Musste mich neu anmelden und nun steht bei ABK...</td>\n",
       "      <td>new</td>\n",
       "      <td>Mac: Access Denied -&gt; Cookies Virenscanner</td>\n",
       "    </tr>\n",
       "    <tr>\n",
       "      <th>4</th>\n",
       "      <td>Geräteanzahl überschritten</td>\n",
       "      <td>VELEDES</td>\n",
       "      <td>Ich habe es noch nicht heruntergeladen aber es...</td>\n",
       "      <td>new</td>\n",
       "      <td>Mac: Access Denied -&gt; Cookies Virenscanner</td>\n",
       "    </tr>\n",
       "  </tbody>\n",
       "</table>\n",
       "</div>"
      ],
      "text/plain": [
       "                       ticket customer  \\\n",
       "0           Fehler in der App     SVBA   \n",
       "1           Fehler in der App      hep   \n",
       "2     Anmeldung / Aktivierung      hep   \n",
       "3     Anmeldung / Aktivierung  VELEDES   \n",
       "4  Geräteanzahl überschritten  VELEDES   \n",
       "\n",
       "                                             inquiry  \\\n",
       "0   Ich kann die Bilder in übungen nicht Bearbeit...   \n",
       "1   Ich wollte das Lehrmittel aktualisieren jedoc...   \n",
       "2  Ich habe ein Problem bei der Anmeldung denn ma...   \n",
       "3  Musste mich neu anmelden und nun steht bei ABK...   \n",
       "4  Ich habe es noch nicht heruntergeladen aber es...   \n",
       "\n",
       "                      state                                      answer  \n",
       "0  closed_waiting_for_reply    Coupon einlösen Produkte nicht vorhanden  \n",
       "1                       new  Mac: Access Denied -> Cookies Virenscanner  \n",
       "2                       new  Mac: Access Denied -> Cookies Virenscanner  \n",
       "3                       new  Mac: Access Denied -> Cookies Virenscanner  \n",
       "4                       new  Mac: Access Denied -> Cookies Virenscanner  "
      ]
     },
     "execution_count": 2,
     "metadata": {},
     "output_type": "execute_result"
    }
   ],
   "source": [
    "import pandas as pd\n",
    "\n",
    "extract = '../01_data/chatbot_all_tickets.csv'\n",
    "names=['ticket', 'customer', 'inquiry', 'state', 'answer']\n",
    "\n",
    "corpus = pd.read_csv(extract, sep=';', encoding='utf-8', names=names, skiprows=[0], usecols=[2, 3, 4, 5, 6])\n",
    "corpus.head()"
   ]
  },
  {
   "cell_type": "markdown",
   "metadata": {},
   "source": [
    "### 2. Unsere Interpretation der Daten\n",
    "| Art      | Beschreibung                                                                                         |\n",
    "|----------|------------------------------------------------------------------------------------------------------|\n",
    "| ticket   | Das ist die Kategorie welcher vom Ersteller des Tickets aus einer Dropdown Box gewählt wird.         |\n",
    "| customer | Das Unternehmen des Kunden.                                                                          |\n",
    "| inquiry  | Das ist die Support Anfrage die gestellt wird.                                                       |\n",
    "| state    | Beschreibt den aktuellen Zustand des Tickets.                                                        |\n",
    "| answer   | Anhand dieser Antwort Kategorie wird die korrekte Anleitung gewählt werden, welche das Problem löst. |"
   ]
  },
  {
   "cell_type": "markdown",
   "metadata": {},
   "source": [
    "### 3. Umfang der Daten\n",
    "Das Extrakt enthält _81 Support Anfragen_. Diese werden nun auf folgende Punkte untersucht:\n",
    "* Dublikate\n",
    "* Null Werte\n",
    "* Umfang ohne Dublikate und Null Werte\n",
    "* Verteilung von Anfragen auf Antworten"
   ]
  },
  {
   "cell_type": "code",
   "execution_count": 3,
   "metadata": {},
   "outputs": [
    {
     "data": {
      "text/html": [
       "<div>\n",
       "<style scoped>\n",
       "    .dataframe tbody tr th:only-of-type {\n",
       "        vertical-align: middle;\n",
       "    }\n",
       "\n",
       "    .dataframe tbody tr th {\n",
       "        vertical-align: top;\n",
       "    }\n",
       "\n",
       "    .dataframe thead th {\n",
       "        text-align: right;\n",
       "    }\n",
       "</style>\n",
       "<table border=\"1\" class=\"dataframe\">\n",
       "  <thead>\n",
       "    <tr style=\"text-align: right;\">\n",
       "      <th></th>\n",
       "      <th>ticket</th>\n",
       "      <th>customer</th>\n",
       "      <th>inquiry</th>\n",
       "      <th>state</th>\n",
       "      <th>answer</th>\n",
       "    </tr>\n",
       "  </thead>\n",
       "  <tbody>\n",
       "    <tr>\n",
       "      <th>count</th>\n",
       "      <td>2938</td>\n",
       "      <td>2934</td>\n",
       "      <td>2938</td>\n",
       "      <td>2932</td>\n",
       "      <td>2931</td>\n",
       "    </tr>\n",
       "    <tr>\n",
       "      <th>unique</th>\n",
       "      <td>9</td>\n",
       "      <td>31</td>\n",
       "      <td>2793</td>\n",
       "      <td>33</td>\n",
       "      <td>28</td>\n",
       "    </tr>\n",
       "    <tr>\n",
       "      <th>top</th>\n",
       "      <td>Fehler in der App</td>\n",
       "      <td>hep</td>\n",
       "      <td>Falls Sie ein Problem mit der Anmeldung oder d...</td>\n",
       "      <td>closed successful</td>\n",
       "      <td>Mac: Access Denied -&gt; Cookies Virenscanner</td>\n",
       "    </tr>\n",
       "    <tr>\n",
       "      <th>freq</th>\n",
       "      <td>1237</td>\n",
       "      <td>754</td>\n",
       "      <td>33</td>\n",
       "      <td>1804</td>\n",
       "      <td>1560</td>\n",
       "    </tr>\n",
       "  </tbody>\n",
       "</table>\n",
       "</div>"
      ],
      "text/plain": [
       "                   ticket customer  \\\n",
       "count                2938     2934   \n",
       "unique                  9       31   \n",
       "top     Fehler in der App      hep   \n",
       "freq                 1237      754   \n",
       "\n",
       "                                                  inquiry              state  \\\n",
       "count                                                2938               2932   \n",
       "unique                                               2793                 33   \n",
       "top     Falls Sie ein Problem mit der Anmeldung oder d...  closed successful   \n",
       "freq                                                   33               1804   \n",
       "\n",
       "                                            answer  \n",
       "count                                         2931  \n",
       "unique                                          28  \n",
       "top     Mac: Access Denied -> Cookies Virenscanner  \n",
       "freq                                          1560  "
      ]
     },
     "execution_count": 3,
     "metadata": {},
     "output_type": "execute_result"
    }
   ],
   "source": [
    "corpus.describe()"
   ]
  },
  {
   "cell_type": "markdown",
   "metadata": {},
   "source": [
    "#### Dublikate\n",
    "Das Extrakt enthält _146 Dublikate_ Einträge"
   ]
  },
  {
   "cell_type": "code",
   "execution_count": 4,
   "metadata": {},
   "outputs": [
    {
     "name": "stdout",
     "output_type": "stream",
     "text": [
      "count: 146\n"
     ]
    },
    {
     "data": {
      "text/html": [
       "<div>\n",
       "<style scoped>\n",
       "    .dataframe tbody tr th:only-of-type {\n",
       "        vertical-align: middle;\n",
       "    }\n",
       "\n",
       "    .dataframe tbody tr th {\n",
       "        vertical-align: top;\n",
       "    }\n",
       "\n",
       "    .dataframe thead th {\n",
       "        text-align: right;\n",
       "    }\n",
       "</style>\n",
       "<table border=\"1\" class=\"dataframe\">\n",
       "  <thead>\n",
       "    <tr style=\"text-align: right;\">\n",
       "      <th></th>\n",
       "      <th>ticket</th>\n",
       "      <th>customer</th>\n",
       "      <th>inquiry</th>\n",
       "      <th>state</th>\n",
       "      <th>answer</th>\n",
       "    </tr>\n",
       "  </thead>\n",
       "  <tbody>\n",
       "    <tr>\n",
       "      <th>15</th>\n",
       "      <td>Geräteanzahl überschritten</td>\n",
       "      <td>BEOOK</td>\n",
       "      <td>offenbar habe ich die geräteanzahl überschrit...</td>\n",
       "      <td>closed successful</td>\n",
       "      <td>Anmeldung - Hinweise für Aktivierung</td>\n",
       "    </tr>\n",
       "    <tr>\n",
       "      <th>21</th>\n",
       "      <td>Fehler in der App</td>\n",
       "      <td>SVBA</td>\n",
       "      <td>ich habe einen anzeige fehler bei mehreren büc...</td>\n",
       "      <td>closed successful</td>\n",
       "      <td>Coupon einlösen Produkte nicht vorhanden</td>\n",
       "    </tr>\n",
       "    <tr>\n",
       "      <th>133</th>\n",
       "      <td>Fehler in der App</td>\n",
       "      <td>VELEDES</td>\n",
       "      <td>bei so ziemlich jedem der neuen tablets wird r...</td>\n",
       "      <td>closed_waiting_for_reply</td>\n",
       "      <td>Mac: Access Denied -&gt; Cookies Virenscanner</td>\n",
       "    </tr>\n",
       "    <tr>\n",
       "      <th>229</th>\n",
       "      <td>Anmeldung / Aktivierung</td>\n",
       "      <td>hep</td>\n",
       "      <td>guten tag</td>\n",
       "      <td>closed successful</td>\n",
       "      <td>Mac: Access Denied -&gt; Cookies Virenscanner</td>\n",
       "    </tr>\n",
       "    <tr>\n",
       "      <th>284</th>\n",
       "      <td>Anmeldung / Aktivierung</td>\n",
       "      <td>SVBA</td>\n",
       "      <td>auf einmal waren alle meine lizenzen abgelaufe...</td>\n",
       "      <td>closed successful</td>\n",
       "      <td>Coupon einlösen Produkte nicht vorhanden</td>\n",
       "    </tr>\n",
       "  </tbody>\n",
       "</table>\n",
       "</div>"
      ],
      "text/plain": [
       "                         ticket customer  \\\n",
       "15   Geräteanzahl überschritten    BEOOK   \n",
       "21            Fehler in der App     SVBA   \n",
       "133           Fehler in der App  VELEDES   \n",
       "229     Anmeldung / Aktivierung      hep   \n",
       "284     Anmeldung / Aktivierung     SVBA   \n",
       "\n",
       "                                               inquiry  \\\n",
       "15    offenbar habe ich die geräteanzahl überschrit...   \n",
       "21   ich habe einen anzeige fehler bei mehreren büc...   \n",
       "133  bei so ziemlich jedem der neuen tablets wird r...   \n",
       "229                                         guten tag    \n",
       "284  auf einmal waren alle meine lizenzen abgelaufe...   \n",
       "\n",
       "                        state                                      answer  \n",
       "15          closed successful        Anmeldung - Hinweise für Aktivierung  \n",
       "21          closed successful    Coupon einlösen Produkte nicht vorhanden  \n",
       "133  closed_waiting_for_reply  Mac: Access Denied -> Cookies Virenscanner  \n",
       "229         closed successful  Mac: Access Denied -> Cookies Virenscanner  \n",
       "284         closed successful    Coupon einlösen Produkte nicht vorhanden  "
      ]
     },
     "execution_count": 4,
     "metadata": {},
     "output_type": "execute_result"
    }
   ],
   "source": [
    "import numpy as np\n",
    "\n",
    "corpus['inquiry'] = corpus['inquiry'].str.lower()\n",
    "dublicates = np.sum(corpus.duplicated(subset='inquiry'))\n",
    "print(f'count: {dublicates}')\n",
    "\n",
    "corpus[corpus.duplicated(subset='inquiry')][:5]"
   ]
  },
  {
   "cell_type": "markdown",
   "metadata": {},
   "source": [
    "#### Null Werte\n",
    "Im Extrakt befindet sich keine Zeile mit einem Null Wert bei der Support Anfrage."
   ]
  },
  {
   "cell_type": "code",
   "execution_count": 5,
   "metadata": {},
   "outputs": [
    {
     "data": {
      "text/html": [
       "<div>\n",
       "<style scoped>\n",
       "    .dataframe tbody tr th:only-of-type {\n",
       "        vertical-align: middle;\n",
       "    }\n",
       "\n",
       "    .dataframe tbody tr th {\n",
       "        vertical-align: top;\n",
       "    }\n",
       "\n",
       "    .dataframe thead th {\n",
       "        text-align: right;\n",
       "    }\n",
       "</style>\n",
       "<table border=\"1\" class=\"dataframe\">\n",
       "  <thead>\n",
       "    <tr style=\"text-align: right;\">\n",
       "      <th></th>\n",
       "      <th>ticket</th>\n",
       "      <th>customer</th>\n",
       "      <th>inquiry</th>\n",
       "      <th>state</th>\n",
       "      <th>answer</th>\n",
       "    </tr>\n",
       "  </thead>\n",
       "  <tbody>\n",
       "  </tbody>\n",
       "</table>\n",
       "</div>"
      ],
      "text/plain": [
       "Empty DataFrame\n",
       "Columns: [ticket, customer, inquiry, state, answer]\n",
       "Index: []"
      ]
     },
     "execution_count": 5,
     "metadata": {},
     "output_type": "execute_result"
    }
   ],
   "source": [
    "corpus[corpus.inquiry.isnull()]"
   ]
  },
  {
   "cell_type": "markdown",
   "metadata": {},
   "source": [
    "#### Umfang ohne Dublikate und Null Werte "
   ]
  },
  {
   "cell_type": "code",
   "execution_count": 6,
   "metadata": {},
   "outputs": [],
   "source": [
    "corpus.drop_duplicates(subset='inquiry', keep='first', inplace=True)\n",
    "corpus.dropna(axis='rows', how='any', inplace=True)"
   ]
  },
  {
   "cell_type": "code",
   "execution_count": 7,
   "metadata": {},
   "outputs": [
    {
     "data": {
      "text/html": [
       "<div>\n",
       "<style scoped>\n",
       "    .dataframe tbody tr th:only-of-type {\n",
       "        vertical-align: middle;\n",
       "    }\n",
       "\n",
       "    .dataframe tbody tr th {\n",
       "        vertical-align: top;\n",
       "    }\n",
       "\n",
       "    .dataframe thead th {\n",
       "        text-align: right;\n",
       "    }\n",
       "</style>\n",
       "<table border=\"1\" class=\"dataframe\">\n",
       "  <thead>\n",
       "    <tr style=\"text-align: right;\">\n",
       "      <th></th>\n",
       "      <th>ticket</th>\n",
       "      <th>customer</th>\n",
       "      <th>inquiry</th>\n",
       "      <th>state</th>\n",
       "      <th>answer</th>\n",
       "    </tr>\n",
       "  </thead>\n",
       "  <tbody>\n",
       "    <tr>\n",
       "      <th>count</th>\n",
       "      <td>2782</td>\n",
       "      <td>2782</td>\n",
       "      <td>2782</td>\n",
       "      <td>2782</td>\n",
       "      <td>2782</td>\n",
       "    </tr>\n",
       "    <tr>\n",
       "      <th>unique</th>\n",
       "      <td>8</td>\n",
       "      <td>31</td>\n",
       "      <td>2782</td>\n",
       "      <td>32</td>\n",
       "      <td>28</td>\n",
       "    </tr>\n",
       "    <tr>\n",
       "      <th>top</th>\n",
       "      <td>Fehler in der App</td>\n",
       "      <td>hep</td>\n",
       "      <td>keine fehler festgestellt.</td>\n",
       "      <td>closed successful</td>\n",
       "      <td>Mac: Access Denied -&gt; Cookies Virenscanner</td>\n",
       "    </tr>\n",
       "    <tr>\n",
       "      <th>freq</th>\n",
       "      <td>1175</td>\n",
       "      <td>698</td>\n",
       "      <td>1</td>\n",
       "      <td>1698</td>\n",
       "      <td>1471</td>\n",
       "    </tr>\n",
       "  </tbody>\n",
       "</table>\n",
       "</div>"
      ],
      "text/plain": [
       "                   ticket customer                        inquiry  \\\n",
       "count                2782     2782                           2782   \n",
       "unique                  8       31                           2782   \n",
       "top     Fehler in der App      hep   keine fehler festgestellt.     \n",
       "freq                 1175      698                              1   \n",
       "\n",
       "                    state                                      answer  \n",
       "count                2782                                        2782  \n",
       "unique                 32                                          28  \n",
       "top     closed successful  Mac: Access Denied -> Cookies Virenscanner  \n",
       "freq                 1698                                        1471  "
      ]
     },
     "execution_count": 7,
     "metadata": {},
     "output_type": "execute_result"
    }
   ],
   "source": [
    "corpus.describe()"
   ]
  },
  {
   "cell_type": "markdown",
   "metadata": {},
   "source": [
    "#### Verteilung von Anfragen auf Antworten\n",
    "Die Verteilung ist nicht Gleichmässig. Mit dieser Verteilung können nur folgende Antwort Kategorien verwendet werden:\n",
    "* Mac: Access Denied -> Cookies, Virenscanner\n",
    "* Coupon einlösen, Produkte nicht vorhanden\n",
    "* Anmeldung - Hinweise für Aktivierung\n",
    "* Linux\n",
    "\n",
    "Für die beiden Antwort Kategorien **Floating Lizenz, Geräte entfernt, Konfiguration** und **Abmelden, neu anmelden** sind prozentual zu wenig Daten im Vergleich der obigen aufgelisteten Antwort Kategorien vorhanden."
   ]
  },
  {
   "cell_type": "code",
   "execution_count": 9,
   "metadata": {},
   "outputs": [
    {
     "name": "stdout",
     "output_type": "stream",
     "text": [
      "[0]\t \n",
      "[1]\t angezeigt.\\n\\nFreundliche Grüsse \n",
      "[2]\t0x00007fff962c0303 TCP Conn 0x123549c30 complete. fd: 158 err: 0\\n28.049175 CFNetwork     \n",
      "[3]\t?>\\n<html xmlns=\\\"http://www.w3.org/1999/xhtml\\\" lang=\\\"de\\\" xml:lang=\\\"de\\\">\\n <head>\\n  <meta http-equiv=\\\"Content-Style-Type\\\" content=\\\"text/css\\\"/>\\n  <meta content=\\\"http://www.w3.org/1999/xhtml; charset=utf-8\\\" http-equiv=\\\"Content-Type\\\"/>\\n  <link href=\\\"http://localhost:7111/bundle/webResources/swissmem-manual.css\\\" charset=\\\"UTF-8\\\" rel=\\\"stylesheet\\\" />\\n  <script type=\\\"text/javascript\\\" src=\\\"http://localhost:7111/bundle/search/ILPSearchWeb.min.js\\\"></script>\\n  \\n  \\n  <style>\\n  \n",
      "[4]\tAbmelden neu anmelden\n",
      "[5]\tAktivierungscode falsch\n",
      "[6]\tAnmeldung - Hinweise für Aktivierung\n",
      "[7]\tAnmeldung-HinweisefürAktivierung\n",
      "[8]\tCoupon einlösen Produkte nicht vorhanden\n",
      "[9]\tCouponeinlösenProduktenichtvorhanden\n",
      "[10]\tDann klicken Sie oben rechts auf Ihren Benutzer Name oder Email mit Symbol.\\n5.\n",
      "[11]\tFloating Lizenz Geräte entfernt Konfiguration\n",
      "[12]\tFloatingLizenzGeräteentferntKonfiguration\n",
      "[13]\tGrafikkarte schwarze Balken\n",
      "[14]\tLinux\n",
      "[15]\tLinx\n",
      "[16]\tMac: Access Denied -> Cookies\n",
      "[17]\tMac: Access Denied -> Cookies Virenscanner\n",
      "[18]\tMac: Enable Cookies\n",
      "[19]\tMac:AccessDenied->CookiesVirenscanner\n",
      "[20]\tMac:EnableCookies\n",
      "[21]\tMc: Access Denied -> Cookies Virenscnner\n",
      "[22]\tXhYzhTpnx5 eingegeben.\\n\\nDie Downloads scheinen geklappt zu haben - es leuchtete bei allen der grüne Button. Die Information dass die Hefte nach dem Downloads als PDF zu Verfügung stehen habe ich gelesen. Allerdings finde ich auf meinem PC nicht eine PDF dieser Textbände. \\n\\nAllerdings wiurde auch nicht abgefragt wo die Textbände gespeichert werden sollen.\\n\\nWie komme ich nun an diese PDFs heran?\\n\\nDanke und freundliche Grüße\\n\n",
      "[23]\taffcfa543fb6\\nGesetzestexte15/2016\n",
      "[24]\tc7cf3035c31b\\n\\nDeutsch im Abu Ausgabe B\n",
      "[25]\tclosed successful\n",
      "[26]\tclosed_old_app_version\n",
      "[27]\tclosed_waiting_for_reply\n"
     ]
    }
   ],
   "source": [
    "all_answers = list(set(corpus.answer))\n",
    "all_answers.sort()\n",
    "for i, v in enumerate(all_answers):\n",
    "    print(f'[{i}]\\t{v}')"
   ]
  },
  {
   "cell_type": "markdown",
   "metadata": {},
   "source": [
    "#### Gefundene Probleme in der Antwort Kategorie\n",
    "1. ' '\n",
    "1. ' angezeigt.\\\\n\\\\nFreundliche Grüsse '\n",
    "1. '0x00007fff962c0303 TCP Conn 0x123549c30 complete. fd: 158 err: 0\\\\n28.049175 CFNetwork     '\n",
    "1. '<html xmlns=\\\\\"http://www.w3.org/1999/xhtml\\\\\" lang=\\\\\"de\\\\\" xml:lang=\\\\\"de\\\\\">\\\\n <head>'\n",
    "1. 'Dann klicken Sie oben rechts auf Ihren Benutzer Name oder Email mit Symbol.\\\\n5.'\n",
    "1. 'XhYzhTpnx5 eingegeben.\\\\n\\\\nDie Downloads scheinen geklappt zu haben - es leuchtete bei allen der grüne Button.'\n",
    "1. 'affcfa543fb6\\\\nGesetzestexte15/2016',\n",
    "1. 'c7cf3035c31b\\\\n\\\\nDeutsch im Abu Ausgabe B',\n",
    "1. 'closed successful',\n",
    "1. 'closed_old_app_version',\n",
    "1. 'closed_waiting_for_reply' "
   ]
  },
  {
   "cell_type": "markdown",
   "metadata": {},
   "source": [
    "#### Lösung alle Zeilen mit diesen Antworten dropen"
   ]
  },
  {
   "cell_type": "code",
   "execution_count": 10,
   "metadata": {},
   "outputs": [],
   "source": [
    "corpus.drop(corpus[\n",
    "    (corpus.answer == all_answers[0])  | \n",
    "    (corpus.answer == all_answers[1])  | \n",
    "    (corpus.answer == all_answers[2])  | \n",
    "    (corpus.answer == all_answers[3])  | \n",
    "    (corpus.answer == all_answers[10])  | \n",
    "    (corpus.answer == all_answers[22]) | \n",
    "    (corpus.answer == all_answers[23]) | \n",
    "    (corpus.answer == all_answers[24]) | \n",
    "    (corpus.answer == all_answers[25]) | \n",
    "    (corpus.answer == all_answers[26]) | \n",
    "    (corpus.answer == all_answers[27])\n",
    "].index, inplace=True)"
   ]
  },
  {
   "cell_type": "code",
   "execution_count": 11,
   "metadata": {},
   "outputs": [
    {
     "data": {
      "text/plain": [
       "['Abmelden neu anmelden',\n",
       " 'Aktivierungscode falsch',\n",
       " 'Anmeldung - Hinweise für Aktivierung',\n",
       " 'Anmeldung-HinweisefürAktivierung',\n",
       " 'Coupon einlösen Produkte nicht vorhanden',\n",
       " 'CouponeinlösenProduktenichtvorhanden',\n",
       " 'Floating Lizenz Geräte entfernt Konfiguration',\n",
       " 'FloatingLizenzGeräteentferntKonfiguration',\n",
       " 'Grafikkarte schwarze Balken',\n",
       " 'Linux',\n",
       " 'Linx',\n",
       " 'Mac: Access Denied -> Cookies',\n",
       " 'Mac: Access Denied -> Cookies Virenscanner',\n",
       " 'Mac: Enable Cookies',\n",
       " 'Mac:AccessDenied->CookiesVirenscanner',\n",
       " 'Mac:EnableCookies',\n",
       " 'Mc: Access Denied -> Cookies Virenscnner']"
      ]
     },
     "execution_count": 11,
     "metadata": {},
     "output_type": "execute_result"
    }
   ],
   "source": [
    "all_answers = list(set(corpus.answer))\n",
    "all_answers.sort()\n",
    "all_answers"
   ]
  },
  {
   "cell_type": "markdown",
   "metadata": {},
   "source": [
    "#### Weitere Probleme Antwort Kategorien mit Rechtschreibfehler\n",
    "- Linux, Linx\n",
    "- Floating Lizenz Geräte entfernt Konfiguration, FloatingLizenzGeräteentferntKonfiguration\n",
    "- Mac: Access Denied -> Cookies Virenscanner, Mac:AccessDenied->CookiesVirenscanner, Mac: Access Denied -> Cookies,\n",
    "Mc: Access Denied -> Cookies Virenscnner\n",
    "- Mac: Enable Cookies, Mac:EnableCookies\n",
    "- Anmeldung - Hinweise für Aktivierung, Anmeldung-HinweisefürAktivierung\n",
    "\n",
    "#### Lösung search & replace"
   ]
  },
  {
   "cell_type": "code",
   "execution_count": 13,
   "metadata": {},
   "outputs": [],
   "source": [
    "corpus['answer'].replace({\n",
    "    'Anmeldung-HinweisefürAktivierung': 'Anmeldung - Hinweise für Aktivierung',\n",
    "    'CouponeinlösenProduktenichtvorhanden': 'Coupon einlösen Produkte nicht vorhanden',\n",
    "    'FloatingLizenzGeräteentferntKonfiguration': 'Floating Lizenz Geräte entfernt Konfiguration',\n",
    "    'Linx': 'Linux',\n",
    "    'Mac:AccessDenied->CookiesVirenscanner': 'Mac: Access Denied -> Cookies Virenscanner',\n",
    "    'Mac:AccessDenied->CookiesVirenscanner': 'Mac: Access Denied -> Cookies Virenscanner',\n",
    "    'Mac: Access Denied -> Cookies': 'Mac: Access Denied -> Cookies Virenscanner',\n",
    "    'Mc: Access Denied -> Cookies Virenscnner': 'Mac: Access Denied -> Cookies Virenscanner',\n",
    "    'Mac:EnableCookies': 'Mac: Enable Cookies'\n",
    "}, inplace=True)"
   ]
  },
  {
   "cell_type": "code",
   "execution_count": 14,
   "metadata": {},
   "outputs": [
    {
     "data": {
      "text/plain": [
       "['Abmelden neu anmelden',\n",
       " 'Aktivierungscode falsch',\n",
       " 'Anmeldung - Hinweise für Aktivierung',\n",
       " 'Coupon einlösen Produkte nicht vorhanden',\n",
       " 'Floating Lizenz Geräte entfernt Konfiguration',\n",
       " 'Grafikkarte schwarze Balken',\n",
       " 'Linux',\n",
       " 'Mac: Access Denied -> Cookies Virenscanner',\n",
       " 'Mac: Enable Cookies']"
      ]
     },
     "execution_count": 14,
     "metadata": {},
     "output_type": "execute_result"
    }
   ],
   "source": [
    "all_answers = list(set(corpus.answer))\n",
    "all_answers.sort()\n",
    "all_answers"
   ]
  },
  {
   "cell_type": "code",
   "execution_count": 15,
   "metadata": {},
   "outputs": [
    {
     "data": {
      "image/png": "[encoded data removed]",
      "text/plain": [
       "<Figure size 576x576 with 1 Axes>"
      ]
     },
     "metadata": {
      "needs_background": "light"
     },
     "output_type": "display_data"
    }
   ],
   "source": [
    "import matplotlib.pyplot as plt\n",
    "%matplotlib inline\n",
    "\n",
    "fig = plt.figure(figsize=(8, 8))\n",
    "corpus.groupby('answer').inquiry.count().plot.bar(ylim=0)\n",
    "plt.title('Verteilung von Anfragen auf Antworten')\n",
    "plt.xlabel('answer categories')\n",
    "plt.ylabel('number of inquiries')\n",
    "plt.show()"
   ]
  },
  {
   "cell_type": "markdown",
   "metadata": {},
   "source": [
    "### 4. Beispiele von guten / schlechten Nachrichten\n",
    "Bei der Analyse der Daten haben wir gute und schlechte Support Anfragen gesehen. Nun zeigen wir welche Nachrichten sich anhand der _Wort Menge_ gut für NLP eignen und welche nicht.\n",
    "\n",
    "Beispiele für **schlechte** Nachrichten:"
   ]
  },
  {
   "cell_type": "code",
   "execution_count": 18,
   "metadata": {},
   "outputs": [
    {
     "name": "stdout",
     "output_type": "stream",
     "text": [
      "Bsp. 0 \t ich wollte heute das beook auf meinem laptop aktuallisieren. trotz löschen des alten programms und erneutem download kann ich die neuste version nicht auf meinem laptop laden. auf dem pc für die schulung der lernenden funktioniert es einwandfrei. als fehlermeldung wird \\\"gerätezahl überschritten\\\" angegeben. ich habe aber das beook nur auf dem schulungspc und dem laptop installiert also zwei geräte. den laptop benötige ich für eine weiterbildung am 16. märz in bern. wo liegt mein fehler?? freundliche grüsse balz wyss  \n",
      "\n",
      "Bsp. 1 \t   voucher kann nicht aktiviert werden  \n",
      "\n",
      "Bsp. 2 \t  mir und vielen anderen schüler meiner klasse haben schon mehrmals erlebt dass durch das farbige markieren bei beook die ganze seite plötzlich gelb wurde. das ist überaus mühsam ich bitte sie das zu ändern. freundliche grüsse  \n",
      "\n"
     ]
    }
   ],
   "source": [
    "bad_examples = []\n",
    "bad_examples.append(corpus.iloc[26, 2])\n",
    "bad_examples.append(corpus.iloc[39, 2])\n",
    "bad_examples.append(corpus.iloc[61, 2])\n",
    "\n",
    "for i in range(len(bad_examples)):\n",
    "    print('Bsp.', i, '\\t', bad_examples[i], '\\n')"
   ]
  },
  {
   "cell_type": "markdown",
   "metadata": {},
   "source": [
    "Beispiele für **gute** Nachrichten:"
   ]
  },
  {
   "cell_type": "code",
   "execution_count": 19,
   "metadata": {},
   "outputs": [
    {
     "name": "stdout",
     "output_type": "stream",
     "text": [
      "Bsp. 0 \t  ich wollte das lehrmittel aktualisieren jedoch geht dies nicht. es kommt dann gleich eine fehlermeldung beim aktualisieren des ersten hefts \\\"ein haus entsteht\\\". zur zeit kann ich gar nichts mehr öffnen. können sie das problem bitte so schnell wie möglich beheben da ich die unterlagen in der schule und zum lernen benötige. vielen dank. freundliche grüsse  \n",
      "\n",
      "Bsp. 1 \t ich habe meinen laptop neu aufgesetzt und nun die swissmem-app wieder installiert. alle meine bücher sind wieder vorhanden aber beim prüfungsbuch metall 30. auflage wird mir kein richtiges deckblatt angezeigt nur ein weisses mit dem swissmem-logo drauf. bei der 29. auflage wird alles richgig angezeigt. woran liegt das?  \n",
      "\n",
      "Bsp. 2 \t  ich kann in meinem beook keine lehrmittel ehr besichtigen. bei meinen mitschühlern funktiorniert es ausser bei dario auch nicht. so mit kann ich mich nicht mehr informieren und nicht vollständig in der klasse mitarbeiten habe auch keinen aktivierungscood enthalten was muss und kann ich tun ? ich habe vorhin auch direkt bei euch angerufen. und man hat mich gbitet erneut eine subbrotanfrage zu machen. liebe grüsse boschung nicole   \n",
      "\n",
      "Bsp. 3 \t  leider kann ich die integrierten videos der app injektionen auf meinem endgerät laptop nicht abspielen. das programm meldet folgende fehlermeldung: \\\"no compatible source was found for this video\\\". ich habe es sowohl mit java als auch mit adobe flash ausprobiert. über ihre hilfe und einen lösungsweg freue ich mich. mit freundlichen grüßen  \n",
      "\n",
      "Bsp. 4 \t ich wollte heute das beook auf meinem laptop aktuallisieren. trotz löschen des alten programms und erneutem download kann ich die neuste version nicht auf meinem laptop laden. auf dem pc für die schulung der lernenden funktioniert es einwandfrei. als fehlermeldung wird \\\"gerätezahl überschritten\\\" angegeben. ich habe aber das beook nur auf dem schulungspc und dem laptop installiert also zwei geräte. den laptop benötige ich für eine weiterbildung am 16. märz in bern. wo liegt mein fehler?? freundliche grüsse balz wyss  \n",
      "\n"
     ]
    }
   ],
   "source": [
    "word = 5\n",
    "mask = (corpus['inquiry'].str.len() > 50 * word)\n",
    "good_inquiries = corpus.loc[mask].inquiry\n",
    "\n",
    "for i, msg in enumerate(good_inquiries[:5]):\n",
    "    print('Bsp.', i, '\\t', msg, '\\n')"
   ]
  },
  {
   "cell_type": "code",
   "execution_count": null,
   "metadata": {},
   "outputs": [],
   "source": []
  }
 ],
 "metadata": {
  "kernelspec": {
   "display_name": "Python 3",
   "language": "python",
   "name": "python3"
  },
  "language_info": {
   "codemirror_mode": {
    "name": "ipython",
    "version": 3
   },
   "file_extension": ".py",
   "mimetype": "text/x-python",
   "name": "python",
   "nbconvert_exporter": "python",
   "pygments_lexer": "ipython3",
   "version": "3.6.7"
  }
 },
 "nbformat": 4,
 "nbformat_minor": 2
}
