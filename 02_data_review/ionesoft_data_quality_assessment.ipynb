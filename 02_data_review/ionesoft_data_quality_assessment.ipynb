{
 "cells": [
  {
   "cell_type": "markdown",
   "metadata": {},
   "source": [
    "# Data Quality Assessment\n",
    "In diesem Dokument werden die Daten aus dem erhaltenen Extrakt veranschaulicht und analysiert. Dabei liegt das Augenmerk auf folgende Kriterien:\n",
    "1. Format der erhaltenen Daten\n",
    "1. Unsere Interpretation der Daten\n",
    "1. Umfang der Daten\n",
    "    * Dublikate\n",
    "    * Null Werte\n",
    "    * Umfang ohne Dublikate und Null Werte\n",
    "    * Verteilung von Anfragen auf Antworten\n",
    "1. Beispiele von guten / schlechten Nachrichten"
   ]
  },
  {
   "cell_type": "code",
   "execution_count": 1,
   "metadata": {},
   "outputs": [],
   "source": [
    "import warnings\n",
    "warnings.filterwarnings('ignore')"
   ]
  },
  {
   "cell_type": "markdown",
   "metadata": {},
   "source": [
    "### 1. Format der erhaltenen Daten\n",
    "Die Daten _chatbot_extract-1.csv_ wurden in einem CSV-Format geliefert. Dieses Format eignet sich  gut, da sie sehr leicht mithilfe von pandas eingelesen werden kann."
   ]
  },
  {
   "cell_type": "code",
   "execution_count": 2,
   "metadata": {},
   "outputs": [
    {
     "data": {
      "text/html": [
       "<div>\n",
       "<style scoped>\n",
       "    .dataframe tbody tr th:only-of-type {\n",
       "        vertical-align: middle;\n",
       "    }\n",
       "\n",
       "    .dataframe tbody tr th {\n",
       "        vertical-align: top;\n",
       "    }\n",
       "\n",
       "    .dataframe thead th {\n",
       "        text-align: right;\n",
       "    }\n",
       "</style>\n",
       "<table border=\"1\" class=\"dataframe\">\n",
       "  <thead>\n",
       "    <tr style=\"text-align: right;\">\n",
       "      <th></th>\n",
       "      <th>ticket</th>\n",
       "      <th>customer</th>\n",
       "      <th>inquiry</th>\n",
       "      <th>state</th>\n",
       "      <th>answer</th>\n",
       "    </tr>\n",
       "  </thead>\n",
       "  <tbody>\n",
       "    <tr>\n",
       "      <th>0</th>\n",
       "      <td>Fehler in der App</td>\n",
       "      <td>Swissmem</td>\n",
       "      <td>Normenauszug 2018, Rechenbuch Metall, Tabellen...</td>\n",
       "      <td>closed successful</td>\n",
       "      <td>Mac: Access Denied -&gt; Cookies, Virenscanner</td>\n",
       "    </tr>\n",
       "    <tr>\n",
       "      <th>1</th>\n",
       "      <td>Fehler in der App</td>\n",
       "      <td>SVBA</td>\n",
       "      <td>Ich kann die Bilder nicht mehr öffnen um mit ...</td>\n",
       "      <td>closed successful</td>\n",
       "      <td>Coupon einlösen, Produkte nicht vorhanden</td>\n",
       "    </tr>\n",
       "    <tr>\n",
       "      <th>2</th>\n",
       "      <td>Fehler in der App</td>\n",
       "      <td>hep</td>\n",
       "      <td>Leider fehlen mir paar Kapitel im Lehrmittel (...</td>\n",
       "      <td>closed successful</td>\n",
       "      <td>Mac: Access Denied -&gt; Cookies, Virenscanner</td>\n",
       "    </tr>\n",
       "    <tr>\n",
       "      <th>3</th>\n",
       "      <td>Anmeldung / Aktivierung</td>\n",
       "      <td>AGVS</td>\n",
       "      <td>Ich kann im FK z.b. die Seite 605 nicht lesen ...</td>\n",
       "      <td>closed successful</td>\n",
       "      <td>Linux</td>\n",
       "    </tr>\n",
       "    <tr>\n",
       "      <th>4</th>\n",
       "      <td>Anmeldung / Aktivierung</td>\n",
       "      <td>SVBA</td>\n",
       "      <td>Ich kann das Kapitel Technisches Englisch nich...</td>\n",
       "      <td>closed successful</td>\n",
       "      <td>Coupon einlösen, Produkte nicht vorhanden</td>\n",
       "    </tr>\n",
       "  </tbody>\n",
       "</table>\n",
       "</div>"
      ],
      "text/plain": [
       "                    ticket  customer  \\\n",
       "0        Fehler in der App  Swissmem   \n",
       "1        Fehler in der App      SVBA   \n",
       "2        Fehler in der App       hep   \n",
       "3  Anmeldung / Aktivierung      AGVS   \n",
       "4  Anmeldung / Aktivierung      SVBA   \n",
       "\n",
       "                                             inquiry              state  \\\n",
       "0  Normenauszug 2018, Rechenbuch Metall, Tabellen...  closed successful   \n",
       "1   Ich kann die Bilder nicht mehr öffnen um mit ...  closed successful   \n",
       "2  Leider fehlen mir paar Kapitel im Lehrmittel (...  closed successful   \n",
       "3  Ich kann im FK z.b. die Seite 605 nicht lesen ...  closed successful   \n",
       "4  Ich kann das Kapitel Technisches Englisch nich...  closed successful   \n",
       "\n",
       "                                        answer  \n",
       "0  Mac: Access Denied -> Cookies, Virenscanner  \n",
       "1    Coupon einlösen, Produkte nicht vorhanden  \n",
       "2  Mac: Access Denied -> Cookies, Virenscanner  \n",
       "3                                        Linux  \n",
       "4    Coupon einlösen, Produkte nicht vorhanden  "
      ]
     },
     "execution_count": 2,
     "metadata": {},
     "output_type": "execute_result"
    }
   ],
   "source": [
    "import pandas as pd\n",
    "\n",
    "extract = '../01_data/chatbot_extract-1.csv'\n",
    "names=['ticket', 'customer', 'inquiry', 'state', 'answer']\n",
    "\n",
    "corpus = pd.read_csv(extract, encoding='utf-8', names=names, skiprows=[0], usecols=[1, 2, 4, 5, 6])\n",
    "corpus.head()"
   ]
  },
  {
   "cell_type": "markdown",
   "metadata": {},
   "source": [
    "### 2. Unsere Interpretation der Daten\n",
    "| Art      | Beschreibung                                                                                         |\n",
    "|----------|------------------------------------------------------------------------------------------------------|\n",
    "| ticket   | Das ist die Kategorie welcher vom Ersteller des Tickets aus einer Dropdown Box gewählt wird.         |\n",
    "| customer | Das Unternehmen des Kunden.                                                                          |\n",
    "| inquiry  | Das ist die Support Anfrage die gestellt wird.                                                       |\n",
    "| state    | Beschreibt den aktuellen Zustand des Tickets.                                                        |\n",
    "| answer   | Anhand dieser Antwort Kategorie wird die korrekte Anleitung gewählt werden, welche das Problem löst. |"
   ]
  },
  {
   "cell_type": "markdown",
   "metadata": {},
   "source": [
    "### 3. Umfang der Daten\n",
    "Das Extrakt enthält _81 Support Anfragen_. Diese werden nun auf folgende Punkte untersucht:\n",
    "* Dublikate\n",
    "* Null Werte\n",
    "* Umfang ohne Dublikate und Null Werte\n",
    "* Verteilung von Anfragen auf Antworten"
   ]
  },
  {
   "cell_type": "code",
   "execution_count": 3,
   "metadata": {},
   "outputs": [
    {
     "data": {
      "text/html": [
       "<div>\n",
       "<style scoped>\n",
       "    .dataframe tbody tr th:only-of-type {\n",
       "        vertical-align: middle;\n",
       "    }\n",
       "\n",
       "    .dataframe tbody tr th {\n",
       "        vertical-align: top;\n",
       "    }\n",
       "\n",
       "    .dataframe thead th {\n",
       "        text-align: right;\n",
       "    }\n",
       "</style>\n",
       "<table border=\"1\" class=\"dataframe\">\n",
       "  <thead>\n",
       "    <tr style=\"text-align: right;\">\n",
       "      <th></th>\n",
       "      <th>ticket</th>\n",
       "      <th>customer</th>\n",
       "      <th>inquiry</th>\n",
       "      <th>state</th>\n",
       "      <th>answer</th>\n",
       "    </tr>\n",
       "  </thead>\n",
       "  <tbody>\n",
       "    <tr>\n",
       "      <th>count</th>\n",
       "      <td>81</td>\n",
       "      <td>81</td>\n",
       "      <td>80</td>\n",
       "      <td>81</td>\n",
       "      <td>81</td>\n",
       "    </tr>\n",
       "    <tr>\n",
       "      <th>unique</th>\n",
       "      <td>6</td>\n",
       "      <td>16</td>\n",
       "      <td>70</td>\n",
       "      <td>7</td>\n",
       "      <td>6</td>\n",
       "    </tr>\n",
       "    <tr>\n",
       "      <th>top</th>\n",
       "      <td>Inhaltlicher Fehler</td>\n",
       "      <td>SVBA</td>\n",
       "      <td>Wenn in der App, z.B. nur Pflichtaufgaben anek...</td>\n",
       "      <td>closed successful</td>\n",
       "      <td>Mac: Access Denied -&gt; Cookies, Virenscanner</td>\n",
       "    </tr>\n",
       "    <tr>\n",
       "      <th>freq</th>\n",
       "      <td>24</td>\n",
       "      <td>22</td>\n",
       "      <td>2</td>\n",
       "      <td>54</td>\n",
       "      <td>29</td>\n",
       "    </tr>\n",
       "  </tbody>\n",
       "</table>\n",
       "</div>"
      ],
      "text/plain": [
       "                     ticket customer  \\\n",
       "count                    81       81   \n",
       "unique                    6       16   \n",
       "top     Inhaltlicher Fehler     SVBA   \n",
       "freq                     24       22   \n",
       "\n",
       "                                                  inquiry              state  \\\n",
       "count                                                  80                 81   \n",
       "unique                                                 70                  7   \n",
       "top     Wenn in der App, z.B. nur Pflichtaufgaben anek...  closed successful   \n",
       "freq                                                    2                 54   \n",
       "\n",
       "                                             answer  \n",
       "count                                            81  \n",
       "unique                                            6  \n",
       "top     Mac: Access Denied -> Cookies, Virenscanner  \n",
       "freq                                             29  "
      ]
     },
     "execution_count": 3,
     "metadata": {},
     "output_type": "execute_result"
    }
   ],
   "source": [
    "corpus.describe()"
   ]
  },
  {
   "cell_type": "markdown",
   "metadata": {},
   "source": [
    "#### Dublikate\n",
    "Das Extrakt enthält _10 Dublikate_ Einträge"
   ]
  },
  {
   "cell_type": "code",
   "execution_count": 4,
   "metadata": {},
   "outputs": [
    {
     "name": "stdout",
     "output_type": "stream",
     "text": [
      "count: 10\n"
     ]
    },
    {
     "data": {
      "text/html": [
       "<div>\n",
       "<style scoped>\n",
       "    .dataframe tbody tr th:only-of-type {\n",
       "        vertical-align: middle;\n",
       "    }\n",
       "\n",
       "    .dataframe tbody tr th {\n",
       "        vertical-align: top;\n",
       "    }\n",
       "\n",
       "    .dataframe thead th {\n",
       "        text-align: right;\n",
       "    }\n",
       "</style>\n",
       "<table border=\"1\" class=\"dataframe\">\n",
       "  <thead>\n",
       "    <tr style=\"text-align: right;\">\n",
       "      <th></th>\n",
       "      <th>ticket</th>\n",
       "      <th>customer</th>\n",
       "      <th>inquiry</th>\n",
       "      <th>state</th>\n",
       "      <th>answer</th>\n",
       "    </tr>\n",
       "  </thead>\n",
       "  <tbody>\n",
       "    <tr>\n",
       "      <th>51</th>\n",
       "      <td>Inhaltlicher Fehler</td>\n",
       "      <td>hep</td>\n",
       "      <td>ich kann die alles klar fragen meines detailha...</td>\n",
       "      <td>closed successful</td>\n",
       "      <td>Mac: Access Denied -&gt; Cookies, Virenscanner</td>\n",
       "    </tr>\n",
       "    <tr>\n",
       "      <th>52</th>\n",
       "      <td>Fehler in der App</td>\n",
       "      <td>SVBA</td>\n",
       "      <td>wenn in der app, z.b. nur pflichtaufgaben anek...</td>\n",
       "      <td>closed successful</td>\n",
       "      <td>Coupon einlösen, Produkte nicht vorhanden</td>\n",
       "    </tr>\n",
       "    <tr>\n",
       "      <th>54</th>\n",
       "      <td>Geräteanzahl überschritten</td>\n",
       "      <td>SFF</td>\n",
       "      <td>entfernen der app vom i-pad</td>\n",
       "      <td>closed_waiting_for_reply</td>\n",
       "      <td>Mac: Access Denied -&gt; Cookies, Virenscanner</td>\n",
       "    </tr>\n",
       "    <tr>\n",
       "      <th>55</th>\n",
       "      <td>Geräteanzahl überschritten</td>\n",
       "      <td>BEOOK</td>\n",
       "      <td>i-pad</td>\n",
       "      <td>closed successful</td>\n",
       "      <td>Anmeldung - Hinweise für Aktivierung</td>\n",
       "    </tr>\n",
       "    <tr>\n",
       "      <th>56</th>\n",
       "      <td>Inhaltlicher Fehler</td>\n",
       "      <td>COMPENDIO</td>\n",
       "      <td>der folgende link im buch \"projektmanagement -...</td>\n",
       "      <td>closed successful</td>\n",
       "      <td>Abmelden, neu anmelden</td>\n",
       "    </tr>\n",
       "    <tr>\n",
       "      <th>57</th>\n",
       "      <td>Inhaltlicher Fehler</td>\n",
       "      <td>SVBA</td>\n",
       "      <td>formelsammlungkein geordnetes inhaltsverzeichn...</td>\n",
       "      <td>closed successful</td>\n",
       "      <td>Coupon einlösen, Produkte nicht vorhanden</td>\n",
       "    </tr>\n",
       "    <tr>\n",
       "      <th>58</th>\n",
       "      <td>Inhaltlicher Fehler</td>\n",
       "      <td>SVBA</td>\n",
       "      <td>das inhaltsverzeichniss ist viel zu undefinier...</td>\n",
       "      <td>closed successful</td>\n",
       "      <td>Coupon einlösen, Produkte nicht vorhanden</td>\n",
       "    </tr>\n",
       "    <tr>\n",
       "      <th>59</th>\n",
       "      <td>Inhaltlicher Fehler</td>\n",
       "      <td>SVBA</td>\n",
       "      <td>formel buch ist ein einziges chaso.kein sauber...</td>\n",
       "      <td>closed successful</td>\n",
       "      <td>Coupon einlösen, Produkte nicht vorhanden</td>\n",
       "    </tr>\n",
       "    <tr>\n",
       "      <th>60</th>\n",
       "      <td>Inhaltlicher Fehler</td>\n",
       "      <td>SVBA</td>\n",
       "      <td>das inhaltsverzeichniss ist zu wenig detailier...</td>\n",
       "      <td>closed successful</td>\n",
       "      <td>Coupon einlösen, Produkte nicht vorhanden</td>\n",
       "    </tr>\n",
       "    <tr>\n",
       "      <th>61</th>\n",
       "      <td>Inhaltlicher Fehler</td>\n",
       "      <td>BEOOK</td>\n",
       "      <td>das formelbuch \"formelsammlung autoberufe\" ist...</td>\n",
       "      <td>closed successful</td>\n",
       "      <td>Anmeldung - Hinweise für Aktivierung</td>\n",
       "    </tr>\n",
       "  </tbody>\n",
       "</table>\n",
       "</div>"
      ],
      "text/plain": [
       "                        ticket   customer  \\\n",
       "51         Inhaltlicher Fehler        hep   \n",
       "52           Fehler in der App       SVBA   \n",
       "54  Geräteanzahl überschritten        SFF   \n",
       "55  Geräteanzahl überschritten      BEOOK   \n",
       "56         Inhaltlicher Fehler  COMPENDIO   \n",
       "57         Inhaltlicher Fehler       SVBA   \n",
       "58         Inhaltlicher Fehler       SVBA   \n",
       "59         Inhaltlicher Fehler       SVBA   \n",
       "60         Inhaltlicher Fehler       SVBA   \n",
       "61         Inhaltlicher Fehler      BEOOK   \n",
       "\n",
       "                                              inquiry  \\\n",
       "51  ich kann die alles klar fragen meines detailha...   \n",
       "52  wenn in der app, z.b. nur pflichtaufgaben anek...   \n",
       "54                        entfernen der app vom i-pad   \n",
       "55                                              i-pad   \n",
       "56  der folgende link im buch \"projektmanagement -...   \n",
       "57  formelsammlungkein geordnetes inhaltsverzeichn...   \n",
       "58  das inhaltsverzeichniss ist viel zu undefinier...   \n",
       "59  formel buch ist ein einziges chaso.kein sauber...   \n",
       "60  das inhaltsverzeichniss ist zu wenig detailier...   \n",
       "61  das formelbuch \"formelsammlung autoberufe\" ist...   \n",
       "\n",
       "                       state                                       answer  \n",
       "51         closed successful  Mac: Access Denied -> Cookies, Virenscanner  \n",
       "52         closed successful    Coupon einlösen, Produkte nicht vorhanden  \n",
       "54  closed_waiting_for_reply  Mac: Access Denied -> Cookies, Virenscanner  \n",
       "55         closed successful         Anmeldung - Hinweise für Aktivierung  \n",
       "56         closed successful                       Abmelden, neu anmelden  \n",
       "57         closed successful    Coupon einlösen, Produkte nicht vorhanden  \n",
       "58         closed successful    Coupon einlösen, Produkte nicht vorhanden  \n",
       "59         closed successful    Coupon einlösen, Produkte nicht vorhanden  \n",
       "60         closed successful    Coupon einlösen, Produkte nicht vorhanden  \n",
       "61         closed successful         Anmeldung - Hinweise für Aktivierung  "
      ]
     },
     "execution_count": 4,
     "metadata": {},
     "output_type": "execute_result"
    }
   ],
   "source": [
    "import numpy as np\n",
    "\n",
    "corpus['inquiry'] = corpus['inquiry'].str.lower()\n",
    "dublicates = np.sum(corpus.duplicated(subset='inquiry'))\n",
    "print(f'count: {dublicates}')\n",
    "\n",
    "corpus[corpus.duplicated(subset='inquiry')]"
   ]
  },
  {
   "cell_type": "markdown",
   "metadata": {},
   "source": [
    "#### Null Werte\n",
    "Im Extrakt befindet sich eine Zeile mit einem Null Wert bei der Support Anfrage."
   ]
  },
  {
   "cell_type": "code",
   "execution_count": 5,
   "metadata": {},
   "outputs": [
    {
     "data": {
      "text/html": [
       "<div>\n",
       "<style scoped>\n",
       "    .dataframe tbody tr th:only-of-type {\n",
       "        vertical-align: middle;\n",
       "    }\n",
       "\n",
       "    .dataframe tbody tr th {\n",
       "        vertical-align: top;\n",
       "    }\n",
       "\n",
       "    .dataframe thead th {\n",
       "        text-align: right;\n",
       "    }\n",
       "</style>\n",
       "<table border=\"1\" class=\"dataframe\">\n",
       "  <thead>\n",
       "    <tr style=\"text-align: right;\">\n",
       "      <th></th>\n",
       "      <th>ticket</th>\n",
       "      <th>customer</th>\n",
       "      <th>inquiry</th>\n",
       "      <th>state</th>\n",
       "      <th>answer</th>\n",
       "    </tr>\n",
       "  </thead>\n",
       "  <tbody>\n",
       "    <tr>\n",
       "      <th>67</th>\n",
       "      <td>Anmeldung / Aktivierung</td>\n",
       "      <td>BEOOK</td>\n",
       "      <td>NaN</td>\n",
       "      <td>closed_app_misuse</td>\n",
       "      <td>Anmeldung - Hinweise für Aktivierung</td>\n",
       "    </tr>\n",
       "  </tbody>\n",
       "</table>\n",
       "</div>"
      ],
      "text/plain": [
       "                     ticket customer inquiry              state  \\\n",
       "67  Anmeldung / Aktivierung    BEOOK     NaN  closed_app_misuse   \n",
       "\n",
       "                                  answer  \n",
       "67  Anmeldung - Hinweise für Aktivierung  "
      ]
     },
     "execution_count": 5,
     "metadata": {},
     "output_type": "execute_result"
    }
   ],
   "source": [
    "corpus[corpus.inquiry.isnull()]"
   ]
  },
  {
   "cell_type": "markdown",
   "metadata": {},
   "source": [
    "#### Umfang ohne Dublikate und Null Werte "
   ]
  },
  {
   "cell_type": "code",
   "execution_count": 6,
   "metadata": {},
   "outputs": [],
   "source": [
    "corpus.drop_duplicates(subset='inquiry', keep='first', inplace=True)\n",
    "corpus.dropna(axis='rows', how='any', inplace=True)"
   ]
  },
  {
   "cell_type": "code",
   "execution_count": 7,
   "metadata": {},
   "outputs": [
    {
     "data": {
      "text/html": [
       "<div>\n",
       "<style scoped>\n",
       "    .dataframe tbody tr th:only-of-type {\n",
       "        vertical-align: middle;\n",
       "    }\n",
       "\n",
       "    .dataframe tbody tr th {\n",
       "        vertical-align: top;\n",
       "    }\n",
       "\n",
       "    .dataframe thead th {\n",
       "        text-align: right;\n",
       "    }\n",
       "</style>\n",
       "<table border=\"1\" class=\"dataframe\">\n",
       "  <thead>\n",
       "    <tr style=\"text-align: right;\">\n",
       "      <th></th>\n",
       "      <th>ticket</th>\n",
       "      <th>customer</th>\n",
       "      <th>inquiry</th>\n",
       "      <th>state</th>\n",
       "      <th>answer</th>\n",
       "    </tr>\n",
       "  </thead>\n",
       "  <tbody>\n",
       "    <tr>\n",
       "      <th>count</th>\n",
       "      <td>70</td>\n",
       "      <td>70</td>\n",
       "      <td>70</td>\n",
       "      <td>70</td>\n",
       "      <td>70</td>\n",
       "    </tr>\n",
       "    <tr>\n",
       "      <th>unique</th>\n",
       "      <td>6</td>\n",
       "      <td>16</td>\n",
       "      <td>70</td>\n",
       "      <td>6</td>\n",
       "      <td>6</td>\n",
       "    </tr>\n",
       "    <tr>\n",
       "      <th>top</th>\n",
       "      <td>Fehler in der App</td>\n",
       "      <td>SVBA</td>\n",
       "      <td>hab mir einen neuen laptop gekauft und da steh...</td>\n",
       "      <td>closed successful</td>\n",
       "      <td>Mac: Access Denied -&gt; Cookies, Virenscanner</td>\n",
       "    </tr>\n",
       "    <tr>\n",
       "      <th>freq</th>\n",
       "      <td>18</td>\n",
       "      <td>17</td>\n",
       "      <td>1</td>\n",
       "      <td>45</td>\n",
       "      <td>27</td>\n",
       "    </tr>\n",
       "  </tbody>\n",
       "</table>\n",
       "</div>"
      ],
      "text/plain": [
       "                   ticket customer  \\\n",
       "count                  70       70   \n",
       "unique                  6       16   \n",
       "top     Fehler in der App     SVBA   \n",
       "freq                   18       17   \n",
       "\n",
       "                                                  inquiry              state  \\\n",
       "count                                                  70                 70   \n",
       "unique                                                 70                  6   \n",
       "top     hab mir einen neuen laptop gekauft und da steh...  closed successful   \n",
       "freq                                                    1                 45   \n",
       "\n",
       "                                             answer  \n",
       "count                                            70  \n",
       "unique                                            6  \n",
       "top     Mac: Access Denied -> Cookies, Virenscanner  \n",
       "freq                                             27  "
      ]
     },
     "execution_count": 7,
     "metadata": {},
     "output_type": "execute_result"
    }
   ],
   "source": [
    "corpus.describe()"
   ]
  },
  {
   "cell_type": "markdown",
   "metadata": {},
   "source": [
    "#### Verteilung von Anfragen auf Antworten\n",
    "Die Verteilung ist nicht Gleichmässig. Mit dieser Verteilung können nur folgende Antwort Kategorien verwendet werden:\n",
    "* Mac: Access Denied -> Cookies, Virenscanner\n",
    "* Coupon einlösen, Produkte nicht vorhanden\n",
    "* Anmeldung - Hinweise für Aktivierung\n",
    "* Linux\n",
    "\n",
    "Für die beiden Antwort Kategorien **Floating Lizenz, Geräte entfernt, Konfiguration** und **Abmelden, neu anmelden** sind prozentual zu wenig Daten im Vergleich der obigen aufgelisteten Antwort Kategorien vorhanden."
   ]
  },
  {
   "cell_type": "code",
   "execution_count": 8,
   "metadata": {},
   "outputs": [
    {
     "data": {
      "text/plain": [
       "{'Abmelden, neu anmelden',\n",
       " 'Anmeldung - Hinweise für Aktivierung',\n",
       " 'Coupon einlösen, Produkte nicht vorhanden',\n",
       " 'Floating Lizenz, Geräte entfernt, Konfiguration',\n",
       " 'Linux',\n",
       " 'Mac: Access Denied -> Cookies, Virenscanner'}"
      ]
     },
     "execution_count": 8,
     "metadata": {},
     "output_type": "execute_result"
    }
   ],
   "source": [
    "set(corpus.answer)"
   ]
  },
  {
   "cell_type": "code",
   "execution_count": 9,
   "metadata": {},
   "outputs": [
    {
     "data": {
      "image/png": "[encoded data removed]",
      "text/plain": [
       "<Figure size 432x432 with 1 Axes>"
      ]
     },
     "metadata": {
      "needs_background": "light"
     },
     "output_type": "display_data"
    }
   ],
   "source": [
    "import matplotlib.pyplot as plt\n",
    "%matplotlib inline\n",
    "\n",
    "fig = plt.figure(figsize=(6, 6))\n",
    "corpus.groupby('answer').inquiry.count().plot.bar(ylim=0)\n",
    "plt.title('Verteilung von Anfragen auf Antworten')\n",
    "plt.xlabel('answer categories')\n",
    "plt.ylabel('number of inquiries')\n",
    "plt.show()"
   ]
  },
  {
   "cell_type": "markdown",
   "metadata": {},
   "source": [
    "### 4. Beispiele von guten / schlechten Nachrichten\n",
    "Bei der Analyse der Daten haben wir gute und schlechte Support Anfragen gesehen. Nun zeigen wir welche Nachrichten sich anhand der _Wort Menge_ gut für NLP eignen und welche nicht.\n",
    "\n",
    "Beispiele für **schlechte** Nachrichten:"
   ]
  },
  {
   "cell_type": "code",
   "execution_count": 10,
   "metadata": {},
   "outputs": [
    {
     "name": "stdout",
     "output_type": "stream",
     "text": [
      "Bsp. 0 \t bitte iphone und ipad entfernen. \n",
      "\n",
      "Bsp. 1 \t bitte das ipad aktiviert lassen und die anderen deaktivieren. \n",
      "\n",
      "Bsp. 2 \t besprochen mit christian heimann \n",
      "\n",
      "Bsp. 3 \t entfernen der app vom i-pad \n",
      "\n",
      "Bsp. 4 \t  i-pad \n",
      "\n"
     ]
    }
   ],
   "source": [
    "word = 5\n",
    "mask = (corpus['inquiry'].str.len() < 15 * word)\n",
    "bad_inquiries = corpus.loc[mask].inquiry\n",
    "\n",
    "for i, msg in enumerate(bad_inquiries[:5]):\n",
    "    print('Bsp.', i, '\\t', msg, '\\n')"
   ]
  },
  {
   "cell_type": "markdown",
   "metadata": {},
   "source": [
    "Beispiele für **gute** Nachrichten:"
   ]
  },
  {
   "cell_type": "code",
   "execution_count": 11,
   "metadata": {},
   "outputs": [
    {
     "name": "stdout",
     "output_type": "stream",
     "text": [
      "Bsp. 0 \t normenauszug 2018, rechenbuch metall, tabellenbuchs metall, fechkundebuch metall, machineworld, topdesign, automation control, konstrukteur 1, konstrukteur 2 und konstrukteur 3 funktionieren nicht mehr. es kommt die meldung „nicht mehr seiten kostenlos verfügbar“. habe alle bücher bezahlt und bis vor kurzem haben alle funktioniert. \n",
      "\n",
      "Bsp. 1 \t leider fehlen mir paar kapitel im lehrmittel (lm-a, d). eins davon brauche ich jetzt in der schule (heizungs- und lüftungsanlagen)ich habe die app mehrfach gelöscht und neu installiert, funktioniert trotzdem nicht. computer habe ich auch schon heruntergefahren. ich bitte sie um hilfe. ich wünsche ihnen einen schönen tag. \n",
      "\n",
      "Bsp. 2 \t in meinem beook funktionieren die inhalte des fr fachrechenbuches nicht mehr. es erscheint die meldung \"geräteanzahl überschritten\". nach meinem wissen ist dieses lizenz jedoch nur auf meinem lap top (und sonst nirgends) installiert.können sie mit das fr-buch wieder freischalten? \n",
      "\n",
      "Bsp. 3 \t ich wollte heute das beook auf meinem laptop aktuallisieren. trotz löschen des alten programms und erneutem download kann ich die neuste version nicht auf meinem laptop laden. auf dem pc für die schulung der lernenden funktioniert es einwandfrei.als fehlermeldung wird \"gerätezahl überschritten\" angegeben. ich habe aber das beook nur auf dem schulungspc und dem laptop installiert, also zwei geräte.den laptop benötige ich für eine weiterbildung am 16. märz in bern.wo liegt mein fehler?? \n",
      "\n",
      "Bsp. 4 \t ,leider kann ich die integrierten videos der app (injektionen) auf meinem endgerät (laptop) nicht abspielen. das programm meldet folgende fehlermeldung: \"no compatible source was found for this video\". ich habe es sowohl mit java als auch mit adobe flash ausprobiert. über ihre hilfe und einen lösungsweg freue ich mich. \n",
      "\n"
     ]
    }
   ],
   "source": [
    "word = 5\n",
    "mask = (corpus['inquiry'].str.len() > 50 * word)\n",
    "good_inquiries = corpus.loc[mask].inquiry\n",
    "\n",
    "for i, msg in enumerate(good_inquiries[:5]):\n",
    "    print('Bsp.', i, '\\t', msg, '\\n')"
   ]
  },
  {
   "cell_type": "code",
   "execution_count": null,
   "metadata": {},
   "outputs": [],
   "source": []
  }
 ],
 "metadata": {
  "kernelspec": {
   "display_name": "Python 3",
   "language": "python",
   "name": "python3"
  },
  "language_info": {
   "codemirror_mode": {
    "name": "ipython",
    "version": 3
   },
   "file_extension": ".py",
   "mimetype": "text/x-python",
   "name": "python",
   "nbconvert_exporter": "python",
   "pygments_lexer": "ipython3",
   "version": "3.6.7"
  }
 },
 "nbformat": 4,
 "nbformat_minor": 2
}
