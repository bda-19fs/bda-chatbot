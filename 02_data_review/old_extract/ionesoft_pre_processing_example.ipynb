{
 "cells": [
  {
   "cell_type": "markdown",
   "metadata": {},
   "source": [
    "# Vorgehen\n",
    "In diesem Dokument wird der Pre-Processing Prozess aufgezeigt. Die Daten aus dem erhaltenen Extract werden in folgender Reihenfolge abgearbeitet:\n",
    "1. Stop word removal\n",
    "1. Stemming\n",
    "1. Tokenization\n",
    "1. Vokabular\n",
    "    * Lexikalischer Reichtum\n",
    "    * Häufigkeitsverteilung\n",
    "    * Hapaxen"
   ]
  },
  {
   "cell_type": "code",
   "execution_count": 47,
   "metadata": {},
   "outputs": [],
   "source": [
    "import warnings\n",
    "warnings.filterwarnings('ignore')"
   ]
  },
  {
   "cell_type": "code",
   "execution_count": 2,
   "metadata": {},
   "outputs": [
    {
     "data": {
      "text/html": [
       "<div>\n",
       "<style scoped>\n",
       "    .dataframe tbody tr th:only-of-type {\n",
       "        vertical-align: middle;\n",
       "    }\n",
       "\n",
       "    .dataframe tbody tr th {\n",
       "        vertical-align: top;\n",
       "    }\n",
       "\n",
       "    .dataframe thead th {\n",
       "        text-align: right;\n",
       "    }\n",
       "</style>\n",
       "<table border=\"1\" class=\"dataframe\">\n",
       "  <thead>\n",
       "    <tr style=\"text-align: right;\">\n",
       "      <th></th>\n",
       "      <th>ticket</th>\n",
       "      <th>customer</th>\n",
       "      <th>inquiry</th>\n",
       "      <th>state</th>\n",
       "      <th>answer</th>\n",
       "    </tr>\n",
       "  </thead>\n",
       "  <tbody>\n",
       "    <tr>\n",
       "      <th>count</th>\n",
       "      <td>2754</td>\n",
       "      <td>2754</td>\n",
       "      <td>2754</td>\n",
       "      <td>2754</td>\n",
       "      <td>2754</td>\n",
       "    </tr>\n",
       "    <tr>\n",
       "      <th>unique</th>\n",
       "      <td>8</td>\n",
       "      <td>31</td>\n",
       "      <td>2754</td>\n",
       "      <td>16</td>\n",
       "      <td>9</td>\n",
       "    </tr>\n",
       "    <tr>\n",
       "      <th>top</th>\n",
       "      <td>Fehler in der App</td>\n",
       "      <td>hep</td>\n",
       "      <td>ich habe alle meine e-books auf einem gerät m...</td>\n",
       "      <td>closed successful</td>\n",
       "      <td>Mac: Access Denied -&gt; Cookies Virenscanner</td>\n",
       "    </tr>\n",
       "    <tr>\n",
       "      <th>freq</th>\n",
       "      <td>1167</td>\n",
       "      <td>691</td>\n",
       "      <td>1</td>\n",
       "      <td>1698</td>\n",
       "      <td>1477</td>\n",
       "    </tr>\n",
       "  </tbody>\n",
       "</table>\n",
       "</div>"
      ],
      "text/plain": [
       "                   ticket customer  \\\n",
       "count                2754     2754   \n",
       "unique                  8       31   \n",
       "top     Fehler in der App      hep   \n",
       "freq                 1167      691   \n",
       "\n",
       "                                                  inquiry              state  \\\n",
       "count                                                2754               2754   \n",
       "unique                                               2754                 16   \n",
       "top      ich habe alle meine e-books auf einem gerät m...  closed successful   \n",
       "freq                                                    1               1698   \n",
       "\n",
       "                                            answer  \n",
       "count                                         2754  \n",
       "unique                                           9  \n",
       "top     Mac: Access Denied -> Cookies Virenscanner  \n",
       "freq                                          1477  "
      ]
     },
     "execution_count": 2,
     "metadata": {},
     "output_type": "execute_result"
    }
   ],
   "source": [
    "import pandas as pd\n",
    "\n",
    "extract = '../01_data/chatbot_all_tickets.csv'\n",
    "names=['ticket', 'customer', 'inquiry', 'state', 'answer']\n",
    "\n",
    "corpus = pd.read_csv(extract, sep=';', encoding='utf-8', names=names, skiprows=[0], usecols=[2, 3, 4, 5, 6])\n",
    "corpus['inquiry'] = corpus['inquiry'].str.lower()\n",
    "corpus.drop_duplicates(subset='inquiry', keep='first', inplace=True)\n",
    "corpus.dropna(axis='rows', how='any', inplace=True)\n",
    "\n",
    "all_answers = list(set(corpus.answer))\n",
    "all_answers.sort()\n",
    "corpus.drop(corpus[\n",
    "    (corpus.answer == all_answers[0])  | \n",
    "    (corpus.answer == all_answers[1])  | \n",
    "    (corpus.answer == all_answers[2])  | \n",
    "    (corpus.answer == all_answers[3])  | \n",
    "    (corpus.answer == all_answers[10])  | \n",
    "    (corpus.answer == all_answers[22]) | \n",
    "    (corpus.answer == all_answers[23]) | \n",
    "    (corpus.answer == all_answers[24]) | \n",
    "    (corpus.answer == all_answers[25]) | \n",
    "    (corpus.answer == all_answers[26]) | \n",
    "    (corpus.answer == all_answers[27])\n",
    "].index, inplace=True)\n",
    "corpus['answer'].replace({\n",
    "    'Anmeldung-HinweisefürAktivierung': 'Anmeldung - Hinweise für Aktivierung',\n",
    "    'CouponeinlösenProduktenichtvorhanden': 'Coupon einlösen Produkte nicht vorhanden',\n",
    "    'FloatingLizenzGeräteentferntKonfiguration': 'Floating Lizenz Geräte entfernt Konfiguration',\n",
    "    'Linx': 'Linux',\n",
    "    'Mac:AccessDenied->CookiesVirenscanner': 'Mac: Access Denied -> Cookies Virenscanner',\n",
    "    'Mac:AccessDenied->CookiesVirenscanner': 'Mac: Access Denied -> Cookies Virenscanner',\n",
    "    'Mac: Access Denied -> Cookies': 'Mac: Access Denied -> Cookies Virenscanner',\n",
    "    'Mc: Access Denied -> Cookies Virenscnner': 'Mac: Access Denied -> Cookies Virenscanner',\n",
    "    'Mac:EnableCookies': 'Mac: Enable Cookies'\n",
    "}, inplace=True)\n",
    "\n",
    "corpus.describe()"
   ]
  },
  {
   "cell_type": "markdown",
   "metadata": {},
   "source": [
    "### 1. Stop word removal\n",
    "Als erster Schritt werden alle unbedeutenden Wörter wie z.B _und_, _ein_, _als_ etc. von den _inquiries_ entfernt."
   ]
  },
  {
   "cell_type": "code",
   "execution_count": 3,
   "metadata": {},
   "outputs": [],
   "source": [
    "import re\n",
    "from nltk.corpus import stopwords\n",
    "\n",
    "stop_words = stopwords.words('german')\n",
    "stop_words.extend([''])\n",
    "\n",
    "def without_stop_words(text):\n",
    "    text = re.sub(r'[^\\u00C0-\\u017Fa-zA-Z\\s]', '', text, re.I | re.A)\n",
    "    return str.join(' ', [t for t in text.split(' ') if not t in stop_words])"
   ]
  },
  {
   "cell_type": "code",
   "execution_count": 4,
   "metadata": {},
   "outputs": [],
   "source": [
    "for i, inquiry in enumerate(corpus['inquiry']):\n",
    "    corpus['inquiry'][i] = without_stop_words(inquiry)"
   ]
  },
  {
   "cell_type": "code",
   "execution_count": 5,
   "metadata": {},
   "outputs": [
    {
     "data": {
      "text/html": [
       "<div>\n",
       "<style scoped>\n",
       "    .dataframe tbody tr th:only-of-type {\n",
       "        vertical-align: middle;\n",
       "    }\n",
       "\n",
       "    .dataframe tbody tr th {\n",
       "        vertical-align: top;\n",
       "    }\n",
       "\n",
       "    .dataframe thead th {\n",
       "        text-align: right;\n",
       "    }\n",
       "</style>\n",
       "<table border=\"1\" class=\"dataframe\">\n",
       "  <thead>\n",
       "    <tr style=\"text-align: right;\">\n",
       "      <th></th>\n",
       "      <th>ticket</th>\n",
       "      <th>customer</th>\n",
       "      <th>inquiry</th>\n",
       "      <th>state</th>\n",
       "      <th>answer</th>\n",
       "    </tr>\n",
       "  </thead>\n",
       "  <tbody>\n",
       "    <tr>\n",
       "      <th>0</th>\n",
       "      <td>Fehler in der App</td>\n",
       "      <td>SVBA</td>\n",
       "      <td>bilder übungen bearbeiten beook schonn zeichnu...</td>\n",
       "      <td>closed_waiting_for_reply</td>\n",
       "      <td>Coupon einlösen Produkte nicht vorhanden</td>\n",
       "    </tr>\n",
       "    <tr>\n",
       "      <th>1</th>\n",
       "      <td>Fehler in der App</td>\n",
       "      <td>hep</td>\n",
       "      <td>lehrmittel aktualisieren jedoch geht kommt gle...</td>\n",
       "      <td>new</td>\n",
       "      <td>Mac: Access Denied -&gt; Cookies Virenscanner</td>\n",
       "    </tr>\n",
       "    <tr>\n",
       "      <th>2</th>\n",
       "      <td>Anmeldung / Aktivierung</td>\n",
       "      <td>hep</td>\n",
       "      <td>problem anmeldung coupong mer enziffern ichdas...</td>\n",
       "      <td>new</td>\n",
       "      <td>Mac: Access Denied -&gt; Cookies Virenscanner</td>\n",
       "    </tr>\n",
       "    <tr>\n",
       "      <th>3</th>\n",
       "      <td>Anmeldung / Aktivierung</td>\n",
       "      <td>VELEDES</td>\n",
       "      <td>neu anmelden steht abk auszug aktivierungscode...</td>\n",
       "      <td>new</td>\n",
       "      <td>Mac: Access Denied -&gt; Cookies Virenscanner</td>\n",
       "    </tr>\n",
       "    <tr>\n",
       "      <th>4</th>\n",
       "      <td>Geräteanzahl überschritten</td>\n",
       "      <td>VELEDES</td>\n",
       "      <td>heruntergeladen kommt immer meldung gerätezahl...</td>\n",
       "      <td>new</td>\n",
       "      <td>Mac: Access Denied -&gt; Cookies Virenscanner</td>\n",
       "    </tr>\n",
       "  </tbody>\n",
       "</table>\n",
       "</div>"
      ],
      "text/plain": [
       "                       ticket customer  \\\n",
       "0           Fehler in der App     SVBA   \n",
       "1           Fehler in der App      hep   \n",
       "2     Anmeldung / Aktivierung      hep   \n",
       "3     Anmeldung / Aktivierung  VELEDES   \n",
       "4  Geräteanzahl überschritten  VELEDES   \n",
       "\n",
       "                                             inquiry  \\\n",
       "0  bilder übungen bearbeiten beook schonn zeichnu...   \n",
       "1  lehrmittel aktualisieren jedoch geht kommt gle...   \n",
       "2  problem anmeldung coupong mer enziffern ichdas...   \n",
       "3  neu anmelden steht abk auszug aktivierungscode...   \n",
       "4  heruntergeladen kommt immer meldung gerätezahl...   \n",
       "\n",
       "                      state                                      answer  \n",
       "0  closed_waiting_for_reply    Coupon einlösen Produkte nicht vorhanden  \n",
       "1                       new  Mac: Access Denied -> Cookies Virenscanner  \n",
       "2                       new  Mac: Access Denied -> Cookies Virenscanner  \n",
       "3                       new  Mac: Access Denied -> Cookies Virenscanner  \n",
       "4                       new  Mac: Access Denied -> Cookies Virenscanner  "
      ]
     },
     "execution_count": 5,
     "metadata": {},
     "output_type": "execute_result"
    }
   ],
   "source": [
    "corpus.head()"
   ]
  },
  {
   "cell_type": "markdown",
   "metadata": {},
   "source": [
    "**Gute Sätze**\n",
    "\n",
    "Wie sehen ein paar gute Sätze nach der stop word Entfernung aus?"
   ]
  },
  {
   "cell_type": "code",
   "execution_count": 6,
   "metadata": {},
   "outputs": [
    {
     "name": "stdout",
     "output_type": "stream",
     "text": [
      "Bsp. 0 \t  leider kann ich die integrierten videos der app injektionen auf meinem endgerät laptop nicht abspielen. das programm meldet folgende fehlermeldung: \\\"no compatible source was found for this video\\\". ich habe es sowohl mit java als auch mit adobe flash ausprobiert. über ihre hilfe und einen lösungsweg freue ich mich. mit freundlichen grüßen  \n",
      "\n",
      "Bsp. 1 \t  leider fehlen mir paar kapitel im lehrmittel lm-a d. eins davon brauche ich jetzt in der schule heizungs- und lüftungsanlagen ich habe die app mehrfach gelöscht und neu installiert funktioniert trotzdem nicht. computer habe ich auch schon heruntergefahren. ich bitte sie um hilfe. ich wünsche ihnen einen schönen tag. freundliche grüsse  \n",
      "\n",
      "Bsp. 2 \t  ich kann die bilder nicht mehr öffnen um mit dem editorprogramm diese zu bearbeiten. freundliche grüsse  \n",
      "\n",
      "Bsp. 3 \t bei mir zeigt es bei einigen büchern geräteanzahl überschritten. ich habe aber nie ein weiteres gerät angemeldet. zudem sollte dies ja sonst bei allen büchern der fall sein. ich habe zwei geräte angemeldet davon brauche ich eigentlich nur eines. freundliche grüsse  \n",
      "\n",
      "Bsp. 4 \t  bei der buchung des seminars \\\"digitalisierung verstehen und nutzen\\\" kommt die fehlermeldung \\\"geräteanzahl überschritten\\\". ich nutze jedoch immer nur ein smartphone samsung. bitte um fehlerbehbung. vielen dank. beste grüße  \n",
      "\n"
     ]
    }
   ],
   "source": [
    "word = 5\n",
    "mask = (corpus['inquiry'].str.len() > 50 * word)\n",
    "good_inquiries = corpus.loc[mask].inquiry\n",
    "\n",
    "for i, msg in enumerate(good_inquiries[:5]):\n",
    "    print('Bsp.', i, '\\t', msg, '\\n')"
   ]
  },
  {
   "cell_type": "markdown",
   "metadata": {},
   "source": [
    "### 2. Stemming\n",
    "Als zweiten Schritt werden alle Wörter auf eine Wurzel Form gekürzt. Im gegensatz zu Lemming ist das Resultat von Stemming nicht grammatikalisch korrekt."
   ]
  },
  {
   "cell_type": "code",
   "execution_count": 7,
   "metadata": {},
   "outputs": [],
   "source": [
    "from nltk.stem.snowball import SnowballStemmer\n",
    "\n",
    "snowball = SnowballStemmer('german', ignore_stopwords=True)\n",
    "\n",
    "def stem(text):\n",
    "    return str.join(' ', [snowball.stem(t) for t in text.split(' ')])"
   ]
  },
  {
   "cell_type": "code",
   "execution_count": 8,
   "metadata": {},
   "outputs": [],
   "source": [
    "for i, inquiry in enumerate(corpus['inquiry']):\n",
    "    corpus['inquiry'][i] = stem(inquiry)"
   ]
  },
  {
   "cell_type": "code",
   "execution_count": 9,
   "metadata": {},
   "outputs": [
    {
     "data": {
      "text/html": [
       "<div>\n",
       "<style scoped>\n",
       "    .dataframe tbody tr th:only-of-type {\n",
       "        vertical-align: middle;\n",
       "    }\n",
       "\n",
       "    .dataframe tbody tr th {\n",
       "        vertical-align: top;\n",
       "    }\n",
       "\n",
       "    .dataframe thead th {\n",
       "        text-align: right;\n",
       "    }\n",
       "</style>\n",
       "<table border=\"1\" class=\"dataframe\">\n",
       "  <thead>\n",
       "    <tr style=\"text-align: right;\">\n",
       "      <th></th>\n",
       "      <th>ticket</th>\n",
       "      <th>customer</th>\n",
       "      <th>inquiry</th>\n",
       "      <th>state</th>\n",
       "      <th>answer</th>\n",
       "    </tr>\n",
       "  </thead>\n",
       "  <tbody>\n",
       "    <tr>\n",
       "      <th>0</th>\n",
       "      <td>Fehler in der App</td>\n",
       "      <td>SVBA</td>\n",
       "      <td>bilder übungen bearbeiten beook schonn zeichnu...</td>\n",
       "      <td>closed_waiting_for_reply</td>\n",
       "      <td>Coupon einlösen Produkte nicht vorhanden</td>\n",
       "    </tr>\n",
       "    <tr>\n",
       "      <th>1</th>\n",
       "      <td>Fehler in der App</td>\n",
       "      <td>hep</td>\n",
       "      <td>lehrmittel aktualisieren jedoch geht kommt gle...</td>\n",
       "      <td>new</td>\n",
       "      <td>Mac: Access Denied -&gt; Cookies Virenscanner</td>\n",
       "    </tr>\n",
       "    <tr>\n",
       "      <th>2</th>\n",
       "      <td>Anmeldung / Aktivierung</td>\n",
       "      <td>hep</td>\n",
       "      <td>problem anmeldung coupong mer enziffern ichdas...</td>\n",
       "      <td>new</td>\n",
       "      <td>Mac: Access Denied -&gt; Cookies Virenscanner</td>\n",
       "    </tr>\n",
       "    <tr>\n",
       "      <th>3</th>\n",
       "      <td>Anmeldung / Aktivierung</td>\n",
       "      <td>VELEDES</td>\n",
       "      <td>neu anmelden steht abk auszug aktivierungscode...</td>\n",
       "      <td>new</td>\n",
       "      <td>Mac: Access Denied -&gt; Cookies Virenscanner</td>\n",
       "    </tr>\n",
       "    <tr>\n",
       "      <th>4</th>\n",
       "      <td>Geräteanzahl überschritten</td>\n",
       "      <td>VELEDES</td>\n",
       "      <td>heruntergeladen kommt immer meldung gerätezahl...</td>\n",
       "      <td>new</td>\n",
       "      <td>Mac: Access Denied -&gt; Cookies Virenscanner</td>\n",
       "    </tr>\n",
       "  </tbody>\n",
       "</table>\n",
       "</div>"
      ],
      "text/plain": [
       "                       ticket customer  \\\n",
       "0           Fehler in der App     SVBA   \n",
       "1           Fehler in der App      hep   \n",
       "2     Anmeldung / Aktivierung      hep   \n",
       "3     Anmeldung / Aktivierung  VELEDES   \n",
       "4  Geräteanzahl überschritten  VELEDES   \n",
       "\n",
       "                                             inquiry  \\\n",
       "0  bilder übungen bearbeiten beook schonn zeichnu...   \n",
       "1  lehrmittel aktualisieren jedoch geht kommt gle...   \n",
       "2  problem anmeldung coupong mer enziffern ichdas...   \n",
       "3  neu anmelden steht abk auszug aktivierungscode...   \n",
       "4  heruntergeladen kommt immer meldung gerätezahl...   \n",
       "\n",
       "                      state                                      answer  \n",
       "0  closed_waiting_for_reply    Coupon einlösen Produkte nicht vorhanden  \n",
       "1                       new  Mac: Access Denied -> Cookies Virenscanner  \n",
       "2                       new  Mac: Access Denied -> Cookies Virenscanner  \n",
       "3                       new  Mac: Access Denied -> Cookies Virenscanner  \n",
       "4                       new  Mac: Access Denied -> Cookies Virenscanner  "
      ]
     },
     "execution_count": 9,
     "metadata": {},
     "output_type": "execute_result"
    }
   ],
   "source": [
    "corpus.head()"
   ]
  },
  {
   "cell_type": "markdown",
   "metadata": {},
   "source": [
    "**Gute Sätze**\n",
    "\n",
    "Wie sehen ein paar gute Sätze nach der stop word Entfernung aus?"
   ]
  },
  {
   "cell_type": "code",
   "execution_count": 10,
   "metadata": {},
   "outputs": [
    {
     "name": "stdout",
     "output_type": "stream",
     "text": [
      "Bsp. 0 \t  guten tag bei mir funktioniert das beook tiptop. ich schreibe im auftrag von nicole boschung.  \n",
      "\n",
      "Bsp. 1 \t meine email ist nicht verfügbar. auch nur mit dem anmeldenamen geht es nicht. ihk passwort wfw-018-06 möchte auch nicht.  \n",
      "\n",
      "Bsp. 2 \t mir löschtes immer alle eingaben beim buch gg!!!!!!!!!!!!!!!!!!!!!!!!!!!!!!!!!!!!!!!!!!!!!!!!!!!!!!!!!!!!!!!!!!!!!!!!!!!!!!!!!!!!!!!!!!!!!!!!!!!!!!!!!!!!!!!!!!!!!!!!!!!!!!!!!!!!!!!!!!!!!!!!!!!!!!!!!!!!!!!!!!!!!!!!!!!!!!!!!!!!!!!!!!!!!!!!!!!!!!!!!!!!!!!!!!!!!!!!!!!!!!!!!!!!!!!!!!!!!!!!!!!!!!!!!!!!!!!!!!!!!!!!!!!!!!!!!!!!!!!!!!!!!!!!!!!!!!!!!!!!!!!!!  \n",
      "\n",
      "Bsp. 3 \t  ich wollte sie darum bitten die 2 geräte zu deaktivieren da die geräte nicht mehr gebraucht werden können und ich jetzt gerne ein anderes gerät benutzen möchte da die momentanen geräte defekt sind. für ihre bemühungen danke ich ihnen. mit freundlichen grüssen  \n",
      "\n",
      "Bsp. 4 \t  ich habe ein problem. ich kann seit gut einem monat nichts mehr richtig markieren. es markiert nur noch teilweise oder gar nicht mehr. auch kann ich manchmal die falsch markierten wörter/abschnitte nicht mehr rückgängig machen indem ich die markierung lösche. nebenbei habe ich heute in der schule bemerkt dass ich die schon im skript enthaltenen fotos und bilder nicht mehr öffnen und somit diese auch nicht mehr bearbeiten kann. beides ist sehr nervig da ich diese funktionen während dem unterricht zur verfügung haben müsste. ich habe auch keine info bekommen ob es ein neues update gegeben hat welches ich herunterladen müsste um die probleme zu beheben. hat es überhaupt ein neues update gegeben ich habe das beook auf dem stand 5.5.0 ich hoffe ihr könnt diese probleme möglichst bald beheben oder mir einen tipp geben was ich machen kann. herzlichen dank  \n",
      "\n"
     ]
    }
   ],
   "source": [
    "word = 5\n",
    "mask = (corpus['inquiry'].str.len() > 50 * word)\n",
    "good_inquiries = corpus.loc[mask].inquiry\n",
    "\n",
    "for i, msg in enumerate(good_inquiries[:5]):\n",
    "    print('Bsp.', i, '\\t', msg, '\\n')"
   ]
  },
  {
   "cell_type": "markdown",
   "metadata": {},
   "source": [
    "### 3. Tokenization\n",
    "In einem ersten Schritt werden alle _inquiries_ gesammelt und in einzelne Wörter zerlegt."
   ]
  },
  {
   "cell_type": "code",
   "execution_count": 11,
   "metadata": {},
   "outputs": [
    {
     "data": {
      "text/html": [
       "<div>\n",
       "<style scoped>\n",
       "    .dataframe tbody tr th:only-of-type {\n",
       "        vertical-align: middle;\n",
       "    }\n",
       "\n",
       "    .dataframe tbody tr th {\n",
       "        vertical-align: top;\n",
       "    }\n",
       "\n",
       "    .dataframe thead th {\n",
       "        text-align: right;\n",
       "    }\n",
       "</style>\n",
       "<table border=\"1\" class=\"dataframe\">\n",
       "  <thead>\n",
       "    <tr style=\"text-align: right;\">\n",
       "      <th></th>\n",
       "      <th>ticket</th>\n",
       "      <th>customer</th>\n",
       "      <th>inquiry</th>\n",
       "      <th>state</th>\n",
       "      <th>answer</th>\n",
       "      <th>inquiry_tokens</th>\n",
       "    </tr>\n",
       "  </thead>\n",
       "  <tbody>\n",
       "    <tr>\n",
       "      <th>0</th>\n",
       "      <td>Fehler in der App</td>\n",
       "      <td>SVBA</td>\n",
       "      <td>bilder übungen bearbeiten beook schonn zeichnu...</td>\n",
       "      <td>closed_waiting_for_reply</td>\n",
       "      <td>Coupon einlösen Produkte nicht vorhanden</td>\n",
       "      <td>[bild, ubung, bearbeit, beook, schonn, zeichnu...</td>\n",
       "    </tr>\n",
       "    <tr>\n",
       "      <th>1</th>\n",
       "      <td>Fehler in der App</td>\n",
       "      <td>hep</td>\n",
       "      <td>lehrmittel aktualisieren jedoch geht kommt gle...</td>\n",
       "      <td>new</td>\n",
       "      <td>Mac: Access Denied -&gt; Cookies Virenscanner</td>\n",
       "      <td>[lehrmittel, aktualisi, jedoch, geht, kommt, g...</td>\n",
       "    </tr>\n",
       "    <tr>\n",
       "      <th>2</th>\n",
       "      <td>Anmeldung / Aktivierung</td>\n",
       "      <td>hep</td>\n",
       "      <td>problem anmeldung coupong mer enziffern ichdas...</td>\n",
       "      <td>new</td>\n",
       "      <td>Mac: Access Denied -&gt; Cookies Virenscanner</td>\n",
       "      <td>[probl, anmeld, coupong, mer, enziff, ichdas, ...</td>\n",
       "    </tr>\n",
       "    <tr>\n",
       "      <th>3</th>\n",
       "      <td>Anmeldung / Aktivierung</td>\n",
       "      <td>VELEDES</td>\n",
       "      <td>neu anmelden steht abk auszug aktivierungscode...</td>\n",
       "      <td>new</td>\n",
       "      <td>Mac: Access Denied -&gt; Cookies Virenscanner</td>\n",
       "      <td>[neu, anmeld, steht, abk, auszug, aktivierungs...</td>\n",
       "    </tr>\n",
       "    <tr>\n",
       "      <th>4</th>\n",
       "      <td>Geräteanzahl überschritten</td>\n",
       "      <td>VELEDES</td>\n",
       "      <td>heruntergeladen kommt immer meldung gerätezahl...</td>\n",
       "      <td>new</td>\n",
       "      <td>Mac: Access Denied -&gt; Cookies Virenscanner</td>\n",
       "      <td>[heruntergelad, kommt, imm, meldung, geratezah...</td>\n",
       "    </tr>\n",
       "  </tbody>\n",
       "</table>\n",
       "</div>"
      ],
      "text/plain": [
       "                       ticket customer  \\\n",
       "0           Fehler in der App     SVBA   \n",
       "1           Fehler in der App      hep   \n",
       "2     Anmeldung / Aktivierung      hep   \n",
       "3     Anmeldung / Aktivierung  VELEDES   \n",
       "4  Geräteanzahl überschritten  VELEDES   \n",
       "\n",
       "                                             inquiry  \\\n",
       "0  bilder übungen bearbeiten beook schonn zeichnu...   \n",
       "1  lehrmittel aktualisieren jedoch geht kommt gle...   \n",
       "2  problem anmeldung coupong mer enziffern ichdas...   \n",
       "3  neu anmelden steht abk auszug aktivierungscode...   \n",
       "4  heruntergeladen kommt immer meldung gerätezahl...   \n",
       "\n",
       "                      state                                      answer  \\\n",
       "0  closed_waiting_for_reply    Coupon einlösen Produkte nicht vorhanden   \n",
       "1                       new  Mac: Access Denied -> Cookies Virenscanner   \n",
       "2                       new  Mac: Access Denied -> Cookies Virenscanner   \n",
       "3                       new  Mac: Access Denied -> Cookies Virenscanner   \n",
       "4                       new  Mac: Access Denied -> Cookies Virenscanner   \n",
       "\n",
       "                                      inquiry_tokens  \n",
       "0  [bild, ubung, bearbeit, beook, schonn, zeichnu...  \n",
       "1  [lehrmittel, aktualisi, jedoch, geht, kommt, g...  \n",
       "2  [probl, anmeld, coupong, mer, enziff, ichdas, ...  \n",
       "3  [neu, anmeld, steht, abk, auszug, aktivierungs...  \n",
       "4  [heruntergelad, kommt, imm, meldung, geratezah...  "
      ]
     },
     "execution_count": 11,
     "metadata": {},
     "output_type": "execute_result"
    }
   ],
   "source": [
    "from nltk.tokenize import word_tokenize\n",
    "\n",
    "corpus['inquiry_tokens'] = corpus['inquiry'].apply(word_tokenize)\n",
    "corpus.head()"
   ]
  },
  {
   "cell_type": "markdown",
   "metadata": {},
   "source": [
    "Jetzt können wir aus den Tokens ein Vocabular erstellen um zu sehen wieviele Wörter vorhanden sind."
   ]
  },
  {
   "cell_type": "markdown",
   "metadata": {},
   "source": [
    "### 4. Vokabular\n",
    "Das Vocabular umfasst **546** Wörter."
   ]
  },
  {
   "cell_type": "code",
   "execution_count": 14,
   "metadata": {},
   "outputs": [
    {
     "name": "stdout",
     "output_type": "stream",
     "text": [
      "Wörter: 49896\n",
      "Vokabular: 6540\n"
     ]
    },
    {
     "data": {
      "text/plain": [
       "['!', '#', '%', '&', \"''\", '-', '-konditor', '.', '...', '/']"
      ]
     },
     "execution_count": 14,
     "metadata": {},
     "output_type": "execute_result"
    }
   ],
   "source": [
    "inquiry_tokens = [item for sublist in corpus['inquiry_tokens'] for item in sublist]\n",
    "\n",
    "vocab = list(set(inquiry_tokens))\n",
    "vocab.sort()\n",
    "\n",
    "print(f'Wörter: {len(inquiry_tokens)}')\n",
    "print(f'Vokabular: {len(vocab)}')\n",
    "vocab[0:10]"
   ]
  },
  {
   "cell_type": "markdown",
   "metadata": {},
   "source": [
    "#### Lexikalischer Reichtum"
   ]
  },
  {
   "cell_type": "code",
   "execution_count": 16,
   "metadata": {},
   "outputs": [
    {
     "name": "stdout",
     "output_type": "stream",
     "text": [
      "Lexikalischer Reichtum: 0.13107263107263106\n"
     ]
    }
   ],
   "source": [
    "print(f'Lexikalischer Reichtum: {len(vocab) / len(inquiry_tokens)}')"
   ]
  },
  {
   "cell_type": "markdown",
   "metadata": {},
   "source": [
    "#### Häufigkeitsverteilung von Wörtern"
   ]
  },
  {
   "cell_type": "code",
   "execution_count": 17,
   "metadata": {},
   "outputs": [
    {
     "data": {
      "text/plain": [
       "FreqDist({'gruss': 900, 'bitt': 710, 'freundlich': 696, 'neu': 659, 'mehr': 537, 'dank': 506, 'anmeld': 493, 'gerat': 493, 'app': 481, 'probl': 477, ...})"
      ]
     },
     "execution_count": 17,
     "metadata": {},
     "output_type": "execute_result"
    }
   ],
   "source": [
    "from nltk import FreqDist\n",
    "\n",
    "fdist1 = FreqDist(inquiry_tokens)\n",
    "fdist1"
   ]
  },
  {
   "cell_type": "code",
   "execution_count": 19,
   "metadata": {},
   "outputs": [
    {
     "data": {
      "image/png": "[encoded data removed]",
      "text/plain": [
       "<Figure size 720x720 with 1 Axes>"
      ]
     },
     "metadata": {
      "needs_background": "light"
     },
     "output_type": "display_data"
    }
   ],
   "source": [
    "import matplotlib\n",
    "matplotlib.rcParams['figure.figsize'] = [10, 10]\n",
    "\n",
    "fdist1.plot(50, cumulative=False)"
   ]
  },
  {
   "cell_type": "markdown",
   "metadata": {},
   "source": [
    "#### Hapaxen\n",
    "Hapaxe sind Wörter die nur einmal vorkommen."
   ]
  },
  {
   "cell_type": "code",
   "execution_count": 21,
   "metadata": {},
   "outputs": [
    {
     "name": "stdout",
     "output_type": "stream",
     "text": [
      "Anzahl Haxapen: 3706\n"
     ]
    },
    {
     "data": {
      "text/plain": [
       "['schonn',\n",
       " 'enziff',\n",
       " 'eingefasst',\n",
       " 'fachrechnungsbuch',\n",
       " 'screenhot',\n",
       " 'pp',\n",
       " 'rabatt',\n",
       " 'deckblatt',\n",
       " 'swissmemlogo',\n",
       " 'richgig',\n",
       " 'maln',\n",
       " 'ebe',\n",
       " 'gart',\n",
       " 'lizenzblatt',\n",
       " 'hannov']"
      ]
     },
     "execution_count": 21,
     "metadata": {},
     "output_type": "execute_result"
    }
   ],
   "source": [
    "print(f'Anzahl Haxapen: {len(fdist1.hapaxes())}')\n",
    "fdist1.hapaxes()[:15]"
   ]
  },
  {
   "cell_type": "code",
   "execution_count": 22,
   "metadata": {},
   "outputs": [
    {
     "name": "stdout",
     "output_type": "stream",
     "text": [
      " in meinem beook funktionieren die inhalte des fr fachrechenbuches nicht mehr. es erscheint die meldung \\\"geräteanzahl überschritten\\\". nach meinem wissen ist dieses lizenz jedoch nur auf meinem lap top und sonst nirgends installiert. können sie mit das fr-buch wieder freischalten?  \n",
      "\n",
      "normenauszug 2018 rechenbuch metall tabellenbuchs metall fechkundebuch metall machineworld topdesign automation control konstrukteur 1 konstrukteur 2 und konstrukteur 3 funktionieren nicht mehr. es kommt die meldung „nicht mehr seiten kostenlos verfügbar“. habe alle bücher bezahlt und bis vor kurzem haben alle funktioniert.  \n",
      "\n",
      " am mittwoch den 14.11.18 wollte ich meine e-books benutzen. in der physik lektion brauche ich das e-book \\\"rechenbuch metall\\\" doch an diesem tag war es gelöscht. ich weiss den grund nichzt wieso. ich bin dan auf die home seite der app. da stand das ich mich anmelden soll. ich habe dies gemacht und meine e-books waren dann alle gelöscht. diese betreffen \\\"rechenbuch metall fachkunde metall prüfungsbuch metall und going globel\\\". diese e-books habe ich im sommer 2017 gekauft. ich habe dan zuahuse versucht mit den aktivierungscode die e-books zu aktivieren jedoch ging das nicht. ich habe leider nur 2 codes noch. das fachkunde metall code und das von prüfungsbuch metall. da die codes nicht mehr gehen bräuchte ich die codes von fachkunde metall rechenbuch metall und prüfungsbuch metall noch. bei weitern fragen oder anweisungen bitte an dieser e-mail adresse schreiben. freundliche grüsse  \n",
      "\n",
      " ich habe das rechenbuch metall als ebook erworben und installiert. es wurden aber nur die ersten 26 seiten geladen. gemäss ihrer hotline habe ich das buch wieder gelöscht und wollte es wieder installieren aber es kam die meldung dass der lizenzschlüssel falsch sei. wie weiter?   \n",
      "\n",
      "nich habe vor kurzer zeit einen neuen laptop gekauft und die swissmemapp installiert.nleider konnte ich nicht mehr alle lizenzcodes für meine bücher finden.nvorhanden: td / mw / tabellenbuch metall / fachkunde metall 58auflg nnfehlend: rechenbuch metall 32auflag. / rechenbuch metall-lösungen 32. auflagennwäre es möglich mir die fehlenden lizenzcodes noch einmal zu schicken?nndanke für ihre mühe und einsatz.nnfreundliche grüssenpascal cattinnberufsfachschule gibs solothurnnkreuzacker 10n4500 solothurnn \n",
      "\n",
      " ich habe den benutzernamen und das passwort nicht mehr bzw meine e-mail eventuell falsch eingegeben bei der aktivierung. durch den verlust meines tablets fehlt mir nun der zugang zu den benötigten lehrmitteln. lizenzschlüssel zu top desing: f754-5xnv-5mbf gong global: n9ox-uz2o-fro6 machina world: ap4q-zzkk-urz2 tabellenbuch metall: cj9r-an3z-r541 rechenbuch metall: yxq6-eupf-fos8 fachkunde metall: gvv6-mye4-ooa7 bitte nutzen sie als korrespondenz die e-mail adresse: bzw zum neu verlinken des accounts. 2 frage: wie ist das nun mit den lizenzen im moment würde ich ja als übergang bis ich ein neues tablet habe meinen laptop nutzen. würde ich dan ein problem mit den lizenzen bekommen um es auf dem neuen tablet zu instalieren? atm sind die e-books ja auf meinem verlohren tablet installiert ich würde sie übergangsweise auf meinem laptop instlieren und danach wieder auf meinem neuen tablet. würde das zu einem problem mit den lizenzen führen? ich hoffe auf shcnelle antwort freundlcihen gruss roman meier  \n",
      "\n"
     ]
    }
   ],
   "source": [
    "for i in corpus[corpus['inquiry'].str.contains('rechenbuch')].inquiry:\n",
    "    print(i, '\\n')"
   ]
  },
  {
   "cell_type": "markdown",
   "metadata": {},
   "source": [
    "# Word2Vec"
   ]
  },
  {
   "cell_type": "code",
   "execution_count": 31,
   "metadata": {},
   "outputs": [],
   "source": [
    "import gensim\n",
    "from gensim.models import word2vec\n",
    "\n",
    "model = gensim.models.Word2Vec(corpus['inquiry_tokens'], size=100)\n",
    "model.save('first.embedding') \n",
    "first_model = gensim.models.Word2Vec.load('first.embedding')"
   ]
  },
  {
   "cell_type": "code",
   "execution_count": 32,
   "metadata": {},
   "outputs": [
    {
     "data": {
      "text/plain": [
       "1281"
      ]
     },
     "execution_count": 32,
     "metadata": {},
     "output_type": "execute_result"
    }
   ],
   "source": [
    "len(first_model.wv.vocab)"
   ]
  },
  {
   "cell_type": "code",
   "execution_count": 35,
   "metadata": {},
   "outputs": [
    {
     "data": {
      "text/plain": [
       "[('anzahl', 0.9991953372955322),\n",
       " ('geratezahl', 0.9991805553436279),\n",
       " ('gerat', 0.9991427063941956),\n",
       " ('neu', 0.9991151690483093),\n",
       " ('installiert', 0.9990799427032471),\n",
       " ('installi', 0.999065637588501),\n",
       " ('laptop', 0.9990267753601074),\n",
       " ('alt', 0.9989555478096008),\n",
       " ('losch', 0.9989020228385925),\n",
       " ('jedoch', 0.9988720417022705)]"
      ]
     },
     "execution_count": 35,
     "metadata": {},
     "output_type": "execute_result"
    }
   ],
   "source": [
    "first_model.wv.similar_by_word('gerateanzahl')"
   ]
  },
  {
   "cell_type": "code",
   "execution_count": 45,
   "metadata": {},
   "outputs": [],
   "source": [
    "import numpy as np\n",
    "from sklearn.manifold import TSNE\n",
    "import matplotlib.pyplot as plt\n",
    "\n",
    "def display_closestwords_tsnescatterplot(model, word):\n",
    "    \n",
    "    arr = np.empty((0,100), dtype='f')\n",
    "    word_labels = [word]\n",
    "\n",
    "    # get close words\n",
    "    close_words = model.similar_by_word(word)\n",
    "    \n",
    "    # add the vector for each of the closest words to the array\n",
    "    arr = np.append(arr, np.array([model[word]]), axis=0)\n",
    "    for wrd_score in close_words:\n",
    "        wrd_vector = model[wrd_score[0]]\n",
    "        word_labels.append(wrd_score[0])\n",
    "        arr = np.append(arr, np.array([wrd_vector]), axis=0)\n",
    "        \n",
    "    # find tsne coords for 2 dimensions\n",
    "    tsne = TSNE(n_components=2, random_state=0)\n",
    "    np.set_printoptions(suppress=True)\n",
    "    Y = tsne.fit_transform(arr)\n",
    "\n",
    "    x_coords = Y[:, 0]\n",
    "    y_coords = Y[:, 1]\n",
    "    # display scatter plot\n",
    "    plt.scatter(x_coords, y_coords)\n",
    "\n",
    "    for label, x, y in zip(word_labels, x_coords, y_coords):\n",
    "        plt.annotate(label, xy=(x, y), xytext=(0, 0), textcoords='offset points')\n",
    "    plt.xlim(x_coords.min()+0.00005, x_coords.max()+0.00005)\n",
    "    plt.ylim(y_coords.min()+0.00005, y_coords.max()+0.00005)\n",
    "    plt.show()"
   ]
  },
  {
   "cell_type": "code",
   "execution_count": 48,
   "metadata": {},
   "outputs": [
    {
     "data": {
      "image/png": "[encoded data removed]",
      "text/plain": [
       "<Figure size 720x720 with 1 Axes>"
      ]
     },
     "metadata": {
      "needs_background": "light"
     },
     "output_type": "display_data"
    }
   ],
   "source": [
    "display_closestwords_tsnescatterplot(first_model, 'gerateanzahl')"
   ]
  },
  {
   "cell_type": "code",
   "execution_count": null,
   "metadata": {},
   "outputs": [],
   "source": []
  }
 ],
 "metadata": {
  "kernelspec": {
   "display_name": "Python 3",
   "language": "python",
   "name": "python3"
  },
  "language_info": {
   "codemirror_mode": {
    "name": "ipython",
    "version": 3
   },
   "file_extension": ".py",
   "mimetype": "text/x-python",
   "name": "python",
   "nbconvert_exporter": "python",
   "pygments_lexer": "ipython3",
   "version": "3.6.7"
  }
 },
 "nbformat": 4,
 "nbformat_minor": 2
}
