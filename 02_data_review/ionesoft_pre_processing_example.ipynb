{
 "cells": [
  {
   "cell_type": "markdown",
   "metadata": {},
   "source": [
    "# Vorgehen\n",
    "In diesem Dokument wird der Pre-Processing Prozess aufgezeigt. Die Daten aus dem erhaltenen Extract werden in folgender Reihenfolge abgearbeitet:\n",
    "1. Stop word removal\n",
    "1. Stemming\n",
    "1. Tokenization\n",
    "1. Vokabular\n",
    "    * Lexikalischer Reichtum\n",
    "    * Häufigkeitsverteilung\n",
    "    * Hapaxen"
   ]
  },
  {
   "cell_type": "code",
   "execution_count": 1,
   "metadata": {},
   "outputs": [
    {
     "data": {
      "text/html": [
       "<div>\n",
       "<style scoped>\n",
       "    .dataframe tbody tr th:only-of-type {\n",
       "        vertical-align: middle;\n",
       "    }\n",
       "\n",
       "    .dataframe tbody tr th {\n",
       "        vertical-align: top;\n",
       "    }\n",
       "\n",
       "    .dataframe thead th {\n",
       "        text-align: right;\n",
       "    }\n",
       "</style>\n",
       "<table border=\"1\" class=\"dataframe\">\n",
       "  <thead>\n",
       "    <tr style=\"text-align: right;\">\n",
       "      <th></th>\n",
       "      <th>ticket</th>\n",
       "      <th>customer</th>\n",
       "      <th>inquiry</th>\n",
       "      <th>state</th>\n",
       "      <th>answer</th>\n",
       "    </tr>\n",
       "  </thead>\n",
       "  <tbody>\n",
       "    <tr>\n",
       "      <th>count</th>\n",
       "      <td>70</td>\n",
       "      <td>70</td>\n",
       "      <td>70</td>\n",
       "      <td>70</td>\n",
       "      <td>70</td>\n",
       "    </tr>\n",
       "    <tr>\n",
       "      <th>unique</th>\n",
       "      <td>6</td>\n",
       "      <td>16</td>\n",
       "      <td>70</td>\n",
       "      <td>6</td>\n",
       "      <td>6</td>\n",
       "    </tr>\n",
       "    <tr>\n",
       "      <th>top</th>\n",
       "      <td>Fehler in der App</td>\n",
       "      <td>SVBA</td>\n",
       "      <td>ich kann in der klasse f(18)-kss den bildschir...</td>\n",
       "      <td>closed successful</td>\n",
       "      <td>Mac: Access Denied -&gt; Cookies, Virenscanner</td>\n",
       "    </tr>\n",
       "    <tr>\n",
       "      <th>freq</th>\n",
       "      <td>18</td>\n",
       "      <td>17</td>\n",
       "      <td>1</td>\n",
       "      <td>45</td>\n",
       "      <td>27</td>\n",
       "    </tr>\n",
       "  </tbody>\n",
       "</table>\n",
       "</div>"
      ],
      "text/plain": [
       "                   ticket customer  \\\n",
       "count                  70       70   \n",
       "unique                  6       16   \n",
       "top     Fehler in der App     SVBA   \n",
       "freq                   18       17   \n",
       "\n",
       "                                                  inquiry              state  \\\n",
       "count                                                  70                 70   \n",
       "unique                                                 70                  6   \n",
       "top     ich kann in der klasse f(18)-kss den bildschir...  closed successful   \n",
       "freq                                                    1                 45   \n",
       "\n",
       "                                             answer  \n",
       "count                                            70  \n",
       "unique                                            6  \n",
       "top     Mac: Access Denied -> Cookies, Virenscanner  \n",
       "freq                                             27  "
      ]
     },
     "execution_count": 1,
     "metadata": {},
     "output_type": "execute_result"
    }
   ],
   "source": [
    "import pandas as pd\n",
    "\n",
    "extract = '../01_data/chatbot_extract-1.csv'\n",
    "names=['ticket', 'customer', 'inquiry', 'state', 'answer']\n",
    "\n",
    "corpus = pd.read_csv(extract, encoding='utf-8', names=names, skiprows=[0], usecols=[1, 2, 4, 5, 6])\n",
    "corpus['inquiry'] = corpus['inquiry'].str.lower()\n",
    "corpus.drop_duplicates(subset='inquiry', keep='first', inplace=True)\n",
    "corpus.dropna(axis='rows', how='any', inplace=True)\n",
    "\n",
    "corpus.describe()"
   ]
  },
  {
   "cell_type": "markdown",
   "metadata": {},
   "source": [
    "### 1. Stop word removal\n",
    "Als erster Schritt werden alle unbedeutenden Wörter wie z.B _und_, _ein_, _als_ etc. von den _inquiries_ entfernt."
   ]
  },
  {
   "cell_type": "code",
   "execution_count": 2,
   "metadata": {},
   "outputs": [],
   "source": [
    "import re\n",
    "from nltk.corpus import stopwords\n",
    "\n",
    "stop_words = stopwords.words('german')\n",
    "stop_words.extend([''])\n",
    "\n",
    "def without_stop_words(text):\n",
    "    text = re.sub(r'[^\\u00C0-\\u017Fa-zA-Z\\s]', '', text, re.I | re.A)\n",
    "    return str.join(' ', [t for t in text.split(' ') if not t in stop_words])"
   ]
  },
  {
   "cell_type": "code",
   "execution_count": 3,
   "metadata": {},
   "outputs": [],
   "source": [
    "for i, inquiry in enumerate(corpus['inquiry']):\n",
    "    corpus['inquiry'][i] = without_stop_words(inquiry)"
   ]
  },
  {
   "cell_type": "code",
   "execution_count": 4,
   "metadata": {},
   "outputs": [
    {
     "data": {
      "text/html": [
       "<div>\n",
       "<style scoped>\n",
       "    .dataframe tbody tr th:only-of-type {\n",
       "        vertical-align: middle;\n",
       "    }\n",
       "\n",
       "    .dataframe tbody tr th {\n",
       "        vertical-align: top;\n",
       "    }\n",
       "\n",
       "    .dataframe thead th {\n",
       "        text-align: right;\n",
       "    }\n",
       "</style>\n",
       "<table border=\"1\" class=\"dataframe\">\n",
       "  <thead>\n",
       "    <tr style=\"text-align: right;\">\n",
       "      <th></th>\n",
       "      <th>ticket</th>\n",
       "      <th>customer</th>\n",
       "      <th>inquiry</th>\n",
       "      <th>state</th>\n",
       "      <th>answer</th>\n",
       "    </tr>\n",
       "  </thead>\n",
       "  <tbody>\n",
       "    <tr>\n",
       "      <th>0</th>\n",
       "      <td>Fehler in der App</td>\n",
       "      <td>Swissmem</td>\n",
       "      <td>normenauszug rechenbuch metall tabellenbuchs m...</td>\n",
       "      <td>closed successful</td>\n",
       "      <td>Mac: Access Denied -&gt; Cookies, Virenscanner</td>\n",
       "    </tr>\n",
       "    <tr>\n",
       "      <th>1</th>\n",
       "      <td>Fehler in der App</td>\n",
       "      <td>SVBA</td>\n",
       "      <td>bilder mehr öffnen editorprogramm bearbeiten</td>\n",
       "      <td>closed successful</td>\n",
       "      <td>Coupon einlösen, Produkte nicht vorhanden</td>\n",
       "    </tr>\n",
       "    <tr>\n",
       "      <th>2</th>\n",
       "      <td>Fehler in der App</td>\n",
       "      <td>hep</td>\n",
       "      <td>leider fehlen paar kapitel lehrmittel lma d ei...</td>\n",
       "      <td>closed successful</td>\n",
       "      <td>Mac: Access Denied -&gt; Cookies, Virenscanner</td>\n",
       "    </tr>\n",
       "    <tr>\n",
       "      <th>3</th>\n",
       "      <td>Anmeldung / Aktivierung</td>\n",
       "      <td>AGVS</td>\n",
       "      <td>fk zb seite lesen steht seiten auszugs genutzt</td>\n",
       "      <td>closed successful</td>\n",
       "      <td>Linux</td>\n",
       "    </tr>\n",
       "    <tr>\n",
       "      <th>4</th>\n",
       "      <td>Anmeldung / Aktivierung</td>\n",
       "      <td>SVBA</td>\n",
       "      <td>kapitel technisches englisch herunterladen ste...</td>\n",
       "      <td>closed successful</td>\n",
       "      <td>Coupon einlösen, Produkte nicht vorhanden</td>\n",
       "    </tr>\n",
       "  </tbody>\n",
       "</table>\n",
       "</div>"
      ],
      "text/plain": [
       "                    ticket  customer  \\\n",
       "0        Fehler in der App  Swissmem   \n",
       "1        Fehler in der App      SVBA   \n",
       "2        Fehler in der App       hep   \n",
       "3  Anmeldung / Aktivierung      AGVS   \n",
       "4  Anmeldung / Aktivierung      SVBA   \n",
       "\n",
       "                                             inquiry              state  \\\n",
       "0  normenauszug rechenbuch metall tabellenbuchs m...  closed successful   \n",
       "1       bilder mehr öffnen editorprogramm bearbeiten  closed successful   \n",
       "2  leider fehlen paar kapitel lehrmittel lma d ei...  closed successful   \n",
       "3     fk zb seite lesen steht seiten auszugs genutzt  closed successful   \n",
       "4  kapitel technisches englisch herunterladen ste...  closed successful   \n",
       "\n",
       "                                        answer  \n",
       "0  Mac: Access Denied -> Cookies, Virenscanner  \n",
       "1    Coupon einlösen, Produkte nicht vorhanden  \n",
       "2  Mac: Access Denied -> Cookies, Virenscanner  \n",
       "3                                        Linux  \n",
       "4    Coupon einlösen, Produkte nicht vorhanden  "
      ]
     },
     "execution_count": 4,
     "metadata": {},
     "output_type": "execute_result"
    }
   ],
   "source": [
    "corpus.head()"
   ]
  },
  {
   "cell_type": "markdown",
   "metadata": {},
   "source": [
    "**Gute Sätze**\n",
    "\n",
    "Wie sehen ein paar gute Sätze nach der stop word Entfernung aus?"
   ]
  },
  {
   "cell_type": "code",
   "execution_count": 5,
   "metadata": {},
   "outputs": [
    {
     "name": "stdout",
     "output_type": "stream",
     "text": [
      "Bsp. 0 \t normenauszug rechenbuch metall tabellenbuchs metall fechkundebuch metall machineworld topdesign automation control konstrukteur konstrukteur konstrukteur funktionieren mehr kommt meldung mehr seiten kostenlos verfügbar bücher bezahlt kurzem funktioniert \n",
      "\n",
      "Bsp. 1 \t heute beook laptop aktuallisieren trotz löschen alten programms erneutem download neuste version laptop laden pc schulung lernenden funktioniert einwandfreials fehlermeldung gerätezahl überschritten angegeben beook schulungspc laptop installiert zwei geräteden laptop benötige weiterbildung märz bernwo liegt fehler \n",
      "\n",
      "Bsp. 2 \t beook lehrmittel ehr besichtigen mitschühlern funktiorniert ausser dario nichtso mehr informieren vollständig klasse mitarbeiten aktivierungscood enthalten tun vorhin direkt angerufen gbitet erneut subbrotanfrage machenliebe grüsse boschung nicole mitschülerin schreibt besprochen subbrot anfrage geht \n",
      "\n",
      "Bsp. 3 \t im lehrmittel \"deutsch im abu\", 3. auflage gibt es bei der übung \"beschreibung/wortarten\" bei kapitel wortarten/gross-kleinschreibung übung 12 einen fehler. man kann nicht alle textbausteine einfüllen. es bleibt immer eines übrig.vielen dank für ihre antwort. \n",
      "\n",
      "Bsp. 4 \t ich musste mir für den allgemeinbildungs unterricht die gesetzestexte kaufen und als elehrmittel herunterladen. jedoch kann ich jetzt im elehrmittel bei dem inhalt nur den vorpann und die bv anw√§hlen. ich habe es bereits neu installiert doch das problem ist wieder aufgetaucht. bitte um eine baldige antwort und vielen dank im voraus. \n",
      "\n"
     ]
    }
   ],
   "source": [
    "word = 5\n",
    "mask = (corpus['inquiry'].str.len() > 50 * word)\n",
    "good_inquiries = corpus.loc[mask].inquiry\n",
    "\n",
    "for i, msg in enumerate(good_inquiries[:5]):\n",
    "    print('Bsp.', i, '\\t', msg, '\\n')"
   ]
  },
  {
   "cell_type": "markdown",
   "metadata": {},
   "source": [
    "### 2. Stemming\n",
    "Als zweiten Schritt werden alle Wörter auf eine Wurzel Form gekürzt. Im gegensatz zu Lemming ist das Resultat von Stemming nicht grammatikalisch korrekt."
   ]
  },
  {
   "cell_type": "code",
   "execution_count": 6,
   "metadata": {},
   "outputs": [],
   "source": [
    "from nltk.stem.snowball import SnowballStemmer\n",
    "\n",
    "snowball = SnowballStemmer('german', ignore_stopwords=True)\n",
    "\n",
    "def stem(text):\n",
    "    return str.join(' ', [snowball.stem(t) for t in text.split(' ')])"
   ]
  },
  {
   "cell_type": "code",
   "execution_count": 7,
   "metadata": {},
   "outputs": [],
   "source": [
    "for i, inquiry in enumerate(corpus['inquiry']):\n",
    "    corpus['inquiry'][i] = stem(inquiry)"
   ]
  },
  {
   "cell_type": "code",
   "execution_count": 8,
   "metadata": {},
   "outputs": [
    {
     "data": {
      "text/html": [
       "<div>\n",
       "<style scoped>\n",
       "    .dataframe tbody tr th:only-of-type {\n",
       "        vertical-align: middle;\n",
       "    }\n",
       "\n",
       "    .dataframe tbody tr th {\n",
       "        vertical-align: top;\n",
       "    }\n",
       "\n",
       "    .dataframe thead th {\n",
       "        text-align: right;\n",
       "    }\n",
       "</style>\n",
       "<table border=\"1\" class=\"dataframe\">\n",
       "  <thead>\n",
       "    <tr style=\"text-align: right;\">\n",
       "      <th></th>\n",
       "      <th>ticket</th>\n",
       "      <th>customer</th>\n",
       "      <th>inquiry</th>\n",
       "      <th>state</th>\n",
       "      <th>answer</th>\n",
       "    </tr>\n",
       "  </thead>\n",
       "  <tbody>\n",
       "    <tr>\n",
       "      <th>0</th>\n",
       "      <td>Fehler in der App</td>\n",
       "      <td>Swissmem</td>\n",
       "      <td>normenauszug rechenbuch metall tabellenbuchs m...</td>\n",
       "      <td>closed successful</td>\n",
       "      <td>Mac: Access Denied -&gt; Cookies, Virenscanner</td>\n",
       "    </tr>\n",
       "    <tr>\n",
       "      <th>1</th>\n",
       "      <td>Fehler in der App</td>\n",
       "      <td>SVBA</td>\n",
       "      <td>bilder mehr öffnen editorprogramm bearbeiten</td>\n",
       "      <td>closed successful</td>\n",
       "      <td>Coupon einlösen, Produkte nicht vorhanden</td>\n",
       "    </tr>\n",
       "    <tr>\n",
       "      <th>2</th>\n",
       "      <td>Fehler in der App</td>\n",
       "      <td>hep</td>\n",
       "      <td>leider fehlen paar kapitel lehrmittel lma d ei...</td>\n",
       "      <td>closed successful</td>\n",
       "      <td>Mac: Access Denied -&gt; Cookies, Virenscanner</td>\n",
       "    </tr>\n",
       "    <tr>\n",
       "      <th>3</th>\n",
       "      <td>Anmeldung / Aktivierung</td>\n",
       "      <td>AGVS</td>\n",
       "      <td>fk zb seite lesen steht seiten auszugs genutzt</td>\n",
       "      <td>closed successful</td>\n",
       "      <td>Linux</td>\n",
       "    </tr>\n",
       "    <tr>\n",
       "      <th>4</th>\n",
       "      <td>Anmeldung / Aktivierung</td>\n",
       "      <td>SVBA</td>\n",
       "      <td>kapitel technisches englisch herunterladen ste...</td>\n",
       "      <td>closed successful</td>\n",
       "      <td>Coupon einlösen, Produkte nicht vorhanden</td>\n",
       "    </tr>\n",
       "  </tbody>\n",
       "</table>\n",
       "</div>"
      ],
      "text/plain": [
       "                    ticket  customer  \\\n",
       "0        Fehler in der App  Swissmem   \n",
       "1        Fehler in der App      SVBA   \n",
       "2        Fehler in der App       hep   \n",
       "3  Anmeldung / Aktivierung      AGVS   \n",
       "4  Anmeldung / Aktivierung      SVBA   \n",
       "\n",
       "                                             inquiry              state  \\\n",
       "0  normenauszug rechenbuch metall tabellenbuchs m...  closed successful   \n",
       "1       bilder mehr öffnen editorprogramm bearbeiten  closed successful   \n",
       "2  leider fehlen paar kapitel lehrmittel lma d ei...  closed successful   \n",
       "3     fk zb seite lesen steht seiten auszugs genutzt  closed successful   \n",
       "4  kapitel technisches englisch herunterladen ste...  closed successful   \n",
       "\n",
       "                                        answer  \n",
       "0  Mac: Access Denied -> Cookies, Virenscanner  \n",
       "1    Coupon einlösen, Produkte nicht vorhanden  \n",
       "2  Mac: Access Denied -> Cookies, Virenscanner  \n",
       "3                                        Linux  \n",
       "4    Coupon einlösen, Produkte nicht vorhanden  "
      ]
     },
     "execution_count": 8,
     "metadata": {},
     "output_type": "execute_result"
    }
   ],
   "source": [
    "corpus.head()"
   ]
  },
  {
   "cell_type": "markdown",
   "metadata": {},
   "source": [
    "**Gute Sätze**\n",
    "\n",
    "Wie sehen ein paar gute Sätze nach der stop word Entfernung aus?"
   ]
  },
  {
   "cell_type": "code",
   "execution_count": 9,
   "metadata": {},
   "outputs": [
    {
     "name": "stdout",
     "output_type": "stream",
     "text": [
      "Bsp. 0 \t heute beook laptop aktuallisieren trotz löschen alten programms erneutem download neuste version laptop laden pc schulung lernenden funktioniert einwandfreials fehlermeldung gerätezahl überschritten angegeben beook schulungspc laptop installiert zwei geräteden laptop benötige weiterbildung märz bernwo liegt fehler \n",
      "\n",
      "Bsp. 1 \t beook lehrmittel ehr besichtigen mitschühlern funktiorniert ausser dario nichtso mehr informieren vollständig klasse mitarbeiten aktivierungscood enthalten tun vorhin direkt angerufen gbitet erneut subbrotanfrage machenliebe grüsse boschung nicole mitschülerin schreibt besprochen subbrot anfrage geht \n",
      "\n",
      "Bsp. 2 \t die grösse der buchstaben lässt sich nicht verkleinern. die schrift  gross auf einer sehr niedrigen stuffe. \n",
      "\n"
     ]
    }
   ],
   "source": [
    "word = 5\n",
    "mask = (corpus['inquiry'].str.len() > 50 * word)\n",
    "good_inquiries = corpus.loc[mask].inquiry\n",
    "\n",
    "for i, msg in enumerate(good_inquiries[:5]):\n",
    "    print('Bsp.', i, '\\t', msg, '\\n')"
   ]
  },
  {
   "cell_type": "markdown",
   "metadata": {},
   "source": [
    "### 3. Tokenization\n",
    "In einem ersten Schritt werden alle _inquiries_ gesammelt und in einzelne Wörter zerlegt."
   ]
  },
  {
   "cell_type": "code",
   "execution_count": 10,
   "metadata": {},
   "outputs": [
    {
     "data": {
      "text/html": [
       "<div>\n",
       "<style scoped>\n",
       "    .dataframe tbody tr th:only-of-type {\n",
       "        vertical-align: middle;\n",
       "    }\n",
       "\n",
       "    .dataframe tbody tr th {\n",
       "        vertical-align: top;\n",
       "    }\n",
       "\n",
       "    .dataframe thead th {\n",
       "        text-align: right;\n",
       "    }\n",
       "</style>\n",
       "<table border=\"1\" class=\"dataframe\">\n",
       "  <thead>\n",
       "    <tr style=\"text-align: right;\">\n",
       "      <th></th>\n",
       "      <th>ticket</th>\n",
       "      <th>customer</th>\n",
       "      <th>inquiry</th>\n",
       "      <th>state</th>\n",
       "      <th>answer</th>\n",
       "      <th>inquiry_tokens</th>\n",
       "    </tr>\n",
       "  </thead>\n",
       "  <tbody>\n",
       "    <tr>\n",
       "      <th>0</th>\n",
       "      <td>Fehler in der App</td>\n",
       "      <td>Swissmem</td>\n",
       "      <td>normenauszug rechenbuch metall tabellenbuchs m...</td>\n",
       "      <td>closed successful</td>\n",
       "      <td>Mac: Access Denied -&gt; Cookies, Virenscanner</td>\n",
       "      <td>[normenauszug, rechenbuch, metall, tabellenbuc...</td>\n",
       "    </tr>\n",
       "    <tr>\n",
       "      <th>1</th>\n",
       "      <td>Fehler in der App</td>\n",
       "      <td>SVBA</td>\n",
       "      <td>bilder mehr öffnen editorprogramm bearbeiten</td>\n",
       "      <td>closed successful</td>\n",
       "      <td>Coupon einlösen, Produkte nicht vorhanden</td>\n",
       "      <td>[bild, mehr, offn, editorprogramm, bearbeit]</td>\n",
       "    </tr>\n",
       "    <tr>\n",
       "      <th>2</th>\n",
       "      <td>Fehler in der App</td>\n",
       "      <td>hep</td>\n",
       "      <td>leider fehlen paar kapitel lehrmittel lma d ei...</td>\n",
       "      <td>closed successful</td>\n",
       "      <td>Mac: Access Denied -&gt; Cookies, Virenscanner</td>\n",
       "      <td>[leid, fehl, paar, kapitel, lehrmittel, lma, d...</td>\n",
       "    </tr>\n",
       "    <tr>\n",
       "      <th>3</th>\n",
       "      <td>Anmeldung / Aktivierung</td>\n",
       "      <td>AGVS</td>\n",
       "      <td>fk zb seite lesen steht seiten auszugs genutzt</td>\n",
       "      <td>closed successful</td>\n",
       "      <td>Linux</td>\n",
       "      <td>[fk, zb, seit, les, steht, seit, auszug, genutzt]</td>\n",
       "    </tr>\n",
       "    <tr>\n",
       "      <th>4</th>\n",
       "      <td>Anmeldung / Aktivierung</td>\n",
       "      <td>SVBA</td>\n",
       "      <td>kapitel technisches englisch herunterladen ste...</td>\n",
       "      <td>closed successful</td>\n",
       "      <td>Coupon einlösen, Produkte nicht vorhanden</td>\n",
       "      <td>[kapitel, technisch, englisch, herunterlad, st...</td>\n",
       "    </tr>\n",
       "  </tbody>\n",
       "</table>\n",
       "</div>"
      ],
      "text/plain": [
       "                    ticket  customer  \\\n",
       "0        Fehler in der App  Swissmem   \n",
       "1        Fehler in der App      SVBA   \n",
       "2        Fehler in der App       hep   \n",
       "3  Anmeldung / Aktivierung      AGVS   \n",
       "4  Anmeldung / Aktivierung      SVBA   \n",
       "\n",
       "                                             inquiry              state  \\\n",
       "0  normenauszug rechenbuch metall tabellenbuchs m...  closed successful   \n",
       "1       bilder mehr öffnen editorprogramm bearbeiten  closed successful   \n",
       "2  leider fehlen paar kapitel lehrmittel lma d ei...  closed successful   \n",
       "3     fk zb seite lesen steht seiten auszugs genutzt  closed successful   \n",
       "4  kapitel technisches englisch herunterladen ste...  closed successful   \n",
       "\n",
       "                                        answer  \\\n",
       "0  Mac: Access Denied -> Cookies, Virenscanner   \n",
       "1    Coupon einlösen, Produkte nicht vorhanden   \n",
       "2  Mac: Access Denied -> Cookies, Virenscanner   \n",
       "3                                        Linux   \n",
       "4    Coupon einlösen, Produkte nicht vorhanden   \n",
       "\n",
       "                                      inquiry_tokens  \n",
       "0  [normenauszug, rechenbuch, metall, tabellenbuc...  \n",
       "1       [bild, mehr, offn, editorprogramm, bearbeit]  \n",
       "2  [leid, fehl, paar, kapitel, lehrmittel, lma, d...  \n",
       "3  [fk, zb, seit, les, steht, seit, auszug, genutzt]  \n",
       "4  [kapitel, technisch, englisch, herunterlad, st...  "
      ]
     },
     "execution_count": 10,
     "metadata": {},
     "output_type": "execute_result"
    }
   ],
   "source": [
    "from nltk.tokenize import word_tokenize\n",
    "\n",
    "corpus['inquiry_tokens'] = corpus['inquiry'].apply(word_tokenize)\n",
    "corpus.head()"
   ]
  },
  {
   "cell_type": "markdown",
   "metadata": {},
   "source": [
    "Jetzt können wir aus den Tokens ein Vocabular erstellen um zu sehen wieviele Wörter vorhanden sind."
   ]
  },
  {
   "cell_type": "markdown",
   "metadata": {},
   "source": [
    "### 4. Vokabular\n",
    "Das Vocabular umfasst **546** Wörter."
   ]
  },
  {
   "cell_type": "code",
   "execution_count": 11,
   "metadata": {},
   "outputs": [
    {
     "name": "stdout",
     "output_type": "stream",
     "text": [
      "Wörter: 970\n",
      "Vokabular: 546\n"
     ]
    },
    {
     "data": {
      "text/plain": [
       "['aktualisi',\n",
       " 'aktuallisi',\n",
       " 'alle',\n",
       " 'allgemeinbild',\n",
       " 'als',\n",
       " 'alt',\n",
       " 'and',\n",
       " 'anekgreuzt',\n",
       " 'anfrag',\n",
       " 'angegeb']"
      ]
     },
     "execution_count": 11,
     "metadata": {},
     "output_type": "execute_result"
    }
   ],
   "source": [
    "inquiry_tokens = [item for sublist in corpus['inquiry_tokens'] for item in sublist]\n",
    "\n",
    "vocab = list(set(inquiry_tokens))\n",
    "vocab.sort()\n",
    "\n",
    "print(f'Wörter: {len(inquiry_tokens)}')\n",
    "print(f'Vokabular: {len(vocab)}')\n",
    "vocab[20:30]"
   ]
  },
  {
   "cell_type": "markdown",
   "metadata": {},
   "source": [
    "#### Lexikalischer Reichtum"
   ]
  },
  {
   "cell_type": "code",
   "execution_count": 12,
   "metadata": {},
   "outputs": [
    {
     "name": "stdout",
     "output_type": "stream",
     "text": [
      "Lexikalischer Reichtum: 0.5628865979381443\n"
     ]
    }
   ],
   "source": [
    "print(f'Lexikalischer Reichtum: {len(vocab) / len(inquiry_tokens)}')"
   ]
  },
  {
   "cell_type": "markdown",
   "metadata": {},
   "source": [
    "#### Häufigkeitsverteilung von Wörtern"
   ]
  },
  {
   "cell_type": "code",
   "execution_count": 13,
   "metadata": {},
   "outputs": [
    {
     "data": {
      "text/plain": [
       "FreqDist({'neu': 18, 'mehr': 12, '.': 12, 'laptop': 10, 'funktioniert': 9, 'gerat': 9, 'samsung': 9, 'beook': 9, 'buch': 8, 'app': 8, ...})"
      ]
     },
     "execution_count": 13,
     "metadata": {},
     "output_type": "execute_result"
    }
   ],
   "source": [
    "from nltk import FreqDist\n",
    "\n",
    "fdist1 = FreqDist(inquiry_tokens)\n",
    "fdist1"
   ]
  },
  {
   "cell_type": "code",
   "execution_count": 15,
   "metadata": {},
   "outputs": [
    {
     "data": {
      "image/png": "[encoded data removed]",
      "text/plain": [
       "<Figure size 720x720 with 1 Axes>"
      ]
     },
     "metadata": {
      "needs_background": "light"
     },
     "output_type": "display_data"
    }
   ],
   "source": [
    "import matplotlib\n",
    "matplotlib.rcParams['figure.figsize'] = [10, 10]\n",
    "\n",
    "fdist1.plot(50, cumulative=False)"
   ]
  },
  {
   "cell_type": "markdown",
   "metadata": {},
   "source": [
    "#### Hapaxen\n",
    "Hapaxe sind Wörter die nur einmal vorkommen."
   ]
  },
  {
   "cell_type": "code",
   "execution_count": 16,
   "metadata": {},
   "outputs": [
    {
     "name": "stdout",
     "output_type": "stream",
     "text": [
      "Anzahl Haxapen: 357\n"
     ]
    },
    {
     "data": {
      "text/plain": [
       "['normenauszug', 'rechenbuch', 'tabellenbuch', 'fechkundebuch', 'machineworld']"
      ]
     },
     "execution_count": 16,
     "metadata": {},
     "output_type": "execute_result"
    }
   ],
   "source": [
    "print(f'Anzahl Haxapen: {len(fdist1.hapaxes())}')\n",
    "fdist1.hapaxes()[:5]"
   ]
  },
  {
   "cell_type": "code",
   "execution_count": 17,
   "metadata": {},
   "outputs": [
    {
     "name": "stdout",
     "output_type": "stream",
     "text": [
      "normenauszug rechenbuch metall tabellenbuchs metall fechkundebuch metall machineworld topdesign automation control konstrukteur konstrukteur konstrukteur funktionieren mehr kommt meldung mehr seiten kostenlos verfügbar bücher bezahlt kurzem funktioniert \n",
      "\n",
      "beook funktionieren inhalte fr fachrechenbuches mehr erscheint meldung geräteanzahl überschritten wissen lizenz jedoch lap top nirgends installiertkönnen frbuch freischalten \n",
      "\n"
     ]
    }
   ],
   "source": [
    "for i in corpus[corpus['inquiry'].str.contains('rechenbuch')].inquiry:\n",
    "    print(i, '\\n')"
   ]
  },
  {
   "cell_type": "code",
   "execution_count": null,
   "metadata": {},
   "outputs": [],
   "source": []
  }
 ],
 "metadata": {
  "kernelspec": {
   "display_name": "Python 3",
   "language": "python",
   "name": "python3"
  },
  "language_info": {
   "codemirror_mode": {
    "name": "ipython",
    "version": 3
   },
   "file_extension": ".py",
   "mimetype": "text/x-python",
   "name": "python",
   "nbconvert_exporter": "python",
   "pygments_lexer": "ipython3",
   "version": "3.6.7"
  }
 },
 "nbformat": 4,
 "nbformat_minor": 2
}
