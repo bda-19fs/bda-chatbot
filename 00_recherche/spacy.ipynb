{
 "cells": [
  {
   "cell_type": "markdown",
   "metadata": {},
   "source": [
    "# Spacy"
   ]
  },
  {
   "cell_type": "code",
   "execution_count": 3,
   "metadata": {},
   "outputs": [],
   "source": [
    "# german resources: python -m spacy download de"
   ]
  },
  {
   "cell_type": "code",
   "execution_count": 4,
   "metadata": {},
   "outputs": [],
   "source": [
    "import spacy\n",
    "nlp = spacy.load('de')"
   ]
  },
  {
   "cell_type": "code",
   "execution_count": 5,
   "metadata": {},
   "outputs": [
    {
     "name": "stdout",
     "output_type": "stream",
     "text": [
      "Ein 9141223672684087197 Ein\n",
      "einfaches 18050151357417010142 einfach\n",
      "Beispiel 176351906757609250 Beispiel\n",
      "mit 403527350404785839 mit\n",
      "einfachen 18050151357417010142 einfach\n",
      "Wörtern 15631799212069877876 Wort\n",
      ". 12646065887601541794 .\n"
     ]
    }
   ],
   "source": [
    "doc = nlp(u\"Ein einfaches Beispiel mit einfachen Wörtern.\")\n",
    "\n",
    "for token in doc:\n",
    "    print(token, token.lemma, token.lemma_)"
   ]
  },
  {
   "cell_type": "code",
   "execution_count": 10,
   "metadata": {},
   "outputs": [
    {
     "name": "stdout",
     "output_type": "stream",
     "text": [
      "vielversprechende 7407646676149794366 vielversprechend\n",
      "Möglichkeiten 1383437983836287633 Möglichkeit\n"
     ]
    }
   ],
   "source": [
    "doc = nlp(u\"vielversprechende Möglichkeiten\")\n",
    "\n",
    "for token in doc:\n",
    "    print(token, token.lemma, token.lemma_)"
   ]
  },
  {
   "cell_type": "code",
   "execution_count": null,
   "metadata": {},
   "outputs": [],
   "source": []
  }
 ],
 "metadata": {
  "kernelspec": {
   "display_name": "Python 3",
   "language": "python",
   "name": "python3"
  },
  "language_info": {
   "codemirror_mode": {
    "name": "ipython",
    "version": 3
   },
   "file_extension": ".py",
   "mimetype": "text/x-python",
   "name": "python",
   "nbconvert_exporter": "python",
   "pygments_lexer": "ipython3",
   "version": "3.6.5"
  }
 },
 "nbformat": 4,
 "nbformat_minor": 2
}
