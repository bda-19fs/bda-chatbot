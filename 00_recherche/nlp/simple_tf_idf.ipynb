{
 "cells": [
  {
   "cell_type": "markdown",
   "metadata": {},
   "source": [
    "### TF-IDF"
   ]
  },
  {
   "cell_type": "code",
   "execution_count": 15,
   "metadata": {},
   "outputs": [
    {
     "name": "stdout",
     "output_type": "stream",
     "text": [
      "                          doc 0     doc 1  doc 2\n",
      "computer funktioniert  0.000000  0.479528    0.0\n",
      "computer problem       0.508542  0.283217    1.0\n",
      "da computer            0.430518  0.000000    0.0\n",
      "funktioniert nicht     0.000000  0.479528    0.0\n",
      "habe computer          0.430518  0.000000    0.0\n",
      "nicht mehr             0.000000  0.479528    0.0\n",
      "problem computer       0.000000  0.479528    0.0\n",
      "problem da             0.430518  0.000000    0.0\n",
      "problem habe           0.430518  0.000000    0.0\n"
     ]
    }
   ],
   "source": [
    "import numpy as np\n",
    "import pandas as pd\n",
    "import string\n",
    "import re\n",
    "\n",
    "from sklearn.feature_extraction.text import TfidfVectorizer\n",
    "\n",
    "text = [\n",
    "    'Ich habe ein Computer Problem da ich ein Computer Problem habe.',\n",
    "    'Computer Problem! Mein Computer funktioniert nicht mehr.',\n",
    "    'Mein Computer hat ein Problem.',\n",
    "]\n",
    "\n",
    "# lower case and cleaning\n",
    "text = [t.lower() for t in text]\n",
    "corpus = re.sub(r'[^a-zA-Z0-9\\s]', ' ', ''.join(text))\n",
    "\n",
    "# token generation\n",
    "tokens = list(set([token for token in corpus.split(' ') if token != '']))\n",
    "\n",
    "# TF-IDF\n",
    "doc_names = ['doc {}'.format(i) for i in range(len(text))]\n",
    "\n",
    "vect = TfidfVectorizer(stop_words=['ein', 'hat', 'ich', 'mein'], ngram_range=(2, 2))\n",
    "tfidf = vect.fit_transform(text).toarray()\n",
    "print(pd.DataFrame(tfidf, columns=vect.get_feature_names(), index=doc_names).T)"
   ]
  },
  {
   "cell_type": "code",
   "execution_count": null,
   "metadata": {},
   "outputs": [],
   "source": []
  }
 ],
 "metadata": {
  "kernelspec": {
   "display_name": "Python 3",
   "language": "python",
   "name": "python3"
  },
  "language_info": {
   "codemirror_mode": {
    "name": "ipython",
    "version": 3
   },
   "file_extension": ".py",
   "mimetype": "text/x-python",
   "name": "python",
   "nbconvert_exporter": "python",
   "pygments_lexer": "ipython3",
   "version": "3.6.7"
  }
 },
 "nbformat": 4,
 "nbformat_minor": 2
}
