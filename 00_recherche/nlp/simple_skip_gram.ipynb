{
 "cells": [
  {
   "cell_type": "markdown",
   "metadata": {},
   "source": [
    "### Feature extraction\n",
    "Following tutorial: https://towardsdatascience.com/understanding-feature-engineering-part-4-deep-learning-methods-for-text-data-96c44370bbfa"
   ]
  },
  {
   "cell_type": "code",
   "execution_count": 8,
   "metadata": {},
   "outputs": [],
   "source": [
    "import pandas as pd\n",
    "import numpy as np\n",
    "import re\n",
    "import nltk\n",
    "import matplotlib.pyplot as plt\n",
    "\n",
    "pd.options.display.max_colwidth = 200\n",
    "%matplotlib inline"
   ]
  },
  {
   "cell_type": "markdown",
   "metadata": {},
   "source": [
    "### Toy Corpus"
   ]
  },
  {
   "cell_type": "code",
   "execution_count": 9,
   "metadata": {},
   "outputs": [
    {
     "data": {
      "text/html": [
       "<div>\n",
       "<style scoped>\n",
       "    .dataframe tbody tr th:only-of-type {\n",
       "        vertical-align: middle;\n",
       "    }\n",
       "\n",
       "    .dataframe tbody tr th {\n",
       "        vertical-align: top;\n",
       "    }\n",
       "\n",
       "    .dataframe thead th {\n",
       "        text-align: right;\n",
       "    }\n",
       "</style>\n",
       "<table border=\"1\" class=\"dataframe\">\n",
       "  <thead>\n",
       "    <tr style=\"text-align: right;\">\n",
       "      <th></th>\n",
       "      <th>Document</th>\n",
       "      <th>Category</th>\n",
       "    </tr>\n",
       "  </thead>\n",
       "  <tbody>\n",
       "    <tr>\n",
       "      <th>0</th>\n",
       "      <td>Ich kann keine Bilder öffnen.</td>\n",
       "      <td>bug</td>\n",
       "    </tr>\n",
       "    <tr>\n",
       "      <th>1</th>\n",
       "      <td>Der Doppelklick auf Bilder funktioniert nicht mehr.</td>\n",
       "      <td>bug</td>\n",
       "    </tr>\n",
       "    <tr>\n",
       "      <th>2</th>\n",
       "      <td>In Buch Nr. 712 auf Seite 12 wurde ein Wort falsch geschrieben!</td>\n",
       "      <td>grammar</td>\n",
       "    </tr>\n",
       "    <tr>\n",
       "      <th>3</th>\n",
       "      <td>Der Buchtitel wurde falsch geschrieben. NLKT wurde geschrieben anstatt NLTK!</td>\n",
       "      <td>grammar</td>\n",
       "    </tr>\n",
       "    <tr>\n",
       "      <th>4</th>\n",
       "      <td>Ich kann die gekaufte Lizenz nicht mehr aktivieren. Was mache ich falsch?</td>\n",
       "      <td>license</td>\n",
       "    </tr>\n",
       "    <tr>\n",
       "      <th>5</th>\n",
       "      <td>Die Lizenz funktioniert nicht!</td>\n",
       "      <td>license</td>\n",
       "    </tr>\n",
       "    <tr>\n",
       "      <th>6</th>\n",
       "      <td>Ich kann mich nicht mehr einloggen.</td>\n",
       "      <td>login</td>\n",
       "    </tr>\n",
       "    <tr>\n",
       "      <th>7</th>\n",
       "      <td>Mein Passwort scheint nicht mehr zu funktionieren!</td>\n",
       "      <td>login</td>\n",
       "    </tr>\n",
       "    <tr>\n",
       "      <th>8</th>\n",
       "      <td>Der Betrag wurde von meiner Kreditkarte abgezogen, das Buch habe ich immernoch nicht erhalten!</td>\n",
       "      <td>payment</td>\n",
       "    </tr>\n",
       "    <tr>\n",
       "      <th>9</th>\n",
       "      <td>Die Bezahlung wurde doppelt von meinem Konto abgebucht. #@!?$!!!</td>\n",
       "      <td>payment</td>\n",
       "    </tr>\n",
       "  </tbody>\n",
       "</table>\n",
       "</div>"
      ],
      "text/plain": [
       "                                                                                         Document  \\\n",
       "0                                                                   Ich kann keine Bilder öffnen.   \n",
       "1                                             Der Doppelklick auf Bilder funktioniert nicht mehr.   \n",
       "2                                 In Buch Nr. 712 auf Seite 12 wurde ein Wort falsch geschrieben!   \n",
       "3                    Der Buchtitel wurde falsch geschrieben. NLKT wurde geschrieben anstatt NLTK!   \n",
       "4                       Ich kann die gekaufte Lizenz nicht mehr aktivieren. Was mache ich falsch?   \n",
       "5                                                                  Die Lizenz funktioniert nicht!   \n",
       "6                                                             Ich kann mich nicht mehr einloggen.   \n",
       "7                                              Mein Passwort scheint nicht mehr zu funktionieren!   \n",
       "8  Der Betrag wurde von meiner Kreditkarte abgezogen, das Buch habe ich immernoch nicht erhalten!   \n",
       "9                                Die Bezahlung wurde doppelt von meinem Konto abgebucht. #@!?$!!!   \n",
       "\n",
       "  Category  \n",
       "0      bug  \n",
       "1      bug  \n",
       "2  grammar  \n",
       "3  grammar  \n",
       "4  license  \n",
       "5  license  \n",
       "6    login  \n",
       "7    login  \n",
       "8  payment  \n",
       "9  payment  "
      ]
     },
     "execution_count": 9,
     "metadata": {},
     "output_type": "execute_result"
    }
   ],
   "source": [
    "corpus = [\n",
    "    'Ich kann keine Bilder öffnen.',\n",
    "    'Der Doppelklick auf Bilder funktioniert nicht mehr.',\n",
    "    'In Buch Nr. 712 auf Seite 12 wurde ein Wort falsch geschrieben!',\n",
    "    'Der Buchtitel wurde falsch geschrieben. NLKT wurde geschrieben anstatt NLTK!',\n",
    "    'Ich kann die gekaufte Lizenz nicht mehr aktivieren. Was mache ich falsch?',\n",
    "    'Die Lizenz funktioniert nicht!',\n",
    "    'Ich kann mich nicht mehr einloggen.',\n",
    "    'Mein Passwort scheint nicht mehr zu funktionieren!',\n",
    "    'Der Betrag wurde von meiner Kreditkarte abgezogen, das Buch habe ich immernoch nicht erhalten!',\n",
    "    'Die Bezahlung wurde doppelt von meinem Konto abgebucht. #@!?$!!!'    \n",
    "]\n",
    "\n",
    "labels = ['bug', 'bug', 'grammar', 'grammar', 'license', 'license', 'login', 'login', 'payment', 'payment']\n",
    "\n",
    "corpus = np.array(corpus)\n",
    "corpus_df = pd.DataFrame(\n",
    "    {\n",
    "        'Document': corpus, \n",
    "        'Category': labels\n",
    "    }\n",
    ")\n",
    "\n",
    "corpus_df = corpus_df[['Document', 'Category']]\n",
    "corpus_df"
   ]
  },
  {
   "cell_type": "markdown",
   "metadata": {},
   "source": [
    "### Text pre-processing"
   ]
  },
  {
   "cell_type": "code",
   "execution_count": 10,
   "metadata": {},
   "outputs": [],
   "source": [
    "wpt = nltk.WordPunctTokenizer()\n",
    "stop_words = nltk.corpus.stopwords.words('german')\n",
    "\n",
    "def normalize_document(doc):\n",
    "    # lower case and remove special characters \\ whitespaces\n",
    "    doc = re.sub(r'[^\\u00C0-\\u017Fa-zA-Z\\s]', '', doc, re.I | re.A)\n",
    "    doc = doc.lower()\n",
    "    doc = doc.strip()\n",
    "    \n",
    "    # tokenize document\n",
    "    tokens = wpt.tokenize(doc)\n",
    "    \n",
    "    # filter stopwords out of document\n",
    "    filtered_tokens = [token for token in tokens if token not in stop_words]\n",
    "    \n",
    "    # re-create document from filtered tokens\n",
    "    doc = ' '.join(filtered_tokens)\n",
    "    \n",
    "    return doc\n",
    "\n",
    "normalize_corpus = np.vectorize(normalize_document)"
   ]
  },
  {
   "cell_type": "code",
   "execution_count": 11,
   "metadata": {},
   "outputs": [
    {
     "data": {
      "text/plain": [
       "array(['bilder öffnen', 'doppelklick bilder funktioniert mehr',\n",
       "       'buch nr seite wurde wort falsch geschrieben',\n",
       "       'buchtitel wurde falsch geschrieben nlkt wurde geschrieben anstatt nltk',\n",
       "       'gekaufte lizenz mehr aktivieren mache falsch',\n",
       "       'lizenz funktioniert', 'mehr einloggen',\n",
       "       'passwort scheint mehr funktionieren',\n",
       "       'betrag wurde kreditkarte abgezogen buch immernoch erhalten',\n",
       "       'bezahlung wurde doppelt konto abgebucht'], dtype='<U70')"
      ]
     },
     "execution_count": 11,
     "metadata": {},
     "output_type": "execute_result"
    }
   ],
   "source": [
    "norm_corpus = normalize_corpus(corpus)\n",
    "norm_corpus"
   ]
  },
  {
   "cell_type": "markdown",
   "metadata": {},
   "source": [
    "### Skip-gram Model"
   ]
  },
  {
   "cell_type": "code",
   "execution_count": 12,
   "metadata": {},
   "outputs": [
    {
     "name": "stderr",
     "output_type": "stream",
     "text": [
      "Using TensorFlow backend.\n"
     ]
    },
    {
     "name": "stdout",
     "output_type": "stream",
     "text": [
      "Vocabulary Size: 34\n",
      "Vocabulary Sample: [('wurde', 1), ('mehr', 2), ('falsch', 3), ('geschrieben', 4), ('bilder', 5), ('funktioniert', 6), ('buch', 7), ('lizenz', 8), ('öffnen', 9), ('doppelklick', 10)]\n"
     ]
    }
   ],
   "source": [
    "from keras.preprocessing import text\n",
    "\n",
    "tokenizer = text.Tokenizer()\n",
    "tokenizer.fit_on_texts(norm_corpus)\n",
    "\n",
    "word2id = tokenizer.word_index\n",
    "id2word = {v:k for k, v in word2id.items()}\n",
    "\n",
    "vocab_size = len(word2id) + 1 \n",
    "embed_size = 100\n",
    "\n",
    "wids = [[word2id[w] for w in text.text_to_word_sequence(doc)] for doc in norm_corpus]\n",
    "print('Vocabulary Size:', vocab_size)\n",
    "print('Vocabulary Sample:', list(word2id.items())[:10])"
   ]
  },
  {
   "cell_type": "code",
   "execution_count": 13,
   "metadata": {},
   "outputs": [
    {
     "name": "stdout",
     "output_type": "stream",
     "text": [
      "valid range for (skip_grams[1][0], skip_grams[1][1]) is 24\n",
      "\n",
      "(mehr (2), anstatt (16)) -> 0\n",
      "(mehr (2), passwort (22)) -> 0\n",
      "(mehr (2), funktioniert (6)) -> 1\n",
      "(funktioniert (6), mehr (2)) -> 1\n",
      "(doppelklick (10), aktivieren (19)) -> 0\n",
      "(doppelklick (10), funktioniert (6)) -> 1\n",
      "(mehr (2), doppelklick (10)) -> 1\n",
      "(funktioniert (6), doppelklick (10)) -> 1\n",
      "(funktioniert (6), nltk (17)) -> 0\n",
      "(bilder (5), doppelklick (10)) -> 1\n",
      "(funktioniert (6), nlkt (15)) -> 0\n",
      "(doppelklick (10), nltk (17)) -> 0\n",
      "(bilder (5), abgezogen (27)) -> 0\n",
      "(mehr (2), bilder (5)) -> 1\n",
      "(doppelklick (10), immernoch (28)) -> 0\n",
      "(funktioniert (6), bilder (5)) -> 1\n",
      "(bilder (5), aktivieren (19)) -> 0\n",
      "(funktioniert (6), funktionieren (24)) -> 0\n",
      "(doppelklick (10), bilder (5)) -> 1\n",
      "(bilder (5), mehr (2)) -> 1\n",
      "(mehr (2), konto (32)) -> 0\n",
      "(bilder (5), funktioniert (6)) -> 1\n",
      "(bilder (5), nltk (17)) -> 0\n",
      "(doppelklick (10), mehr (2)) -> 1\n"
     ]
    }
   ],
   "source": [
    "from keras.preprocessing.sequence import skipgrams\n",
    "\n",
    "# generate skip-grams\n",
    "skip_grams = [skipgrams(wid, vocabulary_size=vocab_size, window_size=10) for wid in wids]\n",
    "len_skip_grams = len(skip_grams[1][0])\n",
    "print(f'valid range for (skip_grams[1][0], skip_grams[1][1]) is {len_skip_grams}\\n')\n",
    "\n",
    "# view sample skip-grams\n",
    "pairs, labels = skip_grams[1][0], skip_grams[1][1]\n",
    "for i in range(len_skip_grams):\n",
    "    print(\"({:s} ({:d}), {:s} ({:d})) -> {:d}\".format(\n",
    "        id2word[pairs[i][0]], pairs[i][0], \n",
    "        id2word[pairs[i][1]], pairs[i][1], \n",
    "        labels[i])\n",
    "     )"
   ]
  },
  {
   "cell_type": "code",
   "execution_count": null,
   "metadata": {},
   "outputs": [],
   "source": []
  }
 ],
 "metadata": {
  "kernelspec": {
   "display_name": "Python 3",
   "language": "python",
   "name": "python3"
  },
  "language_info": {
   "codemirror_mode": {
    "name": "ipython",
    "version": 3
   },
   "file_extension": ".py",
   "mimetype": "text/x-python",
   "name": "python",
   "nbconvert_exporter": "python",
   "pygments_lexer": "ipython3",
   "version": "3.6.7"
  }
 },
 "nbformat": 4,
 "nbformat_minor": 2
}
