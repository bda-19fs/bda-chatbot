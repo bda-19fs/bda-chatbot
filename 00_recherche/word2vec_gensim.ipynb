{
 "cells": [
  {
   "cell_type": "code",
   "execution_count": 2,
   "metadata": {},
   "outputs": [
    {
     "name": "stdout",
     "output_type": "stream",
     "text": [
      "True\n"
     ]
    }
   ],
   "source": [
    "import gensim\n",
    "from gensim.models import word2vec\n",
    "\n",
    "# check whether the C-Compiler works\n",
    "print(word2vec.FAST_VERSION == 0)"
   ]
  },
  {
   "cell_type": "code",
   "execution_count": 3,
   "metadata": {},
   "outputs": [],
   "source": [
    "from nltk.corpus import brown\n",
    "model = gensim.models.Word2Vec(brown.sents())\n",
    "model.save('brown.embedding') \n",
    "brown_model = gensim.models.Word2Vec.load('brown.embedding')"
   ]
  },
  {
   "cell_type": "code",
   "execution_count": 6,
   "metadata": {},
   "outputs": [
    {
     "name": "stderr",
     "output_type": "stream",
     "text": [
      "c:\\users\\jaunerc\\appdata\\local\\programs\\python\\python36\\lib\\site-packages\\ipykernel_launcher.py:1: DeprecationWarning: Call to deprecated `__getitem__` (Method will be removed in 4.0.0, use self.wv.__getitem__() instead).\n",
      "  \"\"\"Entry point for launching an IPython kernel.\n"
     ]
    },
    {
     "data": {
      "text/plain": [
       "array([-0.04801775, -0.07901599, -0.21061668, -0.03470838, -0.20244017,\n",
       "       -0.1109797 , -0.23253971, -0.01187308,  0.2292833 , -0.01874299,\n",
       "        0.01290664, -0.13914022,  0.09728629,  0.00388177,  0.17143716,\n",
       "       -0.00745369, -0.3730528 ,  0.13260424, -0.05848968, -0.14965834,\n",
       "        0.17915644, -0.0923112 ,  0.17367487,  0.11643123,  0.00981256,\n",
       "        0.11373558, -0.4399473 , -0.17127793, -0.01388294,  0.36816058,\n",
       "       -0.3094433 , -0.34022138, -0.22396691, -0.02008063, -0.04090089,\n",
       "        0.00789843, -0.11399506, -0.06846229,  0.02303062,  0.34884608,\n",
       "        0.0575821 ,  0.4427235 , -0.2789408 , -0.27895784,  0.41708407,\n",
       "        0.20636013,  0.13019213,  0.0060729 ,  0.3385892 , -0.33136204,\n",
       "        0.31517997, -0.39180893, -0.14928615, -0.02099006, -0.27888364,\n",
       "        0.03931902, -0.0695608 , -0.5166632 , -0.24615404, -0.01572827,\n",
       "       -0.10301948,  0.18699805, -0.06681742,  0.00109931, -0.01798871,\n",
       "       -0.08138834, -0.08712502,  0.15957752,  0.27158982, -0.38765374,\n",
       "       -0.08083174, -0.14780122, -0.02680437, -0.1949507 , -0.1729528 ,\n",
       "        0.02543485, -0.38568947,  0.04308635, -0.2504332 ,  0.30135986,\n",
       "       -0.2019506 ,  0.42558303,  0.38546002,  0.2302326 ,  0.21266451,\n",
       "       -0.0713915 , -0.467681  ,  0.44705242, -0.06008279,  0.20697942,\n",
       "       -0.17881578, -0.09305488, -0.18801318,  0.3122596 , -0.2901038 ,\n",
       "       -0.14233568, -0.28469113,  0.16542874,  0.17639913,  0.451124  ],\n",
       "      dtype=float32)"
      ]
     },
     "execution_count": 6,
     "metadata": {},
     "output_type": "execute_result"
    }
   ],
   "source": [
    "brown_model['dog']"
   ]
  },
  {
   "cell_type": "code",
   "execution_count": 11,
   "metadata": {},
   "outputs": [
    {
     "data": {
      "text/plain": [
       "[('shelter', 0.9633786678314209),\n",
       " ('sign', 0.9618390798568726),\n",
       " ('attack', 0.9587366580963135),\n",
       " ('cry', 0.9581730365753174),\n",
       " ('strike', 0.9509785175323486),\n",
       " ('reader', 0.9496791958808899),\n",
       " ('hurry', 0.9493107199668884),\n",
       " ('surprise', 0.9473963975906372),\n",
       " ('condition', 0.9468388557434082),\n",
       " ('refund', 0.945731520652771)]"
      ]
     },
     "execution_count": 11,
     "metadata": {},
     "output_type": "execute_result"
    }
   ],
   "source": [
    "brown_model.wv.similar_by_word('dog')"
   ]
  },
  {
   "cell_type": "code",
   "execution_count": null,
   "metadata": {},
   "outputs": [],
   "source": []
  },
  {
   "cell_type": "code",
   "execution_count": null,
   "metadata": {},
   "outputs": [],
   "source": []
  }
 ],
 "metadata": {
  "kernelspec": {
   "display_name": "Python 3",
   "language": "python",
   "name": "python3"
  },
  "language_info": {
   "codemirror_mode": {
    "name": "ipython",
    "version": 3
   },
   "file_extension": ".py",
   "mimetype": "text/x-python",
   "name": "python",
   "nbconvert_exporter": "python",
   "pygments_lexer": "ipython3",
   "version": "3.6.5"
  }
 },
 "nbformat": 4,
 "nbformat_minor": 2
}
