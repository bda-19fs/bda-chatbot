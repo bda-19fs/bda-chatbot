{
 "cells": [
  {
   "cell_type": "markdown",
   "metadata": {},
   "source": [
    "# Word2Vec\n",
    "There is a great tutorial on github https://gist.github.com/aparrish/2f562e3737544cf29aaf1af30362f469"
   ]
  },
  {
   "cell_type": "markdown",
   "metadata": {},
   "source": [
    "## 1. A simple example\n",
    "We use static values in a 2d space. The first component stands for the cuteness and the second component stands for the size of an animal.\n",
    "\n",
    "![animals](http://static.decontextualize.com/snaps/animal-space.png)"
   ]
  },
  {
   "cell_type": "code",
   "execution_count": 10,
   "metadata": {},
   "outputs": [],
   "source": [
    "# represents an animal as a 2d vector\n",
    "class Animal:\n",
    "    def __init__(self, x, y):\n",
    "        self.x = x\n",
    "        self.y = y\n",
    "\n",
    "\n",
    "# define some animals\n",
    "kitten = Animal(95, 15)\n",
    "hamster = Animal(80, 8)\n",
    "tarantula = Animal(8, 3)\n",
    "chicken = Animal(25, 15)\n",
    "elephant = Animal(65, 90)"
   ]
  },
  {
   "cell_type": "code",
   "execution_count": 29,
   "metadata": {},
   "outputs": [],
   "source": [
    "import math\n",
    "\n",
    "# calculates the distance between two animals in the 2d space\n",
    "# takes to animal objects\n",
    "def distance2d(a, b):\n",
    "    return math.sqrt((a.x - b.x)**2 + (a.y - b.y)**2)\n",
    "\n",
    "# subtracts two animals and returns a vector represented as an animal\n",
    "def sub(a, b):\n",
    "    return Animal(a.x - b.x, a.y - b.y)\n",
    "\n",
    "# normalizes a vector represented as an animal\n",
    "def norm(v):\n",
    "    d = math.sqrt(v.x**2 + v.y**2)\n",
    "    return (v.x / d, v.y / d)"
   ]
  },
  {
   "cell_type": "code",
   "execution_count": 30,
   "metadata": {},
   "outputs": [
    {
     "name": "stdout",
     "output_type": "stream",
     "text": [
      "the distance between kitten and elephant is 80.77747210701756\n"
     ]
    }
   ],
   "source": [
    "print(\"the distance between kitten and elephant is\",distance2d(kitten, elephant))"
   ]
  },
  {
   "cell_type": "code",
   "execution_count": 31,
   "metadata": {},
   "outputs": [
    {
     "name": "stdout",
     "output_type": "stream",
     "text": [
      "tarantual to hamster 72.17340230306452\n",
      "chicken to kitten 70.0\n",
      "are almost the same\n",
      "\n",
      "norm(hamster to tarantula) (0.9975974209676802, 0.06927759867831113)\n",
      "norm(kitten to chicken)    (1.0, 0.0)\n"
     ]
    }
   ],
   "source": [
    "print(\"tarantual to hamster\", distance2d(tarantula, hamster))\n",
    "print(\"chicken to kitten\", distance2d(chicken, kitten))\n",
    "print(\"are almost the same\\n\")\n",
    "\n",
    "sub1 = sub(hamster, tarantula)\n",
    "sub2 = sub(kitten, chicken)\n",
    "print(\"norm(hamster to tarantula)\",norm(sub1))\n",
    "print(\"norm(kitten to chicken)   \",norm(sub2))"
   ]
  },
  {
   "cell_type": "code",
   "execution_count": null,
   "metadata": {},
   "outputs": [],
   "source": []
  }
 ],
 "metadata": {
  "kernelspec": {
   "display_name": "Python 3",
   "language": "python",
   "name": "python3"
  },
  "language_info": {
   "codemirror_mode": {
    "name": "ipython",
    "version": 3
   },
   "file_extension": ".py",
   "mimetype": "text/x-python",
   "name": "python",
   "nbconvert_exporter": "python",
   "pygments_lexer": "ipython3",
   "version": "3.6.5"
  }
 },
 "nbformat": 4,
 "nbformat_minor": 2
}
