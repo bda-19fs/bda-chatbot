{
 "cells": [
  {
   "cell_type": "markdown",
   "metadata": {},
   "source": [
    "# Works with an englisch book as corpus"
   ]
  },
  {
   "cell_type": "code",
   "execution_count": null,
   "metadata": {},
   "outputs": [],
   "source": [
    "import pandas as pd\n",
    "import gensim\n",
    "import nltk\n",
    "from gensim.models import word2vec\n",
    "from nltk import tokenize\n",
    "from nltk.corpus import brown\n",
    "from nltk.corpus import stopwords"
   ]
  },
  {
   "cell_type": "markdown",
   "metadata": {},
   "source": [
    "Measure the distance between two sentences."
   ]
  },
  {
   "cell_type": "code",
   "execution_count": null,
   "metadata": {},
   "outputs": [],
   "source": [
    "sent1 = 'the dog is brown'.lower().split()\n",
    "sent2 = 'the dog is black'.lower().split()\n",
    "stopwords = nltk.corpus.stopwords.words('english')\n",
    "sent1_n = [w for w in sent1 if w not in stopwords]\n",
    "sent2_n = [w for w in sent2 if w not in stopwords]\n",
    "\n",
    "print('sent1',sent1_n)\n",
    "print('sent2',sent2_n)\n",
    "\n",
    "model.wv.wmdistance(sent1_n, sent2_n)"
   ]
  }
 ],
 "metadata": {
  "kernelspec": {
   "display_name": "Python 3",
   "language": "python",
   "name": "python3"
  },
  "language_info": {
   "codemirror_mode": {
    "name": "ipython",
    "version": 3
   },
   "file_extension": ".py",
   "mimetype": "text/x-python",
   "name": "python",
   "nbconvert_exporter": "python",
   "pygments_lexer": "ipython3",
   "version": "3.7.2"
  }
 },
 "nbformat": 4,
 "nbformat_minor": 2
}
