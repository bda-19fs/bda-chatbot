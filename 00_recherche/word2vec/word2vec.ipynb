{
 "cells": [
  {
   "cell_type": "markdown",
   "metadata": {},
   "source": [
    "# Word2Vec\n",
    "There is a great tutorial on github https://gist.github.com/aparrish/2f562e3737544cf29aaf1af30362f469"
   ]
  },
  {
   "cell_type": "markdown",
   "metadata": {},
   "source": [
    "## 1. A simple example\n",
    "We use static values in a 2d space. The first component stands for the cuteness and the second component stands for the size of an animal.\n",
    "\n",
    "![animals](http://static.decontextualize.com/snaps/animal-space.png)"
   ]
  },
  {
   "cell_type": "code",
   "execution_count": 10,
   "metadata": {},
   "outputs": [],
   "source": [
    "# represents an animal as a 2d vector\n",
    "class Animal:\n",
    "    def __init__(self, x, y):\n",
    "        self.x = x\n",
    "        self.y = y\n",
    "\n",
    "\n",
    "# define some animals\n",
    "kitten = Animal(95, 15)\n",
    "hamster = Animal(80, 8)\n",
    "tarantula = Animal(8, 3)\n",
    "chicken = Animal(25, 15)\n",
    "elephant = Animal(65, 90)"
   ]
  },
  {
   "cell_type": "code",
   "execution_count": 29,
   "metadata": {},
   "outputs": [],
   "source": [
    "import math\n",
    "\n",
    "# calculates the distance between two animals in the 2d space\n",
    "# takes to animal objects\n",
    "def distance2d(a, b):\n",
    "    return math.sqrt((a.x - b.x)**2 + (a.y - b.y)**2)\n",
    "\n",
    "# subtracts two animals and returns a vector represented as an animal\n",
    "def sub(a, b):\n",
    "    return Animal(a.x - b.x, a.y - b.y)\n",
    "\n",
    "# normalizes a vector represented as an animal\n",
    "def norm(v):\n",
    "    d = math.sqrt(v.x**2 + v.y**2)\n",
    "    return (v.x / d, v.y / d)"
   ]
  },
  {
   "cell_type": "code",
   "execution_count": 30,
   "metadata": {},
   "outputs": [
    {
     "name": "stdout",
     "output_type": "stream",
     "text": [
      "the distance between kitten and elephant is 80.77747210701756\n"
     ]
    }
   ],
   "source": [
    "print(\"the distance between kitten and elephant is\",distance2d(kitten, elephant))"
   ]
  },
  {
   "cell_type": "code",
   "execution_count": 31,
   "metadata": {},
   "outputs": [
    {
     "name": "stdout",
     "output_type": "stream",
     "text": [
      "tarantual to hamster 72.17340230306452\n",
      "chicken to kitten 70.0\n",
      "are almost the same\n",
      "\n",
      "norm(hamster to tarantula) (0.9975974209676802, 0.06927759867831113)\n",
      "norm(kitten to chicken)    (1.0, 0.0)\n"
     ]
    }
   ],
   "source": [
    "print(\"tarantual to hamster\", distance2d(tarantula, hamster))\n",
    "print(\"chicken to kitten\", distance2d(chicken, kitten))\n",
    "print(\"are almost the same\\n\")\n",
    "\n",
    "sub1 = sub(hamster, tarantula)\n",
    "sub2 = sub(kitten, chicken)\n",
    "print(\"norm(hamster to tarantula)\",norm(sub1))\n",
    "print(\"norm(kitten to chicken)   \",norm(sub2))"
   ]
  },
  {
   "cell_type": "markdown",
   "metadata": {},
   "source": [
    "## 2. Example with color names\n",
    "Color names from [github](https://github.com/dariusk/corpora/blob/master/data/colors/xkcd.json)"
   ]
  },
  {
   "cell_type": "code",
   "execution_count": 3,
   "metadata": {},
   "outputs": [
    {
     "name": "stdout",
     "output_type": "stream",
     "text": [
      "{'description': 'The 954 most common RGB monitor colors, as defined by several hundred thousand participants in the xkcd color name survey.', 'colors': [{'color': 'cloudy blue', 'hex': '#acc2d9'}, {'color': 'dark pastel green', 'hex': '#56ae57'}, {'color': 'dust', 'hex': '#b2996e'}, {'color': 'electric lime', 'hex': '#a8ff04'}, {'color': 'fresh green', 'hex': '#69d84f'}, {'color': 'light eggplant', 'hex': '#894585'}, {'color': 'nasty green', 'hex': '#70b23f'}, {'color': 'really light blue', 'hex': '#d4ffff'}, {'color': 'tea', 'hex': '#65ab7c'}, {'color': 'warm purple', 'hex': '#952e8f'}, {'color': 'yellowish tan', 'hex': '#fcfc81'}, {'color': 'cement', 'hex': '#a5a391'}, {'color': 'dark grass green', 'hex': '#388004'}, {'color': 'dusty teal', 'hex': '#4c9085'}, {'color': 'grey teal', 'hex': '#5e9b8a'}, {'color': 'macaroni and cheese', 'hex': '#efb435'}, {'color': 'pinkish tan', 'hex': '#d99b82'}, {'color': 'spruce', 'hex': '#0a5f38'}, {'color': 'strong blue', 'hex': '#0c06f7'}, {'color': 'toxic green', 'hex': '#61de2a'}, {'color': 'windows blue', 'hex': '#3778bf'}, {'color': 'blue blue', 'hex': '#2242c7'}, {'color': 'blue with a hint of purple', 'hex': '#533cc6'}, {'color': 'booger', 'hex': '#9bb53c'}, {'color': 'bright sea green', 'hex': '#05ffa6'}, {'color': 'dark green blue', 'hex': '#1f6357'}, {'color': 'deep turquoise', 'hex': '#017374'}, {'color': 'green teal', 'hex': '#0cb577'}, {'color': 'strong pink', 'hex': '#ff0789'}, {'color': 'bland', 'hex': '#afa88b'}, {'color': 'deep aqua', 'hex': '#08787f'}, {'color': 'lavender pink', 'hex': '#dd85d7'}, {'color': 'light moss green', 'hex': '#a6c875'}, {'color': 'light seafoam green', 'hex': '#a7ffb5'}, {'color': 'olive yellow', 'hex': '#c2b709'}, {'color': 'pig pink', 'hex': '#e78ea5'}, {'color': 'deep lilac', 'hex': '#966ebd'}, {'color': 'desert', 'hex': '#ccad60'}, {'color': 'dusty lavender', 'hex': '#ac86a8'}, {'color': 'purpley grey', 'hex': '#947e94'}, {'color': 'purply', 'hex': '#983fb2'}, {'color': 'candy pink', 'hex': '#ff63e9'}, {'color': 'light pastel green', 'hex': '#b2fba5'}, {'color': 'boring green', 'hex': '#63b365'}, {'color': 'kiwi green', 'hex': '#8ee53f'}, {'color': 'light grey green', 'hex': '#b7e1a1'}, {'color': 'orange pink', 'hex': '#ff6f52'}, {'color': 'tea green', 'hex': '#bdf8a3'}, {'color': 'very light brown', 'hex': '#d3b683'}, {'color': 'egg shell', 'hex': '#fffcc4'}, {'color': 'eggplant purple', 'hex': '#430541'}, {'color': 'powder pink', 'hex': '#ffb2d0'}, {'color': 'reddish grey', 'hex': '#997570'}, {'color': 'baby shit brown', 'hex': '#ad900d'}, {'color': 'liliac', 'hex': '#c48efd'}, {'color': 'stormy blue', 'hex': '#507b9c'}, {'color': 'ugly brown', 'hex': '#7d7103'}, {'color': 'custard', 'hex': '#fffd78'}, {'color': 'darkish pink', 'hex': '#da467d'}, {'color': 'deep brown', 'hex': '#410200'}, {'color': 'greenish beige', 'hex': '#c9d179'}, {'color': 'manilla', 'hex': '#fffa86'}, {'color': 'off blue', 'hex': '#5684ae'}, {'color': 'battleship grey', 'hex': '#6b7c85'}, {'color': 'browny green', 'hex': '#6f6c0a'}, {'color': 'bruise', 'hex': '#7e4071'}, {'color': 'kelley green', 'hex': '#009337'}, {'color': 'sickly yellow', 'hex': '#d0e429'}, {'color': 'sunny yellow', 'hex': '#fff917'}, {'color': 'azul', 'hex': '#1d5dec'}, {'color': 'darkgreen', 'hex': '#054907'}, {'color': 'green/yellow', 'hex': '#b5ce08'}, {'color': 'lichen', 'hex': '#8fb67b'}, {'color': 'light light green', 'hex': '#c8ffb0'}, {'color': 'pale gold', 'hex': '#fdde6c'}, {'color': 'sun yellow', 'hex': '#ffdf22'}, {'color': 'tan green', 'hex': '#a9be70'}, {'color': 'burple', 'hex': '#6832e3'}, {'color': 'butterscotch', 'hex': '#fdb147'}, {'color': 'toupe', 'hex': '#c7ac7d'}, {'color': 'dark cream', 'hex': '#fff39a'}, {'color': 'indian red', 'hex': '#850e04'}, {'color': 'light lavendar', 'hex': '#efc0fe'}, {'color': 'poison green', 'hex': '#40fd14'}, {'color': 'baby puke green', 'hex': '#b6c406'}, {'color': 'bright yellow green', 'hex': '#9dff00'}, {'color': 'charcoal grey', 'hex': '#3c4142'}, {'color': 'squash', 'hex': '#f2ab15'}, {'color': 'cinnamon', 'hex': '#ac4f06'}, {'color': 'light pea green', 'hex': '#c4fe82'}, {'color': 'radioactive green', 'hex': '#2cfa1f'}, {'color': 'raw sienna', 'hex': '#9a6200'}, {'color': 'baby purple', 'hex': '#ca9bf7'}, {'color': 'cocoa', 'hex': '#875f42'}, {'color': 'light royal blue', 'hex': '#3a2efe'}, {'color': 'orangeish', 'hex': '#fd8d49'}, {'color': 'rust brown', 'hex': '#8b3103'}, {'color': 'sand brown', 'hex': '#cba560'}, {'color': 'swamp', 'hex': '#698339'}, {'color': 'tealish green', 'hex': '#0cdc73'}, {'color': 'burnt siena', 'hex': '#b75203'}, {'color': 'camo', 'hex': '#7f8f4e'}, {'color': 'dusk blue', 'hex': '#26538d'}, {'color': 'fern', 'hex': '#63a950'}, {'color': 'old rose', 'hex': '#c87f89'}, {'color': 'pale light green', 'hex': '#b1fc99'}, {'color': 'peachy pink', 'hex': '#ff9a8a'}, {'color': 'rosy pink', 'hex': '#f6688e'}, {'color': 'light bluish green', 'hex': '#76fda8'}, {'color': 'light bright green', 'hex': '#53fe5c'}, {'color': 'light neon green', 'hex': '#4efd54'}, {'color': 'light seafoam', 'hex': '#a0febf'}, {'color': 'tiffany blue', 'hex': '#7bf2da'}, {'color': 'washed out green', 'hex': '#bcf5a6'}, {'color': 'browny orange', 'hex': '#ca6b02'}, {'color': 'nice blue', 'hex': '#107ab0'}, {'color': 'sapphire', 'hex': '#2138ab'}, {'color': 'greyish teal', 'hex': '#719f91'}, {'color': 'orangey yellow', 'hex': '#fdb915'}, {'color': 'parchment', 'hex': '#fefcaf'}, {'color': 'straw', 'hex': '#fcf679'}, {'color': 'very dark brown', 'hex': '#1d0200'}, {'color': 'terracota', 'hex': '#cb6843'}, {'color': 'ugly blue', 'hex': '#31668a'}, {'color': 'clear blue', 'hex': '#247afd'}, {'color': 'creme', 'hex': '#ffffb6'}, {'color': 'foam green', 'hex': '#90fda9'}, {'color': 'grey/green', 'hex': '#86a17d'}, {'color': 'light gold', 'hex': '#fddc5c'}, {'color': 'seafoam blue', 'hex': '#78d1b6'}, {'color': 'topaz', 'hex': '#13bbaf'}, {'color': 'violet pink', 'hex': '#fb5ffc'}, {'color': 'wintergreen', 'hex': '#20f986'}, {'color': 'yellow tan', 'hex': '#ffe36e'}, {'color': 'dark fuchsia', 'hex': '#9d0759'}, {'color': 'indigo blue', 'hex': '#3a18b1'}, {'color': 'light yellowish green', 'hex': '#c2ff89'}, {'color': 'pale magenta', 'hex': '#d767ad'}, {'color': 'rich purple', 'hex': '#720058'}, {'color': 'sunflower yellow', 'hex': '#ffda03'}, {'color': 'green/blue', 'hex': '#01c08d'}, {'color': 'leather', 'hex': '#ac7434'}, {'color': 'racing green', 'hex': '#014600'}, {'color': 'vivid purple', 'hex': '#9900fa'}, {'color': 'dark royal blue', 'hex': '#02066f'}, {'color': 'hazel', 'hex': '#8e7618'}, {'color': 'muted pink', 'hex': '#d1768f'}, {'color': 'booger green', 'hex': '#96b403'}, {'color': 'canary', 'hex': '#fdff63'}, {'color': 'cool grey', 'hex': '#95a3a6'}, {'color': 'dark taupe', 'hex': '#7f684e'}, {'color': 'darkish purple', 'hex': '#751973'}, {'color': 'true green', 'hex': '#089404'}, {'color': 'coral pink', 'hex': '#ff6163'}, {'color': 'dark sage', 'hex': '#598556'}, {'color': 'dark slate blue', 'hex': '#214761'}, {'color': 'flat blue', 'hex': '#3c73a8'}, {'color': 'mushroom', 'hex': '#ba9e88'}, {'color': 'rich blue', 'hex': '#021bf9'}, {'color': 'dirty purple', 'hex': '#734a65'}, {'color': 'greenblue', 'hex': '#23c48b'}, {'color': 'icky green', 'hex': '#8fae22'}, {'color': 'light khaki', 'hex': '#e6f2a2'}, {'color': 'warm blue', 'hex': '#4b57db'}, {'color': 'dark hot pink', 'hex': '#d90166'}, {'color': 'deep sea blue', 'hex': '#015482'}, {'color': 'carmine', 'hex': '#9d0216'}, {'color': 'dark yellow green', 'hex': '#728f02'}, {'color': 'pale peach', 'hex': '#ffe5ad'}, {'color': 'plum purple', 'hex': '#4e0550'}, {'color': 'golden rod', 'hex': '#f9bc08'}, {'color': 'neon red', 'hex': '#ff073a'}, {'color': 'old pink', 'hex': '#c77986'}, {'color': 'very pale blue', 'hex': '#d6fffe'}, {'color': 'blood orange', 'hex': '#fe4b03'}, {'color': 'grapefruit', 'hex': '#fd5956'}, {'color': 'sand yellow', 'hex': '#fce166'}, {'color': 'clay brown', 'hex': '#b2713d'}, {'color': 'dark blue grey', 'hex': '#1f3b4d'}, {'color': 'flat green', 'hex': '#699d4c'}, {'color': 'light green blue', 'hex': '#56fca2'}, {'color': 'warm pink', 'hex': '#fb5581'}, {'color': 'dodger blue', 'hex': '#3e82fc'}, {'color': 'gross green', 'hex': '#a0bf16'}, {'color': 'ice', 'hex': '#d6fffa'}, {'color': 'metallic blue', 'hex': '#4f738e'}, {'color': 'pale salmon', 'hex': '#ffb19a'}, {'color': 'sap green', 'hex': '#5c8b15'}, {'color': 'algae', 'hex': '#54ac68'}, {'color': 'bluey grey', 'hex': '#89a0b0'}, {'color': 'greeny grey', 'hex': '#7ea07a'}, {'color': 'highlighter green', 'hex': '#1bfc06'}, {'color': 'light light blue', 'hex': '#cafffb'}, {'color': 'light mint', 'hex': '#b6ffbb'}, {'color': 'raw umber', 'hex': '#a75e09'}, {'color': 'vivid blue', 'hex': '#152eff'}, {'color': 'deep lavender', 'hex': '#8d5eb7'}, {'color': 'dull teal', 'hex': '#5f9e8f'}, {'color': 'light greenish blue', 'hex': '#63f7b4'}, {'color': 'mud green', 'hex': '#606602'}, {'color': 'pinky', 'hex': '#fc86aa'}, {'color': 'red wine', 'hex': '#8c0034'}, {'color': 'shit green', 'hex': '#758000'}, {'color': 'tan brown', 'hex': '#ab7e4c'}, {'color': 'darkblue', 'hex': '#030764'}, {'color': 'rosa', 'hex': '#fe86a4'}, {'color': 'lipstick', 'hex': '#d5174e'}, {'color': 'pale mauve', 'hex': '#fed0fc'}, {'color': 'claret', 'hex': '#680018'}, {'color': 'dandelion', 'hex': '#fedf08'}, {'color': 'orangered', 'hex': '#fe420f'}, {'color': 'poop green', 'hex': '#6f7c00'}, {'color': 'ruby', 'hex': '#ca0147'}, {'color': 'dark', 'hex': '#1b2431'}, {'color': 'greenish turquoise', 'hex': '#00fbb0'}, {'color': 'pastel red', 'hex': '#db5856'}, {'color': 'piss yellow', 'hex': '#ddd618'}, {'color': 'bright cyan', 'hex': '#41fdfe'}, {'color': 'dark coral', 'hex': '#cf524e'}, {'color': 'algae green', 'hex': '#21c36f'}, {'color': 'darkish red', 'hex': '#a90308'}, {'color': 'reddy brown', 'hex': '#6e1005'}, {'color': 'blush pink', 'hex': '#fe828c'}, {'color': 'camouflage green', 'hex': '#4b6113'}, {'color': 'lawn green', 'hex': '#4da409'}, {'color': 'putty', 'hex': '#beae8a'}, {'color': 'vibrant blue', 'hex': '#0339f8'}, {'color': 'dark sand', 'hex': '#a88f59'}, {'color': 'purple/blue', 'hex': '#5d21d0'}, {'color': 'saffron', 'hex': '#feb209'}, {'color': 'twilight', 'hex': '#4e518b'}, {'color': 'warm brown', 'hex': '#964e02'}, {'color': 'bluegrey', 'hex': '#85a3b2'}, {'color': 'bubble gum pink', 'hex': '#ff69af'}, {'color': 'duck egg blue', 'hex': '#c3fbf4'}, {'color': 'greenish cyan', 'hex': '#2afeb7'}, {'color': 'petrol', 'hex': '#005f6a'}, {'color': 'royal', 'hex': '#0c1793'}, {'color': 'butter', 'hex': '#ffff81'}, {'color': 'dusty orange', 'hex': '#f0833a'}, {'color': 'off yellow', 'hex': '#f1f33f'}, {'color': 'pale olive green', 'hex': '#b1d27b'}, {'color': 'orangish', 'hex': '#fc824a'}, {'color': 'leaf', 'hex': '#71aa34'}, {'color': 'light blue grey', 'hex': '#b7c9e2'}, {'color': 'dried blood', 'hex': '#4b0101'}, {'color': 'lightish purple', 'hex': '#a552e6'}, {'color': 'rusty red', 'hex': '#af2f0d'}, {'color': 'lavender blue', 'hex': '#8b88f8'}, {'color': 'light grass green', 'hex': '#9af764'}, {'color': 'light mint green', 'hex': '#a6fbb2'}, {'color': 'sunflower', 'hex': '#ffc512'}, {'color': 'velvet', 'hex': '#750851'}, {'color': 'brick orange', 'hex': '#c14a09'}, {'color': 'lightish red', 'hex': '#fe2f4a'}, {'color': 'pure blue', 'hex': '#0203e2'}, {'color': 'twilight blue', 'hex': '#0a437a'}, {'color': 'violet red', 'hex': '#a50055'}, {'color': 'yellowy brown', 'hex': '#ae8b0c'}, {'color': 'carnation', 'hex': '#fd798f'}, {'color': 'muddy yellow', 'hex': '#bfac05'}, {'color': 'dark seafoam green', 'hex': '#3eaf76'}, {'color': 'deep rose', 'hex': '#c74767'}, {'color': 'dusty red', 'hex': '#b9484e'}, {'color': 'grey/blue', 'hex': '#647d8e'}, {'color': 'lemon lime', 'hex': '#bffe28'}, {'color': 'purple/pink', 'hex': '#d725de'}, {'color': 'brown yellow', 'hex': '#b29705'}, {'color': 'purple brown', 'hex': '#673a3f'}, {'color': 'wisteria', 'hex': '#a87dc2'}, {'color': 'banana yellow', 'hex': '#fafe4b'}, {'color': 'lipstick red', 'hex': '#c0022f'}, {'color': 'water blue', 'hex': '#0e87cc'}, {'color': 'brown grey', 'hex': '#8d8468'}, {'color': 'vibrant purple', 'hex': '#ad03de'}, {'color': 'baby green', 'hex': '#8cff9e'}, {'color': 'barf green', 'hex': '#94ac02'}, {'color': 'eggshell blue', 'hex': '#c4fff7'}, {'color': 'sandy yellow', 'hex': '#fdee73'}, {'color': 'cool green', 'hex': '#33b864'}, {'color': 'pale', 'hex': '#fff9d0'}, {'color': 'blue/grey', 'hex': '#758da3'}, {'color': 'hot magenta', 'hex': '#f504c9'}, {'color': 'greyblue', 'hex': '#77a1b5'}, {'color': 'purpley', 'hex': '#8756e4'}, {'color': 'baby shit green', 'hex': '#889717'}, {'color': 'brownish pink', 'hex': '#c27e79'}, {'color': 'dark aquamarine', 'hex': '#017371'}, {'color': 'diarrhea', 'hex': '#9f8303'}, {'color': 'light mustard', 'hex': '#f7d560'}, {'color': 'pale sky blue', 'hex': '#bdf6fe'}, {'color': 'turtle green', 'hex': '#75b84f'}, {'color': 'bright olive', 'hex': '#9cbb04'}, {'color': 'dark grey blue', 'hex': '#29465b'}, {'color': 'greeny brown', 'hex': '#696006'}, {'color': 'lemon green', 'hex': '#adf802'}, {'color': 'light periwinkle', 'hex': '#c1c6fc'}, {'color': 'seaweed green', 'hex': '#35ad6b'}, {'color': 'sunshine yellow', 'hex': '#fffd37'}, {'color': 'ugly purple', 'hex': '#a442a0'}, {'color': 'medium pink', 'hex': '#f36196'}, {'color': 'puke brown', 'hex': '#947706'}, {'color': 'very light pink', 'hex': '#fff4f2'}, {'color': 'viridian', 'hex': '#1e9167'}, {'color': 'bile', 'hex': '#b5c306'}, {'color': 'faded yellow', 'hex': '#feff7f'}, {'color': 'very pale green', 'hex': '#cffdbc'}, {'color': 'vibrant green', 'hex': '#0add08'}, {'color': 'bright lime', 'hex': '#87fd05'}, {'color': 'spearmint', 'hex': '#1ef876'}, {'color': 'light aquamarine', 'hex': '#7bfdc7'}, {'color': 'light sage', 'hex': '#bcecac'}, {'color': 'yellowgreen', 'hex': '#bbf90f'}, {'color': 'baby poo', 'hex': '#ab9004'}, {'color': 'dark seafoam', 'hex': '#1fb57a'}, {'color': 'deep teal', 'hex': '#00555a'}, {'color': 'heather', 'hex': '#a484ac'}, {'color': 'rust orange', 'hex': '#c45508'}, {'color': 'dirty blue', 'hex': '#3f829d'}, {'color': 'fern green', 'hex': '#548d44'}, {'color': 'bright lilac', 'hex': '#c95efb'}, {'color': 'weird green', 'hex': '#3ae57f'}, {'color': 'peacock blue', 'hex': '#016795'}, {'color': 'avocado green', 'hex': '#87a922'}, {'color': 'faded orange', 'hex': '#f0944d'}, {'color': 'grape purple', 'hex': '#5d1451'}, {'color': 'hot green', 'hex': '#25ff29'}, {'color': 'lime yellow', 'hex': '#d0fe1d'}, {'color': 'mango', 'hex': '#ffa62b'}, {'color': 'shamrock', 'hex': '#01b44c'}, {'color': 'bubblegum', 'hex': '#ff6cb5'}, {'color': 'purplish brown', 'hex': '#6b4247'}, {'color': 'vomit yellow', 'hex': '#c7c10c'}, {'color': 'pale cyan', 'hex': '#b7fffa'}, {'color': 'key lime', 'hex': '#aeff6e'}, {'color': 'tomato red', 'hex': '#ec2d01'}, {'color': 'lightgreen', 'hex': '#76ff7b'}, {'color': 'merlot', 'hex': '#730039'}, {'color': 'night blue', 'hex': '#040348'}, {'color': 'purpleish pink', 'hex': '#df4ec8'}, {'color': 'apple', 'hex': '#6ecb3c'}, {'color': 'baby poop green', 'hex': '#8f9805'}, {'color': 'green apple', 'hex': '#5edc1f'}, {'color': 'heliotrope', 'hex': '#d94ff5'}, {'color': 'yellow/green', 'hex': '#c8fd3d'}, {'color': 'almost black', 'hex': '#070d0d'}, {'color': 'cool blue', 'hex': '#4984b8'}, {'color': 'leafy green', 'hex': '#51b73b'}, {'color': 'mustard brown', 'hex': '#ac7e04'}, {'color': 'dusk', 'hex': '#4e5481'}, {'color': 'dull brown', 'hex': '#876e4b'}, {'color': 'frog green', 'hex': '#58bc08'}, {'color': 'vivid green', 'hex': '#2fef10'}, {'color': 'bright light green', 'hex': '#2dfe54'}, {'color': 'fluro green', 'hex': '#0aff02'}, {'color': 'kiwi', 'hex': '#9cef43'}, {'color': 'seaweed', 'hex': '#18d17b'}, {'color': 'navy green', 'hex': '#35530a'}, {'color': 'ultramarine blue', 'hex': '#1805db'}, {'color': 'iris', 'hex': '#6258c4'}, {'color': 'pastel orange', 'hex': '#ff964f'}, {'color': 'yellowish orange', 'hex': '#ffab0f'}, {'color': 'perrywinkle', 'hex': '#8f8ce7'}, {'color': 'tealish', 'hex': '#24bca8'}, {'color': 'dark plum', 'hex': '#3f012c'}, {'color': 'pear', 'hex': '#cbf85f'}, {'color': 'pinkish orange', 'hex': '#ff724c'}, {'color': 'midnight purple', 'hex': '#280137'}, {'color': 'light urple', 'hex': '#b36ff6'}, {'color': 'dark mint', 'hex': '#48c072'}, {'color': 'greenish tan', 'hex': '#bccb7a'}, {'color': 'light burgundy', 'hex': '#a8415b'}, {'color': 'turquoise blue', 'hex': '#06b1c4'}, {'color': 'ugly pink', 'hex': '#cd7584'}, {'color': 'sandy', 'hex': '#f1da7a'}, {'color': 'electric pink', 'hex': '#ff0490'}, {'color': 'muted purple', 'hex': '#805b87'}, {'color': 'mid green', 'hex': '#50a747'}, {'color': 'greyish', 'hex': '#a8a495'}, {'color': 'neon yellow', 'hex': '#cfff04'}, {'color': 'banana', 'hex': '#ffff7e'}, {'color': 'carnation pink', 'hex': '#ff7fa7'}, {'color': 'tomato', 'hex': '#ef4026'}, {'color': 'sea', 'hex': '#3c9992'}, {'color': 'muddy brown', 'hex': '#886806'}, {'color': 'turquoise green', 'hex': '#04f489'}, {'color': 'buff', 'hex': '#fef69e'}, {'color': 'fawn', 'hex': '#cfaf7b'}, {'color': 'muted blue', 'hex': '#3b719f'}, {'color': 'pale rose', 'hex': '#fdc1c5'}, {'color': 'dark mint green', 'hex': '#20c073'}, {'color': 'amethyst', 'hex': '#9b5fc0'}, {'color': 'blue/green', 'hex': '#0f9b8e'}, {'color': 'chestnut', 'hex': '#742802'}, {'color': 'sick green', 'hex': '#9db92c'}, {'color': 'pea', 'hex': '#a4bf20'}, {'color': 'rusty orange', 'hex': '#cd5909'}, {'color': 'stone', 'hex': '#ada587'}, {'color': 'rose red', 'hex': '#be013c'}, {'color': 'pale aqua', 'hex': '#b8ffeb'}, {'color': 'deep orange', 'hex': '#dc4d01'}, {'color': 'earth', 'hex': '#a2653e'}, {'color': 'mossy green', 'hex': '#638b27'}, {'color': 'grassy green', 'hex': '#419c03'}, {'color': 'pale lime green', 'hex': '#b1ff65'}, {'color': 'light grey blue', 'hex': '#9dbcd4'}, {'color': 'pale grey', 'hex': '#fdfdfe'}, {'color': 'asparagus', 'hex': '#77ab56'}, {'color': 'blueberry', 'hex': '#464196'}, {'color': 'purple red', 'hex': '#990147'}, {'color': 'pale lime', 'hex': '#befd73'}, {'color': 'greenish teal', 'hex': '#32bf84'}, {'color': 'caramel', 'hex': '#af6f09'}, {'color': 'deep magenta', 'hex': '#a0025c'}, {'color': 'light peach', 'hex': '#ffd8b1'}, {'color': 'milk chocolate', 'hex': '#7f4e1e'}, {'color': 'ocher', 'hex': '#bf9b0c'}, {'color': 'off green', 'hex': '#6ba353'}, {'color': 'purply pink', 'hex': '#f075e6'}, {'color': 'lightblue', 'hex': '#7bc8f6'}, {'color': 'dusky blue', 'hex': '#475f94'}, {'color': 'golden', 'hex': '#f5bf03'}, {'color': 'light beige', 'hex': '#fffeb6'}, {'color': 'butter yellow', 'hex': '#fffd74'}, {'color': 'dusky purple', 'hex': '#895b7b'}, {'color': 'french blue', 'hex': '#436bad'}, {'color': 'ugly yellow', 'hex': '#d0c101'}, {'color': 'greeny yellow', 'hex': '#c6f808'}, {'color': 'orangish red', 'hex': '#f43605'}, {'color': 'shamrock green', 'hex': '#02c14d'}, {'color': 'orangish brown', 'hex': '#b25f03'}, {'color': 'tree green', 'hex': '#2a7e19'}, {'color': 'deep violet', 'hex': '#490648'}, {'color': 'gunmetal', 'hex': '#536267'}, {'color': 'blue/purple', 'hex': '#5a06ef'}, {'color': 'cherry', 'hex': '#cf0234'}, {'color': 'sandy brown', 'hex': '#c4a661'}, {'color': 'warm grey', 'hex': '#978a84'}, {'color': 'dark indigo', 'hex': '#1f0954'}, {'color': 'midnight', 'hex': '#03012d'}, {'color': 'bluey green', 'hex': '#2bb179'}, {'color': 'grey pink', 'hex': '#c3909b'}, {'color': 'soft purple', 'hex': '#a66fb5'}, {'color': 'blood', 'hex': '#770001'}, {'color': 'brown red', 'hex': '#922b05'}, {'color': 'medium grey', 'hex': '#7d7f7c'}, {'color': 'berry', 'hex': '#990f4b'}, {'color': 'poo', 'hex': '#8f7303'}, {'color': 'purpley pink', 'hex': '#c83cb9'}, {'color': 'light salmon', 'hex': '#fea993'}, {'color': 'snot', 'hex': '#acbb0d'}, {'color': 'easter purple', 'hex': '#c071fe'}, {'color': 'light yellow green', 'hex': '#ccfd7f'}, {'color': 'dark navy blue', 'hex': '#00022e'}, {'color': 'drab', 'hex': '#828344'}, {'color': 'light rose', 'hex': '#ffc5cb'}, {'color': 'rouge', 'hex': '#ab1239'}, {'color': 'purplish red', 'hex': '#b0054b'}, {'color': 'slime green', 'hex': '#99cc04'}, {'color': 'baby poop', 'hex': '#937c00'}, {'color': 'irish green', 'hex': '#019529'}, {'color': 'pink/purple', 'hex': '#ef1de7'}, {'color': 'dark navy', 'hex': '#000435'}, {'color': 'greeny blue', 'hex': '#42b395'}, {'color': 'light plum', 'hex': '#9d5783'}, {'color': 'pinkish grey', 'hex': '#c8aca9'}, {'color': 'dirty orange', 'hex': '#c87606'}, {'color': 'rust red', 'hex': '#aa2704'}, {'color': 'pale lilac', 'hex': '#e4cbff'}, {'color': 'orangey red', 'hex': '#fa4224'}, {'color': 'primary blue', 'hex': '#0804f9'}, {'color': 'kermit green', 'hex': '#5cb200'}, {'color': 'brownish purple', 'hex': '#76424e'}, {'color': 'murky green', 'hex': '#6c7a0e'}, {'color': 'wheat', 'hex': '#fbdd7e'}, {'color': 'very dark purple', 'hex': '#2a0134'}, {'color': 'bottle green', 'hex': '#044a05'}, {'color': 'watermelon', 'hex': '#fd4659'}, {'color': 'deep sky blue', 'hex': '#0d75f8'}, {'color': 'fire engine red', 'hex': '#fe0002'}, {'color': 'yellow ochre', 'hex': '#cb9d06'}, {'color': 'pumpkin orange', 'hex': '#fb7d07'}, {'color': 'pale olive', 'hex': '#b9cc81'}, {'color': 'light lilac', 'hex': '#edc8ff'}, {'color': 'lightish green', 'hex': '#61e160'}, {'color': 'carolina blue', 'hex': '#8ab8fe'}, {'color': 'mulberry', 'hex': '#920a4e'}, {'color': 'shocking pink', 'hex': '#fe02a2'}, {'color': 'auburn', 'hex': '#9a3001'}, {'color': 'bright lime green', 'hex': '#65fe08'}, {'color': 'celadon', 'hex': '#befdb7'}, {'color': 'pinkish brown', 'hex': '#b17261'}, {'color': 'poo brown', 'hex': '#885f01'}, {'color': 'bright sky blue', 'hex': '#02ccfe'}, {'color': 'celery', 'hex': '#c1fd95'}, {'color': 'dirt brown', 'hex': '#836539'}, {'color': 'strawberry', 'hex': '#fb2943'}, {'color': 'dark lime', 'hex': '#84b701'}, {'color': 'copper', 'hex': '#b66325'}, {'color': 'medium brown', 'hex': '#7f5112'}, {'color': 'muted green', 'hex': '#5fa052'}, {'color': \"robin's egg\", 'hex': '#6dedfd'}, {'color': 'bright aqua', 'hex': '#0bf9ea'}, {'color': 'bright lavender', 'hex': '#c760ff'}, {'color': 'ivory', 'hex': '#ffffcb'}, {'color': 'very light purple', 'hex': '#f6cefc'}, {'color': 'light navy', 'hex': '#155084'}, {'color': 'pink red', 'hex': '#f5054f'}, {'color': 'olive brown', 'hex': '#645403'}, {'color': 'poop brown', 'hex': '#7a5901'}, {'color': 'mustard green', 'hex': '#a8b504'}, {'color': 'ocean green', 'hex': '#3d9973'}, {'color': 'very dark blue', 'hex': '#000133'}, {'color': 'dusty green', 'hex': '#76a973'}, {'color': 'light navy blue', 'hex': '#2e5a88'}, {'color': 'minty green', 'hex': '#0bf77d'}, {'color': 'adobe', 'hex': '#bd6c48'}, {'color': 'barney', 'hex': '#ac1db8'}, {'color': 'jade green', 'hex': '#2baf6a'}, {'color': 'bright light blue', 'hex': '#26f7fd'}, {'color': 'light lime', 'hex': '#aefd6c'}, {'color': 'dark khaki', 'hex': '#9b8f55'}, {'color': 'orange yellow', 'hex': '#ffad01'}, {'color': 'ocre', 'hex': '#c69c04'}, {'color': 'maize', 'hex': '#f4d054'}, {'color': 'faded pink', 'hex': '#de9dac'}, {'color': 'british racing green', 'hex': '#05480d'}, {'color': 'sandstone', 'hex': '#c9ae74'}, {'color': 'mud brown', 'hex': '#60460f'}, {'color': 'light sea green', 'hex': '#98f6b0'}, {'color': 'robin egg blue', 'hex': '#8af1fe'}, {'color': 'aqua marine', 'hex': '#2ee8bb'}, {'color': 'dark sea green', 'hex': '#11875d'}, {'color': 'soft pink', 'hex': '#fdb0c0'}, {'color': 'orangey brown', 'hex': '#b16002'}, {'color': 'cherry red', 'hex': '#f7022a'}, {'color': 'burnt yellow', 'hex': '#d5ab09'}, {'color': 'brownish grey', 'hex': '#86775f'}, {'color': 'camel', 'hex': '#c69f59'}, {'color': 'purplish grey', 'hex': '#7a687f'}, {'color': 'marine', 'hex': '#042e60'}, {'color': 'greyish pink', 'hex': '#c88d94'}, {'color': 'pale turquoise', 'hex': '#a5fbd5'}, {'color': 'pastel yellow', 'hex': '#fffe71'}, {'color': 'bluey purple', 'hex': '#6241c7'}, {'color': 'canary yellow', 'hex': '#fffe40'}, {'color': 'faded red', 'hex': '#d3494e'}, {'color': 'sepia', 'hex': '#985e2b'}, {'color': 'coffee', 'hex': '#a6814c'}, {'color': 'bright magenta', 'hex': '#ff08e8'}, {'color': 'mocha', 'hex': '#9d7651'}, {'color': 'ecru', 'hex': '#feffca'}, {'color': 'purpleish', 'hex': '#98568d'}, {'color': 'cranberry', 'hex': '#9e003a'}, {'color': 'darkish green', 'hex': '#287c37'}, {'color': 'brown orange', 'hex': '#b96902'}, {'color': 'dusky rose', 'hex': '#ba6873'}, {'color': 'melon', 'hex': '#ff7855'}, {'color': 'sickly green', 'hex': '#94b21c'}, {'color': 'silver', 'hex': '#c5c9c7'}, {'color': 'purply blue', 'hex': '#661aee'}, {'color': 'purpleish blue', 'hex': '#6140ef'}, {'color': 'hospital green', 'hex': '#9be5aa'}, {'color': 'shit brown', 'hex': '#7b5804'}, {'color': 'mid blue', 'hex': '#276ab3'}, {'color': 'amber', 'hex': '#feb308'}, {'color': 'easter green', 'hex': '#8cfd7e'}, {'color': 'soft blue', 'hex': '#6488ea'}, {'color': 'cerulean blue', 'hex': '#056eee'}, {'color': 'golden brown', 'hex': '#b27a01'}, {'color': 'bright turquoise', 'hex': '#0ffef9'}, {'color': 'red pink', 'hex': '#fa2a55'}, {'color': 'red purple', 'hex': '#820747'}, {'color': 'greyish brown', 'hex': '#7a6a4f'}, {'color': 'vermillion', 'hex': '#f4320c'}, {'color': 'russet', 'hex': '#a13905'}, {'color': 'steel grey', 'hex': '#6f828a'}, {'color': 'lighter purple', 'hex': '#a55af4'}, {'color': 'bright violet', 'hex': '#ad0afd'}, {'color': 'prussian blue', 'hex': '#004577'}, {'color': 'slate green', 'hex': '#658d6d'}, {'color': 'dirty pink', 'hex': '#ca7b80'}, {'color': 'dark blue green', 'hex': '#005249'}, {'color': 'pine', 'hex': '#2b5d34'}, {'color': 'yellowy green', 'hex': '#bff128'}, {'color': 'dark gold', 'hex': '#b59410'}, {'color': 'bluish', 'hex': '#2976bb'}, {'color': 'darkish blue', 'hex': '#014182'}, {'color': 'dull red', 'hex': '#bb3f3f'}, {'color': 'pinky red', 'hex': '#fc2647'}, {'color': 'bronze', 'hex': '#a87900'}, {'color': 'pale teal', 'hex': '#82cbb2'}, {'color': 'military green', 'hex': '#667c3e'}, {'color': 'barbie pink', 'hex': '#fe46a5'}, {'color': 'bubblegum pink', 'hex': '#fe83cc'}, {'color': 'pea soup green', 'hex': '#94a617'}, {'color': 'dark mustard', 'hex': '#a88905'}, {'color': 'shit', 'hex': '#7f5f00'}, {'color': 'medium purple', 'hex': '#9e43a2'}, {'color': 'very dark green', 'hex': '#062e03'}, {'color': 'dirt', 'hex': '#8a6e45'}, {'color': 'dusky pink', 'hex': '#cc7a8b'}, {'color': 'red violet', 'hex': '#9e0168'}, {'color': 'lemon yellow', 'hex': '#fdff38'}, {'color': 'pistachio', 'hex': '#c0fa8b'}, {'color': 'dull yellow', 'hex': '#eedc5b'}, {'color': 'dark lime green', 'hex': '#7ebd01'}, {'color': 'denim blue', 'hex': '#3b5b92'}, {'color': 'teal blue', 'hex': '#01889f'}, {'color': 'lightish blue', 'hex': '#3d7afd'}, {'color': 'purpley blue', 'hex': '#5f34e7'}, {'color': 'light indigo', 'hex': '#6d5acf'}, {'color': 'swamp green', 'hex': '#748500'}, {'color': 'brown green', 'hex': '#706c11'}, {'color': 'dark maroon', 'hex': '#3c0008'}, {'color': 'hot purple', 'hex': '#cb00f5'}, {'color': 'dark forest green', 'hex': '#002d04'}, {'color': 'faded blue', 'hex': '#658cbb'}, {'color': 'drab green', 'hex': '#749551'}, {'color': 'light lime green', 'hex': '#b9ff66'}, {'color': 'snot green', 'hex': '#9dc100'}, {'color': 'yellowish', 'hex': '#faee66'}, {'color': 'light blue green', 'hex': '#7efbb3'}, {'color': 'bordeaux', 'hex': '#7b002c'}, {'color': 'light mauve', 'hex': '#c292a1'}, {'color': 'ocean', 'hex': '#017b92'}, {'color': 'marigold', 'hex': '#fcc006'}, {'color': 'muddy green', 'hex': '#657432'}, {'color': 'dull orange', 'hex': '#d8863b'}, {'color': 'steel', 'hex': '#738595'}, {'color': 'electric purple', 'hex': '#aa23ff'}, {'color': 'fluorescent green', 'hex': '#08ff08'}, {'color': 'yellowish brown', 'hex': '#9b7a01'}, {'color': 'blush', 'hex': '#f29e8e'}, {'color': 'soft green', 'hex': '#6fc276'}, {'color': 'bright orange', 'hex': '#ff5b00'}, {'color': 'lemon', 'hex': '#fdff52'}, {'color': 'purple grey', 'hex': '#866f85'}, {'color': 'acid green', 'hex': '#8ffe09'}, {'color': 'pale lavender', 'hex': '#eecffe'}, {'color': 'violet blue', 'hex': '#510ac9'}, {'color': 'light forest green', 'hex': '#4f9153'}, {'color': 'burnt red', 'hex': '#9f2305'}, {'color': 'khaki green', 'hex': '#728639'}, {'color': 'cerise', 'hex': '#de0c62'}, {'color': 'faded purple', 'hex': '#916e99'}, {'color': 'apricot', 'hex': '#ffb16d'}, {'color': 'dark olive green', 'hex': '#3c4d03'}, {'color': 'grey brown', 'hex': '#7f7053'}, {'color': 'green grey', 'hex': '#77926f'}, {'color': 'true blue', 'hex': '#010fcc'}, {'color': 'pale violet', 'hex': '#ceaefa'}, {'color': 'periwinkle blue', 'hex': '#8f99fb'}, {'color': 'light sky blue', 'hex': '#c6fcff'}, {'color': 'blurple', 'hex': '#5539cc'}, {'color': 'green brown', 'hex': '#544e03'}, {'color': 'bluegreen', 'hex': '#017a79'}, {'color': 'bright teal', 'hex': '#01f9c6'}, {'color': 'brownish yellow', 'hex': '#c9b003'}, {'color': 'pea soup', 'hex': '#929901'}, {'color': 'forest', 'hex': '#0b5509'}, {'color': 'barney purple', 'hex': '#a00498'}, {'color': 'ultramarine', 'hex': '#2000b1'}, {'color': 'purplish', 'hex': '#94568c'}, {'color': 'puke yellow', 'hex': '#c2be0e'}, {'color': 'bluish grey', 'hex': '#748b97'}, {'color': 'dark periwinkle', 'hex': '#665fd1'}, {'color': 'dark lilac', 'hex': '#9c6da5'}, {'color': 'reddish', 'hex': '#c44240'}, {'color': 'light maroon', 'hex': '#a24857'}, {'color': 'dusty purple', 'hex': '#825f87'}, {'color': 'terra cotta', 'hex': '#c9643b'}, {'color': 'avocado', 'hex': '#90b134'}, {'color': 'marine blue', 'hex': '#01386a'}, {'color': 'teal green', 'hex': '#25a36f'}, {'color': 'slate grey', 'hex': '#59656d'}, {'color': 'lighter green', 'hex': '#75fd63'}, {'color': 'electric green', 'hex': '#21fc0d'}, {'color': 'dusty blue', 'hex': '#5a86ad'}, {'color': 'golden yellow', 'hex': '#fec615'}, {'color': 'bright yellow', 'hex': '#fffd01'}, {'color': 'light lavender', 'hex': '#dfc5fe'}, {'color': 'umber', 'hex': '#b26400'}, {'color': 'poop', 'hex': '#7f5e00'}, {'color': 'dark peach', 'hex': '#de7e5d'}, {'color': 'jungle green', 'hex': '#048243'}, {'color': 'eggshell', 'hex': '#ffffd4'}, {'color': 'denim', 'hex': '#3b638c'}, {'color': 'yellow brown', 'hex': '#b79400'}, {'color': 'dull purple', 'hex': '#84597e'}, {'color': 'chocolate brown', 'hex': '#411900'}, {'color': 'wine red', 'hex': '#7b0323'}, {'color': 'neon blue', 'hex': '#04d9ff'}, {'color': 'dirty green', 'hex': '#667e2c'}, {'color': 'light tan', 'hex': '#fbeeac'}, {'color': 'ice blue', 'hex': '#d7fffe'}, {'color': 'cadet blue', 'hex': '#4e7496'}, {'color': 'dark mauve', 'hex': '#874c62'}, {'color': 'very light blue', 'hex': '#d5ffff'}, {'color': 'grey purple', 'hex': '#826d8c'}, {'color': 'pastel pink', 'hex': '#ffbacd'}, {'color': 'very light green', 'hex': '#d1ffbd'}, {'color': 'dark sky blue', 'hex': '#448ee4'}, {'color': 'evergreen', 'hex': '#05472a'}, {'color': 'dull pink', 'hex': '#d5869d'}, {'color': 'aubergine', 'hex': '#3d0734'}, {'color': 'mahogany', 'hex': '#4a0100'}, {'color': 'reddish orange', 'hex': '#f8481c'}, {'color': 'deep green', 'hex': '#02590f'}, {'color': 'vomit green', 'hex': '#89a203'}, {'color': 'purple pink', 'hex': '#e03fd8'}, {'color': 'dusty pink', 'hex': '#d58a94'}, {'color': 'faded green', 'hex': '#7bb274'}, {'color': 'camo green', 'hex': '#526525'}, {'color': 'pinky purple', 'hex': '#c94cbe'}, {'color': 'pink purple', 'hex': '#db4bda'}, {'color': 'brownish red', 'hex': '#9e3623'}, {'color': 'dark rose', 'hex': '#b5485d'}, {'color': 'mud', 'hex': '#735c12'}, {'color': 'brownish', 'hex': '#9c6d57'}, {'color': 'emerald green', 'hex': '#028f1e'}, {'color': 'pale brown', 'hex': '#b1916e'}, {'color': 'dull blue', 'hex': '#49759c'}, {'color': 'burnt umber', 'hex': '#a0450e'}, {'color': 'medium green', 'hex': '#39ad48'}, {'color': 'clay', 'hex': '#b66a50'}, {'color': 'light aqua', 'hex': '#8cffdb'}, {'color': 'light olive green', 'hex': '#a4be5c'}, {'color': 'brownish orange', 'hex': '#cb7723'}, {'color': 'dark aqua', 'hex': '#05696b'}, {'color': 'purplish pink', 'hex': '#ce5dae'}, {'color': 'dark salmon', 'hex': '#c85a53'}, {'color': 'greenish grey', 'hex': '#96ae8d'}, {'color': 'jade', 'hex': '#1fa774'}, {'color': 'ugly green', 'hex': '#7a9703'}, {'color': 'dark beige', 'hex': '#ac9362'}, {'color': 'emerald', 'hex': '#01a049'}, {'color': 'pale red', 'hex': '#d9544d'}, {'color': 'light magenta', 'hex': '#fa5ff7'}, {'color': 'sky', 'hex': '#82cafc'}, {'color': 'light cyan', 'hex': '#acfffc'}, {'color': 'yellow orange', 'hex': '#fcb001'}, {'color': 'reddish purple', 'hex': '#910951'}, {'color': 'reddish pink', 'hex': '#fe2c54'}, {'color': 'orchid', 'hex': '#c875c4'}, {'color': 'dirty yellow', 'hex': '#cdc50a'}, {'color': 'orange red', 'hex': '#fd411e'}, {'color': 'deep red', 'hex': '#9a0200'}, {'color': 'orange brown', 'hex': '#be6400'}, {'color': 'cobalt blue', 'hex': '#030aa7'}, {'color': 'neon pink', 'hex': '#fe019a'}, {'color': 'rose pink', 'hex': '#f7879a'}, {'color': 'greyish purple', 'hex': '#887191'}, {'color': 'raspberry', 'hex': '#b00149'}, {'color': 'aqua green', 'hex': '#12e193'}, {'color': 'salmon pink', 'hex': '#fe7b7c'}, {'color': 'tangerine', 'hex': '#ff9408'}, {'color': 'brownish green', 'hex': '#6a6e09'}, {'color': 'red brown', 'hex': '#8b2e16'}, {'color': 'greenish brown', 'hex': '#696112'}, {'color': 'pumpkin', 'hex': '#e17701'}, {'color': 'pine green', 'hex': '#0a481e'}, {'color': 'charcoal', 'hex': '#343837'}, {'color': 'baby pink', 'hex': '#ffb7ce'}, {'color': 'cornflower', 'hex': '#6a79f7'}, {'color': 'blue violet', 'hex': '#5d06e9'}, {'color': 'chocolate', 'hex': '#3d1c02'}, {'color': 'greyish green', 'hex': '#82a67d'}, {'color': 'scarlet', 'hex': '#be0119'}, {'color': 'green yellow', 'hex': '#c9ff27'}, {'color': 'dark olive', 'hex': '#373e02'}, {'color': 'sienna', 'hex': '#a9561e'}, {'color': 'pastel purple', 'hex': '#caa0ff'}, {'color': 'terracotta', 'hex': '#ca6641'}, {'color': 'aqua blue', 'hex': '#02d8e9'}, {'color': 'sage green', 'hex': '#88b378'}, {'color': 'blood red', 'hex': '#980002'}, {'color': 'deep pink', 'hex': '#cb0162'}, {'color': 'grass', 'hex': '#5cac2d'}, {'color': 'moss', 'hex': '#769958'}, {'color': 'pastel blue', 'hex': '#a2bffe'}, {'color': 'bluish green', 'hex': '#10a674'}, {'color': 'green blue', 'hex': '#06b48b'}, {'color': 'dark tan', 'hex': '#af884a'}, {'color': 'greenish blue', 'hex': '#0b8b87'}, {'color': 'pale orange', 'hex': '#ffa756'}, {'color': 'vomit', 'hex': '#a2a415'}, {'color': 'forrest green', 'hex': '#154406'}, {'color': 'dark lavender', 'hex': '#856798'}, {'color': 'dark violet', 'hex': '#34013f'}, {'color': 'purple blue', 'hex': '#632de9'}, {'color': 'dark cyan', 'hex': '#0a888a'}, {'color': 'olive drab', 'hex': '#6f7632'}, {'color': 'pinkish', 'hex': '#d46a7e'}, {'color': 'cobalt', 'hex': '#1e488f'}, {'color': 'neon purple', 'hex': '#bc13fe'}, {'color': 'light turquoise', 'hex': '#7ef4cc'}, {'color': 'apple green', 'hex': '#76cd26'}, {'color': 'dull green', 'hex': '#74a662'}, {'color': 'wine', 'hex': '#80013f'}, {'color': 'powder blue', 'hex': '#b1d1fc'}, {'color': 'off white', 'hex': '#ffffe4'}, {'color': 'electric blue', 'hex': '#0652ff'}, {'color': 'dark turquoise', 'hex': '#045c5a'}, {'color': 'blue purple', 'hex': '#5729ce'}, {'color': 'azure', 'hex': '#069af3'}, {'color': 'bright red', 'hex': '#ff000d'}, {'color': 'pinkish red', 'hex': '#f10c45'}, {'color': 'cornflower blue', 'hex': '#5170d7'}, {'color': 'light olive', 'hex': '#acbf69'}, {'color': 'grape', 'hex': '#6c3461'}, {'color': 'greyish blue', 'hex': '#5e819d'}, {'color': 'purplish blue', 'hex': '#601ef9'}, {'color': 'yellowish green', 'hex': '#b0dd16'}, {'color': 'greenish yellow', 'hex': '#cdfd02'}, {'color': 'medium blue', 'hex': '#2c6fbb'}, {'color': 'dusty rose', 'hex': '#c0737a'}, {'color': 'light violet', 'hex': '#d6b4fc'}, {'color': 'midnight blue', 'hex': '#020035'}, {'color': 'bluish purple', 'hex': '#703be7'}, {'color': 'red orange', 'hex': '#fd3c06'}, {'color': 'dark magenta', 'hex': '#960056'}, {'color': 'greenish', 'hex': '#40a368'}, {'color': 'ocean blue', 'hex': '#03719c'}, {'color': 'coral', 'hex': '#fc5a50'}, {'color': 'cream', 'hex': '#ffffc2'}, {'color': 'reddish brown', 'hex': '#7f2b0a'}, {'color': 'burnt sienna', 'hex': '#b04e0f'}, {'color': 'brick', 'hex': '#a03623'}, {'color': 'sage', 'hex': '#87ae73'}, {'color': 'grey green', 'hex': '#789b73'}, {'color': 'white', 'hex': '#ffffff'}, {'color': \"robin's egg blue\", 'hex': '#98eff9'}, {'color': 'moss green', 'hex': '#658b38'}, {'color': 'steel blue', 'hex': '#5a7d9a'}, {'color': 'eggplant', 'hex': '#380835'}, {'color': 'light yellow', 'hex': '#fffe7a'}, {'color': 'leaf green', 'hex': '#5ca904'}, {'color': 'light grey', 'hex': '#d8dcd6'}, {'color': 'puke', 'hex': '#a5a502'}, {'color': 'pinkish purple', 'hex': '#d648d7'}, {'color': 'sea blue', 'hex': '#047495'}, {'color': 'pale purple', 'hex': '#b790d4'}, {'color': 'slate blue', 'hex': '#5b7c99'}, {'color': 'blue grey', 'hex': '#607c8e'}, {'color': 'hunter green', 'hex': '#0b4008'}, {'color': 'fuchsia', 'hex': '#ed0dd9'}, {'color': 'crimson', 'hex': '#8c000f'}, {'color': 'pale yellow', 'hex': '#ffff84'}, {'color': 'ochre', 'hex': '#bf9005'}, {'color': 'mustard yellow', 'hex': '#d2bd0a'}, {'color': 'light red', 'hex': '#ff474c'}, {'color': 'cerulean', 'hex': '#0485d1'}, {'color': 'pale pink', 'hex': '#ffcfdc'}, {'color': 'deep blue', 'hex': '#040273'}, {'color': 'rust', 'hex': '#a83c09'}, {'color': 'light teal', 'hex': '#90e4c1'}, {'color': 'slate', 'hex': '#516572'}, {'color': 'goldenrod', 'hex': '#fac205'}, {'color': 'dark yellow', 'hex': '#d5b60a'}, {'color': 'dark grey', 'hex': '#363737'}, {'color': 'army green', 'hex': '#4b5d16'}, {'color': 'grey blue', 'hex': '#6b8ba4'}, {'color': 'seafoam', 'hex': '#80f9ad'}, {'color': 'puce', 'hex': '#a57e52'}, {'color': 'spring green', 'hex': '#a9f971'}, {'color': 'dark orange', 'hex': '#c65102'}, {'color': 'sand', 'hex': '#e2ca76'}, {'color': 'pastel green', 'hex': '#b0ff9d'}, {'color': 'mint', 'hex': '#9ffeb0'}, {'color': 'light orange', 'hex': '#fdaa48'}, {'color': 'bright pink', 'hex': '#fe01b1'}, {'color': 'chartreuse', 'hex': '#c1f80a'}, {'color': 'deep purple', 'hex': '#36013f'}, {'color': 'dark brown', 'hex': '#341c02'}, {'color': 'taupe', 'hex': '#b9a281'}, {'color': 'pea green', 'hex': '#8eab12'}, {'color': 'puke green', 'hex': '#9aae07'}, {'color': 'kelly green', 'hex': '#02ab2e'}, {'color': 'seafoam green', 'hex': '#7af9ab'}, {'color': 'blue green', 'hex': '#137e6d'}, {'color': 'khaki', 'hex': '#aaa662'}, {'color': 'burgundy', 'hex': '#610023'}, {'color': 'dark teal', 'hex': '#014d4e'}, {'color': 'brick red', 'hex': '#8f1402'}, {'color': 'royal purple', 'hex': '#4b006e'}, {'color': 'plum', 'hex': '#580f41'}, {'color': 'mint green', 'hex': '#8fff9f'}, {'color': 'gold', 'hex': '#dbb40c'}, {'color': 'baby blue', 'hex': '#a2cffe'}, {'color': 'yellow green', 'hex': '#c0fb2d'}, {'color': 'bright purple', 'hex': '#be03fd'}, {'color': 'dark red', 'hex': '#840000'}, {'color': 'pale blue', 'hex': '#d0fefe'}, {'color': 'grass green', 'hex': '#3f9b0b'}, {'color': 'navy', 'hex': '#01153e'}, {'color': 'aquamarine', 'hex': '#04d8b2'}, {'color': 'burnt orange', 'hex': '#c04e01'}, {'color': 'neon green', 'hex': '#0cff0c'}, {'color': 'bright blue', 'hex': '#0165fc'}, {'color': 'rose', 'hex': '#cf6275'}, {'color': 'light pink', 'hex': '#ffd1df'}, {'color': 'mustard', 'hex': '#ceb301'}, {'color': 'indigo', 'hex': '#380282'}, {'color': 'lime', 'hex': '#aaff32'}, {'color': 'sea green', 'hex': '#53fca1'}, {'color': 'periwinkle', 'hex': '#8e82fe'}, {'color': 'dark pink', 'hex': '#cb416b'}, {'color': 'olive green', 'hex': '#677a04'}, {'color': 'peach', 'hex': '#ffb07c'}, {'color': 'pale green', 'hex': '#c7fdb5'}, {'color': 'light brown', 'hex': '#ad8150'}, {'color': 'hot pink', 'hex': '#ff028d'}, {'color': 'black', 'hex': '#000000'}, {'color': 'lilac', 'hex': '#cea2fd'}, {'color': 'navy blue', 'hex': '#001146'}, {'color': 'royal blue', 'hex': '#0504aa'}, {'color': 'beige', 'hex': '#e6daa6'}, {'color': 'salmon', 'hex': '#ff796c'}, {'color': 'olive', 'hex': '#6e750e'}, {'color': 'maroon', 'hex': '#650021'}, {'color': 'bright green', 'hex': '#01ff07'}, {'color': 'dark purple', 'hex': '#35063e'}, {'color': 'mauve', 'hex': '#ae7181'}, {'color': 'forest green', 'hex': '#06470c'}, {'color': 'aqua', 'hex': '#13eac9'}, {'color': 'cyan', 'hex': '#00ffff'}, {'color': 'tan', 'hex': '#d1b26f'}, {'color': 'dark blue', 'hex': '#00035b'}, {'color': 'lavender', 'hex': '#c79fef'}, {'color': 'turquoise', 'hex': '#06c2ac'}, {'color': 'dark green', 'hex': '#033500'}, {'color': 'violet', 'hex': '#9a0eea'}, {'color': 'light purple', 'hex': '#bf77f6'}, {'color': 'lime green', 'hex': '#89fe05'}, {'color': 'grey', 'hex': '#929591'}, {'color': 'sky blue', 'hex': '#75bbfd'}, {'color': 'yellow', 'hex': '#ffff14'}, {'color': 'magenta', 'hex': '#c20078'}, {'color': 'light green', 'hex': '#96f97b'}, {'color': 'orange', 'hex': '#f97306'}, {'color': 'teal', 'hex': '#029386'}, {'color': 'light blue', 'hex': '#95d0fc'}, {'color': 'red', 'hex': '#e50000'}, {'color': 'brown', 'hex': '#653700'}, {'color': 'pink', 'hex': '#ff81c0'}, {'color': 'blue', 'hex': '#0343df'}, {'color': 'green', 'hex': '#15b01a'}, {'color': 'purple', 'hex': '#7e1e9c'}]}\n"
     ]
    }
   ],
   "source": [
    "import json\n",
    "\n",
    "# loads color names from an external json file\n",
    "color_data = json.loads(open(\"colors.json\").read())\n",
    "\n",
    "print(color_data)"
   ]
  },
  {
   "cell_type": "code",
   "execution_count": 11,
   "metadata": {},
   "outputs": [
    {
     "name": "stdout",
     "output_type": "stream",
     "text": [
      "949 different colors\n",
      "pick tan green (169, 190, 112)\n"
     ]
    }
   ],
   "source": [
    "# converts a given hex value to a rgb triple\n",
    "def hex_to_int(s):\n",
    "    s = s.lstrip(\"#\")\n",
    "    return int(s[:2], 16), int(s[2:4], 16), int(s[4:6], 16)\n",
    "\n",
    "\n",
    "# saves all colors in a python dictionary\n",
    "colors = dict()\n",
    "for item in color_data['colors']:\n",
    "    colors[item[\"color\"]] = hex_to_int(item[\"hex\"])\n",
    "\n",
    "print(len(colors), \"different colors\")\n",
    "print(\"pick tan green\", colors[\"tan green\"])"
   ]
  },
  {
   "cell_type": "code",
   "execution_count": 13,
   "metadata": {},
   "outputs": [],
   "source": [
    "import math\n",
    "\n",
    "# calculates the euclidean distance\n",
    "def euclid_dist(coord1, coord2):\n",
    "    # note, this is VERY SLOW, don't use for actual code\n",
    "    return math.sqrt(sum([(i - j)**2 for i, j in zip(coord1, coord2)]))\n",
    "\n",
    "# subtracts coord2 from coord1\n",
    "def subtractv(coord1, coord2):\n",
    "    return [c1 - c2 for c1, c2 in zip(coord1, coord2)]\n",
    "\n",
    "# adds coord1 with coord2\n",
    "def addv(coord1, coord2):\n",
    "    return [c1 + c2 for c1, c2 in zip(coord1, coord2)]\n",
    "\n",
    "#  takes a list of vectors and finds their mean or average\n",
    "def meanv(coords):\n",
    "    # assumes every item in coords has same length as item 0\n",
    "    sumv = [0] * len(coords[0])\n",
    "    for item in coords:\n",
    "        for i in range(len(item)):\n",
    "            sumv[i] += item[i]\n",
    "    mean = [0] * len(sumv)\n",
    "    for i in range(len(sumv)):\n",
    "        mean[i] = float(sumv[i]) / len(coords)\n",
    "    return mean"
   ]
  },
  {
   "cell_type": "markdown",
   "metadata": {},
   "source": [
    "We make a test with the colors red, green and pink. We expect that the distance between red and green is greater than between red and pink."
   ]
  },
  {
   "cell_type": "code",
   "execution_count": 15,
   "metadata": {},
   "outputs": [
    {
     "data": {
      "text/plain": [
       "True"
      ]
     },
     "execution_count": 15,
     "metadata": {},
     "output_type": "execute_result"
    }
   ],
   "source": [
    "euclid_dist(colors['red'], colors['green']) > euclid_dist(colors['red'], colors['pink'])"
   ]
  },
  {
   "cell_type": "markdown",
   "metadata": {},
   "source": [
    "**Find closest item**"
   ]
  },
  {
   "cell_type": "code",
   "execution_count": 22,
   "metadata": {},
   "outputs": [],
   "source": [
    "# finds the n closest colors for the given color.\n",
    "def closest(space, coord, n=10):\n",
    "    closest = []\n",
    "    for key in sorted(space.keys(),\n",
    "                        key=lambda x: euclid_dist(coord, space[x]))[:n]:\n",
    "        closest.append(key)\n",
    "    return closest"
   ]
  },
  {
   "cell_type": "code",
   "execution_count": 23,
   "metadata": {},
   "outputs": [
    {
     "data": {
      "text/plain": [
       "['blue',\n",
       " 'vibrant blue',\n",
       " 'electric blue',\n",
       " 'azul',\n",
       " 'blue blue',\n",
       " 'vivid blue',\n",
       " 'bright blue',\n",
       " 'cerulean blue',\n",
       " 'rich blue',\n",
       " 'true blue',\n",
       " 'deep sky blue',\n",
       " 'sapphire',\n",
       " 'pure blue',\n",
       " 'ultramarine blue',\n",
       " 'strong blue']"
      ]
     },
     "execution_count": 23,
     "metadata": {},
     "output_type": "execute_result"
    }
   ],
   "source": [
    "closest(colors, colors['blue'], 15)"
   ]
  },
  {
   "cell_type": "code",
   "execution_count": 24,
   "metadata": {},
   "outputs": [
    {
     "data": {
      "text/plain": [
       "['tan green',\n",
       " 'light olive',\n",
       " 'light moss green',\n",
       " 'light olive green',\n",
       " 'pale olive green',\n",
       " 'greenish tan',\n",
       " 'pale olive',\n",
       " 'khaki',\n",
       " 'lichen',\n",
       " 'stone']"
      ]
     },
     "execution_count": 24,
     "metadata": {},
     "output_type": "execute_result"
    }
   ],
   "source": [
    "closest(colors, colors['tan green'])"
   ]
  },
  {
   "cell_type": "markdown",
   "metadata": {},
   "source": [
    "Here we have a serie of blue colors when we subtract red from purple."
   ]
  },
  {
   "cell_type": "code",
   "execution_count": 26,
   "metadata": {},
   "outputs": [
    {
     "data": {
      "text/plain": [
       "['cobalt blue',\n",
       " 'royal blue',\n",
       " 'darkish blue',\n",
       " 'true blue',\n",
       " 'royal',\n",
       " 'prussian blue',\n",
       " 'dark royal blue',\n",
       " 'deep blue',\n",
       " 'marine blue',\n",
       " 'deep sea blue']"
      ]
     },
     "execution_count": 26,
     "metadata": {},
     "output_type": "execute_result"
    }
   ],
   "source": [
    "closest(colors, subtractv(colors['purple'], colors['red']))"
   ]
  },
  {
   "cell_type": "markdown",
   "metadata": {},
   "source": [
    "## 3. Example with tensorflow, pandas and nltk\n",
    "train a model to create word vectors.\n",
    "\n",
    "from https://github.com/minsuk-heo/python_tutorial/blob/master/data_science/nlp/word2vec_tensorflow.ipynb"
   ]
  },
  {
   "cell_type": "code",
   "execution_count": 83,
   "metadata": {},
   "outputs": [],
   "source": [
    "import nltk\n",
    "from nltk.corpus import stopwords\n",
    "from nltk.tokenize import word_tokenize"
   ]
  },
  {
   "cell_type": "code",
   "execution_count": 86,
   "metadata": {},
   "outputs": [],
   "source": [
    "# a set with german stop words\n",
    "german_stop_words = set(stopwords.words('german'))\n",
    "\n",
    "# a corpus with some german sentences\n",
    "corpus = ['ein könig ist ein starker mann', \n",
    "          'eine königin ist eine intelligente frau', \n",
    "          'ein junge ist ein junger mann',\n",
    "          'ein mädchen ist eine junge frau',\n",
    "          'ein prinz ist ein junger könig',\n",
    "          'eine prinzessin ist eine junge königin',\n",
    "          'ein mann ist stark', \n",
    "          'eine frau ist schön',\n",
    "          'ein prinz ist ein junge der einmal könig wird',\n",
    "          'eine prinzessin ist ein mädchen das einmal königin wird']"
   ]
  },
  {
   "cell_type": "code",
   "execution_count": 88,
   "metadata": {},
   "outputs": [
    {
     "name": "stdout",
     "output_type": "stream",
     "text": [
      "['könig starker mann', 'königin intelligente frau', 'junge junger mann', 'mädchen junge frau', 'prinz junger könig', 'prinzessin junge königin', 'mann stark', 'frau schön', 'prinz junge könig ', 'prinzessin mädchen königin ']\n"
     ]
    }
   ],
   "source": [
    "# removes all stop words from the corpus\n",
    "# returns a cleaned corpus\n",
    "def remove_stop_words(corpus):\n",
    "    cleaned = []\n",
    "    for sentence in corpus:\n",
    "        \n",
    "        word_tokens = word_tokenize(sentence)\n",
    "        cleaned_sentence = ''\n",
    "        \n",
    "        for i in range(len(word_tokens)):\n",
    "            word = word_tokens[i]\n",
    "            if not word in german_stop_words:\n",
    "                cleaned_sentence = cleaned_sentence + word\n",
    "                if i < len(word_tokens) -1:\n",
    "                    cleaned_sentence += ' '\n",
    "                    \n",
    "        cleaned.append(cleaned_sentence)\n",
    "        \n",
    "    return cleaned\n",
    "\n",
    "corpus_cleaned = remove_stop_words(corpus)\n",
    "print(corpus_cleaned)"
   ]
  },
  {
   "cell_type": "markdown",
   "metadata": {},
   "source": [
    "let's create a set that contains all words of the cleaned corpus."
   ]
  },
  {
   "cell_type": "code",
   "execution_count": 89,
   "metadata": {},
   "outputs": [
    {
     "name": "stdout",
     "output_type": "stream",
     "text": [
      "{'schön', 'intelligente', 'könig', 'junger', 'frau', 'königin', 'junge', 'prinzessin', 'stark', 'prinz', 'mädchen', 'starker', 'mann'}\n"
     ]
    }
   ],
   "source": [
    "words = []\n",
    "for text in corpus_cleaned:\n",
    "    for word in text.split(' '):\n",
    "        if not word == '':\n",
    "            words.append(word)\n",
    "\n",
    "words = set(words)\n",
    "print(words)"
   ]
  },
  {
   "cell_type": "code",
   "execution_count": 93,
   "metadata": {},
   "outputs": [
    {
     "name": "stdout",
     "output_type": "stream",
     "text": [
      "[['könig', 'starker'], ['könig', 'mann'], ['starker', 'könig'], ['starker', 'mann'], ['mann', 'könig'], ['mann', 'starker'], ['königin', 'intelligente'], ['königin', 'frau'], ['intelligente', 'königin'], ['intelligente', 'frau'], ['frau', 'königin'], ['frau', 'intelligente'], ['junge', 'junger'], ['junge', 'mann'], ['junger', 'junge'], ['junger', 'mann'], ['mann', 'junge'], ['mann', 'junger'], ['mädchen', 'junge'], ['mädchen', 'frau'], ['junge', 'mädchen'], ['junge', 'frau'], ['frau', 'mädchen'], ['frau', 'junge'], ['prinz', 'junger'], ['prinz', 'könig'], ['junger', 'prinz'], ['junger', 'könig'], ['könig', 'prinz'], ['könig', 'junger'], ['prinzessin', 'junge'], ['prinzessin', 'königin'], ['junge', 'prinzessin'], ['junge', 'königin'], ['königin', 'prinzessin'], ['königin', 'junge'], ['mann', 'stark'], ['stark', 'mann'], ['frau', 'schön'], ['schön', 'frau'], ['prinz', 'junge'], ['prinz', 'könig'], ['junge', 'prinz'], ['junge', 'könig'], ['könig', 'prinz'], ['könig', 'junge'], ['prinzessin', 'mädchen'], ['prinzessin', 'königin'], ['mädchen', 'prinzessin'], ['mädchen', 'königin'], ['königin', 'prinzessin'], ['königin', 'mädchen']]\n"
     ]
    }
   ],
   "source": [
    "word2int = {}\n",
    "\n",
    "for i,word in enumerate(words):\n",
    "    word2int[word] = i\n",
    "\n",
    "sentences = []\n",
    "for sentence in corpus_cleaned:\n",
    "    sentences.append(sentence.split())\n",
    "    \n",
    "WINDOW_SIZE = 2\n",
    "\n",
    "data = []\n",
    "for sentence in sentences:\n",
    "    for idx, word in enumerate(sentence):\n",
    "        for neighbor in sentence[max(idx - WINDOW_SIZE, 0) : min(idx + WINDOW_SIZE, len(sentence)) + 1] : \n",
    "            if neighbor != word:\n",
    "                data.append([word, neighbor])\n",
    "\n",
    "print(data)"
   ]
  },
  {
   "cell_type": "code",
   "execution_count": 73,
   "metadata": {},
   "outputs": [
    {
     "name": "stdout",
     "output_type": "stream",
     "text": [
      "könig starker mann\n",
      "königin intelligente frau\n",
      "junge junger mann\n",
      "mädchen junge frau\n",
      "prinz junger könig\n",
      "prinzessin junge königin\n",
      "mann stark\n",
      "frau schön\n",
      "prinz junge könig \n",
      "prinzessin mädchen königin \n"
     ]
    }
   ],
   "source": [
    "import pandas as pd\n",
    "for text in corpus_cleaned:\n",
    "    print(text)\n",
    "\n",
    "df = pd.DataFrame(data, columns = ['input', 'label'])"
   ]
  },
  {
   "cell_type": "code",
   "execution_count": 74,
   "metadata": {},
   "outputs": [
    {
     "data": {
      "text/html": [
       "<div>\n",
       "<style scoped>\n",
       "    .dataframe tbody tr th:only-of-type {\n",
       "        vertical-align: middle;\n",
       "    }\n",
       "\n",
       "    .dataframe tbody tr th {\n",
       "        vertical-align: top;\n",
       "    }\n",
       "\n",
       "    .dataframe thead th {\n",
       "        text-align: right;\n",
       "    }\n",
       "</style>\n",
       "<table border=\"1\" class=\"dataframe\">\n",
       "  <thead>\n",
       "    <tr style=\"text-align: right;\">\n",
       "      <th></th>\n",
       "      <th>input</th>\n",
       "      <th>label</th>\n",
       "    </tr>\n",
       "  </thead>\n",
       "  <tbody>\n",
       "    <tr>\n",
       "      <th>0</th>\n",
       "      <td>könig</td>\n",
       "      <td>starker</td>\n",
       "    </tr>\n",
       "    <tr>\n",
       "      <th>1</th>\n",
       "      <td>könig</td>\n",
       "      <td>mann</td>\n",
       "    </tr>\n",
       "    <tr>\n",
       "      <th>2</th>\n",
       "      <td>starker</td>\n",
       "      <td>könig</td>\n",
       "    </tr>\n",
       "    <tr>\n",
       "      <th>3</th>\n",
       "      <td>starker</td>\n",
       "      <td>mann</td>\n",
       "    </tr>\n",
       "    <tr>\n",
       "      <th>4</th>\n",
       "      <td>mann</td>\n",
       "      <td>könig</td>\n",
       "    </tr>\n",
       "    <tr>\n",
       "      <th>5</th>\n",
       "      <td>mann</td>\n",
       "      <td>starker</td>\n",
       "    </tr>\n",
       "    <tr>\n",
       "      <th>6</th>\n",
       "      <td>königin</td>\n",
       "      <td>intelligente</td>\n",
       "    </tr>\n",
       "    <tr>\n",
       "      <th>7</th>\n",
       "      <td>königin</td>\n",
       "      <td>frau</td>\n",
       "    </tr>\n",
       "    <tr>\n",
       "      <th>8</th>\n",
       "      <td>intelligente</td>\n",
       "      <td>königin</td>\n",
       "    </tr>\n",
       "    <tr>\n",
       "      <th>9</th>\n",
       "      <td>intelligente</td>\n",
       "      <td>frau</td>\n",
       "    </tr>\n",
       "  </tbody>\n",
       "</table>\n",
       "</div>"
      ],
      "text/plain": [
       "          input         label\n",
       "0         könig       starker\n",
       "1         könig          mann\n",
       "2       starker         könig\n",
       "3       starker          mann\n",
       "4          mann         könig\n",
       "5          mann       starker\n",
       "6       königin  intelligente\n",
       "7       königin          frau\n",
       "8  intelligente       königin\n",
       "9  intelligente          frau"
      ]
     },
     "execution_count": 74,
     "metadata": {},
     "output_type": "execute_result"
    }
   ],
   "source": [
    "df.head(10)"
   ]
  },
  {
   "cell_type": "code",
   "execution_count": 75,
   "metadata": {},
   "outputs": [
    {
     "data": {
      "text/plain": [
       "{'schön': 0,\n",
       " 'intelligente': 1,\n",
       " 'könig': 2,\n",
       " 'junger': 3,\n",
       " 'frau': 4,\n",
       " 'königin': 5,\n",
       " 'junge': 6,\n",
       " 'prinzessin': 7,\n",
       " 'stark': 8,\n",
       " 'prinz': 9,\n",
       " 'mädchen': 10,\n",
       " 'starker': 11,\n",
       " 'mann': 12}"
      ]
     },
     "execution_count": 75,
     "metadata": {},
     "output_type": "execute_result"
    }
   ],
   "source": [
    "word2int"
   ]
  },
  {
   "cell_type": "code",
   "execution_count": 76,
   "metadata": {},
   "outputs": [],
   "source": [
    "import tensorflow as tf\n",
    "import numpy as np\n",
    "\n",
    "ONE_HOT_DIM = len(words)\n",
    "\n",
    "# function to convert numbers to one hot vectors\n",
    "def to_one_hot_encoding(data_point_index):\n",
    "    one_hot_encoding = np.zeros(ONE_HOT_DIM)\n",
    "    one_hot_encoding[data_point_index] = 1\n",
    "    return one_hot_encoding\n",
    "\n",
    "X = [] # input word\n",
    "Y = [] # target word\n",
    "\n",
    "for x, y in zip(df['input'], df['label']):\n",
    "    X.append(to_one_hot_encoding(word2int[ x ]))\n",
    "    Y.append(to_one_hot_encoding(word2int[ y ]))\n",
    "\n",
    "# convert them to numpy arrays\n",
    "X_train = np.asarray(X)\n",
    "Y_train = np.asarray(Y)\n",
    "\n",
    "# making placeholders for X_train and Y_train\n",
    "x = tf.placeholder(tf.float32, shape=(None, ONE_HOT_DIM))\n",
    "y_label = tf.placeholder(tf.float32, shape=(None, ONE_HOT_DIM))\n",
    "\n",
    "# word embedding will be 2 dimension for 2d visualization\n",
    "EMBEDDING_DIM = 2 \n",
    "\n",
    "# hidden layer: which represents word vector eventually\n",
    "W1 = tf.Variable(tf.random_normal([ONE_HOT_DIM, EMBEDDING_DIM]))\n",
    "b1 = tf.Variable(tf.random_normal([1])) #bias\n",
    "hidden_layer = tf.add(tf.matmul(x,W1), b1)\n",
    "\n",
    "# output layer\n",
    "W2 = tf.Variable(tf.random_normal([EMBEDDING_DIM, ONE_HOT_DIM]))\n",
    "b2 = tf.Variable(tf.random_normal([1]))\n",
    "prediction = tf.nn.softmax(tf.add( tf.matmul(hidden_layer, W2), b2))\n",
    "\n",
    "# loss function: cross entropy\n",
    "loss = tf.reduce_mean(-tf.reduce_sum(y_label * tf.log(prediction), axis=[1]))\n",
    "\n",
    "# training operation\n",
    "train_op = tf.train.GradientDescentOptimizer(0.05).minimize(loss)"
   ]
  },
  {
   "cell_type": "code",
   "execution_count": 77,
   "metadata": {},
   "outputs": [
    {
     "name": "stdout",
     "output_type": "stream",
     "text": [
      "iteration 0 loss is :  4.955269\n",
      "iteration 3000 loss is :  1.8596514\n",
      "iteration 6000 loss is :  1.8053825\n",
      "iteration 9000 loss is :  1.7822859\n",
      "iteration 12000 loss is :  1.7629675\n",
      "iteration 15000 loss is :  1.7474205\n",
      "iteration 18000 loss is :  1.7346122\n"
     ]
    }
   ],
   "source": [
    "sess = tf.Session()\n",
    "init = tf.global_variables_initializer()\n",
    "sess.run(init) \n",
    "\n",
    "iteration = 20000\n",
    "for i in range(iteration):\n",
    "    # input is X_train which is one hot encoded word\n",
    "    # label is Y_train which is one hot encoded neighbor word\n",
    "    sess.run(train_op, feed_dict={x: X_train, y_label: Y_train})\n",
    "    if i % 3000 == 0:\n",
    "        print('iteration '+str(i)+' loss is : ', sess.run(loss, feed_dict={x: X_train, y_label: Y_train}))"
   ]
  },
  {
   "cell_type": "code",
   "execution_count": 78,
   "metadata": {},
   "outputs": [
    {
     "name": "stdout",
     "output_type": "stream",
     "text": [
      "[[-0.5911881   4.8864746 ]\n",
      " [ 0.25857127  3.9087987 ]\n",
      " [ 0.80905885 -0.53304386]\n",
      " [ 1.8827684  -1.1102531 ]\n",
      " [ 0.64913106  1.4132957 ]\n",
      " [ 1.3025539   3.1642866 ]\n",
      " [-0.26546693 -0.10350883]\n",
      " [ 1.211399    3.2916288 ]\n",
      " [ 0.54603684 -2.581602  ]\n",
      " [ 5.033083   -1.9728434 ]\n",
      " [ 1.7727196   4.7549906 ]\n",
      " [ 4.678727   -2.8744226 ]\n",
      " [ 1.3497192  -0.26386666]]\n"
     ]
    }
   ],
   "source": [
    "# Now the hidden layer (W1 + b1) is actually the word look up table\n",
    "vectors = sess.run(W1 + b1)\n",
    "print(vectors)"
   ]
  },
  {
   "cell_type": "code",
   "execution_count": 79,
   "metadata": {},
   "outputs": [
    {
     "data": {
      "text/html": [
       "<div>\n",
       "<style scoped>\n",
       "    .dataframe tbody tr th:only-of-type {\n",
       "        vertical-align: middle;\n",
       "    }\n",
       "\n",
       "    .dataframe tbody tr th {\n",
       "        vertical-align: top;\n",
       "    }\n",
       "\n",
       "    .dataframe thead th {\n",
       "        text-align: right;\n",
       "    }\n",
       "</style>\n",
       "<table border=\"1\" class=\"dataframe\">\n",
       "  <thead>\n",
       "    <tr style=\"text-align: right;\">\n",
       "      <th></th>\n",
       "      <th>word</th>\n",
       "      <th>x1</th>\n",
       "      <th>x2</th>\n",
       "    </tr>\n",
       "  </thead>\n",
       "  <tbody>\n",
       "    <tr>\n",
       "      <th>0</th>\n",
       "      <td>schön</td>\n",
       "      <td>-0.591188</td>\n",
       "      <td>4.886475</td>\n",
       "    </tr>\n",
       "    <tr>\n",
       "      <th>1</th>\n",
       "      <td>intelligente</td>\n",
       "      <td>0.258571</td>\n",
       "      <td>3.908799</td>\n",
       "    </tr>\n",
       "    <tr>\n",
       "      <th>2</th>\n",
       "      <td>könig</td>\n",
       "      <td>0.809059</td>\n",
       "      <td>-0.533044</td>\n",
       "    </tr>\n",
       "    <tr>\n",
       "      <th>3</th>\n",
       "      <td>junger</td>\n",
       "      <td>1.882768</td>\n",
       "      <td>-1.110253</td>\n",
       "    </tr>\n",
       "    <tr>\n",
       "      <th>4</th>\n",
       "      <td>frau</td>\n",
       "      <td>0.649131</td>\n",
       "      <td>1.413296</td>\n",
       "    </tr>\n",
       "    <tr>\n",
       "      <th>5</th>\n",
       "      <td>königin</td>\n",
       "      <td>1.302554</td>\n",
       "      <td>3.164287</td>\n",
       "    </tr>\n",
       "    <tr>\n",
       "      <th>6</th>\n",
       "      <td>junge</td>\n",
       "      <td>-0.265467</td>\n",
       "      <td>-0.103509</td>\n",
       "    </tr>\n",
       "    <tr>\n",
       "      <th>7</th>\n",
       "      <td>prinzessin</td>\n",
       "      <td>1.211399</td>\n",
       "      <td>3.291629</td>\n",
       "    </tr>\n",
       "    <tr>\n",
       "      <th>8</th>\n",
       "      <td>stark</td>\n",
       "      <td>0.546037</td>\n",
       "      <td>-2.581602</td>\n",
       "    </tr>\n",
       "    <tr>\n",
       "      <th>9</th>\n",
       "      <td>prinz</td>\n",
       "      <td>5.033083</td>\n",
       "      <td>-1.972843</td>\n",
       "    </tr>\n",
       "    <tr>\n",
       "      <th>10</th>\n",
       "      <td>mädchen</td>\n",
       "      <td>1.772720</td>\n",
       "      <td>4.754991</td>\n",
       "    </tr>\n",
       "    <tr>\n",
       "      <th>11</th>\n",
       "      <td>starker</td>\n",
       "      <td>4.678727</td>\n",
       "      <td>-2.874423</td>\n",
       "    </tr>\n",
       "    <tr>\n",
       "      <th>12</th>\n",
       "      <td>mann</td>\n",
       "      <td>1.349719</td>\n",
       "      <td>-0.263867</td>\n",
       "    </tr>\n",
       "  </tbody>\n",
       "</table>\n",
       "</div>"
      ],
      "text/plain": [
       "            word        x1        x2\n",
       "0          schön -0.591188  4.886475\n",
       "1   intelligente  0.258571  3.908799\n",
       "2          könig  0.809059 -0.533044\n",
       "3         junger  1.882768 -1.110253\n",
       "4           frau  0.649131  1.413296\n",
       "5        königin  1.302554  3.164287\n",
       "6          junge -0.265467 -0.103509\n",
       "7     prinzessin  1.211399  3.291629\n",
       "8          stark  0.546037 -2.581602\n",
       "9          prinz  5.033083 -1.972843\n",
       "10       mädchen  1.772720  4.754991\n",
       "11       starker  4.678727 -2.874423\n",
       "12          mann  1.349719 -0.263867"
      ]
     },
     "execution_count": 79,
     "metadata": {},
     "output_type": "execute_result"
    }
   ],
   "source": [
    "w2v_df = pd.DataFrame(vectors, columns = ['x1', 'x2'])\n",
    "w2v_df['word'] = words\n",
    "w2v_df = w2v_df[['word', 'x1', 'x2']]\n",
    "w2v_df"
   ]
  },
  {
   "cell_type": "code",
   "execution_count": 81,
   "metadata": {},
   "outputs": [
    {
     "data": {
      "image/png": "[encoded data removed]",
      "text/plain": [
       "<Figure size 432x288 with 1 Axes>"
      ]
     },
     "metadata": {},
     "output_type": "display_data"
    }
   ],
   "source": [
    "import matplotlib.pyplot as plt\n",
    "\n",
    "fig, ax = plt.subplots()\n",
    "\n",
    "for word, x1, x2 in zip(w2v_df['word'], w2v_df['x1'], w2v_df['x2']):\n",
    "    ax.annotate(word, (x1,x2 ))\n",
    "    \n",
    "PADDING = 1.0\n",
    "x_axis_min = np.amin(vectors, axis=0)[0] - PADDING\n",
    "y_axis_min = np.amin(vectors, axis=0)[1] - PADDING\n",
    "x_axis_max = np.amax(vectors, axis=0)[0] + PADDING\n",
    "y_axis_max = np.amax(vectors, axis=0)[1] + PADDING\n",
    " \n",
    "plt.xlim(x_axis_min,x_axis_max)\n",
    "plt.ylim(y_axis_min,y_axis_max)\n",
    "plt.rcParams[\"figure.figsize\"] = (10,10)\n",
    "\n",
    "plt.show()"
   ]
  },
  {
   "cell_type": "code",
   "execution_count": null,
   "metadata": {},
   "outputs": [],
   "source": []
  }
 ],
 "metadata": {
  "kernelspec": {
   "display_name": "Python 3",
   "language": "python",
   "name": "python3"
  },
  "language_info": {
   "codemirror_mode": {
    "name": "ipython",
    "version": 3
   },
   "file_extension": ".py",
   "mimetype": "text/x-python",
   "name": "python",
   "nbconvert_exporter": "python",
   "pygments_lexer": "ipython3",
   "version": "3.6.5"
  }
 },
 "nbformat": 4,
 "nbformat_minor": 2
}
